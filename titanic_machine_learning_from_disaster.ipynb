{
 "cells": [
  {
   "cell_type": "code",
   "execution_count": 1,
   "id": "d2367000",
   "metadata": {
    "_cell_guid": "b1076dfc-b9ad-4769-8c92-a6c4dae69d19",
    "_uuid": "8f2839f25d086af736a60e9eeb907d3b93b6e0e5",
    "execution": {
     "iopub.execute_input": "2024-03-30T13:13:06.631020Z",
     "iopub.status.busy": "2024-03-30T13:13:06.629807Z",
     "iopub.status.idle": "2024-03-30T13:13:10.180876Z",
     "shell.execute_reply": "2024-03-30T13:13:10.179523Z"
    },
    "papermill": {
     "duration": 3.578798,
     "end_time": "2024-03-30T13:13:10.187254",
     "exception": false,
     "start_time": "2024-03-30T13:13:06.608456",
     "status": "completed"
    },
    "tags": []
   },
   "outputs": [],
   "source": [
    "import numpy as np \n",
    "import pandas as pd\n",
    "import matplotlib.pyplot as plt\n",
    "import seaborn as sns\n",
    "\n",
    "from sklearn.compose import make_column_selector, ColumnTransformer\n",
    "from sklearn.decomposition import TruncatedSVD\n",
    "from sklearn.impute import SimpleImputer, KNNImputer\n",
    "from sklearn.metrics import accuracy_score\n",
    "from sklearn.model_selection import train_test_split, GridSearchCV\n",
    "from sklearn.pipeline import Pipeline\n",
    "from sklearn.preprocessing import MinMaxScaler, OneHotEncoder\n",
    "from sklearn.feature_extraction.text import CountVectorizer\n",
    "\n",
    "from xgboost import XGBClassifier"
   ]
  },
  {
   "cell_type": "code",
   "execution_count": 2,
   "id": "0918adfd",
   "metadata": {
    "execution": {
     "iopub.execute_input": "2024-03-30T13:13:10.228116Z",
     "iopub.status.busy": "2024-03-30T13:13:10.227520Z",
     "iopub.status.idle": "2024-03-30T13:13:10.233394Z",
     "shell.execute_reply": "2024-03-30T13:13:10.232473Z"
    },
    "papermill": {
     "duration": 0.029374,
     "end_time": "2024-03-30T13:13:10.235714",
     "exception": false,
     "start_time": "2024-03-30T13:13:10.206340",
     "status": "completed"
    },
    "tags": []
   },
   "outputs": [],
   "source": [
    "sns.set_theme(style=\"whitegrid\")"
   ]
  },
  {
   "cell_type": "markdown",
   "id": "32379db3",
   "metadata": {
    "papermill": {
     "duration": 0.018449,
     "end_time": "2024-03-30T13:13:10.273665",
     "exception": false,
     "start_time": "2024-03-30T13:13:10.255216",
     "status": "completed"
    },
    "tags": []
   },
   "source": [
    "# Titanic - Machine Learning from Disaster\n",
    "### Kaggle Competitions"
   ]
  },
  {
   "cell_type": "markdown",
   "id": "6187cd53",
   "metadata": {
    "papermill": {
     "duration": 0.019603,
     "end_time": "2024-03-30T13:13:10.313026",
     "exception": false,
     "start_time": "2024-03-30T13:13:10.293423",
     "status": "completed"
    },
    "tags": []
   },
   "source": [
    "## Dataset and EDA"
   ]
  },
  {
   "cell_type": "code",
   "execution_count": 3,
   "id": "70ea6b9c",
   "metadata": {
    "execution": {
     "iopub.execute_input": "2024-03-30T13:13:10.353525Z",
     "iopub.status.busy": "2024-03-30T13:13:10.352300Z",
     "iopub.status.idle": "2024-03-30T13:13:10.414450Z",
     "shell.execute_reply": "2024-03-30T13:13:10.413209Z"
    },
    "papermill": {
     "duration": 0.084897,
     "end_time": "2024-03-30T13:13:10.416967",
     "exception": false,
     "start_time": "2024-03-30T13:13:10.332070",
     "status": "completed"
    },
    "tags": []
   },
   "outputs": [
    {
     "data": {
      "text/html": [
       "<div>\n",
       "<style scoped>\n",
       "    .dataframe tbody tr th:only-of-type {\n",
       "        vertical-align: middle;\n",
       "    }\n",
       "\n",
       "    .dataframe tbody tr th {\n",
       "        vertical-align: top;\n",
       "    }\n",
       "\n",
       "    .dataframe thead th {\n",
       "        text-align: right;\n",
       "    }\n",
       "</style>\n",
       "<table border=\"1\" class=\"dataframe\">\n",
       "  <thead>\n",
       "    <tr style=\"text-align: right;\">\n",
       "      <th></th>\n",
       "      <th>Survived</th>\n",
       "      <th>Pclass</th>\n",
       "      <th>Name</th>\n",
       "      <th>Sex</th>\n",
       "      <th>Age</th>\n",
       "      <th>SibSp</th>\n",
       "      <th>Parch</th>\n",
       "      <th>Ticket</th>\n",
       "      <th>Fare</th>\n",
       "      <th>Cabin</th>\n",
       "      <th>Embarked</th>\n",
       "    </tr>\n",
       "    <tr>\n",
       "      <th>PassengerId</th>\n",
       "      <th></th>\n",
       "      <th></th>\n",
       "      <th></th>\n",
       "      <th></th>\n",
       "      <th></th>\n",
       "      <th></th>\n",
       "      <th></th>\n",
       "      <th></th>\n",
       "      <th></th>\n",
       "      <th></th>\n",
       "      <th></th>\n",
       "    </tr>\n",
       "  </thead>\n",
       "  <tbody>\n",
       "    <tr>\n",
       "      <th>1</th>\n",
       "      <td>0</td>\n",
       "      <td>3</td>\n",
       "      <td>Braund, Mr. Owen Harris</td>\n",
       "      <td>male</td>\n",
       "      <td>22.0</td>\n",
       "      <td>1</td>\n",
       "      <td>0</td>\n",
       "      <td>A/5 21171</td>\n",
       "      <td>7.2500</td>\n",
       "      <td>NaN</td>\n",
       "      <td>S</td>\n",
       "    </tr>\n",
       "    <tr>\n",
       "      <th>2</th>\n",
       "      <td>1</td>\n",
       "      <td>1</td>\n",
       "      <td>Cumings, Mrs. John Bradley (Florence Briggs Th...</td>\n",
       "      <td>female</td>\n",
       "      <td>38.0</td>\n",
       "      <td>1</td>\n",
       "      <td>0</td>\n",
       "      <td>PC 17599</td>\n",
       "      <td>71.2833</td>\n",
       "      <td>C85</td>\n",
       "      <td>C</td>\n",
       "    </tr>\n",
       "    <tr>\n",
       "      <th>3</th>\n",
       "      <td>1</td>\n",
       "      <td>3</td>\n",
       "      <td>Heikkinen, Miss. Laina</td>\n",
       "      <td>female</td>\n",
       "      <td>26.0</td>\n",
       "      <td>0</td>\n",
       "      <td>0</td>\n",
       "      <td>STON/O2. 3101282</td>\n",
       "      <td>7.9250</td>\n",
       "      <td>NaN</td>\n",
       "      <td>S</td>\n",
       "    </tr>\n",
       "    <tr>\n",
       "      <th>4</th>\n",
       "      <td>1</td>\n",
       "      <td>1</td>\n",
       "      <td>Futrelle, Mrs. Jacques Heath (Lily May Peel)</td>\n",
       "      <td>female</td>\n",
       "      <td>35.0</td>\n",
       "      <td>1</td>\n",
       "      <td>0</td>\n",
       "      <td>113803</td>\n",
       "      <td>53.1000</td>\n",
       "      <td>C123</td>\n",
       "      <td>S</td>\n",
       "    </tr>\n",
       "    <tr>\n",
       "      <th>5</th>\n",
       "      <td>0</td>\n",
       "      <td>3</td>\n",
       "      <td>Allen, Mr. William Henry</td>\n",
       "      <td>male</td>\n",
       "      <td>35.0</td>\n",
       "      <td>0</td>\n",
       "      <td>0</td>\n",
       "      <td>373450</td>\n",
       "      <td>8.0500</td>\n",
       "      <td>NaN</td>\n",
       "      <td>S</td>\n",
       "    </tr>\n",
       "    <tr>\n",
       "      <th>...</th>\n",
       "      <td>...</td>\n",
       "      <td>...</td>\n",
       "      <td>...</td>\n",
       "      <td>...</td>\n",
       "      <td>...</td>\n",
       "      <td>...</td>\n",
       "      <td>...</td>\n",
       "      <td>...</td>\n",
       "      <td>...</td>\n",
       "      <td>...</td>\n",
       "      <td>...</td>\n",
       "    </tr>\n",
       "    <tr>\n",
       "      <th>887</th>\n",
       "      <td>0</td>\n",
       "      <td>2</td>\n",
       "      <td>Montvila, Rev. Juozas</td>\n",
       "      <td>male</td>\n",
       "      <td>27.0</td>\n",
       "      <td>0</td>\n",
       "      <td>0</td>\n",
       "      <td>211536</td>\n",
       "      <td>13.0000</td>\n",
       "      <td>NaN</td>\n",
       "      <td>S</td>\n",
       "    </tr>\n",
       "    <tr>\n",
       "      <th>888</th>\n",
       "      <td>1</td>\n",
       "      <td>1</td>\n",
       "      <td>Graham, Miss. Margaret Edith</td>\n",
       "      <td>female</td>\n",
       "      <td>19.0</td>\n",
       "      <td>0</td>\n",
       "      <td>0</td>\n",
       "      <td>112053</td>\n",
       "      <td>30.0000</td>\n",
       "      <td>B42</td>\n",
       "      <td>S</td>\n",
       "    </tr>\n",
       "    <tr>\n",
       "      <th>889</th>\n",
       "      <td>0</td>\n",
       "      <td>3</td>\n",
       "      <td>Johnston, Miss. Catherine Helen \"Carrie\"</td>\n",
       "      <td>female</td>\n",
       "      <td>NaN</td>\n",
       "      <td>1</td>\n",
       "      <td>2</td>\n",
       "      <td>W./C. 6607</td>\n",
       "      <td>23.4500</td>\n",
       "      <td>NaN</td>\n",
       "      <td>S</td>\n",
       "    </tr>\n",
       "    <tr>\n",
       "      <th>890</th>\n",
       "      <td>1</td>\n",
       "      <td>1</td>\n",
       "      <td>Behr, Mr. Karl Howell</td>\n",
       "      <td>male</td>\n",
       "      <td>26.0</td>\n",
       "      <td>0</td>\n",
       "      <td>0</td>\n",
       "      <td>111369</td>\n",
       "      <td>30.0000</td>\n",
       "      <td>C148</td>\n",
       "      <td>C</td>\n",
       "    </tr>\n",
       "    <tr>\n",
       "      <th>891</th>\n",
       "      <td>0</td>\n",
       "      <td>3</td>\n",
       "      <td>Dooley, Mr. Patrick</td>\n",
       "      <td>male</td>\n",
       "      <td>32.0</td>\n",
       "      <td>0</td>\n",
       "      <td>0</td>\n",
       "      <td>370376</td>\n",
       "      <td>7.7500</td>\n",
       "      <td>NaN</td>\n",
       "      <td>Q</td>\n",
       "    </tr>\n",
       "  </tbody>\n",
       "</table>\n",
       "<p>891 rows × 11 columns</p>\n",
       "</div>"
      ],
      "text/plain": [
       "             Survived  Pclass  \\\n",
       "PassengerId                     \n",
       "1                   0       3   \n",
       "2                   1       1   \n",
       "3                   1       3   \n",
       "4                   1       1   \n",
       "5                   0       3   \n",
       "...               ...     ...   \n",
       "887                 0       2   \n",
       "888                 1       1   \n",
       "889                 0       3   \n",
       "890                 1       1   \n",
       "891                 0       3   \n",
       "\n",
       "                                                          Name     Sex   Age  \\\n",
       "PassengerId                                                                    \n",
       "1                                      Braund, Mr. Owen Harris    male  22.0   \n",
       "2            Cumings, Mrs. John Bradley (Florence Briggs Th...  female  38.0   \n",
       "3                                       Heikkinen, Miss. Laina  female  26.0   \n",
       "4                 Futrelle, Mrs. Jacques Heath (Lily May Peel)  female  35.0   \n",
       "5                                     Allen, Mr. William Henry    male  35.0   \n",
       "...                                                        ...     ...   ...   \n",
       "887                                      Montvila, Rev. Juozas    male  27.0   \n",
       "888                               Graham, Miss. Margaret Edith  female  19.0   \n",
       "889                   Johnston, Miss. Catherine Helen \"Carrie\"  female   NaN   \n",
       "890                                      Behr, Mr. Karl Howell    male  26.0   \n",
       "891                                        Dooley, Mr. Patrick    male  32.0   \n",
       "\n",
       "             SibSp  Parch            Ticket     Fare Cabin Embarked  \n",
       "PassengerId                                                          \n",
       "1                1      0         A/5 21171   7.2500   NaN        S  \n",
       "2                1      0          PC 17599  71.2833   C85        C  \n",
       "3                0      0  STON/O2. 3101282   7.9250   NaN        S  \n",
       "4                1      0            113803  53.1000  C123        S  \n",
       "5                0      0            373450   8.0500   NaN        S  \n",
       "...            ...    ...               ...      ...   ...      ...  \n",
       "887              0      0            211536  13.0000   NaN        S  \n",
       "888              0      0            112053  30.0000   B42        S  \n",
       "889              1      2        W./C. 6607  23.4500   NaN        S  \n",
       "890              0      0            111369  30.0000  C148        C  \n",
       "891              0      0            370376   7.7500   NaN        Q  \n",
       "\n",
       "[891 rows x 11 columns]"
      ]
     },
     "execution_count": 3,
     "metadata": {},
     "output_type": "execute_result"
    }
   ],
   "source": [
    "# Read the train dataset\n",
    "titanic_data = pd.read_csv(\"/kaggle/input/titanic/train.csv\", index_col = \"PassengerId\")\n",
    "titanic_data"
   ]
  },
  {
   "cell_type": "code",
   "execution_count": 4,
   "id": "dc5bd668",
   "metadata": {
    "execution": {
     "iopub.execute_input": "2024-03-30T13:13:10.458985Z",
     "iopub.status.busy": "2024-03-30T13:13:10.458129Z",
     "iopub.status.idle": "2024-03-30T13:13:10.480609Z",
     "shell.execute_reply": "2024-03-30T13:13:10.479021Z"
    },
    "papermill": {
     "duration": 0.046446,
     "end_time": "2024-03-30T13:13:10.483456",
     "exception": false,
     "start_time": "2024-03-30T13:13:10.437010",
     "status": "completed"
    },
    "tags": []
   },
   "outputs": [
    {
     "name": "stdout",
     "output_type": "stream",
     "text": [
      "<class 'pandas.core.frame.DataFrame'>\n",
      "Index: 891 entries, 1 to 891\n",
      "Data columns (total 11 columns):\n",
      " #   Column    Non-Null Count  Dtype  \n",
      "---  ------    --------------  -----  \n",
      " 0   Survived  891 non-null    int64  \n",
      " 1   Pclass    891 non-null    int64  \n",
      " 2   Name      891 non-null    object \n",
      " 3   Sex       891 non-null    object \n",
      " 4   Age       714 non-null    float64\n",
      " 5   SibSp     891 non-null    int64  \n",
      " 6   Parch     891 non-null    int64  \n",
      " 7   Ticket    891 non-null    object \n",
      " 8   Fare      891 non-null    float64\n",
      " 9   Cabin     204 non-null    object \n",
      " 10  Embarked  889 non-null    object \n",
      "dtypes: float64(2), int64(4), object(5)\n",
      "memory usage: 83.5+ KB\n"
     ]
    }
   ],
   "source": [
    "titanic_data.info()"
   ]
  },
  {
   "cell_type": "code",
   "execution_count": 5,
   "id": "ca63cfd6",
   "metadata": {
    "execution": {
     "iopub.execute_input": "2024-03-30T13:13:10.525176Z",
     "iopub.status.busy": "2024-03-30T13:13:10.524681Z",
     "iopub.status.idle": "2024-03-30T13:13:10.561868Z",
     "shell.execute_reply": "2024-03-30T13:13:10.560444Z"
    },
    "papermill": {
     "duration": 0.061517,
     "end_time": "2024-03-30T13:13:10.564708",
     "exception": false,
     "start_time": "2024-03-30T13:13:10.503191",
     "status": "completed"
    },
    "tags": []
   },
   "outputs": [
    {
     "data": {
      "text/html": [
       "<div>\n",
       "<style scoped>\n",
       "    .dataframe tbody tr th:only-of-type {\n",
       "        vertical-align: middle;\n",
       "    }\n",
       "\n",
       "    .dataframe tbody tr th {\n",
       "        vertical-align: top;\n",
       "    }\n",
       "\n",
       "    .dataframe thead th {\n",
       "        text-align: right;\n",
       "    }\n",
       "</style>\n",
       "<table border=\"1\" class=\"dataframe\">\n",
       "  <thead>\n",
       "    <tr style=\"text-align: right;\">\n",
       "      <th></th>\n",
       "      <th>count</th>\n",
       "      <th>mean</th>\n",
       "      <th>std</th>\n",
       "      <th>min</th>\n",
       "      <th>25%</th>\n",
       "      <th>50%</th>\n",
       "      <th>75%</th>\n",
       "      <th>max</th>\n",
       "    </tr>\n",
       "  </thead>\n",
       "  <tbody>\n",
       "    <tr>\n",
       "      <th>Survived</th>\n",
       "      <td>891.0</td>\n",
       "      <td>0.383838</td>\n",
       "      <td>0.486592</td>\n",
       "      <td>0.00</td>\n",
       "      <td>0.0000</td>\n",
       "      <td>0.0000</td>\n",
       "      <td>1.0</td>\n",
       "      <td>1.0000</td>\n",
       "    </tr>\n",
       "    <tr>\n",
       "      <th>Pclass</th>\n",
       "      <td>891.0</td>\n",
       "      <td>2.308642</td>\n",
       "      <td>0.836071</td>\n",
       "      <td>1.00</td>\n",
       "      <td>2.0000</td>\n",
       "      <td>3.0000</td>\n",
       "      <td>3.0</td>\n",
       "      <td>3.0000</td>\n",
       "    </tr>\n",
       "    <tr>\n",
       "      <th>Age</th>\n",
       "      <td>714.0</td>\n",
       "      <td>29.699118</td>\n",
       "      <td>14.526497</td>\n",
       "      <td>0.42</td>\n",
       "      <td>20.1250</td>\n",
       "      <td>28.0000</td>\n",
       "      <td>38.0</td>\n",
       "      <td>80.0000</td>\n",
       "    </tr>\n",
       "    <tr>\n",
       "      <th>SibSp</th>\n",
       "      <td>891.0</td>\n",
       "      <td>0.523008</td>\n",
       "      <td>1.102743</td>\n",
       "      <td>0.00</td>\n",
       "      <td>0.0000</td>\n",
       "      <td>0.0000</td>\n",
       "      <td>1.0</td>\n",
       "      <td>8.0000</td>\n",
       "    </tr>\n",
       "    <tr>\n",
       "      <th>Parch</th>\n",
       "      <td>891.0</td>\n",
       "      <td>0.381594</td>\n",
       "      <td>0.806057</td>\n",
       "      <td>0.00</td>\n",
       "      <td>0.0000</td>\n",
       "      <td>0.0000</td>\n",
       "      <td>0.0</td>\n",
       "      <td>6.0000</td>\n",
       "    </tr>\n",
       "    <tr>\n",
       "      <th>Fare</th>\n",
       "      <td>891.0</td>\n",
       "      <td>32.204208</td>\n",
       "      <td>49.693429</td>\n",
       "      <td>0.00</td>\n",
       "      <td>7.9104</td>\n",
       "      <td>14.4542</td>\n",
       "      <td>31.0</td>\n",
       "      <td>512.3292</td>\n",
       "    </tr>\n",
       "  </tbody>\n",
       "</table>\n",
       "</div>"
      ],
      "text/plain": [
       "          count       mean        std   min      25%      50%   75%       max\n",
       "Survived  891.0   0.383838   0.486592  0.00   0.0000   0.0000   1.0    1.0000\n",
       "Pclass    891.0   2.308642   0.836071  1.00   2.0000   3.0000   3.0    3.0000\n",
       "Age       714.0  29.699118  14.526497  0.42  20.1250  28.0000  38.0   80.0000\n",
       "SibSp     891.0   0.523008   1.102743  0.00   0.0000   0.0000   1.0    8.0000\n",
       "Parch     891.0   0.381594   0.806057  0.00   0.0000   0.0000   0.0    6.0000\n",
       "Fare      891.0  32.204208  49.693429  0.00   7.9104  14.4542  31.0  512.3292"
      ]
     },
     "execution_count": 5,
     "metadata": {},
     "output_type": "execute_result"
    }
   ],
   "source": [
    "# Describe numerical features\n",
    "titanic_data.describe().T"
   ]
  },
  {
   "cell_type": "code",
   "execution_count": null,
   "id": "d5491cd4",
   "metadata": {
    "papermill": {
     "duration": 0.019866,
     "end_time": "2024-03-30T13:13:10.604613",
     "exception": false,
     "start_time": "2024-03-30T13:13:10.584747",
     "status": "completed"
    },
    "tags": []
   },
   "outputs": [],
   "source": []
  },
  {
   "cell_type": "code",
   "execution_count": 6,
   "id": "6ec55d6d",
   "metadata": {
    "execution": {
     "iopub.execute_input": "2024-03-30T13:13:10.649705Z",
     "iopub.status.busy": "2024-03-30T13:13:10.649155Z",
     "iopub.status.idle": "2024-03-30T13:13:10.660446Z",
     "shell.execute_reply": "2024-03-30T13:13:10.659200Z"
    },
    "papermill": {
     "duration": 0.036317,
     "end_time": "2024-03-30T13:13:10.662903",
     "exception": false,
     "start_time": "2024-03-30T13:13:10.626586",
     "status": "completed"
    },
    "tags": []
   },
   "outputs": [
    {
     "data": {
      "text/plain": [
       "((891, 10), (891,))"
      ]
     },
     "execution_count": 6,
     "metadata": {},
     "output_type": "execute_result"
    }
   ],
   "source": [
    "# Separate features and target\n",
    "titanic = titanic_data.drop(columns = \"Survived\")\n",
    "survived = titanic_data.Survived\n",
    "\n",
    "titanic.shape, survived.shape"
   ]
  },
  {
   "cell_type": "code",
   "execution_count": 7,
   "id": "7b367740",
   "metadata": {
    "execution": {
     "iopub.execute_input": "2024-03-30T13:13:10.706387Z",
     "iopub.status.busy": "2024-03-30T13:13:10.705982Z",
     "iopub.status.idle": "2024-03-30T13:13:10.714080Z",
     "shell.execute_reply": "2024-03-30T13:13:10.712744Z"
    },
    "papermill": {
     "duration": 0.03257,
     "end_time": "2024-03-30T13:13:10.716484",
     "exception": false,
     "start_time": "2024-03-30T13:13:10.683914",
     "status": "completed"
    },
    "tags": []
   },
   "outputs": [
    {
     "data": {
      "text/plain": [
       "['Age', 'Fare']"
      ]
     },
     "execution_count": 7,
     "metadata": {},
     "output_type": "execute_result"
    }
   ],
   "source": [
    "# Select numerical columns (float only)\n",
    "numerical_column_selector = make_column_selector(dtype_include = \"float64\")\n",
    "float_cols = numerical_column_selector(titanic)\n",
    "\n",
    "float_cols"
   ]
  },
  {
   "cell_type": "code",
   "execution_count": 8,
   "id": "880b0bfd",
   "metadata": {
    "execution": {
     "iopub.execute_input": "2024-03-30T13:13:10.759601Z",
     "iopub.status.busy": "2024-03-30T13:13:10.758345Z",
     "iopub.status.idle": "2024-03-30T13:13:10.773528Z",
     "shell.execute_reply": "2024-03-30T13:13:10.772084Z"
    },
    "papermill": {
     "duration": 0.039733,
     "end_time": "2024-03-30T13:13:10.776461",
     "exception": false,
     "start_time": "2024-03-30T13:13:10.736728",
     "status": "completed"
    },
    "tags": []
   },
   "outputs": [
    {
     "data": {
      "text/plain": [
       "Name        891\n",
       "Sex           2\n",
       "Ticket      681\n",
       "Cabin       147\n",
       "Embarked      3\n",
       "dtype: int64"
      ]
     },
     "execution_count": 8,
     "metadata": {},
     "output_type": "execute_result"
    }
   ],
   "source": [
    "# Select nominal categorical features\n",
    "categorical_column_selector = make_column_selector(dtype_include = \"object\")\n",
    "object_cols = categorical_column_selector(titanic)\n",
    "\n",
    "\n",
    "# Number of unique entries in each column with categorical data\n",
    "categorical_nunique = titanic[object_cols].nunique()\n",
    "categorical_nunique"
   ]
  },
  {
   "cell_type": "code",
   "execution_count": 9,
   "id": "14fc9366",
   "metadata": {
    "execution": {
     "iopub.execute_input": "2024-03-30T13:13:10.822166Z",
     "iopub.status.busy": "2024-03-30T13:13:10.821738Z",
     "iopub.status.idle": "2024-03-30T13:13:10.834516Z",
     "shell.execute_reply": "2024-03-30T13:13:10.833640Z"
    },
    "papermill": {
     "duration": 0.037449,
     "end_time": "2024-03-30T13:13:10.836762",
     "exception": false,
     "start_time": "2024-03-30T13:13:10.799313",
     "status": "completed"
    },
    "tags": []
   },
   "outputs": [
    {
     "data": {
      "text/plain": [
       "Pclass    3\n",
       "SibSp     7\n",
       "Parch     7\n",
       "dtype: int64"
      ]
     },
     "execution_count": 9,
     "metadata": {},
     "output_type": "execute_result"
    }
   ],
   "source": [
    "# Select ordinal categorical features\n",
    "ordinal_column_selector = make_column_selector(dtype_include = \"int64\")\n",
    "int_cols = ordinal_column_selector(titanic)\n",
    "\n",
    "\n",
    "# Number of unique entries in each column with ordinal data\n",
    "ordinal_nunique = titanic[int_cols].nunique()\n",
    "ordinal_nunique"
   ]
  },
  {
   "cell_type": "code",
   "execution_count": 10,
   "id": "f86132a0",
   "metadata": {
    "execution": {
     "iopub.execute_input": "2024-03-30T13:13:10.879355Z",
     "iopub.status.busy": "2024-03-30T13:13:10.878984Z",
     "iopub.status.idle": "2024-03-30T13:13:10.888028Z",
     "shell.execute_reply": "2024-03-30T13:13:10.885629Z"
    },
    "papermill": {
     "duration": 0.033247,
     "end_time": "2024-03-30T13:13:10.890374",
     "exception": false,
     "start_time": "2024-03-30T13:13:10.857127",
     "status": "completed"
    },
    "tags": []
   },
   "outputs": [
    {
     "data": {
      "text/plain": [
       "['Sex', 'Embarked']"
      ]
     },
     "execution_count": 10,
     "metadata": {},
     "output_type": "execute_result"
    }
   ],
   "source": [
    "# Select low cardinality categorical features\n",
    "categorical_low_cardinality = categorical_nunique[categorical_nunique < 5].index.tolist()\n",
    "categorical_low_cardinality"
   ]
  },
  {
   "cell_type": "code",
   "execution_count": 11,
   "id": "2cfa4cb1",
   "metadata": {
    "execution": {
     "iopub.execute_input": "2024-03-30T13:13:10.933169Z",
     "iopub.status.busy": "2024-03-30T13:13:10.932728Z",
     "iopub.status.idle": "2024-03-30T13:13:10.961054Z",
     "shell.execute_reply": "2024-03-30T13:13:10.959701Z"
    },
    "papermill": {
     "duration": 0.052614,
     "end_time": "2024-03-30T13:13:10.963514",
     "exception": false,
     "start_time": "2024-03-30T13:13:10.910900",
     "status": "completed"
    },
    "tags": []
   },
   "outputs": [
    {
     "data": {
      "text/html": [
       "<div>\n",
       "<style scoped>\n",
       "    .dataframe tbody tr th:only-of-type {\n",
       "        vertical-align: middle;\n",
       "    }\n",
       "\n",
       "    .dataframe tbody tr th {\n",
       "        vertical-align: top;\n",
       "    }\n",
       "\n",
       "    .dataframe thead th {\n",
       "        text-align: right;\n",
       "    }\n",
       "</style>\n",
       "<table border=\"1\" class=\"dataframe\">\n",
       "  <thead>\n",
       "    <tr style=\"text-align: right;\">\n",
       "      <th></th>\n",
       "      <th>Pclass</th>\n",
       "      <th>Name</th>\n",
       "      <th>Sex</th>\n",
       "      <th>Age</th>\n",
       "      <th>SibSp</th>\n",
       "      <th>Parch</th>\n",
       "      <th>Ticket</th>\n",
       "      <th>Fare</th>\n",
       "      <th>Cabin</th>\n",
       "      <th>Embarked</th>\n",
       "    </tr>\n",
       "    <tr>\n",
       "      <th>PassengerId</th>\n",
       "      <th></th>\n",
       "      <th></th>\n",
       "      <th></th>\n",
       "      <th></th>\n",
       "      <th></th>\n",
       "      <th></th>\n",
       "      <th></th>\n",
       "      <th></th>\n",
       "      <th></th>\n",
       "      <th></th>\n",
       "    </tr>\n",
       "  </thead>\n",
       "  <tbody>\n",
       "    <tr>\n",
       "      <th>892</th>\n",
       "      <td>3</td>\n",
       "      <td>Kelly, Mr. James</td>\n",
       "      <td>male</td>\n",
       "      <td>34.5</td>\n",
       "      <td>0</td>\n",
       "      <td>0</td>\n",
       "      <td>330911</td>\n",
       "      <td>7.8292</td>\n",
       "      <td>NaN</td>\n",
       "      <td>Q</td>\n",
       "    </tr>\n",
       "    <tr>\n",
       "      <th>893</th>\n",
       "      <td>3</td>\n",
       "      <td>Wilkes, Mrs. James (Ellen Needs)</td>\n",
       "      <td>female</td>\n",
       "      <td>47.0</td>\n",
       "      <td>1</td>\n",
       "      <td>0</td>\n",
       "      <td>363272</td>\n",
       "      <td>7.0000</td>\n",
       "      <td>NaN</td>\n",
       "      <td>S</td>\n",
       "    </tr>\n",
       "    <tr>\n",
       "      <th>894</th>\n",
       "      <td>2</td>\n",
       "      <td>Myles, Mr. Thomas Francis</td>\n",
       "      <td>male</td>\n",
       "      <td>62.0</td>\n",
       "      <td>0</td>\n",
       "      <td>0</td>\n",
       "      <td>240276</td>\n",
       "      <td>9.6875</td>\n",
       "      <td>NaN</td>\n",
       "      <td>Q</td>\n",
       "    </tr>\n",
       "    <tr>\n",
       "      <th>895</th>\n",
       "      <td>3</td>\n",
       "      <td>Wirz, Mr. Albert</td>\n",
       "      <td>male</td>\n",
       "      <td>27.0</td>\n",
       "      <td>0</td>\n",
       "      <td>0</td>\n",
       "      <td>315154</td>\n",
       "      <td>8.6625</td>\n",
       "      <td>NaN</td>\n",
       "      <td>S</td>\n",
       "    </tr>\n",
       "    <tr>\n",
       "      <th>896</th>\n",
       "      <td>3</td>\n",
       "      <td>Hirvonen, Mrs. Alexander (Helga E Lindqvist)</td>\n",
       "      <td>female</td>\n",
       "      <td>22.0</td>\n",
       "      <td>1</td>\n",
       "      <td>1</td>\n",
       "      <td>3101298</td>\n",
       "      <td>12.2875</td>\n",
       "      <td>NaN</td>\n",
       "      <td>S</td>\n",
       "    </tr>\n",
       "    <tr>\n",
       "      <th>...</th>\n",
       "      <td>...</td>\n",
       "      <td>...</td>\n",
       "      <td>...</td>\n",
       "      <td>...</td>\n",
       "      <td>...</td>\n",
       "      <td>...</td>\n",
       "      <td>...</td>\n",
       "      <td>...</td>\n",
       "      <td>...</td>\n",
       "      <td>...</td>\n",
       "    </tr>\n",
       "    <tr>\n",
       "      <th>1305</th>\n",
       "      <td>3</td>\n",
       "      <td>Spector, Mr. Woolf</td>\n",
       "      <td>male</td>\n",
       "      <td>NaN</td>\n",
       "      <td>0</td>\n",
       "      <td>0</td>\n",
       "      <td>A.5. 3236</td>\n",
       "      <td>8.0500</td>\n",
       "      <td>NaN</td>\n",
       "      <td>S</td>\n",
       "    </tr>\n",
       "    <tr>\n",
       "      <th>1306</th>\n",
       "      <td>1</td>\n",
       "      <td>Oliva y Ocana, Dona. Fermina</td>\n",
       "      <td>female</td>\n",
       "      <td>39.0</td>\n",
       "      <td>0</td>\n",
       "      <td>0</td>\n",
       "      <td>PC 17758</td>\n",
       "      <td>108.9000</td>\n",
       "      <td>C105</td>\n",
       "      <td>C</td>\n",
       "    </tr>\n",
       "    <tr>\n",
       "      <th>1307</th>\n",
       "      <td>3</td>\n",
       "      <td>Saether, Mr. Simon Sivertsen</td>\n",
       "      <td>male</td>\n",
       "      <td>38.5</td>\n",
       "      <td>0</td>\n",
       "      <td>0</td>\n",
       "      <td>SOTON/O.Q. 3101262</td>\n",
       "      <td>7.2500</td>\n",
       "      <td>NaN</td>\n",
       "      <td>S</td>\n",
       "    </tr>\n",
       "    <tr>\n",
       "      <th>1308</th>\n",
       "      <td>3</td>\n",
       "      <td>Ware, Mr. Frederick</td>\n",
       "      <td>male</td>\n",
       "      <td>NaN</td>\n",
       "      <td>0</td>\n",
       "      <td>0</td>\n",
       "      <td>359309</td>\n",
       "      <td>8.0500</td>\n",
       "      <td>NaN</td>\n",
       "      <td>S</td>\n",
       "    </tr>\n",
       "    <tr>\n",
       "      <th>1309</th>\n",
       "      <td>3</td>\n",
       "      <td>Peter, Master. Michael J</td>\n",
       "      <td>male</td>\n",
       "      <td>NaN</td>\n",
       "      <td>1</td>\n",
       "      <td>1</td>\n",
       "      <td>2668</td>\n",
       "      <td>22.3583</td>\n",
       "      <td>NaN</td>\n",
       "      <td>C</td>\n",
       "    </tr>\n",
       "  </tbody>\n",
       "</table>\n",
       "<p>418 rows × 10 columns</p>\n",
       "</div>"
      ],
      "text/plain": [
       "             Pclass                                          Name     Sex  \\\n",
       "PassengerId                                                                 \n",
       "892               3                              Kelly, Mr. James    male   \n",
       "893               3              Wilkes, Mrs. James (Ellen Needs)  female   \n",
       "894               2                     Myles, Mr. Thomas Francis    male   \n",
       "895               3                              Wirz, Mr. Albert    male   \n",
       "896               3  Hirvonen, Mrs. Alexander (Helga E Lindqvist)  female   \n",
       "...             ...                                           ...     ...   \n",
       "1305              3                            Spector, Mr. Woolf    male   \n",
       "1306              1                  Oliva y Ocana, Dona. Fermina  female   \n",
       "1307              3                  Saether, Mr. Simon Sivertsen    male   \n",
       "1308              3                           Ware, Mr. Frederick    male   \n",
       "1309              3                      Peter, Master. Michael J    male   \n",
       "\n",
       "              Age  SibSp  Parch              Ticket      Fare Cabin Embarked  \n",
       "PassengerId                                                                   \n",
       "892          34.5      0      0              330911    7.8292   NaN        Q  \n",
       "893          47.0      1      0              363272    7.0000   NaN        S  \n",
       "894          62.0      0      0              240276    9.6875   NaN        Q  \n",
       "895          27.0      0      0              315154    8.6625   NaN        S  \n",
       "896          22.0      1      1             3101298   12.2875   NaN        S  \n",
       "...           ...    ...    ...                 ...       ...   ...      ...  \n",
       "1305          NaN      0      0           A.5. 3236    8.0500   NaN        S  \n",
       "1306         39.0      0      0            PC 17758  108.9000  C105        C  \n",
       "1307         38.5      0      0  SOTON/O.Q. 3101262    7.2500   NaN        S  \n",
       "1308          NaN      0      0              359309    8.0500   NaN        S  \n",
       "1309          NaN      1      1                2668   22.3583   NaN        C  \n",
       "\n",
       "[418 rows x 10 columns]"
      ]
     },
     "execution_count": 11,
     "metadata": {},
     "output_type": "execute_result"
    }
   ],
   "source": [
    "# Read the test dataset\n",
    "titanic_test = pd.read_csv(\"/kaggle/input/titanic/test.csv\", index_col = \"PassengerId\")\n",
    "titanic_test"
   ]
  },
  {
   "cell_type": "code",
   "execution_count": 12,
   "id": "4d6ba237",
   "metadata": {
    "execution": {
     "iopub.execute_input": "2024-03-30T13:13:11.008582Z",
     "iopub.status.busy": "2024-03-30T13:13:11.008150Z",
     "iopub.status.idle": "2024-03-30T13:13:11.021057Z",
     "shell.execute_reply": "2024-03-30T13:13:11.019383Z"
    },
    "papermill": {
     "duration": 0.03893,
     "end_time": "2024-03-30T13:13:11.023648",
     "exception": false,
     "start_time": "2024-03-30T13:13:10.984718",
     "status": "completed"
    },
    "tags": []
   },
   "outputs": [
    {
     "name": "stdout",
     "output_type": "stream",
     "text": [
      "<class 'pandas.core.frame.DataFrame'>\n",
      "Index: 418 entries, 892 to 1309\n",
      "Data columns (total 10 columns):\n",
      " #   Column    Non-Null Count  Dtype  \n",
      "---  ------    --------------  -----  \n",
      " 0   Pclass    418 non-null    int64  \n",
      " 1   Name      418 non-null    object \n",
      " 2   Sex       418 non-null    object \n",
      " 3   Age       332 non-null    float64\n",
      " 4   SibSp     418 non-null    int64  \n",
      " 5   Parch     418 non-null    int64  \n",
      " 6   Ticket    418 non-null    object \n",
      " 7   Fare      417 non-null    float64\n",
      " 8   Cabin     91 non-null     object \n",
      " 9   Embarked  418 non-null    object \n",
      "dtypes: float64(2), int64(3), object(5)\n",
      "memory usage: 35.9+ KB\n"
     ]
    }
   ],
   "source": [
    "titanic_test.info()"
   ]
  },
  {
   "cell_type": "markdown",
   "id": "c83a40b8",
   "metadata": {
    "papermill": {
     "duration": 0.021158,
     "end_time": "2024-03-30T13:13:11.066247",
     "exception": false,
     "start_time": "2024-03-30T13:13:11.045089",
     "status": "completed"
    },
    "tags": []
   },
   "source": [
    "`Age`, `Cabin` and `Embarked` have values in both train and test set; `Fare` has missing values in test set only"
   ]
  },
  {
   "cell_type": "markdown",
   "id": "fce158af",
   "metadata": {
    "papermill": {
     "duration": 0.022489,
     "end_time": "2024-03-30T13:13:11.109891",
     "exception": false,
     "start_time": "2024-03-30T13:13:11.087402",
     "status": "completed"
    },
    "tags": []
   },
   "source": [
    "##### `Survived`"
   ]
  },
  {
   "cell_type": "code",
   "execution_count": 13,
   "id": "1e19f48f",
   "metadata": {
    "execution": {
     "iopub.execute_input": "2024-03-30T13:13:11.154546Z",
     "iopub.status.busy": "2024-03-30T13:13:11.154101Z",
     "iopub.status.idle": "2024-03-30T13:13:11.435948Z",
     "shell.execute_reply": "2024-03-30T13:13:11.434852Z"
    },
    "papermill": {
     "duration": 0.307661,
     "end_time": "2024-03-30T13:13:11.438519",
     "exception": false,
     "start_time": "2024-03-30T13:13:11.130858",
     "status": "completed"
    },
    "tags": []
   },
   "outputs": [
    {
     "data": {
      "image/png": "[encoded data removed]",
      "text/plain": [
       "<Figure size 640x480 with 1 Axes>"
      ]
     },
     "metadata": {},
     "output_type": "display_data"
    }
   ],
   "source": [
    "sns.countplot(data = titanic_data, x = \"Survived\")\n",
    "plt.show()"
   ]
  },
  {
   "cell_type": "markdown",
   "id": "ce843129",
   "metadata": {
    "papermill": {
     "duration": 0.021832,
     "end_time": "2024-03-30T13:13:11.482155",
     "exception": false,
     "start_time": "2024-03-30T13:13:11.460323",
     "status": "completed"
    },
    "tags": []
   },
   "source": [
    "##### `Pclass`"
   ]
  },
  {
   "cell_type": "code",
   "execution_count": 14,
   "id": "302f246c",
   "metadata": {
    "execution": {
     "iopub.execute_input": "2024-03-30T13:13:11.528429Z",
     "iopub.status.busy": "2024-03-30T13:13:11.527780Z",
     "iopub.status.idle": "2024-03-30T13:13:12.033115Z",
     "shell.execute_reply": "2024-03-30T13:13:12.031706Z"
    },
    "papermill": {
     "duration": 0.532227,
     "end_time": "2024-03-30T13:13:12.036001",
     "exception": false,
     "start_time": "2024-03-30T13:13:11.503774",
     "status": "completed"
    },
    "tags": []
   },
   "outputs": [
    {
     "data": {
      "image/png": "[encoded data removed]",
      "text/plain": [
       "<Figure size 1400x500 with 2 Axes>"
      ]
     },
     "metadata": {},
     "output_type": "display_data"
    }
   ],
   "source": [
    "fig, axes = plt.subplots(1, 2, figsize = (14, 5), sharey = True)\n",
    "\n",
    "sns.countplot(data = titanic_data, x = \"Pclass\", ax = axes[0]).set(title='Number of Passengers by Class')\n",
    "sns.countplot(data = titanic_data, x = \"Pclass\", hue = \"Survived\", ax = axes[1]).set(title='Survival Count by Class')\n",
    "\n",
    "plt.show()"
   ]
  },
  {
   "cell_type": "markdown",
   "id": "affa4a18",
   "metadata": {
    "papermill": {
     "duration": 0.022621,
     "end_time": "2024-03-30T13:13:12.082486",
     "exception": false,
     "start_time": "2024-03-30T13:13:12.059865",
     "status": "completed"
    },
    "tags": []
   },
   "source": [
    "`Sex`"
   ]
  },
  {
   "cell_type": "code",
   "execution_count": 15,
   "id": "58b03dcb",
   "metadata": {
    "execution": {
     "iopub.execute_input": "2024-03-30T13:13:12.191564Z",
     "iopub.status.busy": "2024-03-30T13:13:12.190781Z",
     "iopub.status.idle": "2024-03-30T13:13:12.710362Z",
     "shell.execute_reply": "2024-03-30T13:13:12.709108Z"
    },
    "papermill": {
     "duration": 0.60795,
     "end_time": "2024-03-30T13:13:12.713145",
     "exception": false,
     "start_time": "2024-03-30T13:13:12.105195",
     "status": "completed"
    },
    "tags": []
   },
   "outputs": [
    {
     "data": {
      "image/png": "[encoded data removed]",
      "text/plain": [
       "<Figure size 1400x500 with 2 Axes>"
      ]
     },
     "metadata": {},
     "output_type": "display_data"
    }
   ],
   "source": [
    "fig, axes = plt.subplots(1, 2, figsize = (14, 5), sharey = True)\n",
    "\n",
    "sns.countplot(data = titanic_data, x = \"Sex\", ax = axes[0]).set(title='Number of Passengers by Gender')\n",
    "sns.countplot(data = titanic_data, x = \"Sex\", hue = \"Survived\", ax = axes[1]).set(title='Survival Count by Gender')\n",
    "\n",
    "plt.show()\n"
   ]
  },
  {
   "cell_type": "markdown",
   "id": "09c4acff",
   "metadata": {
    "papermill": {
     "duration": 0.029457,
     "end_time": "2024-03-30T13:13:12.768771",
     "exception": false,
     "start_time": "2024-03-30T13:13:12.739314",
     "status": "completed"
    },
    "tags": []
   },
   "source": [
    "`Age`"
   ]
  },
  {
   "cell_type": "code",
   "execution_count": 16,
   "id": "5b0b2bbd",
   "metadata": {
    "execution": {
     "iopub.execute_input": "2024-03-30T13:13:12.820385Z",
     "iopub.status.busy": "2024-03-30T13:13:12.819973Z",
     "iopub.status.idle": "2024-03-30T13:13:13.638531Z",
     "shell.execute_reply": "2024-03-30T13:13:13.637342Z"
    },
    "papermill": {
     "duration": 0.84937,
     "end_time": "2024-03-30T13:13:13.641710",
     "exception": false,
     "start_time": "2024-03-30T13:13:12.792340",
     "status": "completed"
    },
    "tags": []
   },
   "outputs": [
    {
     "name": "stderr",
     "output_type": "stream",
     "text": [
      "/opt/conda/lib/python3.10/site-packages/seaborn/_oldcore.py:1119: FutureWarning: use_inf_as_na option is deprecated and will be removed in a future version. Convert inf values to NaN before operating instead.\n",
      "  with pd.option_context('mode.use_inf_as_na', True):\n"
     ]
    },
    {
     "data": {
      "image/png": "[encoded data removed]",
      "text/plain": [
       "<Figure size 1400x500 with 2 Axes>"
      ]
     },
     "metadata": {},
     "output_type": "display_data"
    }
   ],
   "source": [
    "fig, axes = plt.subplots(1, 2, figsize = (14, 5), sharey = False)\n",
    "\n",
    "sns.histplot(data = titanic_data, x = \"Age\", ax = axes[0]).set(title='Number of Passengers by Age')\n",
    "axes[0].axvline(titanic_data.Age.median(), c = \"r\")\n",
    "sns.violinplot(data = titanic_data, x = \"Survived\", y = \"Age\", ax = axes[1]).set(title='Survival Count by Age')\n",
    "\n",
    "plt.show()\n"
   ]
  },
  {
   "cell_type": "markdown",
   "id": "1cebe1a1",
   "metadata": {
    "papermill": {
     "duration": 0.024217,
     "end_time": "2024-03-30T13:13:13.689943",
     "exception": false,
     "start_time": "2024-03-30T13:13:13.665726",
     "status": "completed"
    },
    "tags": []
   },
   "source": [
    "`Cabin`"
   ]
  },
  {
   "cell_type": "code",
   "execution_count": 17,
   "id": "82bd2503",
   "metadata": {
    "execution": {
     "iopub.execute_input": "2024-03-30T13:13:13.741644Z",
     "iopub.status.busy": "2024-03-30T13:13:13.741227Z",
     "iopub.status.idle": "2024-03-30T13:13:13.749535Z",
     "shell.execute_reply": "2024-03-30T13:13:13.748320Z"
    },
    "papermill": {
     "duration": 0.036752,
     "end_time": "2024-03-30T13:13:13.751925",
     "exception": false,
     "start_time": "2024-03-30T13:13:13.715173",
     "status": "completed"
    },
    "tags": []
   },
   "outputs": [
    {
     "data": {
      "text/plain": [
       "array([nan, 'C85', 'C123', 'E46', 'G6', 'C103', 'D56', 'A6',\n",
       "       'C23 C25 C27', 'B78', 'D33', 'B30', 'C52', 'B28', 'C83', 'F33',\n",
       "       'F G73', 'E31', 'A5', 'D10 D12', 'D26', 'C110', 'B58 B60', 'E101',\n",
       "       'F E69', 'D47', 'B86', 'F2', 'C2', 'E33', 'B19', 'A7', 'C49', 'F4',\n",
       "       'A32', 'B4', 'B80', 'A31', 'D36', 'D15', 'C93', 'C78', 'D35',\n",
       "       'C87', 'B77', 'E67', 'B94', 'C125', 'C99', 'C118', 'D7', 'A19',\n",
       "       'B49', 'D', 'C22 C26', 'C106', 'C65', 'E36', 'C54',\n",
       "       'B57 B59 B63 B66', 'C7', 'E34', 'C32', 'B18', 'C124', 'C91', 'E40',\n",
       "       'T', 'C128', 'D37', 'B35', 'E50', 'C82', 'B96 B98', 'E10', 'E44',\n",
       "       'A34', 'C104', 'C111', 'C92', 'E38', 'D21', 'E12', 'E63', 'A14',\n",
       "       'B37', 'C30', 'D20', 'B79', 'E25', 'D46', 'B73', 'C95', 'B38',\n",
       "       'B39', 'B22', 'C86', 'C70', 'A16', 'C101', 'C68', 'A10', 'E68',\n",
       "       'B41', 'A20', 'D19', 'D50', 'D9', 'A23', 'B50', 'A26', 'D48',\n",
       "       'E58', 'C126', 'B71', 'B51 B53 B55', 'D49', 'B5', 'B20', 'F G63',\n",
       "       'C62 C64', 'E24', 'C90', 'C45', 'E8', 'B101', 'D45', 'C46', 'D30',\n",
       "       'E121', 'D11', 'E77', 'F38', 'B3', 'D6', 'B82 B84', 'D17', 'A36',\n",
       "       'B102', 'B69', 'E49', 'C47', 'D28', 'E17', 'A24', 'C50', 'B42',\n",
       "       'C148'], dtype=object)"
      ]
     },
     "execution_count": 17,
     "metadata": {},
     "output_type": "execute_result"
    }
   ],
   "source": [
    "titanic_data.Cabin.unique()"
   ]
  },
  {
   "cell_type": "code",
   "execution_count": 18,
   "id": "3b6324c2",
   "metadata": {
    "execution": {
     "iopub.execute_input": "2024-03-30T13:13:13.802294Z",
     "iopub.status.busy": "2024-03-30T13:13:13.801467Z",
     "iopub.status.idle": "2024-03-30T13:13:13.811734Z",
     "shell.execute_reply": "2024-03-30T13:13:13.810493Z"
    },
    "papermill": {
     "duration": 0.03834,
     "end_time": "2024-03-30T13:13:13.814352",
     "exception": false,
     "start_time": "2024-03-30T13:13:13.776012",
     "status": "completed"
    },
    "tags": []
   },
   "outputs": [
    {
     "data": {
      "text/plain": [
       "Cabin\n",
       "B96 B98        4\n",
       "G6             4\n",
       "C23 C25 C27    4\n",
       "C22 C26        3\n",
       "F33            3\n",
       "F2             3\n",
       "E101           3\n",
       "D              3\n",
       "C78            2\n",
       "C93            2\n",
       "Name: count, dtype: int64"
      ]
     },
     "execution_count": 18,
     "metadata": {},
     "output_type": "execute_result"
    }
   ],
   "source": [
    "titanic_data.Cabin.value_counts().head(10)"
   ]
  },
  {
   "cell_type": "code",
   "execution_count": 19,
   "id": "49d176ef",
   "metadata": {
    "execution": {
     "iopub.execute_input": "2024-03-30T13:13:13.866834Z",
     "iopub.status.busy": "2024-03-30T13:13:13.866075Z",
     "iopub.status.idle": "2024-03-30T13:13:13.890159Z",
     "shell.execute_reply": "2024-03-30T13:13:13.888991Z"
    },
    "papermill": {
     "duration": 0.052853,
     "end_time": "2024-03-30T13:13:13.892893",
     "exception": false,
     "start_time": "2024-03-30T13:13:13.840040",
     "status": "completed"
    },
    "tags": []
   },
   "outputs": [
    {
     "data": {
      "text/html": [
       "<div>\n",
       "<style scoped>\n",
       "    .dataframe tbody tr th:only-of-type {\n",
       "        vertical-align: middle;\n",
       "    }\n",
       "\n",
       "    .dataframe tbody tr th {\n",
       "        vertical-align: top;\n",
       "    }\n",
       "\n",
       "    .dataframe thead th {\n",
       "        text-align: right;\n",
       "    }\n",
       "</style>\n",
       "<table border=\"1\" class=\"dataframe\">\n",
       "  <thead>\n",
       "    <tr style=\"text-align: right;\">\n",
       "      <th></th>\n",
       "      <th>Survived</th>\n",
       "      <th>Pclass</th>\n",
       "      <th>Name</th>\n",
       "      <th>Sex</th>\n",
       "      <th>Age</th>\n",
       "      <th>SibSp</th>\n",
       "      <th>Parch</th>\n",
       "      <th>Ticket</th>\n",
       "      <th>Fare</th>\n",
       "      <th>Cabin</th>\n",
       "      <th>Embarked</th>\n",
       "    </tr>\n",
       "    <tr>\n",
       "      <th>PassengerId</th>\n",
       "      <th></th>\n",
       "      <th></th>\n",
       "      <th></th>\n",
       "      <th></th>\n",
       "      <th></th>\n",
       "      <th></th>\n",
       "      <th></th>\n",
       "      <th></th>\n",
       "      <th></th>\n",
       "      <th></th>\n",
       "      <th></th>\n",
       "    </tr>\n",
       "  </thead>\n",
       "  <tbody>\n",
       "    <tr>\n",
       "      <th>391</th>\n",
       "      <td>1</td>\n",
       "      <td>1</td>\n",
       "      <td>Carter, Mr. William Ernest</td>\n",
       "      <td>male</td>\n",
       "      <td>36.0</td>\n",
       "      <td>1</td>\n",
       "      <td>2</td>\n",
       "      <td>113760</td>\n",
       "      <td>120.0000</td>\n",
       "      <td>B96 B98</td>\n",
       "      <td>S</td>\n",
       "    </tr>\n",
       "    <tr>\n",
       "      <th>436</th>\n",
       "      <td>1</td>\n",
       "      <td>1</td>\n",
       "      <td>Carter, Miss. Lucile Polk</td>\n",
       "      <td>female</td>\n",
       "      <td>14.0</td>\n",
       "      <td>1</td>\n",
       "      <td>2</td>\n",
       "      <td>113760</td>\n",
       "      <td>120.0000</td>\n",
       "      <td>B96 B98</td>\n",
       "      <td>S</td>\n",
       "    </tr>\n",
       "    <tr>\n",
       "      <th>764</th>\n",
       "      <td>1</td>\n",
       "      <td>1</td>\n",
       "      <td>Carter, Mrs. William Ernest (Lucile Polk)</td>\n",
       "      <td>female</td>\n",
       "      <td>36.0</td>\n",
       "      <td>1</td>\n",
       "      <td>2</td>\n",
       "      <td>113760</td>\n",
       "      <td>120.0000</td>\n",
       "      <td>B96 B98</td>\n",
       "      <td>S</td>\n",
       "    </tr>\n",
       "    <tr>\n",
       "      <th>803</th>\n",
       "      <td>1</td>\n",
       "      <td>1</td>\n",
       "      <td>Carter, Master. William Thornton II</td>\n",
       "      <td>male</td>\n",
       "      <td>11.0</td>\n",
       "      <td>1</td>\n",
       "      <td>2</td>\n",
       "      <td>113760</td>\n",
       "      <td>120.0000</td>\n",
       "      <td>B96 B98</td>\n",
       "      <td>S</td>\n",
       "    </tr>\n",
       "    <tr>\n",
       "      <th>28</th>\n",
       "      <td>0</td>\n",
       "      <td>1</td>\n",
       "      <td>Fortune, Mr. Charles Alexander</td>\n",
       "      <td>male</td>\n",
       "      <td>19.0</td>\n",
       "      <td>3</td>\n",
       "      <td>2</td>\n",
       "      <td>19950</td>\n",
       "      <td>263.0000</td>\n",
       "      <td>C23 C25 C27</td>\n",
       "      <td>S</td>\n",
       "    </tr>\n",
       "    <tr>\n",
       "      <th>89</th>\n",
       "      <td>1</td>\n",
       "      <td>1</td>\n",
       "      <td>Fortune, Miss. Mabel Helen</td>\n",
       "      <td>female</td>\n",
       "      <td>23.0</td>\n",
       "      <td>3</td>\n",
       "      <td>2</td>\n",
       "      <td>19950</td>\n",
       "      <td>263.0000</td>\n",
       "      <td>C23 C25 C27</td>\n",
       "      <td>S</td>\n",
       "    </tr>\n",
       "    <tr>\n",
       "      <th>342</th>\n",
       "      <td>1</td>\n",
       "      <td>1</td>\n",
       "      <td>Fortune, Miss. Alice Elizabeth</td>\n",
       "      <td>female</td>\n",
       "      <td>24.0</td>\n",
       "      <td>3</td>\n",
       "      <td>2</td>\n",
       "      <td>19950</td>\n",
       "      <td>263.0000</td>\n",
       "      <td>C23 C25 C27</td>\n",
       "      <td>S</td>\n",
       "    </tr>\n",
       "    <tr>\n",
       "      <th>439</th>\n",
       "      <td>0</td>\n",
       "      <td>1</td>\n",
       "      <td>Fortune, Mr. Mark</td>\n",
       "      <td>male</td>\n",
       "      <td>64.0</td>\n",
       "      <td>1</td>\n",
       "      <td>4</td>\n",
       "      <td>19950</td>\n",
       "      <td>263.0000</td>\n",
       "      <td>C23 C25 C27</td>\n",
       "      <td>S</td>\n",
       "    </tr>\n",
       "    <tr>\n",
       "      <th>11</th>\n",
       "      <td>1</td>\n",
       "      <td>3</td>\n",
       "      <td>Sandstrom, Miss. Marguerite Rut</td>\n",
       "      <td>female</td>\n",
       "      <td>4.0</td>\n",
       "      <td>1</td>\n",
       "      <td>1</td>\n",
       "      <td>PP 9549</td>\n",
       "      <td>16.7000</td>\n",
       "      <td>G6</td>\n",
       "      <td>S</td>\n",
       "    </tr>\n",
       "    <tr>\n",
       "      <th>206</th>\n",
       "      <td>0</td>\n",
       "      <td>3</td>\n",
       "      <td>Strom, Miss. Telma Matilda</td>\n",
       "      <td>female</td>\n",
       "      <td>2.0</td>\n",
       "      <td>0</td>\n",
       "      <td>1</td>\n",
       "      <td>347054</td>\n",
       "      <td>10.4625</td>\n",
       "      <td>G6</td>\n",
       "      <td>S</td>\n",
       "    </tr>\n",
       "    <tr>\n",
       "      <th>252</th>\n",
       "      <td>0</td>\n",
       "      <td>3</td>\n",
       "      <td>Strom, Mrs. Wilhelm (Elna Matilda Persson)</td>\n",
       "      <td>female</td>\n",
       "      <td>29.0</td>\n",
       "      <td>1</td>\n",
       "      <td>1</td>\n",
       "      <td>347054</td>\n",
       "      <td>10.4625</td>\n",
       "      <td>G6</td>\n",
       "      <td>S</td>\n",
       "    </tr>\n",
       "    <tr>\n",
       "      <th>395</th>\n",
       "      <td>1</td>\n",
       "      <td>3</td>\n",
       "      <td>Sandstrom, Mrs. Hjalmar (Agnes Charlotta Bengt...</td>\n",
       "      <td>female</td>\n",
       "      <td>24.0</td>\n",
       "      <td>0</td>\n",
       "      <td>2</td>\n",
       "      <td>PP 9549</td>\n",
       "      <td>16.7000</td>\n",
       "      <td>G6</td>\n",
       "      <td>S</td>\n",
       "    </tr>\n",
       "  </tbody>\n",
       "</table>\n",
       "</div>"
      ],
      "text/plain": [
       "             Survived  Pclass  \\\n",
       "PassengerId                     \n",
       "391                 1       1   \n",
       "436                 1       1   \n",
       "764                 1       1   \n",
       "803                 1       1   \n",
       "28                  0       1   \n",
       "89                  1       1   \n",
       "342                 1       1   \n",
       "439                 0       1   \n",
       "11                  1       3   \n",
       "206                 0       3   \n",
       "252                 0       3   \n",
       "395                 1       3   \n",
       "\n",
       "                                                          Name     Sex   Age  \\\n",
       "PassengerId                                                                    \n",
       "391                                 Carter, Mr. William Ernest    male  36.0   \n",
       "436                                  Carter, Miss. Lucile Polk  female  14.0   \n",
       "764                  Carter, Mrs. William Ernest (Lucile Polk)  female  36.0   \n",
       "803                        Carter, Master. William Thornton II    male  11.0   \n",
       "28                              Fortune, Mr. Charles Alexander    male  19.0   \n",
       "89                                  Fortune, Miss. Mabel Helen  female  23.0   \n",
       "342                             Fortune, Miss. Alice Elizabeth  female  24.0   \n",
       "439                                          Fortune, Mr. Mark    male  64.0   \n",
       "11                             Sandstrom, Miss. Marguerite Rut  female   4.0   \n",
       "206                                 Strom, Miss. Telma Matilda  female   2.0   \n",
       "252                 Strom, Mrs. Wilhelm (Elna Matilda Persson)  female  29.0   \n",
       "395          Sandstrom, Mrs. Hjalmar (Agnes Charlotta Bengt...  female  24.0   \n",
       "\n",
       "             SibSp  Parch   Ticket      Fare        Cabin Embarked  \n",
       "PassengerId                                                         \n",
       "391              1      2   113760  120.0000      B96 B98        S  \n",
       "436              1      2   113760  120.0000      B96 B98        S  \n",
       "764              1      2   113760  120.0000      B96 B98        S  \n",
       "803              1      2   113760  120.0000      B96 B98        S  \n",
       "28               3      2    19950  263.0000  C23 C25 C27        S  \n",
       "89               3      2    19950  263.0000  C23 C25 C27        S  \n",
       "342              3      2    19950  263.0000  C23 C25 C27        S  \n",
       "439              1      4    19950  263.0000  C23 C25 C27        S  \n",
       "11               1      1  PP 9549   16.7000           G6        S  \n",
       "206              0      1   347054   10.4625           G6        S  \n",
       "252              1      1   347054   10.4625           G6        S  \n",
       "395              0      2  PP 9549   16.7000           G6        S  "
      ]
     },
     "execution_count": 19,
     "metadata": {},
     "output_type": "execute_result"
    }
   ],
   "source": [
    "titanic_data[titanic_data.Cabin.isin(titanic_data.Cabin.value_counts().head(3).index)].sort_values(\"Cabin\")"
   ]
  },
  {
   "cell_type": "markdown",
   "id": "b153cefe",
   "metadata": {
    "papermill": {
     "duration": 0.025673,
     "end_time": "2024-03-30T13:13:13.945792",
     "exception": false,
     "start_time": "2024-03-30T13:13:13.920119",
     "status": "completed"
    },
    "tags": []
   },
   "source": [
    "`Name`"
   ]
  },
  {
   "cell_type": "code",
   "execution_count": 20,
   "id": "acdedd58",
   "metadata": {
    "execution": {
     "iopub.execute_input": "2024-03-30T13:13:13.998867Z",
     "iopub.status.busy": "2024-03-30T13:13:13.998005Z",
     "iopub.status.idle": "2024-03-30T13:13:14.019132Z",
     "shell.execute_reply": "2024-03-30T13:13:14.017808Z"
    },
    "papermill": {
     "duration": 0.050663,
     "end_time": "2024-03-30T13:13:14.021663",
     "exception": false,
     "start_time": "2024-03-30T13:13:13.971000",
     "status": "completed"
    },
    "tags": []
   },
   "outputs": [
    {
     "data": {
      "text/html": [
       "<div>\n",
       "<style scoped>\n",
       "    .dataframe tbody tr th:only-of-type {\n",
       "        vertical-align: middle;\n",
       "    }\n",
       "\n",
       "    .dataframe tbody tr th {\n",
       "        vertical-align: top;\n",
       "    }\n",
       "\n",
       "    .dataframe thead th {\n",
       "        text-align: right;\n",
       "    }\n",
       "</style>\n",
       "<table border=\"1\" class=\"dataframe\">\n",
       "  <thead>\n",
       "    <tr style=\"text-align: right;\">\n",
       "      <th></th>\n",
       "      <th>Survived</th>\n",
       "      <th>Pclass</th>\n",
       "      <th>Name</th>\n",
       "      <th>Sex</th>\n",
       "      <th>Age</th>\n",
       "      <th>SibSp</th>\n",
       "      <th>Parch</th>\n",
       "      <th>Ticket</th>\n",
       "      <th>Fare</th>\n",
       "      <th>Cabin</th>\n",
       "      <th>Embarked</th>\n",
       "    </tr>\n",
       "    <tr>\n",
       "      <th>PassengerId</th>\n",
       "      <th></th>\n",
       "      <th></th>\n",
       "      <th></th>\n",
       "      <th></th>\n",
       "      <th></th>\n",
       "      <th></th>\n",
       "      <th></th>\n",
       "      <th></th>\n",
       "      <th></th>\n",
       "      <th></th>\n",
       "      <th></th>\n",
       "    </tr>\n",
       "  </thead>\n",
       "  <tbody>\n",
       "    <tr>\n",
       "      <th>250</th>\n",
       "      <td>0</td>\n",
       "      <td>2</td>\n",
       "      <td>Carter, Rev. Ernest Courtenay</td>\n",
       "      <td>male</td>\n",
       "      <td>54.0</td>\n",
       "      <td>1</td>\n",
       "      <td>0</td>\n",
       "      <td>244252</td>\n",
       "      <td>26.0</td>\n",
       "      <td>NaN</td>\n",
       "      <td>S</td>\n",
       "    </tr>\n",
       "    <tr>\n",
       "      <th>391</th>\n",
       "      <td>1</td>\n",
       "      <td>1</td>\n",
       "      <td>Carter, Mr. William Ernest</td>\n",
       "      <td>male</td>\n",
       "      <td>36.0</td>\n",
       "      <td>1</td>\n",
       "      <td>2</td>\n",
       "      <td>113760</td>\n",
       "      <td>120.0</td>\n",
       "      <td>B96 B98</td>\n",
       "      <td>S</td>\n",
       "    </tr>\n",
       "    <tr>\n",
       "      <th>436</th>\n",
       "      <td>1</td>\n",
       "      <td>1</td>\n",
       "      <td>Carter, Miss. Lucile Polk</td>\n",
       "      <td>female</td>\n",
       "      <td>14.0</td>\n",
       "      <td>1</td>\n",
       "      <td>2</td>\n",
       "      <td>113760</td>\n",
       "      <td>120.0</td>\n",
       "      <td>B96 B98</td>\n",
       "      <td>S</td>\n",
       "    </tr>\n",
       "    <tr>\n",
       "      <th>764</th>\n",
       "      <td>1</td>\n",
       "      <td>1</td>\n",
       "      <td>Carter, Mrs. William Ernest (Lucile Polk)</td>\n",
       "      <td>female</td>\n",
       "      <td>36.0</td>\n",
       "      <td>1</td>\n",
       "      <td>2</td>\n",
       "      <td>113760</td>\n",
       "      <td>120.0</td>\n",
       "      <td>B96 B98</td>\n",
       "      <td>S</td>\n",
       "    </tr>\n",
       "    <tr>\n",
       "      <th>803</th>\n",
       "      <td>1</td>\n",
       "      <td>1</td>\n",
       "      <td>Carter, Master. William Thornton II</td>\n",
       "      <td>male</td>\n",
       "      <td>11.0</td>\n",
       "      <td>1</td>\n",
       "      <td>2</td>\n",
       "      <td>113760</td>\n",
       "      <td>120.0</td>\n",
       "      <td>B96 B98</td>\n",
       "      <td>S</td>\n",
       "    </tr>\n",
       "    <tr>\n",
       "      <th>855</th>\n",
       "      <td>0</td>\n",
       "      <td>2</td>\n",
       "      <td>Carter, Mrs. Ernest Courtenay (Lilian Hughes)</td>\n",
       "      <td>female</td>\n",
       "      <td>44.0</td>\n",
       "      <td>1</td>\n",
       "      <td>0</td>\n",
       "      <td>244252</td>\n",
       "      <td>26.0</td>\n",
       "      <td>NaN</td>\n",
       "      <td>S</td>\n",
       "    </tr>\n",
       "  </tbody>\n",
       "</table>\n",
       "</div>"
      ],
      "text/plain": [
       "             Survived  Pclass                                           Name  \\\n",
       "PassengerId                                                                    \n",
       "250                 0       2                  Carter, Rev. Ernest Courtenay   \n",
       "391                 1       1                     Carter, Mr. William Ernest   \n",
       "436                 1       1                      Carter, Miss. Lucile Polk   \n",
       "764                 1       1      Carter, Mrs. William Ernest (Lucile Polk)   \n",
       "803                 1       1            Carter, Master. William Thornton II   \n",
       "855                 0       2  Carter, Mrs. Ernest Courtenay (Lilian Hughes)   \n",
       "\n",
       "                Sex   Age  SibSp  Parch  Ticket   Fare    Cabin Embarked  \n",
       "PassengerId                                                               \n",
       "250            male  54.0      1      0  244252   26.0      NaN        S  \n",
       "391            male  36.0      1      2  113760  120.0  B96 B98        S  \n",
       "436          female  14.0      1      2  113760  120.0  B96 B98        S  \n",
       "764          female  36.0      1      2  113760  120.0  B96 B98        S  \n",
       "803            male  11.0      1      2  113760  120.0  B96 B98        S  \n",
       "855          female  44.0      1      0  244252   26.0      NaN        S  "
      ]
     },
     "execution_count": 20,
     "metadata": {},
     "output_type": "execute_result"
    }
   ],
   "source": [
    "titanic_data[titanic_data.Name.str.contains(\"Carter\")]"
   ]
  },
  {
   "cell_type": "markdown",
   "id": "d2bf13f7",
   "metadata": {
    "papermill": {
     "duration": 0.025338,
     "end_time": "2024-03-30T13:13:14.072976",
     "exception": false,
     "start_time": "2024-03-30T13:13:14.047638",
     "status": "completed"
    },
    "tags": []
   },
   "source": [
    "We use a count vectorizer on the `Name` column. This way family ralations (same last name) and titles (Mr., Mrs.,Miss etc.) can be exploited to extract information. Names that do not repeat, like given names, and titles  that occur only once are of no use for the model, so we set `min_df = 2`, which is to say that words with strictly less than 2 occurences are excluded from the vocabulary and go to the stop words set. We are aware that this approach will create false relation between persons with the same first names, common names like Jhon or Mary may be problematic, so additional text processing may be needed to counteract this."
   ]
  },
  {
   "cell_type": "code",
   "execution_count": 21,
   "id": "1308c988",
   "metadata": {
    "execution": {
     "iopub.execute_input": "2024-03-30T13:13:14.128929Z",
     "iopub.status.busy": "2024-03-30T13:13:14.128120Z",
     "iopub.status.idle": "2024-03-30T13:13:14.157899Z",
     "shell.execute_reply": "2024-03-30T13:13:14.156773Z"
    },
    "papermill": {
     "duration": 0.060286,
     "end_time": "2024-03-30T13:13:14.160414",
     "exception": false,
     "start_time": "2024-03-30T13:13:14.100128",
     "status": "completed"
    },
    "tags": []
   },
   "outputs": [
    {
     "data": {
      "text/html": [
       "<style>#sk-container-id-1 {color: black;background-color: white;}#sk-container-id-1 pre{padding: 0;}#sk-container-id-1 div.sk-toggleable {background-color: white;}#sk-container-id-1 label.sk-toggleable__label {cursor: pointer;display: block;width: 100%;margin-bottom: 0;padding: 0.3em;box-sizing: border-box;text-align: center;}#sk-container-id-1 label.sk-toggleable__label-arrow:before {content: \"▸\";float: left;margin-right: 0.25em;color: #696969;}#sk-container-id-1 label.sk-toggleable__label-arrow:hover:before {color: black;}#sk-container-id-1 div.sk-estimator:hover label.sk-toggleable__label-arrow:before {color: black;}#sk-container-id-1 div.sk-toggleable__content {max-height: 0;max-width: 0;overflow: hidden;text-align: left;background-color: #f0f8ff;}#sk-container-id-1 div.sk-toggleable__content pre {margin: 0.2em;color: black;border-radius: 0.25em;background-color: #f0f8ff;}#sk-container-id-1 input.sk-toggleable__control:checked~div.sk-toggleable__content {max-height: 200px;max-width: 100%;overflow: auto;}#sk-container-id-1 input.sk-toggleable__control:checked~label.sk-toggleable__label-arrow:before {content: \"▾\";}#sk-container-id-1 div.sk-estimator input.sk-toggleable__control:checked~label.sk-toggleable__label {background-color: #d4ebff;}#sk-container-id-1 div.sk-label input.sk-toggleable__control:checked~label.sk-toggleable__label {background-color: #d4ebff;}#sk-container-id-1 input.sk-hidden--visually {border: 0;clip: rect(1px 1px 1px 1px);clip: rect(1px, 1px, 1px, 1px);height: 1px;margin: -1px;overflow: hidden;padding: 0;position: absolute;width: 1px;}#sk-container-id-1 div.sk-estimator {font-family: monospace;background-color: #f0f8ff;border: 1px dotted black;border-radius: 0.25em;box-sizing: border-box;margin-bottom: 0.5em;}#sk-container-id-1 div.sk-estimator:hover {background-color: #d4ebff;}#sk-container-id-1 div.sk-parallel-item::after {content: \"\";width: 100%;border-bottom: 1px solid gray;flex-grow: 1;}#sk-container-id-1 div.sk-label:hover label.sk-toggleable__label {background-color: #d4ebff;}#sk-container-id-1 div.sk-serial::before {content: \"\";position: absolute;border-left: 1px solid gray;box-sizing: border-box;top: 0;bottom: 0;left: 50%;z-index: 0;}#sk-container-id-1 div.sk-serial {display: flex;flex-direction: column;align-items: center;background-color: white;padding-right: 0.2em;padding-left: 0.2em;position: relative;}#sk-container-id-1 div.sk-item {position: relative;z-index: 1;}#sk-container-id-1 div.sk-parallel {display: flex;align-items: stretch;justify-content: center;background-color: white;position: relative;}#sk-container-id-1 div.sk-item::before, #sk-container-id-1 div.sk-parallel-item::before {content: \"\";position: absolute;border-left: 1px solid gray;box-sizing: border-box;top: 0;bottom: 0;left: 50%;z-index: -1;}#sk-container-id-1 div.sk-parallel-item {display: flex;flex-direction: column;z-index: 1;position: relative;background-color: white;}#sk-container-id-1 div.sk-parallel-item:first-child::after {align-self: flex-end;width: 50%;}#sk-container-id-1 div.sk-parallel-item:last-child::after {align-self: flex-start;width: 50%;}#sk-container-id-1 div.sk-parallel-item:only-child::after {width: 0;}#sk-container-id-1 div.sk-dashed-wrapped {border: 1px dashed gray;margin: 0 0.4em 0.5em 0.4em;box-sizing: border-box;padding-bottom: 0.4em;background-color: white;}#sk-container-id-1 div.sk-label label {font-family: monospace;font-weight: bold;display: inline-block;line-height: 1.2em;}#sk-container-id-1 div.sk-label-container {text-align: center;}#sk-container-id-1 div.sk-container {/* jupyter's `normalize.less` sets `[hidden] { display: none; }` but bootstrap.min.css set `[hidden] { display: none !important; }` so we also need the `!important` here to be able to override the default hidden behavior on the sphinx rendered scikit-learn.org. See: https://github.com/scikit-learn/scikit-learn/issues/21755 */display: inline-block !important;position: relative;}#sk-container-id-1 div.sk-text-repr-fallback {display: none;}</style><div id=\"sk-container-id-1\" class=\"sk-top-container\"><div class=\"sk-text-repr-fallback\"><pre>CountVectorizer(min_df=2)</pre><b>In a Jupyter environment, please rerun this cell to show the HTML representation or trust the notebook. <br />On GitHub, the HTML representation is unable to render, please try loading this page with nbviewer.org.</b></div><div class=\"sk-container\" hidden><div class=\"sk-item\"><div class=\"sk-estimator sk-toggleable\"><input class=\"sk-toggleable__control sk-hidden--visually\" id=\"sk-estimator-id-1\" type=\"checkbox\" checked><label for=\"sk-estimator-id-1\" class=\"sk-toggleable__label sk-toggleable__label-arrow\">CountVectorizer</label><div class=\"sk-toggleable__content\"><pre>CountVectorizer(min_df=2)</pre></div></div></div></div></div>"
      ],
      "text/plain": [
       "CountVectorizer(min_df=2)"
      ]
     },
     "execution_count": 21,
     "metadata": {},
     "output_type": "execute_result"
    }
   ],
   "source": [
    "name_count_vectorizer = CountVectorizer(min_df = 2)\n",
    "name_count_vectorizer.fit(titanic_data.Name)"
   ]
  },
  {
   "cell_type": "code",
   "execution_count": null,
   "id": "7e2b0eb9",
   "metadata": {
    "papermill": {
     "duration": 0.025247,
     "end_time": "2024-03-30T13:13:14.211010",
     "exception": false,
     "start_time": "2024-03-30T13:13:14.185763",
     "status": "completed"
    },
    "tags": []
   },
   "outputs": [],
   "source": []
  },
  {
   "cell_type": "code",
   "execution_count": 22,
   "id": "b5ae345d",
   "metadata": {
    "execution": {
     "iopub.execute_input": "2024-03-30T13:13:14.264970Z",
     "iopub.status.busy": "2024-03-30T13:13:14.264500Z",
     "iopub.status.idle": "2024-03-30T13:13:14.271563Z",
     "shell.execute_reply": "2024-03-30T13:13:14.270384Z"
    },
    "papermill": {
     "duration": 0.036659,
     "end_time": "2024-03-30T13:13:14.273967",
     "exception": false,
     "start_time": "2024-03-30T13:13:14.237308",
     "status": "completed"
    },
    "tags": []
   },
   "outputs": [
    {
     "data": {
      "text/plain": [
       "(891, 11)"
      ]
     },
     "execution_count": 22,
     "metadata": {},
     "output_type": "execute_result"
    }
   ],
   "source": [
    "titanic_data.shape"
   ]
  },
  {
   "cell_type": "code",
   "execution_count": 23,
   "id": "89869158",
   "metadata": {
    "execution": {
     "iopub.execute_input": "2024-03-30T13:13:14.327959Z",
     "iopub.status.busy": "2024-03-30T13:13:14.327500Z",
     "iopub.status.idle": "2024-03-30T13:13:14.342535Z",
     "shell.execute_reply": "2024-03-30T13:13:14.341104Z"
    },
    "papermill": {
     "duration": 0.044919,
     "end_time": "2024-03-30T13:13:14.345027",
     "exception": false,
     "start_time": "2024-03-30T13:13:14.300108",
     "status": "completed"
    },
    "tags": []
   },
   "outputs": [],
   "source": [
    "name_vectorized = name_count_vectorizer.transform(titanic_data.Name)"
   ]
  },
  {
   "cell_type": "code",
   "execution_count": 24,
   "id": "c5d1e699",
   "metadata": {
    "execution": {
     "iopub.execute_input": "2024-03-30T13:13:14.399765Z",
     "iopub.status.busy": "2024-03-30T13:13:14.399377Z",
     "iopub.status.idle": "2024-03-30T13:13:14.413462Z",
     "shell.execute_reply": "2024-03-30T13:13:14.412280Z"
    },
    "papermill": {
     "duration": 0.043636,
     "end_time": "2024-03-30T13:13:14.415921",
     "exception": false,
     "start_time": "2024-03-30T13:13:14.372285",
     "status": "completed"
    },
    "tags": []
   },
   "outputs": [
    {
     "data": {
      "text/plain": [
       "mr           521\n",
       "miss         182\n",
       "mrs          129\n",
       "william       64\n",
       "john          44\n",
       "master        40\n",
       "henry         35\n",
       "james         24\n",
       "charles       24\n",
       "george        24\n",
       "thomas        22\n",
       "mary          20\n",
       "edward        18\n",
       "anna          17\n",
       "joseph        16\n",
       "johan         15\n",
       "frederick     15\n",
       "elizabeth     15\n",
       "richard       14\n",
       "arthur        13\n",
       "dtype: int64"
      ]
     },
     "execution_count": 24,
     "metadata": {},
     "output_type": "execute_result"
    }
   ],
   "source": [
    "name_document_frequency = pd.DataFrame(\n",
    "    name_vectorized.toarray(), \n",
    "    columns = name_count_vectorizer.get_feature_names_out()\n",
    ").sum().sort_values(ascending = False)\n",
    "\n",
    "name_document_frequency.head(20)"
   ]
  },
  {
   "cell_type": "code",
   "execution_count": 25,
   "id": "d0007f90",
   "metadata": {
    "execution": {
     "iopub.execute_input": "2024-03-30T13:13:14.470038Z",
     "iopub.status.busy": "2024-03-30T13:13:14.469612Z",
     "iopub.status.idle": "2024-03-30T13:13:14.474333Z",
     "shell.execute_reply": "2024-03-30T13:13:14.473388Z"
    },
    "papermill": {
     "duration": 0.03446,
     "end_time": "2024-03-30T13:13:14.476514",
     "exception": false,
     "start_time": "2024-03-30T13:13:14.442054",
     "status": "completed"
    },
    "tags": []
   },
   "outputs": [],
   "source": [
    "svd = TruncatedSVD(50)"
   ]
  },
  {
   "cell_type": "code",
   "execution_count": 26,
   "id": "5417aa07",
   "metadata": {
    "execution": {
     "iopub.execute_input": "2024-03-30T13:13:14.533172Z",
     "iopub.status.busy": "2024-03-30T13:13:14.531927Z",
     "iopub.status.idle": "2024-03-30T13:13:14.631212Z",
     "shell.execute_reply": "2024-03-30T13:13:14.629388Z"
    },
    "papermill": {
     "duration": 0.133895,
     "end_time": "2024-03-30T13:13:14.636343",
     "exception": false,
     "start_time": "2024-03-30T13:13:14.502448",
     "status": "completed"
    },
    "tags": []
   },
   "outputs": [
    {
     "data": {
      "text/html": [
       "<style>#sk-container-id-2 {color: black;background-color: white;}#sk-container-id-2 pre{padding: 0;}#sk-container-id-2 div.sk-toggleable {background-color: white;}#sk-container-id-2 label.sk-toggleable__label {cursor: pointer;display: block;width: 100%;margin-bottom: 0;padding: 0.3em;box-sizing: border-box;text-align: center;}#sk-container-id-2 label.sk-toggleable__label-arrow:before {content: \"▸\";float: left;margin-right: 0.25em;color: #696969;}#sk-container-id-2 label.sk-toggleable__label-arrow:hover:before {color: black;}#sk-container-id-2 div.sk-estimator:hover label.sk-toggleable__label-arrow:before {color: black;}#sk-container-id-2 div.sk-toggleable__content {max-height: 0;max-width: 0;overflow: hidden;text-align: left;background-color: #f0f8ff;}#sk-container-id-2 div.sk-toggleable__content pre {margin: 0.2em;color: black;border-radius: 0.25em;background-color: #f0f8ff;}#sk-container-id-2 input.sk-toggleable__control:checked~div.sk-toggleable__content {max-height: 200px;max-width: 100%;overflow: auto;}#sk-container-id-2 input.sk-toggleable__control:checked~label.sk-toggleable__label-arrow:before {content: \"▾\";}#sk-container-id-2 div.sk-estimator input.sk-toggleable__control:checked~label.sk-toggleable__label {background-color: #d4ebff;}#sk-container-id-2 div.sk-label input.sk-toggleable__control:checked~label.sk-toggleable__label {background-color: #d4ebff;}#sk-container-id-2 input.sk-hidden--visually {border: 0;clip: rect(1px 1px 1px 1px);clip: rect(1px, 1px, 1px, 1px);height: 1px;margin: -1px;overflow: hidden;padding: 0;position: absolute;width: 1px;}#sk-container-id-2 div.sk-estimator {font-family: monospace;background-color: #f0f8ff;border: 1px dotted black;border-radius: 0.25em;box-sizing: border-box;margin-bottom: 0.5em;}#sk-container-id-2 div.sk-estimator:hover {background-color: #d4ebff;}#sk-container-id-2 div.sk-parallel-item::after {content: \"\";width: 100%;border-bottom: 1px solid gray;flex-grow: 1;}#sk-container-id-2 div.sk-label:hover label.sk-toggleable__label {background-color: #d4ebff;}#sk-container-id-2 div.sk-serial::before {content: \"\";position: absolute;border-left: 1px solid gray;box-sizing: border-box;top: 0;bottom: 0;left: 50%;z-index: 0;}#sk-container-id-2 div.sk-serial {display: flex;flex-direction: column;align-items: center;background-color: white;padding-right: 0.2em;padding-left: 0.2em;position: relative;}#sk-container-id-2 div.sk-item {position: relative;z-index: 1;}#sk-container-id-2 div.sk-parallel {display: flex;align-items: stretch;justify-content: center;background-color: white;position: relative;}#sk-container-id-2 div.sk-item::before, #sk-container-id-2 div.sk-parallel-item::before {content: \"\";position: absolute;border-left: 1px solid gray;box-sizing: border-box;top: 0;bottom: 0;left: 50%;z-index: -1;}#sk-container-id-2 div.sk-parallel-item {display: flex;flex-direction: column;z-index: 1;position: relative;background-color: white;}#sk-container-id-2 div.sk-parallel-item:first-child::after {align-self: flex-end;width: 50%;}#sk-container-id-2 div.sk-parallel-item:last-child::after {align-self: flex-start;width: 50%;}#sk-container-id-2 div.sk-parallel-item:only-child::after {width: 0;}#sk-container-id-2 div.sk-dashed-wrapped {border: 1px dashed gray;margin: 0 0.4em 0.5em 0.4em;box-sizing: border-box;padding-bottom: 0.4em;background-color: white;}#sk-container-id-2 div.sk-label label {font-family: monospace;font-weight: bold;display: inline-block;line-height: 1.2em;}#sk-container-id-2 div.sk-label-container {text-align: center;}#sk-container-id-2 div.sk-container {/* jupyter's `normalize.less` sets `[hidden] { display: none; }` but bootstrap.min.css set `[hidden] { display: none !important; }` so we also need the `!important` here to be able to override the default hidden behavior on the sphinx rendered scikit-learn.org. See: https://github.com/scikit-learn/scikit-learn/issues/21755 */display: inline-block !important;position: relative;}#sk-container-id-2 div.sk-text-repr-fallback {display: none;}</style><div id=\"sk-container-id-2\" class=\"sk-top-container\"><div class=\"sk-text-repr-fallback\"><pre>TruncatedSVD(n_components=50)</pre><b>In a Jupyter environment, please rerun this cell to show the HTML representation or trust the notebook. <br />On GitHub, the HTML representation is unable to render, please try loading this page with nbviewer.org.</b></div><div class=\"sk-container\" hidden><div class=\"sk-item\"><div class=\"sk-estimator sk-toggleable\"><input class=\"sk-toggleable__control sk-hidden--visually\" id=\"sk-estimator-id-2\" type=\"checkbox\" checked><label for=\"sk-estimator-id-2\" class=\"sk-toggleable__label sk-toggleable__label-arrow\">TruncatedSVD</label><div class=\"sk-toggleable__content\"><pre>TruncatedSVD(n_components=50)</pre></div></div></div></div></div>"
      ],
      "text/plain": [
       "TruncatedSVD(n_components=50)"
      ]
     },
     "execution_count": 26,
     "metadata": {},
     "output_type": "execute_result"
    }
   ],
   "source": [
    "svd.fit(name_vectorized)"
   ]
  },
  {
   "cell_type": "code",
   "execution_count": 27,
   "id": "6ac9a556",
   "metadata": {
    "execution": {
     "iopub.execute_input": "2024-03-30T13:13:14.750973Z",
     "iopub.status.busy": "2024-03-30T13:13:14.750541Z",
     "iopub.status.idle": "2024-03-30T13:13:14.757218Z",
     "shell.execute_reply": "2024-03-30T13:13:14.756135Z"
    },
    "papermill": {
     "duration": 0.038163,
     "end_time": "2024-03-30T13:13:14.759523",
     "exception": false,
     "start_time": "2024-03-30T13:13:14.721360",
     "status": "completed"
    },
    "tags": []
   },
   "outputs": [
    {
     "data": {
      "text/plain": [
       "0.5867860226219542"
      ]
     },
     "execution_count": 27,
     "metadata": {},
     "output_type": "execute_result"
    }
   ],
   "source": [
    "svd.explained_variance_ratio_.sum()"
   ]
  },
  {
   "cell_type": "code",
   "execution_count": 28,
   "id": "32407ca6",
   "metadata": {
    "execution": {
     "iopub.execute_input": "2024-03-30T13:13:14.814582Z",
     "iopub.status.busy": "2024-03-30T13:13:14.814169Z",
     "iopub.status.idle": "2024-03-30T13:13:15.783226Z",
     "shell.execute_reply": "2024-03-30T13:13:15.781886Z"
    },
    "papermill": {
     "duration": 0.999847,
     "end_time": "2024-03-30T13:13:15.786059",
     "exception": false,
     "start_time": "2024-03-30T13:13:14.786212",
     "status": "completed"
    },
    "tags": []
   },
   "outputs": [
    {
     "data": {
      "image/png": "[encoded data removed]",
      "text/plain": [
       "<Figure size 640x480 with 1 Axes>"
      ]
     },
     "metadata": {},
     "output_type": "display_data"
    }
   ],
   "source": [
    "sns.barplot(x = np.arange(svd.n_components), y = svd.explained_variance_ratio_)\n",
    "plt.show()"
   ]
  },
  {
   "cell_type": "markdown",
   "id": "40c55575",
   "metadata": {
    "papermill": {
     "duration": 0.026617,
     "end_time": "2024-03-30T13:13:15.839788",
     "exception": false,
     "start_time": "2024-03-30T13:13:15.813171",
     "status": "completed"
    },
    "tags": []
   },
   "source": [
    "## Preprocessing"
   ]
  },
  {
   "cell_type": "code",
   "execution_count": 29,
   "id": "caade1a1",
   "metadata": {
    "execution": {
     "iopub.execute_input": "2024-03-30T13:13:15.895674Z",
     "iopub.status.busy": "2024-03-30T13:13:15.894858Z",
     "iopub.status.idle": "2024-03-30T13:13:15.907208Z",
     "shell.execute_reply": "2024-03-30T13:13:15.906166Z"
    },
    "papermill": {
     "duration": 0.042972,
     "end_time": "2024-03-30T13:13:15.909459",
     "exception": false,
     "start_time": "2024-03-30T13:13:15.866487",
     "status": "completed"
    },
    "tags": []
   },
   "outputs": [
    {
     "data": {
      "text/plain": [
       "(((623, 10), (268,)), ((268, 10), (268,)))"
      ]
     },
     "execution_count": 29,
     "metadata": {},
     "output_type": "execute_result"
    }
   ],
   "source": [
    "# Split the data into train and validation sets\n",
    "titanic_train, titanic_val, survived_train, survived_val = train_test_split(\n",
    "    titanic, \n",
    "    survived, \n",
    "    test_size = 0.3,\n",
    "    random_state = 42\n",
    ")\n",
    "\n",
    "\n",
    "(titanic_train.shape, survived_val.shape), (titanic_val.shape, survived_val.shape)"
   ]
  },
  {
   "cell_type": "code",
   "execution_count": 30,
   "id": "661dc947",
   "metadata": {
    "execution": {
     "iopub.execute_input": "2024-03-30T13:13:15.967107Z",
     "iopub.status.busy": "2024-03-30T13:13:15.965310Z",
     "iopub.status.idle": "2024-03-30T13:13:15.975751Z",
     "shell.execute_reply": "2024-03-30T13:13:15.974373Z"
    },
    "papermill": {
     "duration": 0.042345,
     "end_time": "2024-03-30T13:13:15.978633",
     "exception": false,
     "start_time": "2024-03-30T13:13:15.936288",
     "status": "completed"
    },
    "tags": []
   },
   "outputs": [],
   "source": [
    "# Preprocessing for numerical data\n",
    "numerical_transformer = Pipeline(steps = [\n",
    "    ('imputer', SimpleImputer(strategy = \"median\")),\n",
    "    ('scaler', MinMaxScaler())\n",
    "])\n",
    "\n",
    "# Preprocessing for nominal categorical data\n",
    "nominal_transformer = Pipeline(steps = [\n",
    "    ('imputer', SimpleImputer(strategy = \"most_frequent\")),\n",
    "    ('onehot', OneHotEncoder(drop = \"if_binary\", handle_unknown='ignore'))\n",
    "])\n",
    "\n",
    "# Preprocessing for ordinal categorical data\n",
    "ordinal_transformer = Pipeline(steps = [\n",
    "    ('imputer', SimpleImputer(strategy = \"most_frequent\")),\n",
    "    ('onehot', OneHotEncoder(drop = None, handle_unknown='ignore'))\n",
    "])\n",
    "\n",
    "# Preprocessing for text features\n",
    "text_transformer = Pipeline(steps = [\n",
    "    (\"vectorizer\", CountVectorizer(min_df = 2)),\n",
    "    (\"svd\", TruncatedSVD(n_components = 20))\n",
    "])\n",
    "\n",
    "\n",
    "# Join preprocessing for all types of data\n",
    "preprocessor = ColumnTransformer(\n",
    "    transformers = [\n",
    "        ('numerical', numerical_transformer, float_cols),\n",
    "        ('nominal', nominal_transformer, object_cols),\n",
    "        ('ordinal', ordinal_transformer, int_cols),\n",
    "        (\"text\", text_transformer, \"Name\")\n",
    "        \n",
    "    ])"
   ]
  },
  {
   "cell_type": "markdown",
   "id": "6de77cb5",
   "metadata": {
    "papermill": {
     "duration": 0.027392,
     "end_time": "2024-03-30T13:13:16.033153",
     "exception": false,
     "start_time": "2024-03-30T13:13:16.005761",
     "status": "completed"
    },
    "tags": []
   },
   "source": [
    "## Model"
   ]
  },
  {
   "cell_type": "code",
   "execution_count": 31,
   "id": "b202d1f6",
   "metadata": {
    "execution": {
     "iopub.execute_input": "2024-03-30T13:13:16.089245Z",
     "iopub.status.busy": "2024-03-30T13:13:16.088758Z",
     "iopub.status.idle": "2024-03-30T13:13:16.096428Z",
     "shell.execute_reply": "2024-03-30T13:13:16.095202Z"
    },
    "papermill": {
     "duration": 0.038058,
     "end_time": "2024-03-30T13:13:16.098790",
     "exception": false,
     "start_time": "2024-03-30T13:13:16.060732",
     "status": "completed"
    },
    "tags": []
   },
   "outputs": [],
   "source": [
    "# Define a model \n",
    "xgb = XGBClassifier(\n",
    "#     early_stopping_rounds = 10, \n",
    "    random_state = 42\n",
    ")\n",
    "\n",
    "# Define grid search with cross-validation\n",
    "xgb_grid = GridSearchCV(\n",
    "    estimator = xgb,\n",
    "    param_grid = {\n",
    "        \"n_estimators\": [80, 100, 160, 200, 240],\n",
    "        \"learning_rate\": [0.08, 0.1, 0.14, 0.18, 0.2, 0.24]\n",
    "    },\n",
    "    cv = 8,\n",
    "    scoring = \"accuracy\"\n",
    ")"
   ]
  },
  {
   "cell_type": "code",
   "execution_count": 32,
   "id": "6eecb04d",
   "metadata": {
    "execution": {
     "iopub.execute_input": "2024-03-30T13:13:16.156191Z",
     "iopub.status.busy": "2024-03-30T13:13:16.155727Z",
     "iopub.status.idle": "2024-03-30T13:13:16.392771Z",
     "shell.execute_reply": "2024-03-30T13:13:16.391415Z"
    },
    "papermill": {
     "duration": 0.269557,
     "end_time": "2024-03-30T13:13:16.395546",
     "exception": false,
     "start_time": "2024-03-30T13:13:16.125989",
     "status": "completed"
    },
    "tags": []
   },
   "outputs": [
    {
     "data": {
      "text/html": [
       "<style>#sk-container-id-3 {color: black;background-color: white;}#sk-container-id-3 pre{padding: 0;}#sk-container-id-3 div.sk-toggleable {background-color: white;}#sk-container-id-3 label.sk-toggleable__label {cursor: pointer;display: block;width: 100%;margin-bottom: 0;padding: 0.3em;box-sizing: border-box;text-align: center;}#sk-container-id-3 label.sk-toggleable__label-arrow:before {content: \"▸\";float: left;margin-right: 0.25em;color: #696969;}#sk-container-id-3 label.sk-toggleable__label-arrow:hover:before {color: black;}#sk-container-id-3 div.sk-estimator:hover label.sk-toggleable__label-arrow:before {color: black;}#sk-container-id-3 div.sk-toggleable__content {max-height: 0;max-width: 0;overflow: hidden;text-align: left;background-color: #f0f8ff;}#sk-container-id-3 div.sk-toggleable__content pre {margin: 0.2em;color: black;border-radius: 0.25em;background-color: #f0f8ff;}#sk-container-id-3 input.sk-toggleable__control:checked~div.sk-toggleable__content {max-height: 200px;max-width: 100%;overflow: auto;}#sk-container-id-3 input.sk-toggleable__control:checked~label.sk-toggleable__label-arrow:before {content: \"▾\";}#sk-container-id-3 div.sk-estimator input.sk-toggleable__control:checked~label.sk-toggleable__label {background-color: #d4ebff;}#sk-container-id-3 div.sk-label input.sk-toggleable__control:checked~label.sk-toggleable__label {background-color: #d4ebff;}#sk-container-id-3 input.sk-hidden--visually {border: 0;clip: rect(1px 1px 1px 1px);clip: rect(1px, 1px, 1px, 1px);height: 1px;margin: -1px;overflow: hidden;padding: 0;position: absolute;width: 1px;}#sk-container-id-3 div.sk-estimator {font-family: monospace;background-color: #f0f8ff;border: 1px dotted black;border-radius: 0.25em;box-sizing: border-box;margin-bottom: 0.5em;}#sk-container-id-3 div.sk-estimator:hover {background-color: #d4ebff;}#sk-container-id-3 div.sk-parallel-item::after {content: \"\";width: 100%;border-bottom: 1px solid gray;flex-grow: 1;}#sk-container-id-3 div.sk-label:hover label.sk-toggleable__label {background-color: #d4ebff;}#sk-container-id-3 div.sk-serial::before {content: \"\";position: absolute;border-left: 1px solid gray;box-sizing: border-box;top: 0;bottom: 0;left: 50%;z-index: 0;}#sk-container-id-3 div.sk-serial {display: flex;flex-direction: column;align-items: center;background-color: white;padding-right: 0.2em;padding-left: 0.2em;position: relative;}#sk-container-id-3 div.sk-item {position: relative;z-index: 1;}#sk-container-id-3 div.sk-parallel {display: flex;align-items: stretch;justify-content: center;background-color: white;position: relative;}#sk-container-id-3 div.sk-item::before, #sk-container-id-3 div.sk-parallel-item::before {content: \"\";position: absolute;border-left: 1px solid gray;box-sizing: border-box;top: 0;bottom: 0;left: 50%;z-index: -1;}#sk-container-id-3 div.sk-parallel-item {display: flex;flex-direction: column;z-index: 1;position: relative;background-color: white;}#sk-container-id-3 div.sk-parallel-item:first-child::after {align-self: flex-end;width: 50%;}#sk-container-id-3 div.sk-parallel-item:last-child::after {align-self: flex-start;width: 50%;}#sk-container-id-3 div.sk-parallel-item:only-child::after {width: 0;}#sk-container-id-3 div.sk-dashed-wrapped {border: 1px dashed gray;margin: 0 0.4em 0.5em 0.4em;box-sizing: border-box;padding-bottom: 0.4em;background-color: white;}#sk-container-id-3 div.sk-label label {font-family: monospace;font-weight: bold;display: inline-block;line-height: 1.2em;}#sk-container-id-3 div.sk-label-container {text-align: center;}#sk-container-id-3 div.sk-container {/* jupyter's `normalize.less` sets `[hidden] { display: none; }` but bootstrap.min.css set `[hidden] { display: none !important; }` so we also need the `!important` here to be able to override the default hidden behavior on the sphinx rendered scikit-learn.org. See: https://github.com/scikit-learn/scikit-learn/issues/21755 */display: inline-block !important;position: relative;}#sk-container-id-3 div.sk-text-repr-fallback {display: none;}</style><div id=\"sk-container-id-3\" class=\"sk-top-container\"><div class=\"sk-text-repr-fallback\"><pre>ColumnTransformer(transformers=[(&#x27;numerical&#x27;,\n",
       "                                 Pipeline(steps=[(&#x27;imputer&#x27;,\n",
       "                                                  SimpleImputer(strategy=&#x27;median&#x27;)),\n",
       "                                                 (&#x27;scaler&#x27;, MinMaxScaler())]),\n",
       "                                 [&#x27;Age&#x27;, &#x27;Fare&#x27;]),\n",
       "                                (&#x27;nominal&#x27;,\n",
       "                                 Pipeline(steps=[(&#x27;imputer&#x27;,\n",
       "                                                  SimpleImputer(strategy=&#x27;most_frequent&#x27;)),\n",
       "                                                 (&#x27;onehot&#x27;,\n",
       "                                                  OneHotEncoder(drop=&#x27;if_binary&#x27;,\n",
       "                                                                handle_unknown=&#x27;ignore&#x27;))]),\n",
       "                                 [&#x27;Name&#x27;, &#x27;Sex&#x27;, &#x27;Ticket&#x27;, &#x27;Cabin&#x27;,\n",
       "                                  &#x27;Embarked&#x27;]),\n",
       "                                (&#x27;ordinal&#x27;,\n",
       "                                 Pipeline(steps=[(&#x27;imputer&#x27;,\n",
       "                                                  SimpleImputer(strategy=&#x27;most_frequent&#x27;)),\n",
       "                                                 (&#x27;onehot&#x27;,\n",
       "                                                  OneHotEncoder(handle_unknown=&#x27;ignore&#x27;))]),\n",
       "                                 [&#x27;Pclass&#x27;, &#x27;SibSp&#x27;, &#x27;Parch&#x27;]),\n",
       "                                (&#x27;text&#x27;,\n",
       "                                 Pipeline(steps=[(&#x27;vectorizer&#x27;,\n",
       "                                                  CountVectorizer(min_df=2)),\n",
       "                                                 (&#x27;svd&#x27;,\n",
       "                                                  TruncatedSVD(n_components=20))]),\n",
       "                                 &#x27;Name&#x27;)])</pre><b>In a Jupyter environment, please rerun this cell to show the HTML representation or trust the notebook. <br />On GitHub, the HTML representation is unable to render, please try loading this page with nbviewer.org.</b></div><div class=\"sk-container\" hidden><div class=\"sk-item sk-dashed-wrapped\"><div class=\"sk-label-container\"><div class=\"sk-label sk-toggleable\"><input class=\"sk-toggleable__control sk-hidden--visually\" id=\"sk-estimator-id-3\" type=\"checkbox\" ><label for=\"sk-estimator-id-3\" class=\"sk-toggleable__label sk-toggleable__label-arrow\">ColumnTransformer</label><div class=\"sk-toggleable__content\"><pre>ColumnTransformer(transformers=[(&#x27;numerical&#x27;,\n",
       "                                 Pipeline(steps=[(&#x27;imputer&#x27;,\n",
       "                                                  SimpleImputer(strategy=&#x27;median&#x27;)),\n",
       "                                                 (&#x27;scaler&#x27;, MinMaxScaler())]),\n",
       "                                 [&#x27;Age&#x27;, &#x27;Fare&#x27;]),\n",
       "                                (&#x27;nominal&#x27;,\n",
       "                                 Pipeline(steps=[(&#x27;imputer&#x27;,\n",
       "                                                  SimpleImputer(strategy=&#x27;most_frequent&#x27;)),\n",
       "                                                 (&#x27;onehot&#x27;,\n",
       "                                                  OneHotEncoder(drop=&#x27;if_binary&#x27;,\n",
       "                                                                handle_unknown=&#x27;ignore&#x27;))]),\n",
       "                                 [&#x27;Name&#x27;, &#x27;Sex&#x27;, &#x27;Ticket&#x27;, &#x27;Cabin&#x27;,\n",
       "                                  &#x27;Embarked&#x27;]),\n",
       "                                (&#x27;ordinal&#x27;,\n",
       "                                 Pipeline(steps=[(&#x27;imputer&#x27;,\n",
       "                                                  SimpleImputer(strategy=&#x27;most_frequent&#x27;)),\n",
       "                                                 (&#x27;onehot&#x27;,\n",
       "                                                  OneHotEncoder(handle_unknown=&#x27;ignore&#x27;))]),\n",
       "                                 [&#x27;Pclass&#x27;, &#x27;SibSp&#x27;, &#x27;Parch&#x27;]),\n",
       "                                (&#x27;text&#x27;,\n",
       "                                 Pipeline(steps=[(&#x27;vectorizer&#x27;,\n",
       "                                                  CountVectorizer(min_df=2)),\n",
       "                                                 (&#x27;svd&#x27;,\n",
       "                                                  TruncatedSVD(n_components=20))]),\n",
       "                                 &#x27;Name&#x27;)])</pre></div></div></div><div class=\"sk-parallel\"><div class=\"sk-parallel-item\"><div class=\"sk-item\"><div class=\"sk-label-container\"><div class=\"sk-label sk-toggleable\"><input class=\"sk-toggleable__control sk-hidden--visually\" id=\"sk-estimator-id-4\" type=\"checkbox\" ><label for=\"sk-estimator-id-4\" class=\"sk-toggleable__label sk-toggleable__label-arrow\">numerical</label><div class=\"sk-toggleable__content\"><pre>[&#x27;Age&#x27;, &#x27;Fare&#x27;]</pre></div></div></div><div class=\"sk-serial\"><div class=\"sk-item\"><div class=\"sk-serial\"><div class=\"sk-item\"><div class=\"sk-estimator sk-toggleable\"><input class=\"sk-toggleable__control sk-hidden--visually\" id=\"sk-estimator-id-5\" type=\"checkbox\" ><label for=\"sk-estimator-id-5\" class=\"sk-toggleable__label sk-toggleable__label-arrow\">SimpleImputer</label><div class=\"sk-toggleable__content\"><pre>SimpleImputer(strategy=&#x27;median&#x27;)</pre></div></div></div><div class=\"sk-item\"><div class=\"sk-estimator sk-toggleable\"><input class=\"sk-toggleable__control sk-hidden--visually\" id=\"sk-estimator-id-6\" type=\"checkbox\" ><label for=\"sk-estimator-id-6\" class=\"sk-toggleable__label sk-toggleable__label-arrow\">MinMaxScaler</label><div class=\"sk-toggleable__content\"><pre>MinMaxScaler()</pre></div></div></div></div></div></div></div></div><div class=\"sk-parallel-item\"><div class=\"sk-item\"><div class=\"sk-label-container\"><div class=\"sk-label sk-toggleable\"><input class=\"sk-toggleable__control sk-hidden--visually\" id=\"sk-estimator-id-7\" type=\"checkbox\" ><label for=\"sk-estimator-id-7\" class=\"sk-toggleable__label sk-toggleable__label-arrow\">nominal</label><div class=\"sk-toggleable__content\"><pre>[&#x27;Name&#x27;, &#x27;Sex&#x27;, &#x27;Ticket&#x27;, &#x27;Cabin&#x27;, &#x27;Embarked&#x27;]</pre></div></div></div><div class=\"sk-serial\"><div class=\"sk-item\"><div class=\"sk-serial\"><div class=\"sk-item\"><div class=\"sk-estimator sk-toggleable\"><input class=\"sk-toggleable__control sk-hidden--visually\" id=\"sk-estimator-id-8\" type=\"checkbox\" ><label for=\"sk-estimator-id-8\" class=\"sk-toggleable__label sk-toggleable__label-arrow\">SimpleImputer</label><div class=\"sk-toggleable__content\"><pre>SimpleImputer(strategy=&#x27;most_frequent&#x27;)</pre></div></div></div><div class=\"sk-item\"><div class=\"sk-estimator sk-toggleable\"><input class=\"sk-toggleable__control sk-hidden--visually\" id=\"sk-estimator-id-9\" type=\"checkbox\" ><label for=\"sk-estimator-id-9\" class=\"sk-toggleable__label sk-toggleable__label-arrow\">OneHotEncoder</label><div class=\"sk-toggleable__content\"><pre>OneHotEncoder(drop=&#x27;if_binary&#x27;, handle_unknown=&#x27;ignore&#x27;)</pre></div></div></div></div></div></div></div></div><div class=\"sk-parallel-item\"><div class=\"sk-item\"><div class=\"sk-label-container\"><div class=\"sk-label sk-toggleable\"><input class=\"sk-toggleable__control sk-hidden--visually\" id=\"sk-estimator-id-10\" type=\"checkbox\" ><label for=\"sk-estimator-id-10\" class=\"sk-toggleable__label sk-toggleable__label-arrow\">ordinal</label><div class=\"sk-toggleable__content\"><pre>[&#x27;Pclass&#x27;, &#x27;SibSp&#x27;, &#x27;Parch&#x27;]</pre></div></div></div><div class=\"sk-serial\"><div class=\"sk-item\"><div class=\"sk-serial\"><div class=\"sk-item\"><div class=\"sk-estimator sk-toggleable\"><input class=\"sk-toggleable__control sk-hidden--visually\" id=\"sk-estimator-id-11\" type=\"checkbox\" ><label for=\"sk-estimator-id-11\" class=\"sk-toggleable__label sk-toggleable__label-arrow\">SimpleImputer</label><div class=\"sk-toggleable__content\"><pre>SimpleImputer(strategy=&#x27;most_frequent&#x27;)</pre></div></div></div><div class=\"sk-item\"><div class=\"sk-estimator sk-toggleable\"><input class=\"sk-toggleable__control sk-hidden--visually\" id=\"sk-estimator-id-12\" type=\"checkbox\" ><label for=\"sk-estimator-id-12\" class=\"sk-toggleable__label sk-toggleable__label-arrow\">OneHotEncoder</label><div class=\"sk-toggleable__content\"><pre>OneHotEncoder(handle_unknown=&#x27;ignore&#x27;)</pre></div></div></div></div></div></div></div></div><div class=\"sk-parallel-item\"><div class=\"sk-item\"><div class=\"sk-label-container\"><div class=\"sk-label sk-toggleable\"><input class=\"sk-toggleable__control sk-hidden--visually\" id=\"sk-estimator-id-13\" type=\"checkbox\" ><label for=\"sk-estimator-id-13\" class=\"sk-toggleable__label sk-toggleable__label-arrow\">text</label><div class=\"sk-toggleable__content\"><pre>Name</pre></div></div></div><div class=\"sk-serial\"><div class=\"sk-item\"><div class=\"sk-serial\"><div class=\"sk-item\"><div class=\"sk-estimator sk-toggleable\"><input class=\"sk-toggleable__control sk-hidden--visually\" id=\"sk-estimator-id-14\" type=\"checkbox\" ><label for=\"sk-estimator-id-14\" class=\"sk-toggleable__label sk-toggleable__label-arrow\">CountVectorizer</label><div class=\"sk-toggleable__content\"><pre>CountVectorizer(min_df=2)</pre></div></div></div><div class=\"sk-item\"><div class=\"sk-estimator sk-toggleable\"><input class=\"sk-toggleable__control sk-hidden--visually\" id=\"sk-estimator-id-15\" type=\"checkbox\" ><label for=\"sk-estimator-id-15\" class=\"sk-toggleable__label sk-toggleable__label-arrow\">TruncatedSVD</label><div class=\"sk-toggleable__content\"><pre>TruncatedSVD(n_components=20)</pre></div></div></div></div></div></div></div></div></div></div></div></div>"
      ],
      "text/plain": [
       "ColumnTransformer(transformers=[('numerical',\n",
       "                                 Pipeline(steps=[('imputer',\n",
       "                                                  SimpleImputer(strategy='median')),\n",
       "                                                 ('scaler', MinMaxScaler())]),\n",
       "                                 ['Age', 'Fare']),\n",
       "                                ('nominal',\n",
       "                                 Pipeline(steps=[('imputer',\n",
       "                                                  SimpleImputer(strategy='most_frequent')),\n",
       "                                                 ('onehot',\n",
       "                                                  OneHotEncoder(drop='if_binary',\n",
       "                                                                handle_unknown='ignore'))]),\n",
       "                                 ['Name', 'Sex', 'Ticket', 'Cabin',\n",
       "                                  'Embarked']),\n",
       "                                ('ordinal',\n",
       "                                 Pipeline(steps=[('imputer',\n",
       "                                                  SimpleImputer(strategy='most_frequent')),\n",
       "                                                 ('onehot',\n",
       "                                                  OneHotEncoder(handle_unknown='ignore'))]),\n",
       "                                 ['Pclass', 'SibSp', 'Parch']),\n",
       "                                ('text',\n",
       "                                 Pipeline(steps=[('vectorizer',\n",
       "                                                  CountVectorizer(min_df=2)),\n",
       "                                                 ('svd',\n",
       "                                                  TruncatedSVD(n_components=20))]),\n",
       "                                 'Name')])"
      ]
     },
     "execution_count": 32,
     "metadata": {},
     "output_type": "execute_result"
    }
   ],
   "source": [
    "# Fit the preprocessor, so that it could be used for the `eval_set`\n",
    "preprocessor.fit(titanic)"
   ]
  },
  {
   "cell_type": "code",
   "execution_count": 33,
   "id": "849f3594",
   "metadata": {
    "execution": {
     "iopub.execute_input": "2024-03-30T13:13:16.452510Z",
     "iopub.status.busy": "2024-03-30T13:13:16.452077Z",
     "iopub.status.idle": "2024-03-30T13:13:16.558415Z",
     "shell.execute_reply": "2024-03-30T13:13:16.556955Z"
    },
    "papermill": {
     "duration": 0.13792,
     "end_time": "2024-03-30T13:13:16.561086",
     "exception": false,
     "start_time": "2024-03-30T13:13:16.423166",
     "status": "completed"
    },
    "tags": []
   },
   "outputs": [
    {
     "name": "stderr",
     "output_type": "stream",
     "text": [
      "/opt/conda/lib/python3.10/site-packages/sklearn/preprocessing/_encoders.py:202: UserWarning: Found unknown categories in columns [0, 2, 3] during transform. These unknown categories will be encoded as all zeros\n",
      "  warnings.warn(\n"
     ]
    }
   ],
   "source": [
    "# Transform data\n",
    "titanic_full_preprocessed = preprocessor.transform(titanic)\n",
    "titanic_train_preprocessed = preprocessor.transform(titanic_train)\n",
    "titanic_val_preprocessed = preprocessor.transform(titanic_val)\n",
    "titanic_test_preprocessed = preprocessor.transform(titanic_test)\n"
   ]
  },
  {
   "cell_type": "markdown",
   "id": "1f422379",
   "metadata": {
    "papermill": {
     "duration": 0.026892,
     "end_time": "2024-03-30T13:13:16.616262",
     "exception": false,
     "start_time": "2024-03-30T13:13:16.589370",
     "status": "completed"
    },
    "tags": []
   },
   "source": [
    " Warnings are expected - reason is the `drop` argument in OHE"
   ]
  },
  {
   "cell_type": "code",
   "execution_count": 34,
   "id": "860cd5be",
   "metadata": {
    "execution": {
     "iopub.execute_input": "2024-03-30T13:13:16.672847Z",
     "iopub.status.busy": "2024-03-30T13:13:16.672421Z",
     "iopub.status.idle": "2024-03-30T13:15:41.846351Z",
     "shell.execute_reply": "2024-03-30T13:15:41.845207Z"
    },
    "papermill": {
     "duration": 145.233925,
     "end_time": "2024-03-30T13:15:41.877480",
     "exception": false,
     "start_time": "2024-03-30T13:13:16.643555",
     "status": "completed"
    },
    "tags": []
   },
   "outputs": [
    {
     "data": {
      "text/html": [
       "<style>#sk-container-id-4 {color: black;background-color: white;}#sk-container-id-4 pre{padding: 0;}#sk-container-id-4 div.sk-toggleable {background-color: white;}#sk-container-id-4 label.sk-toggleable__label {cursor: pointer;display: block;width: 100%;margin-bottom: 0;padding: 0.3em;box-sizing: border-box;text-align: center;}#sk-container-id-4 label.sk-toggleable__label-arrow:before {content: \"▸\";float: left;margin-right: 0.25em;color: #696969;}#sk-container-id-4 label.sk-toggleable__label-arrow:hover:before {color: black;}#sk-container-id-4 div.sk-estimator:hover label.sk-toggleable__label-arrow:before {color: black;}#sk-container-id-4 div.sk-toggleable__content {max-height: 0;max-width: 0;overflow: hidden;text-align: left;background-color: #f0f8ff;}#sk-container-id-4 div.sk-toggleable__content pre {margin: 0.2em;color: black;border-radius: 0.25em;background-color: #f0f8ff;}#sk-container-id-4 input.sk-toggleable__control:checked~div.sk-toggleable__content {max-height: 200px;max-width: 100%;overflow: auto;}#sk-container-id-4 input.sk-toggleable__control:checked~label.sk-toggleable__label-arrow:before {content: \"▾\";}#sk-container-id-4 div.sk-estimator input.sk-toggleable__control:checked~label.sk-toggleable__label {background-color: #d4ebff;}#sk-container-id-4 div.sk-label input.sk-toggleable__control:checked~label.sk-toggleable__label {background-color: #d4ebff;}#sk-container-id-4 input.sk-hidden--visually {border: 0;clip: rect(1px 1px 1px 1px);clip: rect(1px, 1px, 1px, 1px);height: 1px;margin: -1px;overflow: hidden;padding: 0;position: absolute;width: 1px;}#sk-container-id-4 div.sk-estimator {font-family: monospace;background-color: #f0f8ff;border: 1px dotted black;border-radius: 0.25em;box-sizing: border-box;margin-bottom: 0.5em;}#sk-container-id-4 div.sk-estimator:hover {background-color: #d4ebff;}#sk-container-id-4 div.sk-parallel-item::after {content: \"\";width: 100%;border-bottom: 1px solid gray;flex-grow: 1;}#sk-container-id-4 div.sk-label:hover label.sk-toggleable__label {background-color: #d4ebff;}#sk-container-id-4 div.sk-serial::before {content: \"\";position: absolute;border-left: 1px solid gray;box-sizing: border-box;top: 0;bottom: 0;left: 50%;z-index: 0;}#sk-container-id-4 div.sk-serial {display: flex;flex-direction: column;align-items: center;background-color: white;padding-right: 0.2em;padding-left: 0.2em;position: relative;}#sk-container-id-4 div.sk-item {position: relative;z-index: 1;}#sk-container-id-4 div.sk-parallel {display: flex;align-items: stretch;justify-content: center;background-color: white;position: relative;}#sk-container-id-4 div.sk-item::before, #sk-container-id-4 div.sk-parallel-item::before {content: \"\";position: absolute;border-left: 1px solid gray;box-sizing: border-box;top: 0;bottom: 0;left: 50%;z-index: -1;}#sk-container-id-4 div.sk-parallel-item {display: flex;flex-direction: column;z-index: 1;position: relative;background-color: white;}#sk-container-id-4 div.sk-parallel-item:first-child::after {align-self: flex-end;width: 50%;}#sk-container-id-4 div.sk-parallel-item:last-child::after {align-self: flex-start;width: 50%;}#sk-container-id-4 div.sk-parallel-item:only-child::after {width: 0;}#sk-container-id-4 div.sk-dashed-wrapped {border: 1px dashed gray;margin: 0 0.4em 0.5em 0.4em;box-sizing: border-box;padding-bottom: 0.4em;background-color: white;}#sk-container-id-4 div.sk-label label {font-family: monospace;font-weight: bold;display: inline-block;line-height: 1.2em;}#sk-container-id-4 div.sk-label-container {text-align: center;}#sk-container-id-4 div.sk-container {/* jupyter's `normalize.less` sets `[hidden] { display: none; }` but bootstrap.min.css set `[hidden] { display: none !important; }` so we also need the `!important` here to be able to override the default hidden behavior on the sphinx rendered scikit-learn.org. See: https://github.com/scikit-learn/scikit-learn/issues/21755 */display: inline-block !important;position: relative;}#sk-container-id-4 div.sk-text-repr-fallback {display: none;}</style><div id=\"sk-container-id-4\" class=\"sk-top-container\"><div class=\"sk-text-repr-fallback\"><pre>GridSearchCV(cv=8,\n",
       "             estimator=XGBClassifier(base_score=None, booster=None,\n",
       "                                     callbacks=None, colsample_bylevel=None,\n",
       "                                     colsample_bynode=None,\n",
       "                                     colsample_bytree=None, device=None,\n",
       "                                     early_stopping_rounds=None,\n",
       "                                     enable_categorical=False, eval_metric=None,\n",
       "                                     feature_types=None, gamma=None,\n",
       "                                     grow_policy=None, importance_type=None,\n",
       "                                     interaction_constraints=None,\n",
       "                                     learning_rate=None,...\n",
       "                                     max_cat_threshold=None,\n",
       "                                     max_cat_to_onehot=None,\n",
       "                                     max_delta_step=None, max_depth=None,\n",
       "                                     max_leaves=None, min_child_weight=None,\n",
       "                                     missing=nan, monotone_constraints=None,\n",
       "                                     multi_strategy=None, n_estimators=None,\n",
       "                                     n_jobs=None, num_parallel_tree=None,\n",
       "                                     random_state=42, ...),\n",
       "             param_grid={&#x27;learning_rate&#x27;: [0.08, 0.1, 0.14, 0.18, 0.2, 0.24],\n",
       "                         &#x27;n_estimators&#x27;: [80, 100, 160, 200, 240]},\n",
       "             scoring=&#x27;accuracy&#x27;)</pre><b>In a Jupyter environment, please rerun this cell to show the HTML representation or trust the notebook. <br />On GitHub, the HTML representation is unable to render, please try loading this page with nbviewer.org.</b></div><div class=\"sk-container\" hidden><div class=\"sk-item sk-dashed-wrapped\"><div class=\"sk-label-container\"><div class=\"sk-label sk-toggleable\"><input class=\"sk-toggleable__control sk-hidden--visually\" id=\"sk-estimator-id-16\" type=\"checkbox\" ><label for=\"sk-estimator-id-16\" class=\"sk-toggleable__label sk-toggleable__label-arrow\">GridSearchCV</label><div class=\"sk-toggleable__content\"><pre>GridSearchCV(cv=8,\n",
       "             estimator=XGBClassifier(base_score=None, booster=None,\n",
       "                                     callbacks=None, colsample_bylevel=None,\n",
       "                                     colsample_bynode=None,\n",
       "                                     colsample_bytree=None, device=None,\n",
       "                                     early_stopping_rounds=None,\n",
       "                                     enable_categorical=False, eval_metric=None,\n",
       "                                     feature_types=None, gamma=None,\n",
       "                                     grow_policy=None, importance_type=None,\n",
       "                                     interaction_constraints=None,\n",
       "                                     learning_rate=None,...\n",
       "                                     max_cat_threshold=None,\n",
       "                                     max_cat_to_onehot=None,\n",
       "                                     max_delta_step=None, max_depth=None,\n",
       "                                     max_leaves=None, min_child_weight=None,\n",
       "                                     missing=nan, monotone_constraints=None,\n",
       "                                     multi_strategy=None, n_estimators=None,\n",
       "                                     n_jobs=None, num_parallel_tree=None,\n",
       "                                     random_state=42, ...),\n",
       "             param_grid={&#x27;learning_rate&#x27;: [0.08, 0.1, 0.14, 0.18, 0.2, 0.24],\n",
       "                         &#x27;n_estimators&#x27;: [80, 100, 160, 200, 240]},\n",
       "             scoring=&#x27;accuracy&#x27;)</pre></div></div></div><div class=\"sk-parallel\"><div class=\"sk-parallel-item\"><div class=\"sk-item\"><div class=\"sk-label-container\"><div class=\"sk-label sk-toggleable\"><input class=\"sk-toggleable__control sk-hidden--visually\" id=\"sk-estimator-id-17\" type=\"checkbox\" ><label for=\"sk-estimator-id-17\" class=\"sk-toggleable__label sk-toggleable__label-arrow\">estimator: XGBClassifier</label><div class=\"sk-toggleable__content\"><pre>XGBClassifier(base_score=None, booster=None, callbacks=None,\n",
       "              colsample_bylevel=None, colsample_bynode=None,\n",
       "              colsample_bytree=None, device=None, early_stopping_rounds=None,\n",
       "              enable_categorical=False, eval_metric=None, feature_types=None,\n",
       "              gamma=None, grow_policy=None, importance_type=None,\n",
       "              interaction_constraints=None, learning_rate=None, max_bin=None,\n",
       "              max_cat_threshold=None, max_cat_to_onehot=None,\n",
       "              max_delta_step=None, max_depth=None, max_leaves=None,\n",
       "              min_child_weight=None, missing=nan, monotone_constraints=None,\n",
       "              multi_strategy=None, n_estimators=None, n_jobs=None,\n",
       "              num_parallel_tree=None, random_state=42, ...)</pre></div></div></div><div class=\"sk-serial\"><div class=\"sk-item\"><div class=\"sk-estimator sk-toggleable\"><input class=\"sk-toggleable__control sk-hidden--visually\" id=\"sk-estimator-id-18\" type=\"checkbox\" ><label for=\"sk-estimator-id-18\" class=\"sk-toggleable__label sk-toggleable__label-arrow\">XGBClassifier</label><div class=\"sk-toggleable__content\"><pre>XGBClassifier(base_score=None, booster=None, callbacks=None,\n",
       "              colsample_bylevel=None, colsample_bynode=None,\n",
       "              colsample_bytree=None, device=None, early_stopping_rounds=None,\n",
       "              enable_categorical=False, eval_metric=None, feature_types=None,\n",
       "              gamma=None, grow_policy=None, importance_type=None,\n",
       "              interaction_constraints=None, learning_rate=None, max_bin=None,\n",
       "              max_cat_threshold=None, max_cat_to_onehot=None,\n",
       "              max_delta_step=None, max_depth=None, max_leaves=None,\n",
       "              min_child_weight=None, missing=nan, monotone_constraints=None,\n",
       "              multi_strategy=None, n_estimators=None, n_jobs=None,\n",
       "              num_parallel_tree=None, random_state=42, ...)</pre></div></div></div></div></div></div></div></div></div></div>"
      ],
      "text/plain": [
       "GridSearchCV(cv=8,\n",
       "             estimator=XGBClassifier(base_score=None, booster=None,\n",
       "                                     callbacks=None, colsample_bylevel=None,\n",
       "                                     colsample_bynode=None,\n",
       "                                     colsample_bytree=None, device=None,\n",
       "                                     early_stopping_rounds=None,\n",
       "                                     enable_categorical=False, eval_metric=None,\n",
       "                                     feature_types=None, gamma=None,\n",
       "                                     grow_policy=None, importance_type=None,\n",
       "                                     interaction_constraints=None,\n",
       "                                     learning_rate=None,...\n",
       "                                     max_cat_threshold=None,\n",
       "                                     max_cat_to_onehot=None,\n",
       "                                     max_delta_step=None, max_depth=None,\n",
       "                                     max_leaves=None, min_child_weight=None,\n",
       "                                     missing=nan, monotone_constraints=None,\n",
       "                                     multi_strategy=None, n_estimators=None,\n",
       "                                     n_jobs=None, num_parallel_tree=None,\n",
       "                                     random_state=42, ...),\n",
       "             param_grid={'learning_rate': [0.08, 0.1, 0.14, 0.18, 0.2, 0.24],\n",
       "                         'n_estimators': [80, 100, 160, 200, 240]},\n",
       "             scoring='accuracy')"
      ]
     },
     "execution_count": 34,
     "metadata": {},
     "output_type": "execute_result"
    }
   ],
   "source": [
    "xgb_grid.fit(\n",
    "    titanic_full_preprocessed,\n",
    "    survived, \n",
    "#     eval_set=[(titanic_val_preprocessed, survived_val)], \n",
    "#     verbose = False\n",
    ")"
   ]
  },
  {
   "cell_type": "code",
   "execution_count": 35,
   "id": "c7dc7d29",
   "metadata": {
    "execution": {
     "iopub.execute_input": "2024-03-30T13:15:41.938715Z",
     "iopub.status.busy": "2024-03-30T13:15:41.938345Z",
     "iopub.status.idle": "2024-03-30T13:15:41.943265Z",
     "shell.execute_reply": "2024-03-30T13:15:41.942144Z"
    },
    "papermill": {
     "duration": 0.040295,
     "end_time": "2024-03-30T13:15:41.945678",
     "exception": false,
     "start_time": "2024-03-30T13:15:41.905383",
     "status": "completed"
    },
    "tags": []
   },
   "outputs": [],
   "source": [
    "# # Train the model \n",
    "# xgb.fit(\n",
    "#     titanic_train_preprocessed,\n",
    "#     survived_train, \n",
    "#     eval_set=[(titanic_val_preprocessed, survived_val)], \n",
    "#     verbose = False\n",
    "# )"
   ]
  },
  {
   "cell_type": "code",
   "execution_count": 36,
   "id": "ad7d0250",
   "metadata": {
    "execution": {
     "iopub.execute_input": "2024-03-30T13:15:42.003869Z",
     "iopub.status.busy": "2024-03-30T13:15:42.003403Z",
     "iopub.status.idle": "2024-03-30T13:15:42.033351Z",
     "shell.execute_reply": "2024-03-30T13:15:42.032155Z"
    },
    "papermill": {
     "duration": 0.061722,
     "end_time": "2024-03-30T13:15:42.035796",
     "exception": false,
     "start_time": "2024-03-30T13:15:41.974074",
     "status": "completed"
    },
    "tags": []
   },
   "outputs": [
    {
     "data": {
      "text/html": [
       "<div>\n",
       "<style scoped>\n",
       "    .dataframe tbody tr th:only-of-type {\n",
       "        vertical-align: middle;\n",
       "    }\n",
       "\n",
       "    .dataframe tbody tr th {\n",
       "        vertical-align: top;\n",
       "    }\n",
       "\n",
       "    .dataframe thead th {\n",
       "        text-align: right;\n",
       "    }\n",
       "</style>\n",
       "<table border=\"1\" class=\"dataframe\">\n",
       "  <thead>\n",
       "    <tr style=\"text-align: right;\">\n",
       "      <th></th>\n",
       "      <th>params</th>\n",
       "      <th>mean_test_score</th>\n",
       "      <th>rank_test_score</th>\n",
       "    </tr>\n",
       "  </thead>\n",
       "  <tbody>\n",
       "    <tr>\n",
       "      <th>0</th>\n",
       "      <td>{'learning_rate': 0.08, 'n_estimators': 80}</td>\n",
       "      <td>0.812651</td>\n",
       "      <td>6</td>\n",
       "    </tr>\n",
       "    <tr>\n",
       "      <th>1</th>\n",
       "      <td>{'learning_rate': 0.08, 'n_estimators': 100}</td>\n",
       "      <td>0.810409</td>\n",
       "      <td>9</td>\n",
       "    </tr>\n",
       "    <tr>\n",
       "      <th>2</th>\n",
       "      <td>{'learning_rate': 0.08, 'n_estimators': 160}</td>\n",
       "      <td>0.813847</td>\n",
       "      <td>2</td>\n",
       "    </tr>\n",
       "    <tr>\n",
       "      <th>3</th>\n",
       "      <td>{'learning_rate': 0.08, 'n_estimators': 200}</td>\n",
       "      <td>0.803773</td>\n",
       "      <td>25</td>\n",
       "    </tr>\n",
       "    <tr>\n",
       "      <th>4</th>\n",
       "      <td>{'learning_rate': 0.08, 'n_estimators': 240}</td>\n",
       "      <td>0.806005</td>\n",
       "      <td>19</td>\n",
       "    </tr>\n",
       "    <tr>\n",
       "      <th>5</th>\n",
       "      <td>{'learning_rate': 0.1, 'n_estimators': 80}</td>\n",
       "      <td>0.814883</td>\n",
       "      <td>1</td>\n",
       "    </tr>\n",
       "    <tr>\n",
       "      <th>6</th>\n",
       "      <td>{'learning_rate': 0.1, 'n_estimators': 100}</td>\n",
       "      <td>0.813757</td>\n",
       "      <td>3</td>\n",
       "    </tr>\n",
       "    <tr>\n",
       "      <th>7</th>\n",
       "      <td>{'learning_rate': 0.1, 'n_estimators': 160}</td>\n",
       "      <td>0.803672</td>\n",
       "      <td>28</td>\n",
       "    </tr>\n",
       "    <tr>\n",
       "      <th>8</th>\n",
       "      <td>{'learning_rate': 0.1, 'n_estimators': 200}</td>\n",
       "      <td>0.807050</td>\n",
       "      <td>16</td>\n",
       "    </tr>\n",
       "    <tr>\n",
       "      <th>9</th>\n",
       "      <td>{'learning_rate': 0.1, 'n_estimators': 240}</td>\n",
       "      <td>0.805924</td>\n",
       "      <td>22</td>\n",
       "    </tr>\n",
       "    <tr>\n",
       "      <th>10</th>\n",
       "      <td>{'learning_rate': 0.14, 'n_estimators': 80}</td>\n",
       "      <td>0.804818</td>\n",
       "      <td>23</td>\n",
       "    </tr>\n",
       "    <tr>\n",
       "      <th>11</th>\n",
       "      <td>{'learning_rate': 0.14, 'n_estimators': 100}</td>\n",
       "      <td>0.807060</td>\n",
       "      <td>15</td>\n",
       "    </tr>\n",
       "    <tr>\n",
       "      <th>12</th>\n",
       "      <td>{'learning_rate': 0.14, 'n_estimators': 160}</td>\n",
       "      <td>0.807070</td>\n",
       "      <td>13</td>\n",
       "    </tr>\n",
       "    <tr>\n",
       "      <th>13</th>\n",
       "      <td>{'learning_rate': 0.14, 'n_estimators': 200}</td>\n",
       "      <td>0.802596</td>\n",
       "      <td>29</td>\n",
       "    </tr>\n",
       "    <tr>\n",
       "      <th>14</th>\n",
       "      <td>{'learning_rate': 0.14, 'n_estimators': 240}</td>\n",
       "      <td>0.805964</td>\n",
       "      <td>20</td>\n",
       "    </tr>\n",
       "    <tr>\n",
       "      <th>15</th>\n",
       "      <td>{'learning_rate': 0.18, 'n_estimators': 80}</td>\n",
       "      <td>0.803682</td>\n",
       "      <td>27</td>\n",
       "    </tr>\n",
       "    <tr>\n",
       "      <th>16</th>\n",
       "      <td>{'learning_rate': 0.18, 'n_estimators': 100}</td>\n",
       "      <td>0.803692</td>\n",
       "      <td>26</td>\n",
       "    </tr>\n",
       "    <tr>\n",
       "      <th>17</th>\n",
       "      <td>{'learning_rate': 0.18, 'n_estimators': 160}</td>\n",
       "      <td>0.811545</td>\n",
       "      <td>7</td>\n",
       "    </tr>\n",
       "    <tr>\n",
       "      <th>18</th>\n",
       "      <td>{'learning_rate': 0.18, 'n_estimators': 200}</td>\n",
       "      <td>0.807040</td>\n",
       "      <td>18</td>\n",
       "    </tr>\n",
       "    <tr>\n",
       "      <th>19</th>\n",
       "      <td>{'learning_rate': 0.18, 'n_estimators': 240}</td>\n",
       "      <td>0.809303</td>\n",
       "      <td>10</td>\n",
       "    </tr>\n",
       "    <tr>\n",
       "      <th>20</th>\n",
       "      <td>{'learning_rate': 0.2, 'n_estimators': 80}</td>\n",
       "      <td>0.810459</td>\n",
       "      <td>8</td>\n",
       "    </tr>\n",
       "    <tr>\n",
       "      <th>21</th>\n",
       "      <td>{'learning_rate': 0.2, 'n_estimators': 100}</td>\n",
       "      <td>0.812701</td>\n",
       "      <td>4</td>\n",
       "    </tr>\n",
       "    <tr>\n",
       "      <th>22</th>\n",
       "      <td>{'learning_rate': 0.2, 'n_estimators': 160}</td>\n",
       "      <td>0.804808</td>\n",
       "      <td>24</td>\n",
       "    </tr>\n",
       "    <tr>\n",
       "      <th>23</th>\n",
       "      <td>{'learning_rate': 0.2, 'n_estimators': 200}</td>\n",
       "      <td>0.807050</td>\n",
       "      <td>16</td>\n",
       "    </tr>\n",
       "    <tr>\n",
       "      <th>24</th>\n",
       "      <td>{'learning_rate': 0.2, 'n_estimators': 240}</td>\n",
       "      <td>0.805934</td>\n",
       "      <td>21</td>\n",
       "    </tr>\n",
       "    <tr>\n",
       "      <th>25</th>\n",
       "      <td>{'learning_rate': 0.24, 'n_estimators': 80}</td>\n",
       "      <td>0.808217</td>\n",
       "      <td>11</td>\n",
       "    </tr>\n",
       "    <tr>\n",
       "      <th>26</th>\n",
       "      <td>{'learning_rate': 0.24, 'n_estimators': 100}</td>\n",
       "      <td>0.812671</td>\n",
       "      <td>5</td>\n",
       "    </tr>\n",
       "    <tr>\n",
       "      <th>27</th>\n",
       "      <td>{'learning_rate': 0.24, 'n_estimators': 160}</td>\n",
       "      <td>0.808176</td>\n",
       "      <td>12</td>\n",
       "    </tr>\n",
       "    <tr>\n",
       "      <th>28</th>\n",
       "      <td>{'learning_rate': 0.24, 'n_estimators': 200}</td>\n",
       "      <td>0.807070</td>\n",
       "      <td>13</td>\n",
       "    </tr>\n",
       "    <tr>\n",
       "      <th>29</th>\n",
       "      <td>{'learning_rate': 0.24, 'n_estimators': 240}</td>\n",
       "      <td>0.802566</td>\n",
       "      <td>30</td>\n",
       "    </tr>\n",
       "  </tbody>\n",
       "</table>\n",
       "</div>"
      ],
      "text/plain": [
       "                                          params  mean_test_score  \\\n",
       "0    {'learning_rate': 0.08, 'n_estimators': 80}         0.812651   \n",
       "1   {'learning_rate': 0.08, 'n_estimators': 100}         0.810409   \n",
       "2   {'learning_rate': 0.08, 'n_estimators': 160}         0.813847   \n",
       "3   {'learning_rate': 0.08, 'n_estimators': 200}         0.803773   \n",
       "4   {'learning_rate': 0.08, 'n_estimators': 240}         0.806005   \n",
       "5     {'learning_rate': 0.1, 'n_estimators': 80}         0.814883   \n",
       "6    {'learning_rate': 0.1, 'n_estimators': 100}         0.813757   \n",
       "7    {'learning_rate': 0.1, 'n_estimators': 160}         0.803672   \n",
       "8    {'learning_rate': 0.1, 'n_estimators': 200}         0.807050   \n",
       "9    {'learning_rate': 0.1, 'n_estimators': 240}         0.805924   \n",
       "10   {'learning_rate': 0.14, 'n_estimators': 80}         0.804818   \n",
       "11  {'learning_rate': 0.14, 'n_estimators': 100}         0.807060   \n",
       "12  {'learning_rate': 0.14, 'n_estimators': 160}         0.807070   \n",
       "13  {'learning_rate': 0.14, 'n_estimators': 200}         0.802596   \n",
       "14  {'learning_rate': 0.14, 'n_estimators': 240}         0.805964   \n",
       "15   {'learning_rate': 0.18, 'n_estimators': 80}         0.803682   \n",
       "16  {'learning_rate': 0.18, 'n_estimators': 100}         0.803692   \n",
       "17  {'learning_rate': 0.18, 'n_estimators': 160}         0.811545   \n",
       "18  {'learning_rate': 0.18, 'n_estimators': 200}         0.807040   \n",
       "19  {'learning_rate': 0.18, 'n_estimators': 240}         0.809303   \n",
       "20    {'learning_rate': 0.2, 'n_estimators': 80}         0.810459   \n",
       "21   {'learning_rate': 0.2, 'n_estimators': 100}         0.812701   \n",
       "22   {'learning_rate': 0.2, 'n_estimators': 160}         0.804808   \n",
       "23   {'learning_rate': 0.2, 'n_estimators': 200}         0.807050   \n",
       "24   {'learning_rate': 0.2, 'n_estimators': 240}         0.805934   \n",
       "25   {'learning_rate': 0.24, 'n_estimators': 80}         0.808217   \n",
       "26  {'learning_rate': 0.24, 'n_estimators': 100}         0.812671   \n",
       "27  {'learning_rate': 0.24, 'n_estimators': 160}         0.808176   \n",
       "28  {'learning_rate': 0.24, 'n_estimators': 200}         0.807070   \n",
       "29  {'learning_rate': 0.24, 'n_estimators': 240}         0.802566   \n",
       "\n",
       "    rank_test_score  \n",
       "0                 6  \n",
       "1                 9  \n",
       "2                 2  \n",
       "3                25  \n",
       "4                19  \n",
       "5                 1  \n",
       "6                 3  \n",
       "7                28  \n",
       "8                16  \n",
       "9                22  \n",
       "10               23  \n",
       "11               15  \n",
       "12               13  \n",
       "13               29  \n",
       "14               20  \n",
       "15               27  \n",
       "16               26  \n",
       "17                7  \n",
       "18               18  \n",
       "19               10  \n",
       "20                8  \n",
       "21                4  \n",
       "22               24  \n",
       "23               16  \n",
       "24               21  \n",
       "25               11  \n",
       "26                5  \n",
       "27               12  \n",
       "28               13  \n",
       "29               30  "
      ]
     },
     "execution_count": 36,
     "metadata": {},
     "output_type": "execute_result"
    }
   ],
   "source": [
    "pd.DataFrame(xgb_grid.cv_results_)[[\"params\", \"mean_test_score\", \"rank_test_score\"]]"
   ]
  },
  {
   "cell_type": "code",
   "execution_count": 37,
   "id": "29c4438f",
   "metadata": {
    "execution": {
     "iopub.execute_input": "2024-03-30T13:15:42.095158Z",
     "iopub.status.busy": "2024-03-30T13:15:42.094652Z",
     "iopub.status.idle": "2024-03-30T13:15:42.108363Z",
     "shell.execute_reply": "2024-03-30T13:15:42.107367Z"
    },
    "papermill": {
     "duration": 0.047161,
     "end_time": "2024-03-30T13:15:42.111187",
     "exception": false,
     "start_time": "2024-03-30T13:15:42.064026",
     "status": "completed"
    },
    "tags": []
   },
   "outputs": [
    {
     "data": {
      "text/plain": [
       "0.9823434991974318"
      ]
     },
     "execution_count": 37,
     "metadata": {},
     "output_type": "execute_result"
    }
   ],
   "source": [
    "best_model = xgb_grid.best_estimator_\n",
    "best_model.score(titanic_train_preprocessed, survived_train)"
   ]
  },
  {
   "cell_type": "code",
   "execution_count": 38,
   "id": "cbeb6cf3",
   "metadata": {
    "execution": {
     "iopub.execute_input": "2024-03-30T13:15:42.173477Z",
     "iopub.status.busy": "2024-03-30T13:15:42.173077Z",
     "iopub.status.idle": "2024-03-30T13:15:42.191947Z",
     "shell.execute_reply": "2024-03-30T13:15:42.186495Z"
    },
    "papermill": {
     "duration": 0.053677,
     "end_time": "2024-03-30T13:15:42.195478",
     "exception": false,
     "start_time": "2024-03-30T13:15:42.141801",
     "status": "completed"
    },
    "tags": []
   },
   "outputs": [
    {
     "data": {
      "text/plain": [
       "0.9831649831649831"
      ]
     },
     "execution_count": 38,
     "metadata": {},
     "output_type": "execute_result"
    }
   ],
   "source": [
    "best_model.score(titanic_full_preprocessed, survived)"
   ]
  },
  {
   "cell_type": "markdown",
   "id": "ef8570a7",
   "metadata": {
    "papermill": {
     "duration": 0.028244,
     "end_time": "2024-03-30T13:15:42.252939",
     "exception": false,
     "start_time": "2024-03-30T13:15:42.224695",
     "status": "completed"
    },
    "tags": []
   },
   "source": [
    "0.94276"
   ]
  },
  {
   "cell_type": "markdown",
   "id": "82e970a3",
   "metadata": {
    "papermill": {
     "duration": 0.030462,
     "end_time": "2024-03-30T13:15:42.311896",
     "exception": false,
     "start_time": "2024-03-30T13:15:42.281434",
     "status": "completed"
    },
    "tags": []
   },
   "source": [
    "##### Base scores"
   ]
  },
  {
   "cell_type": "code",
   "execution_count": 39,
   "id": "7a242cfe",
   "metadata": {
    "execution": {
     "iopub.execute_input": "2024-03-30T13:15:42.371152Z",
     "iopub.status.busy": "2024-03-30T13:15:42.370737Z",
     "iopub.status.idle": "2024-03-30T13:15:42.380328Z",
     "shell.execute_reply": "2024-03-30T13:15:42.379170Z"
    },
    "papermill": {
     "duration": 0.041691,
     "end_time": "2024-03-30T13:15:42.382829",
     "exception": false,
     "start_time": "2024-03-30T13:15:42.341138",
     "status": "completed"
    },
    "tags": []
   },
   "outputs": [
    {
     "data": {
      "text/plain": [
       "0.7849117174959872"
      ]
     },
     "execution_count": 39,
     "metadata": {},
     "output_type": "execute_result"
    }
   ],
   "source": [
    "# Score for a model that predicts survival based on gender, female = survived\n",
    "titanic_is_female = titanic_train.Sex.apply(lambda x: x == \"female\")\n",
    "accuracy_score(survived_train, titanic_is_female)"
   ]
  },
  {
   "cell_type": "code",
   "execution_count": 40,
   "id": "2f1fb593",
   "metadata": {
    "execution": {
     "iopub.execute_input": "2024-03-30T13:15:42.451121Z",
     "iopub.status.busy": "2024-03-30T13:15:42.450289Z",
     "iopub.status.idle": "2024-03-30T13:15:42.463488Z",
     "shell.execute_reply": "2024-03-30T13:15:42.462067Z"
    },
    "papermill": {
     "duration": 0.054372,
     "end_time": "2024-03-30T13:15:42.466119",
     "exception": false,
     "start_time": "2024-03-30T13:15:42.411747",
     "status": "completed"
    },
    "tags": []
   },
   "outputs": [
    {
     "data": {
      "text/plain": [
       "0.6292134831460674"
      ]
     },
     "execution_count": 40,
     "metadata": {},
     "output_type": "execute_result"
    }
   ],
   "source": [
    "# Score for a model that predicts survival based on class, first class = survived\n",
    "titanic_is_female = titanic_train.Pclass.apply(lambda x: x == \"1\")\n",
    "accuracy_score(survived_train, titanic_is_female)"
   ]
  },
  {
   "cell_type": "code",
   "execution_count": null,
   "id": "32976f08",
   "metadata": {
    "papermill": {
     "duration": 0.02907,
     "end_time": "2024-03-30T13:15:42.532018",
     "exception": false,
     "start_time": "2024-03-30T13:15:42.502948",
     "status": "completed"
    },
    "tags": []
   },
   "outputs": [],
   "source": []
  },
  {
   "cell_type": "markdown",
   "id": "7a499e63",
   "metadata": {
    "papermill": {
     "duration": 0.028498,
     "end_time": "2024-03-30T13:15:42.589362",
     "exception": false,
     "start_time": "2024-03-30T13:15:42.560864",
     "status": "completed"
    },
    "tags": []
   },
   "source": [
    "## Submission"
   ]
  },
  {
   "cell_type": "code",
   "execution_count": 41,
   "id": "be57e0bc",
   "metadata": {
    "execution": {
     "iopub.execute_input": "2024-03-30T13:15:42.650128Z",
     "iopub.status.busy": "2024-03-30T13:15:42.649421Z",
     "iopub.status.idle": "2024-03-30T13:15:42.676908Z",
     "shell.execute_reply": "2024-03-30T13:15:42.669551Z"
    },
    "papermill": {
     "duration": 0.060583,
     "end_time": "2024-03-30T13:15:42.679723",
     "exception": false,
     "start_time": "2024-03-30T13:15:42.619140",
     "status": "completed"
    },
    "tags": []
   },
   "outputs": [],
   "source": [
    "predictions = best_model.predict(titanic_test_preprocessed)"
   ]
  },
  {
   "cell_type": "code",
   "execution_count": 42,
   "id": "2439705b",
   "metadata": {
    "execution": {
     "iopub.execute_input": "2024-03-30T13:15:42.740595Z",
     "iopub.status.busy": "2024-03-30T13:15:42.739489Z",
     "iopub.status.idle": "2024-03-30T13:15:42.749035Z",
     "shell.execute_reply": "2024-03-30T13:15:42.747961Z"
    },
    "papermill": {
     "duration": 0.042228,
     "end_time": "2024-03-30T13:15:42.751320",
     "exception": false,
     "start_time": "2024-03-30T13:15:42.709092",
     "status": "completed"
    },
    "tags": []
   },
   "outputs": [
    {
     "data": {
      "text/plain": [
       "PassengerId\n",
       "892     0\n",
       "893     0\n",
       "894     0\n",
       "895     0\n",
       "896     0\n",
       "       ..\n",
       "1305    0\n",
       "1306    1\n",
       "1307    0\n",
       "1308    0\n",
       "1309    1\n",
       "Name: Survived, Length: 418, dtype: int64"
      ]
     },
     "execution_count": 42,
     "metadata": {},
     "output_type": "execute_result"
    }
   ],
   "source": [
    "submission = pd.Series(predictions, index = titanic_test.index, name = \"Survived\")\n",
    "submission"
   ]
  },
  {
   "cell_type": "code",
   "execution_count": 43,
   "id": "cd43b13a",
   "metadata": {
    "execution": {
     "iopub.execute_input": "2024-03-30T13:15:42.811357Z",
     "iopub.status.busy": "2024-03-30T13:15:42.810975Z",
     "iopub.status.idle": "2024-03-30T13:15:42.820082Z",
     "shell.execute_reply": "2024-03-30T13:15:42.819005Z"
    },
    "papermill": {
     "duration": 0.042459,
     "end_time": "2024-03-30T13:15:42.822722",
     "exception": false,
     "start_time": "2024-03-30T13:15:42.780263",
     "status": "completed"
    },
    "tags": []
   },
   "outputs": [],
   "source": [
    "submission.to_csv(\"submission.csv\")"
   ]
  },
  {
   "cell_type": "code",
   "execution_count": 44,
   "id": "3bd95d23",
   "metadata": {
    "execution": {
     "iopub.execute_input": "2024-03-30T13:15:42.882971Z",
     "iopub.status.busy": "2024-03-30T13:15:42.882533Z",
     "iopub.status.idle": "2024-03-30T13:15:42.900411Z",
     "shell.execute_reply": "2024-03-30T13:15:42.899255Z"
    },
    "papermill": {
     "duration": 0.050912,
     "end_time": "2024-03-30T13:15:42.902968",
     "exception": false,
     "start_time": "2024-03-30T13:15:42.852056",
     "status": "completed"
    },
    "tags": []
   },
   "outputs": [
    {
     "data": {
      "text/html": [
       "<div>\n",
       "<style scoped>\n",
       "    .dataframe tbody tr th:only-of-type {\n",
       "        vertical-align: middle;\n",
       "    }\n",
       "\n",
       "    .dataframe tbody tr th {\n",
       "        vertical-align: top;\n",
       "    }\n",
       "\n",
       "    .dataframe thead th {\n",
       "        text-align: right;\n",
       "    }\n",
       "</style>\n",
       "<table border=\"1\" class=\"dataframe\">\n",
       "  <thead>\n",
       "    <tr style=\"text-align: right;\">\n",
       "      <th></th>\n",
       "      <th>PassengerId</th>\n",
       "      <th>Survived</th>\n",
       "    </tr>\n",
       "  </thead>\n",
       "  <tbody>\n",
       "    <tr>\n",
       "      <th>0</th>\n",
       "      <td>892</td>\n",
       "      <td>0</td>\n",
       "    </tr>\n",
       "    <tr>\n",
       "      <th>1</th>\n",
       "      <td>893</td>\n",
       "      <td>1</td>\n",
       "    </tr>\n",
       "    <tr>\n",
       "      <th>2</th>\n",
       "      <td>894</td>\n",
       "      <td>0</td>\n",
       "    </tr>\n",
       "    <tr>\n",
       "      <th>3</th>\n",
       "      <td>895</td>\n",
       "      <td>0</td>\n",
       "    </tr>\n",
       "    <tr>\n",
       "      <th>4</th>\n",
       "      <td>896</td>\n",
       "      <td>1</td>\n",
       "    </tr>\n",
       "    <tr>\n",
       "      <th>...</th>\n",
       "      <td>...</td>\n",
       "      <td>...</td>\n",
       "    </tr>\n",
       "    <tr>\n",
       "      <th>413</th>\n",
       "      <td>1305</td>\n",
       "      <td>0</td>\n",
       "    </tr>\n",
       "    <tr>\n",
       "      <th>414</th>\n",
       "      <td>1306</td>\n",
       "      <td>1</td>\n",
       "    </tr>\n",
       "    <tr>\n",
       "      <th>415</th>\n",
       "      <td>1307</td>\n",
       "      <td>0</td>\n",
       "    </tr>\n",
       "    <tr>\n",
       "      <th>416</th>\n",
       "      <td>1308</td>\n",
       "      <td>0</td>\n",
       "    </tr>\n",
       "    <tr>\n",
       "      <th>417</th>\n",
       "      <td>1309</td>\n",
       "      <td>0</td>\n",
       "    </tr>\n",
       "  </tbody>\n",
       "</table>\n",
       "<p>418 rows × 2 columns</p>\n",
       "</div>"
      ],
      "text/plain": [
       "     PassengerId  Survived\n",
       "0            892         0\n",
       "1            893         1\n",
       "2            894         0\n",
       "3            895         0\n",
       "4            896         1\n",
       "..           ...       ...\n",
       "413         1305         0\n",
       "414         1306         1\n",
       "415         1307         0\n",
       "416         1308         0\n",
       "417         1309         0\n",
       "\n",
       "[418 rows x 2 columns]"
      ]
     },
     "execution_count": 44,
     "metadata": {},
     "output_type": "execute_result"
    }
   ],
   "source": [
    "pd.read_csv(\"/kaggle/input/titanic/gender_submission.csv\")"
   ]
  },
  {
   "cell_type": "code",
   "execution_count": 45,
   "id": "1236284e",
   "metadata": {
    "execution": {
     "iopub.execute_input": "2024-03-30T13:15:42.966095Z",
     "iopub.status.busy": "2024-03-30T13:15:42.965670Z",
     "iopub.status.idle": "2024-03-30T13:15:42.978563Z",
     "shell.execute_reply": "2024-03-30T13:15:42.977691Z"
    },
    "papermill": {
     "duration": 0.046505,
     "end_time": "2024-03-30T13:15:42.981220",
     "exception": false,
     "start_time": "2024-03-30T13:15:42.934715",
     "status": "completed"
    },
    "tags": []
   },
   "outputs": [
    {
     "data": {
      "text/html": [
       "<div>\n",
       "<style scoped>\n",
       "    .dataframe tbody tr th:only-of-type {\n",
       "        vertical-align: middle;\n",
       "    }\n",
       "\n",
       "    .dataframe tbody tr th {\n",
       "        vertical-align: top;\n",
       "    }\n",
       "\n",
       "    .dataframe thead th {\n",
       "        text-align: right;\n",
       "    }\n",
       "</style>\n",
       "<table border=\"1\" class=\"dataframe\">\n",
       "  <thead>\n",
       "    <tr style=\"text-align: right;\">\n",
       "      <th></th>\n",
       "      <th>PassengerId</th>\n",
       "      <th>Survived</th>\n",
       "    </tr>\n",
       "  </thead>\n",
       "  <tbody>\n",
       "    <tr>\n",
       "      <th>0</th>\n",
       "      <td>892</td>\n",
       "      <td>0</td>\n",
       "    </tr>\n",
       "    <tr>\n",
       "      <th>1</th>\n",
       "      <td>893</td>\n",
       "      <td>0</td>\n",
       "    </tr>\n",
       "    <tr>\n",
       "      <th>2</th>\n",
       "      <td>894</td>\n",
       "      <td>0</td>\n",
       "    </tr>\n",
       "    <tr>\n",
       "      <th>3</th>\n",
       "      <td>895</td>\n",
       "      <td>0</td>\n",
       "    </tr>\n",
       "    <tr>\n",
       "      <th>4</th>\n",
       "      <td>896</td>\n",
       "      <td>0</td>\n",
       "    </tr>\n",
       "    <tr>\n",
       "      <th>...</th>\n",
       "      <td>...</td>\n",
       "      <td>...</td>\n",
       "    </tr>\n",
       "    <tr>\n",
       "      <th>413</th>\n",
       "      <td>1305</td>\n",
       "      <td>0</td>\n",
       "    </tr>\n",
       "    <tr>\n",
       "      <th>414</th>\n",
       "      <td>1306</td>\n",
       "      <td>1</td>\n",
       "    </tr>\n",
       "    <tr>\n",
       "      <th>415</th>\n",
       "      <td>1307</td>\n",
       "      <td>0</td>\n",
       "    </tr>\n",
       "    <tr>\n",
       "      <th>416</th>\n",
       "      <td>1308</td>\n",
       "      <td>0</td>\n",
       "    </tr>\n",
       "    <tr>\n",
       "      <th>417</th>\n",
       "      <td>1309</td>\n",
       "      <td>1</td>\n",
       "    </tr>\n",
       "  </tbody>\n",
       "</table>\n",
       "<p>418 rows × 2 columns</p>\n",
       "</div>"
      ],
      "text/plain": [
       "     PassengerId  Survived\n",
       "0            892         0\n",
       "1            893         0\n",
       "2            894         0\n",
       "3            895         0\n",
       "4            896         0\n",
       "..           ...       ...\n",
       "413         1305         0\n",
       "414         1306         1\n",
       "415         1307         0\n",
       "416         1308         0\n",
       "417         1309         1\n",
       "\n",
       "[418 rows x 2 columns]"
      ]
     },
     "execution_count": 45,
     "metadata": {},
     "output_type": "execute_result"
    }
   ],
   "source": [
    "pd.read_csv(\"submission.csv\")"
   ]
  },
  {
   "cell_type": "code",
   "execution_count": null,
   "id": "f50f24c2",
   "metadata": {
    "papermill": {
     "duration": 0.029753,
     "end_time": "2024-03-30T13:15:43.040788",
     "exception": false,
     "start_time": "2024-03-30T13:15:43.011035",
     "status": "completed"
    },
    "tags": []
   },
   "outputs": [],
   "source": []
  },
  {
   "cell_type": "code",
   "execution_count": null,
   "id": "13c89a70",
   "metadata": {
    "papermill": {
     "duration": 0.029435,
     "end_time": "2024-03-30T13:15:43.099770",
     "exception": false,
     "start_time": "2024-03-30T13:15:43.070335",
     "status": "completed"
    },
    "tags": []
   },
   "outputs": [],
   "source": []
  },
  {
   "cell_type": "code",
   "execution_count": null,
   "id": "be90ea4a",
   "metadata": {
    "papermill": {
     "duration": 0.031535,
     "end_time": "2024-03-30T13:15:43.161478",
     "exception": false,
     "start_time": "2024-03-30T13:15:43.129943",
     "status": "completed"
    },
    "tags": []
   },
   "outputs": [],
   "source": []
  },
  {
   "cell_type": "code",
   "execution_count": null,
   "id": "0830a60e",
   "metadata": {
    "papermill": {
     "duration": 0.030438,
     "end_time": "2024-03-30T13:15:43.221568",
     "exception": false,
     "start_time": "2024-03-30T13:15:43.191130",
     "status": "completed"
    },
    "tags": []
   },
   "outputs": [],
   "source": []
  },
  {
   "cell_type": "code",
   "execution_count": null,
   "id": "47119d49",
   "metadata": {
    "papermill": {
     "duration": 0.029731,
     "end_time": "2024-03-30T13:15:43.282211",
     "exception": false,
     "start_time": "2024-03-30T13:15:43.252480",
     "status": "completed"
    },
    "tags": []
   },
   "outputs": [],
   "source": []
  }
 ],
 "metadata": {
  "kaggle": {
   "accelerator": "none",
   "dataSources": [
    {
     "databundleVersionId": 26502,
     "sourceId": 3136,
     "sourceType": "competition"
    }
   ],
   "dockerImageVersionId": 30673,
   "isGpuEnabled": false,
   "isInternetEnabled": true,
   "language": "python",
   "sourceType": "notebook"
  },
  "kernelspec": {
   "display_name": "Python 3",
   "language": "python",
   "name": "python3"
  },
  "language_info": {
   "codemirror_mode": {
    "name": "ipython",
    "version": 3
   },
   "file_extension": ".py",
   "mimetype": "text/x-python",
   "name": "python",
   "nbconvert_exporter": "python",
   "pygments_lexer": "ipython3",
   "version": "3.10.13"
  },
  "papermill": {
   "default_parameters": {},
   "duration": 160.719894,
   "end_time": "2024-03-30T13:15:44.034100",
   "environment_variables": {},
   "exception": null,
   "input_path": "__notebook__.ipynb",
   "output_path": "__notebook__.ipynb",
   "parameters": {},
   "start_time": "2024-03-30T13:13:03.314206",
   "version": "2.5.0"
  }
 },
 "nbformat": 4,
 "nbformat_minor": 5
}
