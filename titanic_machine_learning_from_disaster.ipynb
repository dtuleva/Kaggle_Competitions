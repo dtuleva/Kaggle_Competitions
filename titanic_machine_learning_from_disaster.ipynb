{
 "cells": [
  {
   "cell_type": "code",
   "execution_count": 1,
   "id": "4ca64bbf",
   "metadata": {
    "_cell_guid": "b1076dfc-b9ad-4769-8c92-a6c4dae69d19",
    "_uuid": "8f2839f25d086af736a60e9eeb907d3b93b6e0e5",
    "execution": {
     "iopub.execute_input": "2024-03-31T13:14:19.203843Z",
     "iopub.status.busy": "2024-03-31T13:14:19.203370Z",
     "iopub.status.idle": "2024-03-31T13:14:21.921335Z",
     "shell.execute_reply": "2024-03-31T13:14:21.920108Z"
    },
    "papermill": {
     "duration": 2.744297,
     "end_time": "2024-03-31T13:14:21.924963",
     "exception": false,
     "start_time": "2024-03-31T13:14:19.180666",
     "status": "completed"
    },
    "tags": []
   },
   "outputs": [],
   "source": [
    "import numpy as np \n",
    "import pandas as pd\n",
    "import matplotlib.pyplot as plt\n",
    "import seaborn as sns\n",
    "\n",
    "from sklearn.compose import make_column_selector, ColumnTransformer\n",
    "from sklearn.decomposition import TruncatedSVD\n",
    "from sklearn.impute import SimpleImputer, KNNImputer\n",
    "from sklearn.metrics import accuracy_score\n",
    "from sklearn.model_selection import train_test_split, GridSearchCV\n",
    "from sklearn.pipeline import Pipeline\n",
    "from sklearn.preprocessing import MinMaxScaler, OneHotEncoder\n",
    "from sklearn.feature_extraction.text import CountVectorizer\n",
    "\n",
    "from xgboost import XGBClassifier"
   ]
  },
  {
   "cell_type": "code",
   "execution_count": 2,
   "id": "78b741cc",
   "metadata": {
    "execution": {
     "iopub.execute_input": "2024-03-31T13:14:21.968950Z",
     "iopub.status.busy": "2024-03-31T13:14:21.967950Z",
     "iopub.status.idle": "2024-03-31T13:14:21.974005Z",
     "shell.execute_reply": "2024-03-31T13:14:21.973134Z"
    },
    "papermill": {
     "duration": 0.030656,
     "end_time": "2024-03-31T13:14:21.976329",
     "exception": false,
     "start_time": "2024-03-31T13:14:21.945673",
     "status": "completed"
    },
    "tags": []
   },
   "outputs": [],
   "source": [
    "sns.set_theme(style=\"whitegrid\")"
   ]
  },
  {
   "cell_type": "markdown",
   "id": "c5d05236",
   "metadata": {
    "papermill": {
     "duration": 0.019979,
     "end_time": "2024-03-31T13:14:22.020147",
     "exception": false,
     "start_time": "2024-03-31T13:14:22.000168",
     "status": "completed"
    },
    "tags": []
   },
   "source": [
    "# Titanic - Machine Learning from Disaster\n",
    "### Kaggle Competitions"
   ]
  },
  {
   "cell_type": "markdown",
   "id": "e87a1363",
   "metadata": {
    "papermill": {
     "duration": 0.020666,
     "end_time": "2024-03-31T13:14:22.061068",
     "exception": false,
     "start_time": "2024-03-31T13:14:22.040402",
     "status": "completed"
    },
    "tags": []
   },
   "source": [
    "## Dataset and EDA"
   ]
  },
  {
   "cell_type": "code",
   "execution_count": 3,
   "id": "ba52e8b2",
   "metadata": {
    "execution": {
     "iopub.execute_input": "2024-03-31T13:14:22.103859Z",
     "iopub.status.busy": "2024-03-31T13:14:22.103008Z",
     "iopub.status.idle": "2024-03-31T13:14:22.155331Z",
     "shell.execute_reply": "2024-03-31T13:14:22.154204Z"
    },
    "papermill": {
     "duration": 0.076545,
     "end_time": "2024-03-31T13:14:22.157825",
     "exception": false,
     "start_time": "2024-03-31T13:14:22.081280",
     "status": "completed"
    },
    "tags": []
   },
   "outputs": [
    {
     "data": {
      "text/html": [
       "<div>\n",
       "<style scoped>\n",
       "    .dataframe tbody tr th:only-of-type {\n",
       "        vertical-align: middle;\n",
       "    }\n",
       "\n",
       "    .dataframe tbody tr th {\n",
       "        vertical-align: top;\n",
       "    }\n",
       "\n",
       "    .dataframe thead th {\n",
       "        text-align: right;\n",
       "    }\n",
       "</style>\n",
       "<table border=\"1\" class=\"dataframe\">\n",
       "  <thead>\n",
       "    <tr style=\"text-align: right;\">\n",
       "      <th></th>\n",
       "      <th>Survived</th>\n",
       "      <th>Pclass</th>\n",
       "      <th>Name</th>\n",
       "      <th>Sex</th>\n",
       "      <th>Age</th>\n",
       "      <th>SibSp</th>\n",
       "      <th>Parch</th>\n",
       "      <th>Ticket</th>\n",
       "      <th>Fare</th>\n",
       "      <th>Cabin</th>\n",
       "      <th>Embarked</th>\n",
       "    </tr>\n",
       "    <tr>\n",
       "      <th>PassengerId</th>\n",
       "      <th></th>\n",
       "      <th></th>\n",
       "      <th></th>\n",
       "      <th></th>\n",
       "      <th></th>\n",
       "      <th></th>\n",
       "      <th></th>\n",
       "      <th></th>\n",
       "      <th></th>\n",
       "      <th></th>\n",
       "      <th></th>\n",
       "    </tr>\n",
       "  </thead>\n",
       "  <tbody>\n",
       "    <tr>\n",
       "      <th>1</th>\n",
       "      <td>0</td>\n",
       "      <td>3</td>\n",
       "      <td>Braund, Mr. Owen Harris</td>\n",
       "      <td>male</td>\n",
       "      <td>22.0</td>\n",
       "      <td>1</td>\n",
       "      <td>0</td>\n",
       "      <td>A/5 21171</td>\n",
       "      <td>7.2500</td>\n",
       "      <td>NaN</td>\n",
       "      <td>S</td>\n",
       "    </tr>\n",
       "    <tr>\n",
       "      <th>2</th>\n",
       "      <td>1</td>\n",
       "      <td>1</td>\n",
       "      <td>Cumings, Mrs. John Bradley (Florence Briggs Th...</td>\n",
       "      <td>female</td>\n",
       "      <td>38.0</td>\n",
       "      <td>1</td>\n",
       "      <td>0</td>\n",
       "      <td>PC 17599</td>\n",
       "      <td>71.2833</td>\n",
       "      <td>C85</td>\n",
       "      <td>C</td>\n",
       "    </tr>\n",
       "    <tr>\n",
       "      <th>3</th>\n",
       "      <td>1</td>\n",
       "      <td>3</td>\n",
       "      <td>Heikkinen, Miss. Laina</td>\n",
       "      <td>female</td>\n",
       "      <td>26.0</td>\n",
       "      <td>0</td>\n",
       "      <td>0</td>\n",
       "      <td>STON/O2. 3101282</td>\n",
       "      <td>7.9250</td>\n",
       "      <td>NaN</td>\n",
       "      <td>S</td>\n",
       "    </tr>\n",
       "    <tr>\n",
       "      <th>4</th>\n",
       "      <td>1</td>\n",
       "      <td>1</td>\n",
       "      <td>Futrelle, Mrs. Jacques Heath (Lily May Peel)</td>\n",
       "      <td>female</td>\n",
       "      <td>35.0</td>\n",
       "      <td>1</td>\n",
       "      <td>0</td>\n",
       "      <td>113803</td>\n",
       "      <td>53.1000</td>\n",
       "      <td>C123</td>\n",
       "      <td>S</td>\n",
       "    </tr>\n",
       "    <tr>\n",
       "      <th>5</th>\n",
       "      <td>0</td>\n",
       "      <td>3</td>\n",
       "      <td>Allen, Mr. William Henry</td>\n",
       "      <td>male</td>\n",
       "      <td>35.0</td>\n",
       "      <td>0</td>\n",
       "      <td>0</td>\n",
       "      <td>373450</td>\n",
       "      <td>8.0500</td>\n",
       "      <td>NaN</td>\n",
       "      <td>S</td>\n",
       "    </tr>\n",
       "    <tr>\n",
       "      <th>...</th>\n",
       "      <td>...</td>\n",
       "      <td>...</td>\n",
       "      <td>...</td>\n",
       "      <td>...</td>\n",
       "      <td>...</td>\n",
       "      <td>...</td>\n",
       "      <td>...</td>\n",
       "      <td>...</td>\n",
       "      <td>...</td>\n",
       "      <td>...</td>\n",
       "      <td>...</td>\n",
       "    </tr>\n",
       "    <tr>\n",
       "      <th>887</th>\n",
       "      <td>0</td>\n",
       "      <td>2</td>\n",
       "      <td>Montvila, Rev. Juozas</td>\n",
       "      <td>male</td>\n",
       "      <td>27.0</td>\n",
       "      <td>0</td>\n",
       "      <td>0</td>\n",
       "      <td>211536</td>\n",
       "      <td>13.0000</td>\n",
       "      <td>NaN</td>\n",
       "      <td>S</td>\n",
       "    </tr>\n",
       "    <tr>\n",
       "      <th>888</th>\n",
       "      <td>1</td>\n",
       "      <td>1</td>\n",
       "      <td>Graham, Miss. Margaret Edith</td>\n",
       "      <td>female</td>\n",
       "      <td>19.0</td>\n",
       "      <td>0</td>\n",
       "      <td>0</td>\n",
       "      <td>112053</td>\n",
       "      <td>30.0000</td>\n",
       "      <td>B42</td>\n",
       "      <td>S</td>\n",
       "    </tr>\n",
       "    <tr>\n",
       "      <th>889</th>\n",
       "      <td>0</td>\n",
       "      <td>3</td>\n",
       "      <td>Johnston, Miss. Catherine Helen \"Carrie\"</td>\n",
       "      <td>female</td>\n",
       "      <td>NaN</td>\n",
       "      <td>1</td>\n",
       "      <td>2</td>\n",
       "      <td>W./C. 6607</td>\n",
       "      <td>23.4500</td>\n",
       "      <td>NaN</td>\n",
       "      <td>S</td>\n",
       "    </tr>\n",
       "    <tr>\n",
       "      <th>890</th>\n",
       "      <td>1</td>\n",
       "      <td>1</td>\n",
       "      <td>Behr, Mr. Karl Howell</td>\n",
       "      <td>male</td>\n",
       "      <td>26.0</td>\n",
       "      <td>0</td>\n",
       "      <td>0</td>\n",
       "      <td>111369</td>\n",
       "      <td>30.0000</td>\n",
       "      <td>C148</td>\n",
       "      <td>C</td>\n",
       "    </tr>\n",
       "    <tr>\n",
       "      <th>891</th>\n",
       "      <td>0</td>\n",
       "      <td>3</td>\n",
       "      <td>Dooley, Mr. Patrick</td>\n",
       "      <td>male</td>\n",
       "      <td>32.0</td>\n",
       "      <td>0</td>\n",
       "      <td>0</td>\n",
       "      <td>370376</td>\n",
       "      <td>7.7500</td>\n",
       "      <td>NaN</td>\n",
       "      <td>Q</td>\n",
       "    </tr>\n",
       "  </tbody>\n",
       "</table>\n",
       "<p>891 rows × 11 columns</p>\n",
       "</div>"
      ],
      "text/plain": [
       "             Survived  Pclass  \\\n",
       "PassengerId                     \n",
       "1                   0       3   \n",
       "2                   1       1   \n",
       "3                   1       3   \n",
       "4                   1       1   \n",
       "5                   0       3   \n",
       "...               ...     ...   \n",
       "887                 0       2   \n",
       "888                 1       1   \n",
       "889                 0       3   \n",
       "890                 1       1   \n",
       "891                 0       3   \n",
       "\n",
       "                                                          Name     Sex   Age  \\\n",
       "PassengerId                                                                    \n",
       "1                                      Braund, Mr. Owen Harris    male  22.0   \n",
       "2            Cumings, Mrs. John Bradley (Florence Briggs Th...  female  38.0   \n",
       "3                                       Heikkinen, Miss. Laina  female  26.0   \n",
       "4                 Futrelle, Mrs. Jacques Heath (Lily May Peel)  female  35.0   \n",
       "5                                     Allen, Mr. William Henry    male  35.0   \n",
       "...                                                        ...     ...   ...   \n",
       "887                                      Montvila, Rev. Juozas    male  27.0   \n",
       "888                               Graham, Miss. Margaret Edith  female  19.0   \n",
       "889                   Johnston, Miss. Catherine Helen \"Carrie\"  female   NaN   \n",
       "890                                      Behr, Mr. Karl Howell    male  26.0   \n",
       "891                                        Dooley, Mr. Patrick    male  32.0   \n",
       "\n",
       "             SibSp  Parch            Ticket     Fare Cabin Embarked  \n",
       "PassengerId                                                          \n",
       "1                1      0         A/5 21171   7.2500   NaN        S  \n",
       "2                1      0          PC 17599  71.2833   C85        C  \n",
       "3                0      0  STON/O2. 3101282   7.9250   NaN        S  \n",
       "4                1      0            113803  53.1000  C123        S  \n",
       "5                0      0            373450   8.0500   NaN        S  \n",
       "...            ...    ...               ...      ...   ...      ...  \n",
       "887              0      0            211536  13.0000   NaN        S  \n",
       "888              0      0            112053  30.0000   B42        S  \n",
       "889              1      2        W./C. 6607  23.4500   NaN        S  \n",
       "890              0      0            111369  30.0000  C148        C  \n",
       "891              0      0            370376   7.7500   NaN        Q  \n",
       "\n",
       "[891 rows x 11 columns]"
      ]
     },
     "execution_count": 3,
     "metadata": {},
     "output_type": "execute_result"
    }
   ],
   "source": [
    "# Read the train dataset\n",
    "titanic_data = pd.read_csv(\"/kaggle/input/titanic/train.csv\", index_col = \"PassengerId\")\n",
    "titanic_data"
   ]
  },
  {
   "cell_type": "code",
   "execution_count": 4,
   "id": "a3f8ff3b",
   "metadata": {
    "execution": {
     "iopub.execute_input": "2024-03-31T13:14:22.201987Z",
     "iopub.status.busy": "2024-03-31T13:14:22.201167Z",
     "iopub.status.idle": "2024-03-31T13:14:22.221608Z",
     "shell.execute_reply": "2024-03-31T13:14:22.220514Z"
    },
    "papermill": {
     "duration": 0.045178,
     "end_time": "2024-03-31T13:14:22.224164",
     "exception": false,
     "start_time": "2024-03-31T13:14:22.178986",
     "status": "completed"
    },
    "tags": []
   },
   "outputs": [
    {
     "name": "stdout",
     "output_type": "stream",
     "text": [
      "<class 'pandas.core.frame.DataFrame'>\n",
      "Index: 891 entries, 1 to 891\n",
      "Data columns (total 11 columns):\n",
      " #   Column    Non-Null Count  Dtype  \n",
      "---  ------    --------------  -----  \n",
      " 0   Survived  891 non-null    int64  \n",
      " 1   Pclass    891 non-null    int64  \n",
      " 2   Name      891 non-null    object \n",
      " 3   Sex       891 non-null    object \n",
      " 4   Age       714 non-null    float64\n",
      " 5   SibSp     891 non-null    int64  \n",
      " 6   Parch     891 non-null    int64  \n",
      " 7   Ticket    891 non-null    object \n",
      " 8   Fare      891 non-null    float64\n",
      " 9   Cabin     204 non-null    object \n",
      " 10  Embarked  889 non-null    object \n",
      "dtypes: float64(2), int64(4), object(5)\n",
      "memory usage: 83.5+ KB\n"
     ]
    }
   ],
   "source": [
    "titanic_data.info()"
   ]
  },
  {
   "cell_type": "code",
   "execution_count": 5,
   "id": "00cb47b6",
   "metadata": {
    "execution": {
     "iopub.execute_input": "2024-03-31T13:14:22.267847Z",
     "iopub.status.busy": "2024-03-31T13:14:22.267479Z",
     "iopub.status.idle": "2024-03-31T13:14:22.298320Z",
     "shell.execute_reply": "2024-03-31T13:14:22.297121Z"
    },
    "papermill": {
     "duration": 0.05555,
     "end_time": "2024-03-31T13:14:22.300883",
     "exception": false,
     "start_time": "2024-03-31T13:14:22.245333",
     "status": "completed"
    },
    "tags": []
   },
   "outputs": [
    {
     "data": {
      "text/html": [
       "<div>\n",
       "<style scoped>\n",
       "    .dataframe tbody tr th:only-of-type {\n",
       "        vertical-align: middle;\n",
       "    }\n",
       "\n",
       "    .dataframe tbody tr th {\n",
       "        vertical-align: top;\n",
       "    }\n",
       "\n",
       "    .dataframe thead th {\n",
       "        text-align: right;\n",
       "    }\n",
       "</style>\n",
       "<table border=\"1\" class=\"dataframe\">\n",
       "  <thead>\n",
       "    <tr style=\"text-align: right;\">\n",
       "      <th></th>\n",
       "      <th>count</th>\n",
       "      <th>mean</th>\n",
       "      <th>std</th>\n",
       "      <th>min</th>\n",
       "      <th>25%</th>\n",
       "      <th>50%</th>\n",
       "      <th>75%</th>\n",
       "      <th>max</th>\n",
       "    </tr>\n",
       "  </thead>\n",
       "  <tbody>\n",
       "    <tr>\n",
       "      <th>Survived</th>\n",
       "      <td>891.0</td>\n",
       "      <td>0.383838</td>\n",
       "      <td>0.486592</td>\n",
       "      <td>0.00</td>\n",
       "      <td>0.0000</td>\n",
       "      <td>0.0000</td>\n",
       "      <td>1.0</td>\n",
       "      <td>1.0000</td>\n",
       "    </tr>\n",
       "    <tr>\n",
       "      <th>Pclass</th>\n",
       "      <td>891.0</td>\n",
       "      <td>2.308642</td>\n",
       "      <td>0.836071</td>\n",
       "      <td>1.00</td>\n",
       "      <td>2.0000</td>\n",
       "      <td>3.0000</td>\n",
       "      <td>3.0</td>\n",
       "      <td>3.0000</td>\n",
       "    </tr>\n",
       "    <tr>\n",
       "      <th>Age</th>\n",
       "      <td>714.0</td>\n",
       "      <td>29.699118</td>\n",
       "      <td>14.526497</td>\n",
       "      <td>0.42</td>\n",
       "      <td>20.1250</td>\n",
       "      <td>28.0000</td>\n",
       "      <td>38.0</td>\n",
       "      <td>80.0000</td>\n",
       "    </tr>\n",
       "    <tr>\n",
       "      <th>SibSp</th>\n",
       "      <td>891.0</td>\n",
       "      <td>0.523008</td>\n",
       "      <td>1.102743</td>\n",
       "      <td>0.00</td>\n",
       "      <td>0.0000</td>\n",
       "      <td>0.0000</td>\n",
       "      <td>1.0</td>\n",
       "      <td>8.0000</td>\n",
       "    </tr>\n",
       "    <tr>\n",
       "      <th>Parch</th>\n",
       "      <td>891.0</td>\n",
       "      <td>0.381594</td>\n",
       "      <td>0.806057</td>\n",
       "      <td>0.00</td>\n",
       "      <td>0.0000</td>\n",
       "      <td>0.0000</td>\n",
       "      <td>0.0</td>\n",
       "      <td>6.0000</td>\n",
       "    </tr>\n",
       "    <tr>\n",
       "      <th>Fare</th>\n",
       "      <td>891.0</td>\n",
       "      <td>32.204208</td>\n",
       "      <td>49.693429</td>\n",
       "      <td>0.00</td>\n",
       "      <td>7.9104</td>\n",
       "      <td>14.4542</td>\n",
       "      <td>31.0</td>\n",
       "      <td>512.3292</td>\n",
       "    </tr>\n",
       "  </tbody>\n",
       "</table>\n",
       "</div>"
      ],
      "text/plain": [
       "          count       mean        std   min      25%      50%   75%       max\n",
       "Survived  891.0   0.383838   0.486592  0.00   0.0000   0.0000   1.0    1.0000\n",
       "Pclass    891.0   2.308642   0.836071  1.00   2.0000   3.0000   3.0    3.0000\n",
       "Age       714.0  29.699118  14.526497  0.42  20.1250  28.0000  38.0   80.0000\n",
       "SibSp     891.0   0.523008   1.102743  0.00   0.0000   0.0000   1.0    8.0000\n",
       "Parch     891.0   0.381594   0.806057  0.00   0.0000   0.0000   0.0    6.0000\n",
       "Fare      891.0  32.204208  49.693429  0.00   7.9104  14.4542  31.0  512.3292"
      ]
     },
     "execution_count": 5,
     "metadata": {},
     "output_type": "execute_result"
    }
   ],
   "source": [
    "# Describe numerical features\n",
    "titanic_data.describe().T"
   ]
  },
  {
   "cell_type": "code",
   "execution_count": null,
   "id": "56e0a824",
   "metadata": {
    "papermill": {
     "duration": 0.021229,
     "end_time": "2024-03-31T13:14:22.343066",
     "exception": false,
     "start_time": "2024-03-31T13:14:22.321837",
     "status": "completed"
    },
    "tags": []
   },
   "outputs": [],
   "source": []
  },
  {
   "cell_type": "code",
   "execution_count": 6,
   "id": "0caebcc7",
   "metadata": {
    "execution": {
     "iopub.execute_input": "2024-03-31T13:14:22.387410Z",
     "iopub.status.busy": "2024-03-31T13:14:22.386963Z",
     "iopub.status.idle": "2024-03-31T13:14:22.396357Z",
     "shell.execute_reply": "2024-03-31T13:14:22.395283Z"
    },
    "papermill": {
     "duration": 0.034424,
     "end_time": "2024-03-31T13:14:22.398549",
     "exception": false,
     "start_time": "2024-03-31T13:14:22.364125",
     "status": "completed"
    },
    "tags": []
   },
   "outputs": [
    {
     "data": {
      "text/plain": [
       "((891, 10), (891,))"
      ]
     },
     "execution_count": 6,
     "metadata": {},
     "output_type": "execute_result"
    }
   ],
   "source": [
    "# Separate features and target\n",
    "titanic = titanic_data.drop(columns = \"Survived\")\n",
    "survived = titanic_data.Survived\n",
    "\n",
    "titanic.shape, survived.shape"
   ]
  },
  {
   "cell_type": "code",
   "execution_count": 7,
   "id": "43bcec2f",
   "metadata": {
    "execution": {
     "iopub.execute_input": "2024-03-31T13:14:22.443599Z",
     "iopub.status.busy": "2024-03-31T13:14:22.442604Z",
     "iopub.status.idle": "2024-03-31T13:14:22.450855Z",
     "shell.execute_reply": "2024-03-31T13:14:22.449668Z"
    },
    "papermill": {
     "duration": 0.033273,
     "end_time": "2024-03-31T13:14:22.453210",
     "exception": false,
     "start_time": "2024-03-31T13:14:22.419937",
     "status": "completed"
    },
    "tags": []
   },
   "outputs": [
    {
     "data": {
      "text/plain": [
       "['Age', 'Fare']"
      ]
     },
     "execution_count": 7,
     "metadata": {},
     "output_type": "execute_result"
    }
   ],
   "source": [
    "# Select numerical columns (float only)\n",
    "numerical_column_selector = make_column_selector(dtype_include = \"float64\")\n",
    "float_cols = numerical_column_selector(titanic)\n",
    "\n",
    "float_cols"
   ]
  },
  {
   "cell_type": "code",
   "execution_count": 8,
   "id": "3e9072a4",
   "metadata": {
    "execution": {
     "iopub.execute_input": "2024-03-31T13:14:22.497784Z",
     "iopub.status.busy": "2024-03-31T13:14:22.497381Z",
     "iopub.status.idle": "2024-03-31T13:14:22.509538Z",
     "shell.execute_reply": "2024-03-31T13:14:22.508389Z"
    },
    "papermill": {
     "duration": 0.037364,
     "end_time": "2024-03-31T13:14:22.511889",
     "exception": false,
     "start_time": "2024-03-31T13:14:22.474525",
     "status": "completed"
    },
    "tags": []
   },
   "outputs": [
    {
     "data": {
      "text/plain": [
       "Name        891\n",
       "Sex           2\n",
       "Ticket      681\n",
       "Cabin       147\n",
       "Embarked      3\n",
       "dtype: int64"
      ]
     },
     "execution_count": 8,
     "metadata": {},
     "output_type": "execute_result"
    }
   ],
   "source": [
    "# Select nominal categorical features\n",
    "categorical_column_selector = make_column_selector(dtype_include = \"object\")\n",
    "object_cols = categorical_column_selector(titanic)\n",
    "\n",
    "\n",
    "# Number of unique entries in each column with categorical data\n",
    "categorical_nunique = titanic[object_cols].nunique()\n",
    "categorical_nunique"
   ]
  },
  {
   "cell_type": "code",
   "execution_count": 9,
   "id": "e499e761",
   "metadata": {
    "execution": {
     "iopub.execute_input": "2024-03-31T13:14:22.557297Z",
     "iopub.status.busy": "2024-03-31T13:14:22.556880Z",
     "iopub.status.idle": "2024-03-31T13:14:22.569764Z",
     "shell.execute_reply": "2024-03-31T13:14:22.568715Z"
    },
    "papermill": {
     "duration": 0.03861,
     "end_time": "2024-03-31T13:14:22.572201",
     "exception": false,
     "start_time": "2024-03-31T13:14:22.533591",
     "status": "completed"
    },
    "tags": []
   },
   "outputs": [
    {
     "data": {
      "text/plain": [
       "Pclass    3\n",
       "SibSp     7\n",
       "Parch     7\n",
       "dtype: int64"
      ]
     },
     "execution_count": 9,
     "metadata": {},
     "output_type": "execute_result"
    }
   ],
   "source": [
    "# Select ordinal categorical features\n",
    "ordinal_column_selector = make_column_selector(dtype_include = \"int64\")\n",
    "int_cols = ordinal_column_selector(titanic)\n",
    "\n",
    "\n",
    "# Number of unique entries in each column with ordinal data\n",
    "ordinal_nunique = titanic[int_cols].nunique()\n",
    "ordinal_nunique"
   ]
  },
  {
   "cell_type": "code",
   "execution_count": 10,
   "id": "4083bbc7",
   "metadata": {
    "execution": {
     "iopub.execute_input": "2024-03-31T13:14:22.618435Z",
     "iopub.status.busy": "2024-03-31T13:14:22.618023Z",
     "iopub.status.idle": "2024-03-31T13:14:22.625870Z",
     "shell.execute_reply": "2024-03-31T13:14:22.624787Z"
    },
    "papermill": {
     "duration": 0.033233,
     "end_time": "2024-03-31T13:14:22.627968",
     "exception": false,
     "start_time": "2024-03-31T13:14:22.594735",
     "status": "completed"
    },
    "tags": []
   },
   "outputs": [
    {
     "data": {
      "text/plain": [
       "['Sex', 'Embarked']"
      ]
     },
     "execution_count": 10,
     "metadata": {},
     "output_type": "execute_result"
    }
   ],
   "source": [
    "# Select low cardinality categorical features\n",
    "categorical_low_cardinality = categorical_nunique[categorical_nunique < 5].index.tolist()\n",
    "categorical_low_cardinality"
   ]
  },
  {
   "cell_type": "code",
   "execution_count": 11,
   "id": "7b37cb2f",
   "metadata": {
    "execution": {
     "iopub.execute_input": "2024-03-31T13:14:22.674324Z",
     "iopub.status.busy": "2024-03-31T13:14:22.673899Z",
     "iopub.status.idle": "2024-03-31T13:14:22.701046Z",
     "shell.execute_reply": "2024-03-31T13:14:22.699847Z"
    },
    "papermill": {
     "duration": 0.053039,
     "end_time": "2024-03-31T13:14:22.703759",
     "exception": false,
     "start_time": "2024-03-31T13:14:22.650720",
     "status": "completed"
    },
    "tags": []
   },
   "outputs": [
    {
     "data": {
      "text/html": [
       "<div>\n",
       "<style scoped>\n",
       "    .dataframe tbody tr th:only-of-type {\n",
       "        vertical-align: middle;\n",
       "    }\n",
       "\n",
       "    .dataframe tbody tr th {\n",
       "        vertical-align: top;\n",
       "    }\n",
       "\n",
       "    .dataframe thead th {\n",
       "        text-align: right;\n",
       "    }\n",
       "</style>\n",
       "<table border=\"1\" class=\"dataframe\">\n",
       "  <thead>\n",
       "    <tr style=\"text-align: right;\">\n",
       "      <th></th>\n",
       "      <th>Pclass</th>\n",
       "      <th>Name</th>\n",
       "      <th>Sex</th>\n",
       "      <th>Age</th>\n",
       "      <th>SibSp</th>\n",
       "      <th>Parch</th>\n",
       "      <th>Ticket</th>\n",
       "      <th>Fare</th>\n",
       "      <th>Cabin</th>\n",
       "      <th>Embarked</th>\n",
       "    </tr>\n",
       "    <tr>\n",
       "      <th>PassengerId</th>\n",
       "      <th></th>\n",
       "      <th></th>\n",
       "      <th></th>\n",
       "      <th></th>\n",
       "      <th></th>\n",
       "      <th></th>\n",
       "      <th></th>\n",
       "      <th></th>\n",
       "      <th></th>\n",
       "      <th></th>\n",
       "    </tr>\n",
       "  </thead>\n",
       "  <tbody>\n",
       "    <tr>\n",
       "      <th>892</th>\n",
       "      <td>3</td>\n",
       "      <td>Kelly, Mr. James</td>\n",
       "      <td>male</td>\n",
       "      <td>34.5</td>\n",
       "      <td>0</td>\n",
       "      <td>0</td>\n",
       "      <td>330911</td>\n",
       "      <td>7.8292</td>\n",
       "      <td>NaN</td>\n",
       "      <td>Q</td>\n",
       "    </tr>\n",
       "    <tr>\n",
       "      <th>893</th>\n",
       "      <td>3</td>\n",
       "      <td>Wilkes, Mrs. James (Ellen Needs)</td>\n",
       "      <td>female</td>\n",
       "      <td>47.0</td>\n",
       "      <td>1</td>\n",
       "      <td>0</td>\n",
       "      <td>363272</td>\n",
       "      <td>7.0000</td>\n",
       "      <td>NaN</td>\n",
       "      <td>S</td>\n",
       "    </tr>\n",
       "    <tr>\n",
       "      <th>894</th>\n",
       "      <td>2</td>\n",
       "      <td>Myles, Mr. Thomas Francis</td>\n",
       "      <td>male</td>\n",
       "      <td>62.0</td>\n",
       "      <td>0</td>\n",
       "      <td>0</td>\n",
       "      <td>240276</td>\n",
       "      <td>9.6875</td>\n",
       "      <td>NaN</td>\n",
       "      <td>Q</td>\n",
       "    </tr>\n",
       "    <tr>\n",
       "      <th>895</th>\n",
       "      <td>3</td>\n",
       "      <td>Wirz, Mr. Albert</td>\n",
       "      <td>male</td>\n",
       "      <td>27.0</td>\n",
       "      <td>0</td>\n",
       "      <td>0</td>\n",
       "      <td>315154</td>\n",
       "      <td>8.6625</td>\n",
       "      <td>NaN</td>\n",
       "      <td>S</td>\n",
       "    </tr>\n",
       "    <tr>\n",
       "      <th>896</th>\n",
       "      <td>3</td>\n",
       "      <td>Hirvonen, Mrs. Alexander (Helga E Lindqvist)</td>\n",
       "      <td>female</td>\n",
       "      <td>22.0</td>\n",
       "      <td>1</td>\n",
       "      <td>1</td>\n",
       "      <td>3101298</td>\n",
       "      <td>12.2875</td>\n",
       "      <td>NaN</td>\n",
       "      <td>S</td>\n",
       "    </tr>\n",
       "    <tr>\n",
       "      <th>...</th>\n",
       "      <td>...</td>\n",
       "      <td>...</td>\n",
       "      <td>...</td>\n",
       "      <td>...</td>\n",
       "      <td>...</td>\n",
       "      <td>...</td>\n",
       "      <td>...</td>\n",
       "      <td>...</td>\n",
       "      <td>...</td>\n",
       "      <td>...</td>\n",
       "    </tr>\n",
       "    <tr>\n",
       "      <th>1305</th>\n",
       "      <td>3</td>\n",
       "      <td>Spector, Mr. Woolf</td>\n",
       "      <td>male</td>\n",
       "      <td>NaN</td>\n",
       "      <td>0</td>\n",
       "      <td>0</td>\n",
       "      <td>A.5. 3236</td>\n",
       "      <td>8.0500</td>\n",
       "      <td>NaN</td>\n",
       "      <td>S</td>\n",
       "    </tr>\n",
       "    <tr>\n",
       "      <th>1306</th>\n",
       "      <td>1</td>\n",
       "      <td>Oliva y Ocana, Dona. Fermina</td>\n",
       "      <td>female</td>\n",
       "      <td>39.0</td>\n",
       "      <td>0</td>\n",
       "      <td>0</td>\n",
       "      <td>PC 17758</td>\n",
       "      <td>108.9000</td>\n",
       "      <td>C105</td>\n",
       "      <td>C</td>\n",
       "    </tr>\n",
       "    <tr>\n",
       "      <th>1307</th>\n",
       "      <td>3</td>\n",
       "      <td>Saether, Mr. Simon Sivertsen</td>\n",
       "      <td>male</td>\n",
       "      <td>38.5</td>\n",
       "      <td>0</td>\n",
       "      <td>0</td>\n",
       "      <td>SOTON/O.Q. 3101262</td>\n",
       "      <td>7.2500</td>\n",
       "      <td>NaN</td>\n",
       "      <td>S</td>\n",
       "    </tr>\n",
       "    <tr>\n",
       "      <th>1308</th>\n",
       "      <td>3</td>\n",
       "      <td>Ware, Mr. Frederick</td>\n",
       "      <td>male</td>\n",
       "      <td>NaN</td>\n",
       "      <td>0</td>\n",
       "      <td>0</td>\n",
       "      <td>359309</td>\n",
       "      <td>8.0500</td>\n",
       "      <td>NaN</td>\n",
       "      <td>S</td>\n",
       "    </tr>\n",
       "    <tr>\n",
       "      <th>1309</th>\n",
       "      <td>3</td>\n",
       "      <td>Peter, Master. Michael J</td>\n",
       "      <td>male</td>\n",
       "      <td>NaN</td>\n",
       "      <td>1</td>\n",
       "      <td>1</td>\n",
       "      <td>2668</td>\n",
       "      <td>22.3583</td>\n",
       "      <td>NaN</td>\n",
       "      <td>C</td>\n",
       "    </tr>\n",
       "  </tbody>\n",
       "</table>\n",
       "<p>418 rows × 10 columns</p>\n",
       "</div>"
      ],
      "text/plain": [
       "             Pclass                                          Name     Sex  \\\n",
       "PassengerId                                                                 \n",
       "892               3                              Kelly, Mr. James    male   \n",
       "893               3              Wilkes, Mrs. James (Ellen Needs)  female   \n",
       "894               2                     Myles, Mr. Thomas Francis    male   \n",
       "895               3                              Wirz, Mr. Albert    male   \n",
       "896               3  Hirvonen, Mrs. Alexander (Helga E Lindqvist)  female   \n",
       "...             ...                                           ...     ...   \n",
       "1305              3                            Spector, Mr. Woolf    male   \n",
       "1306              1                  Oliva y Ocana, Dona. Fermina  female   \n",
       "1307              3                  Saether, Mr. Simon Sivertsen    male   \n",
       "1308              3                           Ware, Mr. Frederick    male   \n",
       "1309              3                      Peter, Master. Michael J    male   \n",
       "\n",
       "              Age  SibSp  Parch              Ticket      Fare Cabin Embarked  \n",
       "PassengerId                                                                   \n",
       "892          34.5      0      0              330911    7.8292   NaN        Q  \n",
       "893          47.0      1      0              363272    7.0000   NaN        S  \n",
       "894          62.0      0      0              240276    9.6875   NaN        Q  \n",
       "895          27.0      0      0              315154    8.6625   NaN        S  \n",
       "896          22.0      1      1             3101298   12.2875   NaN        S  \n",
       "...           ...    ...    ...                 ...       ...   ...      ...  \n",
       "1305          NaN      0      0           A.5. 3236    8.0500   NaN        S  \n",
       "1306         39.0      0      0            PC 17758  108.9000  C105        C  \n",
       "1307         38.5      0      0  SOTON/O.Q. 3101262    7.2500   NaN        S  \n",
       "1308          NaN      0      0              359309    8.0500   NaN        S  \n",
       "1309          NaN      1      1                2668   22.3583   NaN        C  \n",
       "\n",
       "[418 rows x 10 columns]"
      ]
     },
     "execution_count": 11,
     "metadata": {},
     "output_type": "execute_result"
    }
   ],
   "source": [
    "# Read the test dataset\n",
    "titanic_test = pd.read_csv(\"/kaggle/input/titanic/test.csv\", index_col = \"PassengerId\")\n",
    "titanic_test"
   ]
  },
  {
   "cell_type": "code",
   "execution_count": 12,
   "id": "884141d3",
   "metadata": {
    "execution": {
     "iopub.execute_input": "2024-03-31T13:14:22.750826Z",
     "iopub.status.busy": "2024-03-31T13:14:22.750414Z",
     "iopub.status.idle": "2024-03-31T13:14:22.762861Z",
     "shell.execute_reply": "2024-03-31T13:14:22.761430Z"
    },
    "papermill": {
     "duration": 0.03861,
     "end_time": "2024-03-31T13:14:22.765048",
     "exception": false,
     "start_time": "2024-03-31T13:14:22.726438",
     "status": "completed"
    },
    "tags": []
   },
   "outputs": [
    {
     "name": "stdout",
     "output_type": "stream",
     "text": [
      "<class 'pandas.core.frame.DataFrame'>\n",
      "Index: 418 entries, 892 to 1309\n",
      "Data columns (total 10 columns):\n",
      " #   Column    Non-Null Count  Dtype  \n",
      "---  ------    --------------  -----  \n",
      " 0   Pclass    418 non-null    int64  \n",
      " 1   Name      418 non-null    object \n",
      " 2   Sex       418 non-null    object \n",
      " 3   Age       332 non-null    float64\n",
      " 4   SibSp     418 non-null    int64  \n",
      " 5   Parch     418 non-null    int64  \n",
      " 6   Ticket    418 non-null    object \n",
      " 7   Fare      417 non-null    float64\n",
      " 8   Cabin     91 non-null     object \n",
      " 9   Embarked  418 non-null    object \n",
      "dtypes: float64(2), int64(3), object(5)\n",
      "memory usage: 35.9+ KB\n"
     ]
    }
   ],
   "source": [
    "titanic_test.info()"
   ]
  },
  {
   "cell_type": "markdown",
   "id": "7fcffbf6",
   "metadata": {
    "papermill": {
     "duration": 0.022224,
     "end_time": "2024-03-31T13:14:22.809940",
     "exception": false,
     "start_time": "2024-03-31T13:14:22.787716",
     "status": "completed"
    },
    "tags": []
   },
   "source": [
    "`Age`, `Cabin` and `Embarked` have values in both train and test set; `Fare` has missing values in test set only"
   ]
  },
  {
   "cell_type": "markdown",
   "id": "e54e19d3",
   "metadata": {
    "papermill": {
     "duration": 0.022081,
     "end_time": "2024-03-31T13:14:22.854483",
     "exception": false,
     "start_time": "2024-03-31T13:14:22.832402",
     "status": "completed"
    },
    "tags": []
   },
   "source": [
    "##### `Survived`"
   ]
  },
  {
   "cell_type": "code",
   "execution_count": 13,
   "id": "3e8277fe",
   "metadata": {
    "execution": {
     "iopub.execute_input": "2024-03-31T13:14:22.903323Z",
     "iopub.status.busy": "2024-03-31T13:14:22.902308Z",
     "iopub.status.idle": "2024-03-31T13:14:23.164799Z",
     "shell.execute_reply": "2024-03-31T13:14:23.163163Z"
    },
    "papermill": {
     "duration": 0.29078,
     "end_time": "2024-03-31T13:14:23.167504",
     "exception": false,
     "start_time": "2024-03-31T13:14:22.876724",
     "status": "completed"
    },
    "tags": []
   },
   "outputs": [
    {
     "data": {
      "image/png": "[encoded data removed]",
      "text/plain": [
       "<Figure size 640x480 with 1 Axes>"
      ]
     },
     "metadata": {},
     "output_type": "display_data"
    }
   ],
   "source": [
    "sns.countplot(data = titanic_data, x = \"Survived\")\n",
    "plt.show()"
   ]
  },
  {
   "cell_type": "markdown",
   "id": "768aad3b",
   "metadata": {
    "papermill": {
     "duration": 0.022374,
     "end_time": "2024-03-31T13:14:23.212681",
     "exception": false,
     "start_time": "2024-03-31T13:14:23.190307",
     "status": "completed"
    },
    "tags": []
   },
   "source": [
    "##### `Pclass`"
   ]
  },
  {
   "cell_type": "code",
   "execution_count": 14,
   "id": "e8101a38",
   "metadata": {
    "execution": {
     "iopub.execute_input": "2024-03-31T13:14:23.259957Z",
     "iopub.status.busy": "2024-03-31T13:14:23.259556Z",
     "iopub.status.idle": "2024-03-31T13:14:23.772465Z",
     "shell.execute_reply": "2024-03-31T13:14:23.771361Z"
    },
    "papermill": {
     "duration": 0.539417,
     "end_time": "2024-03-31T13:14:23.775001",
     "exception": false,
     "start_time": "2024-03-31T13:14:23.235584",
     "status": "completed"
    },
    "tags": []
   },
   "outputs": [
    {
     "data": {
      "image/png": "[encoded data removed]",
      "text/plain": [
       "<Figure size 1400x500 with 2 Axes>"
      ]
     },
     "metadata": {},
     "output_type": "display_data"
    }
   ],
   "source": [
    "fig, axes = plt.subplots(1, 2, figsize = (14, 5), sharey = True)\n",
    "\n",
    "sns.countplot(data = titanic_data, x = \"Pclass\", ax = axes[0]).set(title='Number of Passengers by Class')\n",
    "sns.countplot(data = titanic_data, x = \"Pclass\", hue = \"Survived\", ax = axes[1]).set(title='Survival Count by Class')\n",
    "\n",
    "plt.show()"
   ]
  },
  {
   "cell_type": "markdown",
   "id": "fa754c1f",
   "metadata": {
    "papermill": {
     "duration": 0.0789,
     "end_time": "2024-03-31T13:14:23.877606",
     "exception": false,
     "start_time": "2024-03-31T13:14:23.798706",
     "status": "completed"
    },
    "tags": []
   },
   "source": [
    "`Sex`"
   ]
  },
  {
   "cell_type": "code",
   "execution_count": 15,
   "id": "51ee243f",
   "metadata": {
    "execution": {
     "iopub.execute_input": "2024-03-31T13:14:23.926377Z",
     "iopub.status.busy": "2024-03-31T13:14:23.925946Z",
     "iopub.status.idle": "2024-03-31T13:14:24.408052Z",
     "shell.execute_reply": "2024-03-31T13:14:24.406890Z"
    },
    "papermill": {
     "duration": 0.509415,
     "end_time": "2024-03-31T13:14:24.410698",
     "exception": false,
     "start_time": "2024-03-31T13:14:23.901283",
     "status": "completed"
    },
    "tags": []
   },
   "outputs": [
    {
     "data": {
      "image/png": "[encoded data removed]",
      "text/plain": [
       "<Figure size 1400x500 with 2 Axes>"
      ]
     },
     "metadata": {},
     "output_type": "display_data"
    }
   ],
   "source": [
    "fig, axes = plt.subplots(1, 2, figsize = (14, 5), sharey = True)\n",
    "\n",
    "sns.countplot(data = titanic_data, x = \"Sex\", ax = axes[0]).set(title='Number of Passengers by Gender')\n",
    "sns.countplot(data = titanic_data, x = \"Sex\", hue = \"Survived\", ax = axes[1]).set(title='Survival Count by Gender')\n",
    "\n",
    "plt.show()\n"
   ]
  },
  {
   "cell_type": "markdown",
   "id": "fbb0dfd5",
   "metadata": {
    "papermill": {
     "duration": 0.024344,
     "end_time": "2024-03-31T13:14:24.459441",
     "exception": false,
     "start_time": "2024-03-31T13:14:24.435097",
     "status": "completed"
    },
    "tags": []
   },
   "source": [
    "`Age`"
   ]
  },
  {
   "cell_type": "code",
   "execution_count": 16,
   "id": "d0ece7d5",
   "metadata": {
    "execution": {
     "iopub.execute_input": "2024-03-31T13:14:24.510161Z",
     "iopub.status.busy": "2024-03-31T13:14:24.509001Z",
     "iopub.status.idle": "2024-03-31T13:14:25.268381Z",
     "shell.execute_reply": "2024-03-31T13:14:25.267216Z"
    },
    "papermill": {
     "duration": 0.787407,
     "end_time": "2024-03-31T13:14:25.270981",
     "exception": false,
     "start_time": "2024-03-31T13:14:24.483574",
     "status": "completed"
    },
    "tags": []
   },
   "outputs": [
    {
     "name": "stderr",
     "output_type": "stream",
     "text": [
      "/opt/conda/lib/python3.10/site-packages/seaborn/_oldcore.py:1119: FutureWarning: use_inf_as_na option is deprecated and will be removed in a future version. Convert inf values to NaN before operating instead.\n",
      "  with pd.option_context('mode.use_inf_as_na', True):\n"
     ]
    },
    {
     "data": {
      "image/png": "[encoded data removed]",
      "text/plain": [
       "<Figure size 1400x500 with 2 Axes>"
      ]
     },
     "metadata": {},
     "output_type": "display_data"
    }
   ],
   "source": [
    "fig, axes = plt.subplots(1, 2, figsize = (14, 5), sharey = False)\n",
    "\n",
    "sns.histplot(data = titanic_data, x = \"Age\", ax = axes[0]).set(title='Number of Passengers by Age')\n",
    "axes[0].axvline(titanic_data.Age.median(), c = \"r\")\n",
    "sns.violinplot(data = titanic_data, x = \"Survived\", y = \"Age\", ax = axes[1]).set(title='Survival Count by Age')\n",
    "\n",
    "plt.show()\n"
   ]
  },
  {
   "cell_type": "markdown",
   "id": "9cb42bf3",
   "metadata": {
    "papermill": {
     "duration": 0.024979,
     "end_time": "2024-03-31T13:14:25.321600",
     "exception": false,
     "start_time": "2024-03-31T13:14:25.296621",
     "status": "completed"
    },
    "tags": []
   },
   "source": [
    "`Cabin`"
   ]
  },
  {
   "cell_type": "code",
   "execution_count": 17,
   "id": "a50303c4",
   "metadata": {
    "execution": {
     "iopub.execute_input": "2024-03-31T13:14:25.374906Z",
     "iopub.status.busy": "2024-03-31T13:14:25.374161Z",
     "iopub.status.idle": "2024-03-31T13:14:25.382066Z",
     "shell.execute_reply": "2024-03-31T13:14:25.380982Z"
    },
    "papermill": {
     "duration": 0.037384,
     "end_time": "2024-03-31T13:14:25.384779",
     "exception": false,
     "start_time": "2024-03-31T13:14:25.347395",
     "status": "completed"
    },
    "tags": []
   },
   "outputs": [
    {
     "data": {
      "text/plain": [
       "array([nan, 'C85', 'C123', 'E46', 'G6', 'C103', 'D56', 'A6',\n",
       "       'C23 C25 C27', 'B78', 'D33', 'B30', 'C52', 'B28', 'C83', 'F33',\n",
       "       'F G73', 'E31', 'A5', 'D10 D12', 'D26', 'C110', 'B58 B60', 'E101',\n",
       "       'F E69', 'D47', 'B86', 'F2', 'C2', 'E33', 'B19', 'A7', 'C49', 'F4',\n",
       "       'A32', 'B4', 'B80', 'A31', 'D36', 'D15', 'C93', 'C78', 'D35',\n",
       "       'C87', 'B77', 'E67', 'B94', 'C125', 'C99', 'C118', 'D7', 'A19',\n",
       "       'B49', 'D', 'C22 C26', 'C106', 'C65', 'E36', 'C54',\n",
       "       'B57 B59 B63 B66', 'C7', 'E34', 'C32', 'B18', 'C124', 'C91', 'E40',\n",
       "       'T', 'C128', 'D37', 'B35', 'E50', 'C82', 'B96 B98', 'E10', 'E44',\n",
       "       'A34', 'C104', 'C111', 'C92', 'E38', 'D21', 'E12', 'E63', 'A14',\n",
       "       'B37', 'C30', 'D20', 'B79', 'E25', 'D46', 'B73', 'C95', 'B38',\n",
       "       'B39', 'B22', 'C86', 'C70', 'A16', 'C101', 'C68', 'A10', 'E68',\n",
       "       'B41', 'A20', 'D19', 'D50', 'D9', 'A23', 'B50', 'A26', 'D48',\n",
       "       'E58', 'C126', 'B71', 'B51 B53 B55', 'D49', 'B5', 'B20', 'F G63',\n",
       "       'C62 C64', 'E24', 'C90', 'C45', 'E8', 'B101', 'D45', 'C46', 'D30',\n",
       "       'E121', 'D11', 'E77', 'F38', 'B3', 'D6', 'B82 B84', 'D17', 'A36',\n",
       "       'B102', 'B69', 'E49', 'C47', 'D28', 'E17', 'A24', 'C50', 'B42',\n",
       "       'C148'], dtype=object)"
      ]
     },
     "execution_count": 17,
     "metadata": {},
     "output_type": "execute_result"
    }
   ],
   "source": [
    "titanic_data.Cabin.unique()"
   ]
  },
  {
   "cell_type": "code",
   "execution_count": 18,
   "id": "465ffd7e",
   "metadata": {
    "execution": {
     "iopub.execute_input": "2024-03-31T13:14:25.437063Z",
     "iopub.status.busy": "2024-03-31T13:14:25.436665Z",
     "iopub.status.idle": "2024-03-31T13:14:25.446141Z",
     "shell.execute_reply": "2024-03-31T13:14:25.445130Z"
    },
    "papermill": {
     "duration": 0.038382,
     "end_time": "2024-03-31T13:14:25.448458",
     "exception": false,
     "start_time": "2024-03-31T13:14:25.410076",
     "status": "completed"
    },
    "tags": []
   },
   "outputs": [
    {
     "data": {
      "text/plain": [
       "Cabin\n",
       "B96 B98        4\n",
       "G6             4\n",
       "C23 C25 C27    4\n",
       "C22 C26        3\n",
       "F33            3\n",
       "F2             3\n",
       "E101           3\n",
       "D              3\n",
       "C78            2\n",
       "C93            2\n",
       "Name: count, dtype: int64"
      ]
     },
     "execution_count": 18,
     "metadata": {},
     "output_type": "execute_result"
    }
   ],
   "source": [
    "titanic_data.Cabin.value_counts().head(10)"
   ]
  },
  {
   "cell_type": "code",
   "execution_count": 19,
   "id": "c9cc3079",
   "metadata": {
    "execution": {
     "iopub.execute_input": "2024-03-31T13:14:25.501082Z",
     "iopub.status.busy": "2024-03-31T13:14:25.500678Z",
     "iopub.status.idle": "2024-03-31T13:14:25.525272Z",
     "shell.execute_reply": "2024-03-31T13:14:25.524146Z"
    },
    "papermill": {
     "duration": 0.05382,
     "end_time": "2024-03-31T13:14:25.527717",
     "exception": false,
     "start_time": "2024-03-31T13:14:25.473897",
     "status": "completed"
    },
    "tags": []
   },
   "outputs": [
    {
     "data": {
      "text/html": [
       "<div>\n",
       "<style scoped>\n",
       "    .dataframe tbody tr th:only-of-type {\n",
       "        vertical-align: middle;\n",
       "    }\n",
       "\n",
       "    .dataframe tbody tr th {\n",
       "        vertical-align: top;\n",
       "    }\n",
       "\n",
       "    .dataframe thead th {\n",
       "        text-align: right;\n",
       "    }\n",
       "</style>\n",
       "<table border=\"1\" class=\"dataframe\">\n",
       "  <thead>\n",
       "    <tr style=\"text-align: right;\">\n",
       "      <th></th>\n",
       "      <th>Survived</th>\n",
       "      <th>Pclass</th>\n",
       "      <th>Name</th>\n",
       "      <th>Sex</th>\n",
       "      <th>Age</th>\n",
       "      <th>SibSp</th>\n",
       "      <th>Parch</th>\n",
       "      <th>Ticket</th>\n",
       "      <th>Fare</th>\n",
       "      <th>Cabin</th>\n",
       "      <th>Embarked</th>\n",
       "    </tr>\n",
       "    <tr>\n",
       "      <th>PassengerId</th>\n",
       "      <th></th>\n",
       "      <th></th>\n",
       "      <th></th>\n",
       "      <th></th>\n",
       "      <th></th>\n",
       "      <th></th>\n",
       "      <th></th>\n",
       "      <th></th>\n",
       "      <th></th>\n",
       "      <th></th>\n",
       "      <th></th>\n",
       "    </tr>\n",
       "  </thead>\n",
       "  <tbody>\n",
       "    <tr>\n",
       "      <th>391</th>\n",
       "      <td>1</td>\n",
       "      <td>1</td>\n",
       "      <td>Carter, Mr. William Ernest</td>\n",
       "      <td>male</td>\n",
       "      <td>36.0</td>\n",
       "      <td>1</td>\n",
       "      <td>2</td>\n",
       "      <td>113760</td>\n",
       "      <td>120.0000</td>\n",
       "      <td>B96 B98</td>\n",
       "      <td>S</td>\n",
       "    </tr>\n",
       "    <tr>\n",
       "      <th>436</th>\n",
       "      <td>1</td>\n",
       "      <td>1</td>\n",
       "      <td>Carter, Miss. Lucile Polk</td>\n",
       "      <td>female</td>\n",
       "      <td>14.0</td>\n",
       "      <td>1</td>\n",
       "      <td>2</td>\n",
       "      <td>113760</td>\n",
       "      <td>120.0000</td>\n",
       "      <td>B96 B98</td>\n",
       "      <td>S</td>\n",
       "    </tr>\n",
       "    <tr>\n",
       "      <th>764</th>\n",
       "      <td>1</td>\n",
       "      <td>1</td>\n",
       "      <td>Carter, Mrs. William Ernest (Lucile Polk)</td>\n",
       "      <td>female</td>\n",
       "      <td>36.0</td>\n",
       "      <td>1</td>\n",
       "      <td>2</td>\n",
       "      <td>113760</td>\n",
       "      <td>120.0000</td>\n",
       "      <td>B96 B98</td>\n",
       "      <td>S</td>\n",
       "    </tr>\n",
       "    <tr>\n",
       "      <th>803</th>\n",
       "      <td>1</td>\n",
       "      <td>1</td>\n",
       "      <td>Carter, Master. William Thornton II</td>\n",
       "      <td>male</td>\n",
       "      <td>11.0</td>\n",
       "      <td>1</td>\n",
       "      <td>2</td>\n",
       "      <td>113760</td>\n",
       "      <td>120.0000</td>\n",
       "      <td>B96 B98</td>\n",
       "      <td>S</td>\n",
       "    </tr>\n",
       "    <tr>\n",
       "      <th>28</th>\n",
       "      <td>0</td>\n",
       "      <td>1</td>\n",
       "      <td>Fortune, Mr. Charles Alexander</td>\n",
       "      <td>male</td>\n",
       "      <td>19.0</td>\n",
       "      <td>3</td>\n",
       "      <td>2</td>\n",
       "      <td>19950</td>\n",
       "      <td>263.0000</td>\n",
       "      <td>C23 C25 C27</td>\n",
       "      <td>S</td>\n",
       "    </tr>\n",
       "    <tr>\n",
       "      <th>89</th>\n",
       "      <td>1</td>\n",
       "      <td>1</td>\n",
       "      <td>Fortune, Miss. Mabel Helen</td>\n",
       "      <td>female</td>\n",
       "      <td>23.0</td>\n",
       "      <td>3</td>\n",
       "      <td>2</td>\n",
       "      <td>19950</td>\n",
       "      <td>263.0000</td>\n",
       "      <td>C23 C25 C27</td>\n",
       "      <td>S</td>\n",
       "    </tr>\n",
       "    <tr>\n",
       "      <th>342</th>\n",
       "      <td>1</td>\n",
       "      <td>1</td>\n",
       "      <td>Fortune, Miss. Alice Elizabeth</td>\n",
       "      <td>female</td>\n",
       "      <td>24.0</td>\n",
       "      <td>3</td>\n",
       "      <td>2</td>\n",
       "      <td>19950</td>\n",
       "      <td>263.0000</td>\n",
       "      <td>C23 C25 C27</td>\n",
       "      <td>S</td>\n",
       "    </tr>\n",
       "    <tr>\n",
       "      <th>439</th>\n",
       "      <td>0</td>\n",
       "      <td>1</td>\n",
       "      <td>Fortune, Mr. Mark</td>\n",
       "      <td>male</td>\n",
       "      <td>64.0</td>\n",
       "      <td>1</td>\n",
       "      <td>4</td>\n",
       "      <td>19950</td>\n",
       "      <td>263.0000</td>\n",
       "      <td>C23 C25 C27</td>\n",
       "      <td>S</td>\n",
       "    </tr>\n",
       "    <tr>\n",
       "      <th>11</th>\n",
       "      <td>1</td>\n",
       "      <td>3</td>\n",
       "      <td>Sandstrom, Miss. Marguerite Rut</td>\n",
       "      <td>female</td>\n",
       "      <td>4.0</td>\n",
       "      <td>1</td>\n",
       "      <td>1</td>\n",
       "      <td>PP 9549</td>\n",
       "      <td>16.7000</td>\n",
       "      <td>G6</td>\n",
       "      <td>S</td>\n",
       "    </tr>\n",
       "    <tr>\n",
       "      <th>206</th>\n",
       "      <td>0</td>\n",
       "      <td>3</td>\n",
       "      <td>Strom, Miss. Telma Matilda</td>\n",
       "      <td>female</td>\n",
       "      <td>2.0</td>\n",
       "      <td>0</td>\n",
       "      <td>1</td>\n",
       "      <td>347054</td>\n",
       "      <td>10.4625</td>\n",
       "      <td>G6</td>\n",
       "      <td>S</td>\n",
       "    </tr>\n",
       "    <tr>\n",
       "      <th>252</th>\n",
       "      <td>0</td>\n",
       "      <td>3</td>\n",
       "      <td>Strom, Mrs. Wilhelm (Elna Matilda Persson)</td>\n",
       "      <td>female</td>\n",
       "      <td>29.0</td>\n",
       "      <td>1</td>\n",
       "      <td>1</td>\n",
       "      <td>347054</td>\n",
       "      <td>10.4625</td>\n",
       "      <td>G6</td>\n",
       "      <td>S</td>\n",
       "    </tr>\n",
       "    <tr>\n",
       "      <th>395</th>\n",
       "      <td>1</td>\n",
       "      <td>3</td>\n",
       "      <td>Sandstrom, Mrs. Hjalmar (Agnes Charlotta Bengt...</td>\n",
       "      <td>female</td>\n",
       "      <td>24.0</td>\n",
       "      <td>0</td>\n",
       "      <td>2</td>\n",
       "      <td>PP 9549</td>\n",
       "      <td>16.7000</td>\n",
       "      <td>G6</td>\n",
       "      <td>S</td>\n",
       "    </tr>\n",
       "  </tbody>\n",
       "</table>\n",
       "</div>"
      ],
      "text/plain": [
       "             Survived  Pclass  \\\n",
       "PassengerId                     \n",
       "391                 1       1   \n",
       "436                 1       1   \n",
       "764                 1       1   \n",
       "803                 1       1   \n",
       "28                  0       1   \n",
       "89                  1       1   \n",
       "342                 1       1   \n",
       "439                 0       1   \n",
       "11                  1       3   \n",
       "206                 0       3   \n",
       "252                 0       3   \n",
       "395                 1       3   \n",
       "\n",
       "                                                          Name     Sex   Age  \\\n",
       "PassengerId                                                                    \n",
       "391                                 Carter, Mr. William Ernest    male  36.0   \n",
       "436                                  Carter, Miss. Lucile Polk  female  14.0   \n",
       "764                  Carter, Mrs. William Ernest (Lucile Polk)  female  36.0   \n",
       "803                        Carter, Master. William Thornton II    male  11.0   \n",
       "28                              Fortune, Mr. Charles Alexander    male  19.0   \n",
       "89                                  Fortune, Miss. Mabel Helen  female  23.0   \n",
       "342                             Fortune, Miss. Alice Elizabeth  female  24.0   \n",
       "439                                          Fortune, Mr. Mark    male  64.0   \n",
       "11                             Sandstrom, Miss. Marguerite Rut  female   4.0   \n",
       "206                                 Strom, Miss. Telma Matilda  female   2.0   \n",
       "252                 Strom, Mrs. Wilhelm (Elna Matilda Persson)  female  29.0   \n",
       "395          Sandstrom, Mrs. Hjalmar (Agnes Charlotta Bengt...  female  24.0   \n",
       "\n",
       "             SibSp  Parch   Ticket      Fare        Cabin Embarked  \n",
       "PassengerId                                                         \n",
       "391              1      2   113760  120.0000      B96 B98        S  \n",
       "436              1      2   113760  120.0000      B96 B98        S  \n",
       "764              1      2   113760  120.0000      B96 B98        S  \n",
       "803              1      2   113760  120.0000      B96 B98        S  \n",
       "28               3      2    19950  263.0000  C23 C25 C27        S  \n",
       "89               3      2    19950  263.0000  C23 C25 C27        S  \n",
       "342              3      2    19950  263.0000  C23 C25 C27        S  \n",
       "439              1      4    19950  263.0000  C23 C25 C27        S  \n",
       "11               1      1  PP 9549   16.7000           G6        S  \n",
       "206              0      1   347054   10.4625           G6        S  \n",
       "252              1      1   347054   10.4625           G6        S  \n",
       "395              0      2  PP 9549   16.7000           G6        S  "
      ]
     },
     "execution_count": 19,
     "metadata": {},
     "output_type": "execute_result"
    }
   ],
   "source": [
    "titanic_data[titanic_data.Cabin.isin(titanic_data.Cabin.value_counts().head(3).index)].sort_values(\"Cabin\")"
   ]
  },
  {
   "cell_type": "markdown",
   "id": "5171c882",
   "metadata": {
    "papermill": {
     "duration": 0.02546,
     "end_time": "2024-03-31T13:14:25.579093",
     "exception": false,
     "start_time": "2024-03-31T13:14:25.553633",
     "status": "completed"
    },
    "tags": []
   },
   "source": [
    "`Name`"
   ]
  },
  {
   "cell_type": "code",
   "execution_count": 20,
   "id": "e82f3ad0",
   "metadata": {
    "execution": {
     "iopub.execute_input": "2024-03-31T13:14:25.633551Z",
     "iopub.status.busy": "2024-03-31T13:14:25.632306Z",
     "iopub.status.idle": "2024-03-31T13:14:25.652001Z",
     "shell.execute_reply": "2024-03-31T13:14:25.650895Z"
    },
    "papermill": {
     "duration": 0.049365,
     "end_time": "2024-03-31T13:14:25.654441",
     "exception": false,
     "start_time": "2024-03-31T13:14:25.605076",
     "status": "completed"
    },
    "tags": []
   },
   "outputs": [
    {
     "data": {
      "text/html": [
       "<div>\n",
       "<style scoped>\n",
       "    .dataframe tbody tr th:only-of-type {\n",
       "        vertical-align: middle;\n",
       "    }\n",
       "\n",
       "    .dataframe tbody tr th {\n",
       "        vertical-align: top;\n",
       "    }\n",
       "\n",
       "    .dataframe thead th {\n",
       "        text-align: right;\n",
       "    }\n",
       "</style>\n",
       "<table border=\"1\" class=\"dataframe\">\n",
       "  <thead>\n",
       "    <tr style=\"text-align: right;\">\n",
       "      <th></th>\n",
       "      <th>Survived</th>\n",
       "      <th>Pclass</th>\n",
       "      <th>Name</th>\n",
       "      <th>Sex</th>\n",
       "      <th>Age</th>\n",
       "      <th>SibSp</th>\n",
       "      <th>Parch</th>\n",
       "      <th>Ticket</th>\n",
       "      <th>Fare</th>\n",
       "      <th>Cabin</th>\n",
       "      <th>Embarked</th>\n",
       "    </tr>\n",
       "    <tr>\n",
       "      <th>PassengerId</th>\n",
       "      <th></th>\n",
       "      <th></th>\n",
       "      <th></th>\n",
       "      <th></th>\n",
       "      <th></th>\n",
       "      <th></th>\n",
       "      <th></th>\n",
       "      <th></th>\n",
       "      <th></th>\n",
       "      <th></th>\n",
       "      <th></th>\n",
       "    </tr>\n",
       "  </thead>\n",
       "  <tbody>\n",
       "    <tr>\n",
       "      <th>250</th>\n",
       "      <td>0</td>\n",
       "      <td>2</td>\n",
       "      <td>Carter, Rev. Ernest Courtenay</td>\n",
       "      <td>male</td>\n",
       "      <td>54.0</td>\n",
       "      <td>1</td>\n",
       "      <td>0</td>\n",
       "      <td>244252</td>\n",
       "      <td>26.0</td>\n",
       "      <td>NaN</td>\n",
       "      <td>S</td>\n",
       "    </tr>\n",
       "    <tr>\n",
       "      <th>391</th>\n",
       "      <td>1</td>\n",
       "      <td>1</td>\n",
       "      <td>Carter, Mr. William Ernest</td>\n",
       "      <td>male</td>\n",
       "      <td>36.0</td>\n",
       "      <td>1</td>\n",
       "      <td>2</td>\n",
       "      <td>113760</td>\n",
       "      <td>120.0</td>\n",
       "      <td>B96 B98</td>\n",
       "      <td>S</td>\n",
       "    </tr>\n",
       "    <tr>\n",
       "      <th>436</th>\n",
       "      <td>1</td>\n",
       "      <td>1</td>\n",
       "      <td>Carter, Miss. Lucile Polk</td>\n",
       "      <td>female</td>\n",
       "      <td>14.0</td>\n",
       "      <td>1</td>\n",
       "      <td>2</td>\n",
       "      <td>113760</td>\n",
       "      <td>120.0</td>\n",
       "      <td>B96 B98</td>\n",
       "      <td>S</td>\n",
       "    </tr>\n",
       "    <tr>\n",
       "      <th>764</th>\n",
       "      <td>1</td>\n",
       "      <td>1</td>\n",
       "      <td>Carter, Mrs. William Ernest (Lucile Polk)</td>\n",
       "      <td>female</td>\n",
       "      <td>36.0</td>\n",
       "      <td>1</td>\n",
       "      <td>2</td>\n",
       "      <td>113760</td>\n",
       "      <td>120.0</td>\n",
       "      <td>B96 B98</td>\n",
       "      <td>S</td>\n",
       "    </tr>\n",
       "    <tr>\n",
       "      <th>803</th>\n",
       "      <td>1</td>\n",
       "      <td>1</td>\n",
       "      <td>Carter, Master. William Thornton II</td>\n",
       "      <td>male</td>\n",
       "      <td>11.0</td>\n",
       "      <td>1</td>\n",
       "      <td>2</td>\n",
       "      <td>113760</td>\n",
       "      <td>120.0</td>\n",
       "      <td>B96 B98</td>\n",
       "      <td>S</td>\n",
       "    </tr>\n",
       "    <tr>\n",
       "      <th>855</th>\n",
       "      <td>0</td>\n",
       "      <td>2</td>\n",
       "      <td>Carter, Mrs. Ernest Courtenay (Lilian Hughes)</td>\n",
       "      <td>female</td>\n",
       "      <td>44.0</td>\n",
       "      <td>1</td>\n",
       "      <td>0</td>\n",
       "      <td>244252</td>\n",
       "      <td>26.0</td>\n",
       "      <td>NaN</td>\n",
       "      <td>S</td>\n",
       "    </tr>\n",
       "  </tbody>\n",
       "</table>\n",
       "</div>"
      ],
      "text/plain": [
       "             Survived  Pclass                                           Name  \\\n",
       "PassengerId                                                                    \n",
       "250                 0       2                  Carter, Rev. Ernest Courtenay   \n",
       "391                 1       1                     Carter, Mr. William Ernest   \n",
       "436                 1       1                      Carter, Miss. Lucile Polk   \n",
       "764                 1       1      Carter, Mrs. William Ernest (Lucile Polk)   \n",
       "803                 1       1            Carter, Master. William Thornton II   \n",
       "855                 0       2  Carter, Mrs. Ernest Courtenay (Lilian Hughes)   \n",
       "\n",
       "                Sex   Age  SibSp  Parch  Ticket   Fare    Cabin Embarked  \n",
       "PassengerId                                                               \n",
       "250            male  54.0      1      0  244252   26.0      NaN        S  \n",
       "391            male  36.0      1      2  113760  120.0  B96 B98        S  \n",
       "436          female  14.0      1      2  113760  120.0  B96 B98        S  \n",
       "764          female  36.0      1      2  113760  120.0  B96 B98        S  \n",
       "803            male  11.0      1      2  113760  120.0  B96 B98        S  \n",
       "855          female  44.0      1      0  244252   26.0      NaN        S  "
      ]
     },
     "execution_count": 20,
     "metadata": {},
     "output_type": "execute_result"
    }
   ],
   "source": [
    "titanic_data[titanic_data.Name.str.contains(\"Carter\")]"
   ]
  },
  {
   "cell_type": "markdown",
   "id": "79af5784",
   "metadata": {
    "papermill": {
     "duration": 0.026011,
     "end_time": "2024-03-31T13:14:25.706698",
     "exception": false,
     "start_time": "2024-03-31T13:14:25.680687",
     "status": "completed"
    },
    "tags": []
   },
   "source": [
    "At first we used a count vectorizer on the `Name` column, hoping to to extract information such as family ralations (same last name) and titles (Mr., Mrs.,Miss etc.). Names that do not repeat, like given names, and titles  that occur only once are of no use for the model, so we set `min_df = 2`, which is to say that words with strictly less than 2 occurences are excluded from the vocabulary and go to the stop words set. This this approach created false relation between persons with the same first names, common names like William (64 occurences), Jhon (44 occurences) and Mary (20 occurences) lead to model with poor performance. To counteract this problem, we manualy extract surnames and titles only."
   ]
  },
  {
   "cell_type": "code",
   "execution_count": 21,
   "id": "9f1c22c2",
   "metadata": {
    "execution": {
     "iopub.execute_input": "2024-03-31T13:14:25.761837Z",
     "iopub.status.busy": "2024-03-31T13:14:25.760758Z",
     "iopub.status.idle": "2024-03-31T13:14:25.780562Z",
     "shell.execute_reply": "2024-03-31T13:14:25.779426Z"
    },
    "papermill": {
     "duration": 0.049951,
     "end_time": "2024-03-31T13:14:25.783003",
     "exception": false,
     "start_time": "2024-03-31T13:14:25.733052",
     "status": "completed"
    },
    "tags": []
   },
   "outputs": [
    {
     "data": {
      "text/html": [
       "<div>\n",
       "<style scoped>\n",
       "    .dataframe tbody tr th:only-of-type {\n",
       "        vertical-align: middle;\n",
       "    }\n",
       "\n",
       "    .dataframe tbody tr th {\n",
       "        vertical-align: top;\n",
       "    }\n",
       "\n",
       "    .dataframe thead th {\n",
       "        text-align: right;\n",
       "    }\n",
       "</style>\n",
       "<table border=\"1\" class=\"dataframe\">\n",
       "  <thead>\n",
       "    <tr style=\"text-align: right;\">\n",
       "      <th></th>\n",
       "      <th>Surname</th>\n",
       "      <th>Rest</th>\n",
       "      <th>Title</th>\n",
       "    </tr>\n",
       "    <tr>\n",
       "      <th>PassengerId</th>\n",
       "      <th></th>\n",
       "      <th></th>\n",
       "      <th></th>\n",
       "    </tr>\n",
       "  </thead>\n",
       "  <tbody>\n",
       "    <tr>\n",
       "      <th>1</th>\n",
       "      <td>Braund</td>\n",
       "      <td>Owen Harris</td>\n",
       "      <td>Mr</td>\n",
       "    </tr>\n",
       "    <tr>\n",
       "      <th>2</th>\n",
       "      <td>Cumings</td>\n",
       "      <td>John Bradley (Florence Briggs Thayer)</td>\n",
       "      <td>Mrs</td>\n",
       "    </tr>\n",
       "    <tr>\n",
       "      <th>3</th>\n",
       "      <td>Heikkinen</td>\n",
       "      <td>Laina</td>\n",
       "      <td>Miss</td>\n",
       "    </tr>\n",
       "    <tr>\n",
       "      <th>4</th>\n",
       "      <td>Futrelle</td>\n",
       "      <td>Jacques Heath (Lily May Peel)</td>\n",
       "      <td>Mrs</td>\n",
       "    </tr>\n",
       "    <tr>\n",
       "      <th>5</th>\n",
       "      <td>Allen</td>\n",
       "      <td>William Henry</td>\n",
       "      <td>Mr</td>\n",
       "    </tr>\n",
       "    <tr>\n",
       "      <th>...</th>\n",
       "      <td>...</td>\n",
       "      <td>...</td>\n",
       "      <td>...</td>\n",
       "    </tr>\n",
       "    <tr>\n",
       "      <th>887</th>\n",
       "      <td>Montvila</td>\n",
       "      <td>Juozas</td>\n",
       "      <td>Rev</td>\n",
       "    </tr>\n",
       "    <tr>\n",
       "      <th>888</th>\n",
       "      <td>Graham</td>\n",
       "      <td>Margaret Edith</td>\n",
       "      <td>Miss</td>\n",
       "    </tr>\n",
       "    <tr>\n",
       "      <th>889</th>\n",
       "      <td>Johnston</td>\n",
       "      <td>Catherine Helen \"Carrie\"</td>\n",
       "      <td>Miss</td>\n",
       "    </tr>\n",
       "    <tr>\n",
       "      <th>890</th>\n",
       "      <td>Behr</td>\n",
       "      <td>Karl Howell</td>\n",
       "      <td>Mr</td>\n",
       "    </tr>\n",
       "    <tr>\n",
       "      <th>891</th>\n",
       "      <td>Dooley</td>\n",
       "      <td>Patrick</td>\n",
       "      <td>Mr</td>\n",
       "    </tr>\n",
       "  </tbody>\n",
       "</table>\n",
       "<p>891 rows × 3 columns</p>\n",
       "</div>"
      ],
      "text/plain": [
       "               Surname                                    Rest  Title\n",
       "PassengerId                                                          \n",
       "1               Braund                             Owen Harris     Mr\n",
       "2              Cumings   John Bradley (Florence Briggs Thayer)    Mrs\n",
       "3            Heikkinen                                   Laina   Miss\n",
       "4             Futrelle           Jacques Heath (Lily May Peel)    Mrs\n",
       "5                Allen                           William Henry     Mr\n",
       "...                ...                                     ...    ...\n",
       "887           Montvila                                  Juozas    Rev\n",
       "888             Graham                          Margaret Edith   Miss\n",
       "889           Johnston                Catherine Helen \"Carrie\"   Miss\n",
       "890               Behr                             Karl Howell     Mr\n",
       "891             Dooley                                 Patrick     Mr\n",
       "\n",
       "[891 rows x 3 columns]"
      ]
     },
     "execution_count": 21,
     "metadata": {},
     "output_type": "execute_result"
    }
   ],
   "source": [
    "titanic_data_name = titanic_data.Name.str.split(\",\", expand = True)\n",
    "titanic_data_name.columns = [\"Surname\", \"Rest\"]\n",
    "titanic_data_name[[\"Title\", \"Rest\"]] = titanic_data_name.Rest.str.split(\".\", expand = True, n = 1)\n",
    "\n",
    "titanic_data_name"
   ]
  },
  {
   "cell_type": "code",
   "execution_count": 22,
   "id": "9271aaca",
   "metadata": {
    "execution": {
     "iopub.execute_input": "2024-03-31T13:14:25.838385Z",
     "iopub.status.busy": "2024-03-31T13:14:25.837634Z",
     "iopub.status.idle": "2024-03-31T13:14:25.847028Z",
     "shell.execute_reply": "2024-03-31T13:14:25.845888Z"
    },
    "papermill": {
     "duration": 0.03975,
     "end_time": "2024-03-31T13:14:25.849465",
     "exception": false,
     "start_time": "2024-03-31T13:14:25.809715",
     "status": "completed"
    },
    "tags": []
   },
   "outputs": [
    {
     "data": {
      "text/plain": [
       "Title\n",
       "Mr              517\n",
       "Miss            182\n",
       "Mrs             125\n",
       "Master           40\n",
       "Dr                7\n",
       "Rev               6\n",
       "Mlle              2\n",
       "Major             2\n",
       "Col               2\n",
       "the Countess      1\n",
       "Capt              1\n",
       "Ms                1\n",
       "Sir               1\n",
       "Lady              1\n",
       "Mme               1\n",
       "Don               1\n",
       "Jonkheer          1\n",
       "Name: count, dtype: int64"
      ]
     },
     "execution_count": 22,
     "metadata": {},
     "output_type": "execute_result"
    }
   ],
   "source": [
    "titanic_data_name.Title.value_counts()"
   ]
  },
  {
   "cell_type": "code",
   "execution_count": 23,
   "id": "1478d2cf",
   "metadata": {
    "execution": {
     "iopub.execute_input": "2024-03-31T13:14:25.913902Z",
     "iopub.status.busy": "2024-03-31T13:14:25.913361Z",
     "iopub.status.idle": "2024-03-31T13:14:25.938168Z",
     "shell.execute_reply": "2024-03-31T13:14:25.937056Z"
    },
    "papermill": {
     "duration": 0.061165,
     "end_time": "2024-03-31T13:14:25.940561",
     "exception": false,
     "start_time": "2024-03-31T13:14:25.879396",
     "status": "completed"
    },
    "tags": []
   },
   "outputs": [
    {
     "data": {
      "text/html": [
       "<style>#sk-container-id-1 {color: black;background-color: white;}#sk-container-id-1 pre{padding: 0;}#sk-container-id-1 div.sk-toggleable {background-color: white;}#sk-container-id-1 label.sk-toggleable__label {cursor: pointer;display: block;width: 100%;margin-bottom: 0;padding: 0.3em;box-sizing: border-box;text-align: center;}#sk-container-id-1 label.sk-toggleable__label-arrow:before {content: \"▸\";float: left;margin-right: 0.25em;color: #696969;}#sk-container-id-1 label.sk-toggleable__label-arrow:hover:before {color: black;}#sk-container-id-1 div.sk-estimator:hover label.sk-toggleable__label-arrow:before {color: black;}#sk-container-id-1 div.sk-toggleable__content {max-height: 0;max-width: 0;overflow: hidden;text-align: left;background-color: #f0f8ff;}#sk-container-id-1 div.sk-toggleable__content pre {margin: 0.2em;color: black;border-radius: 0.25em;background-color: #f0f8ff;}#sk-container-id-1 input.sk-toggleable__control:checked~div.sk-toggleable__content {max-height: 200px;max-width: 100%;overflow: auto;}#sk-container-id-1 input.sk-toggleable__control:checked~label.sk-toggleable__label-arrow:before {content: \"▾\";}#sk-container-id-1 div.sk-estimator input.sk-toggleable__control:checked~label.sk-toggleable__label {background-color: #d4ebff;}#sk-container-id-1 div.sk-label input.sk-toggleable__control:checked~label.sk-toggleable__label {background-color: #d4ebff;}#sk-container-id-1 input.sk-hidden--visually {border: 0;clip: rect(1px 1px 1px 1px);clip: rect(1px, 1px, 1px, 1px);height: 1px;margin: -1px;overflow: hidden;padding: 0;position: absolute;width: 1px;}#sk-container-id-1 div.sk-estimator {font-family: monospace;background-color: #f0f8ff;border: 1px dotted black;border-radius: 0.25em;box-sizing: border-box;margin-bottom: 0.5em;}#sk-container-id-1 div.sk-estimator:hover {background-color: #d4ebff;}#sk-container-id-1 div.sk-parallel-item::after {content: \"\";width: 100%;border-bottom: 1px solid gray;flex-grow: 1;}#sk-container-id-1 div.sk-label:hover label.sk-toggleable__label {background-color: #d4ebff;}#sk-container-id-1 div.sk-serial::before {content: \"\";position: absolute;border-left: 1px solid gray;box-sizing: border-box;top: 0;bottom: 0;left: 50%;z-index: 0;}#sk-container-id-1 div.sk-serial {display: flex;flex-direction: column;align-items: center;background-color: white;padding-right: 0.2em;padding-left: 0.2em;position: relative;}#sk-container-id-1 div.sk-item {position: relative;z-index: 1;}#sk-container-id-1 div.sk-parallel {display: flex;align-items: stretch;justify-content: center;background-color: white;position: relative;}#sk-container-id-1 div.sk-item::before, #sk-container-id-1 div.sk-parallel-item::before {content: \"\";position: absolute;border-left: 1px solid gray;box-sizing: border-box;top: 0;bottom: 0;left: 50%;z-index: -1;}#sk-container-id-1 div.sk-parallel-item {display: flex;flex-direction: column;z-index: 1;position: relative;background-color: white;}#sk-container-id-1 div.sk-parallel-item:first-child::after {align-self: flex-end;width: 50%;}#sk-container-id-1 div.sk-parallel-item:last-child::after {align-self: flex-start;width: 50%;}#sk-container-id-1 div.sk-parallel-item:only-child::after {width: 0;}#sk-container-id-1 div.sk-dashed-wrapped {border: 1px dashed gray;margin: 0 0.4em 0.5em 0.4em;box-sizing: border-box;padding-bottom: 0.4em;background-color: white;}#sk-container-id-1 div.sk-label label {font-family: monospace;font-weight: bold;display: inline-block;line-height: 1.2em;}#sk-container-id-1 div.sk-label-container {text-align: center;}#sk-container-id-1 div.sk-container {/* jupyter's `normalize.less` sets `[hidden] { display: none; }` but bootstrap.min.css set `[hidden] { display: none !important; }` so we also need the `!important` here to be able to override the default hidden behavior on the sphinx rendered scikit-learn.org. See: https://github.com/scikit-learn/scikit-learn/issues/21755 */display: inline-block !important;position: relative;}#sk-container-id-1 div.sk-text-repr-fallback {display: none;}</style><div id=\"sk-container-id-1\" class=\"sk-top-container\"><div class=\"sk-text-repr-fallback\"><pre>CountVectorizer(min_df=2)</pre><b>In a Jupyter environment, please rerun this cell to show the HTML representation or trust the notebook. <br />On GitHub, the HTML representation is unable to render, please try loading this page with nbviewer.org.</b></div><div class=\"sk-container\" hidden><div class=\"sk-item\"><div class=\"sk-estimator sk-toggleable\"><input class=\"sk-toggleable__control sk-hidden--visually\" id=\"sk-estimator-id-1\" type=\"checkbox\" checked><label for=\"sk-estimator-id-1\" class=\"sk-toggleable__label sk-toggleable__label-arrow\">CountVectorizer</label><div class=\"sk-toggleable__content\"><pre>CountVectorizer(min_df=2)</pre></div></div></div></div></div>"
      ],
      "text/plain": [
       "CountVectorizer(min_df=2)"
      ]
     },
     "execution_count": 23,
     "metadata": {},
     "output_type": "execute_result"
    }
   ],
   "source": [
    "name_count_vectorizer = CountVectorizer(min_df = 2)\n",
    "name_count_vectorizer.fit(titanic_data_name.Surname)"
   ]
  },
  {
   "cell_type": "code",
   "execution_count": 24,
   "id": "e216b744",
   "metadata": {
    "execution": {
     "iopub.execute_input": "2024-03-31T13:14:26.004895Z",
     "iopub.status.busy": "2024-03-31T13:14:26.004353Z",
     "iopub.status.idle": "2024-03-31T13:14:26.013561Z",
     "shell.execute_reply": "2024-03-31T13:14:26.011719Z"
    },
    "papermill": {
     "duration": 0.048065,
     "end_time": "2024-03-31T13:14:26.017173",
     "exception": false,
     "start_time": "2024-03-31T13:14:25.969108",
     "status": "completed"
    },
    "tags": []
   },
   "outputs": [
    {
     "data": {
      "text/plain": [
       "143"
      ]
     },
     "execution_count": 24,
     "metadata": {},
     "output_type": "execute_result"
    }
   ],
   "source": [
    "len(name_count_vectorizer.vocabulary_)"
   ]
  },
  {
   "cell_type": "code",
   "execution_count": 25,
   "id": "f46d30b3",
   "metadata": {
    "execution": {
     "iopub.execute_input": "2024-03-31T13:14:26.083234Z",
     "iopub.status.busy": "2024-03-31T13:14:26.082824Z",
     "iopub.status.idle": "2024-03-31T13:14:26.089665Z",
     "shell.execute_reply": "2024-03-31T13:14:26.088580Z"
    },
    "papermill": {
     "duration": 0.038271,
     "end_time": "2024-03-31T13:14:26.092179",
     "exception": false,
     "start_time": "2024-03-31T13:14:26.053908",
     "status": "completed"
    },
    "tags": []
   },
   "outputs": [
    {
     "data": {
      "text/plain": [
       "542"
      ]
     },
     "execution_count": 25,
     "metadata": {},
     "output_type": "execute_result"
    }
   ],
   "source": [
    "len(name_count_vectorizer.stop_words_)"
   ]
  },
  {
   "cell_type": "code",
   "execution_count": 26,
   "id": "a1ef2b08",
   "metadata": {
    "execution": {
     "iopub.execute_input": "2024-03-31T13:14:26.148777Z",
     "iopub.status.busy": "2024-03-31T13:14:26.148371Z",
     "iopub.status.idle": "2024-03-31T13:14:26.160180Z",
     "shell.execute_reply": "2024-03-31T13:14:26.159272Z"
    },
    "papermill": {
     "duration": 0.043004,
     "end_time": "2024-03-31T13:14:26.162557",
     "exception": false,
     "start_time": "2024-03-31T13:14:26.119553",
     "status": "completed"
    },
    "tags": []
   },
   "outputs": [],
   "source": [
    "name_vectorized = name_count_vectorizer.transform(titanic_data_name.Surname)"
   ]
  },
  {
   "cell_type": "code",
   "execution_count": 27,
   "id": "1c51fe59",
   "metadata": {
    "execution": {
     "iopub.execute_input": "2024-03-31T13:14:26.220301Z",
     "iopub.status.busy": "2024-03-31T13:14:26.219861Z",
     "iopub.status.idle": "2024-03-31T13:14:26.231184Z",
     "shell.execute_reply": "2024-03-31T13:14:26.230049Z"
    },
    "papermill": {
     "duration": 0.04349,
     "end_time": "2024-03-31T13:14:26.233582",
     "exception": false,
     "start_time": "2024-03-31T13:14:26.190092",
     "status": "completed"
    },
    "tags": []
   },
   "outputs": [
    {
     "data": {
      "text/plain": [
       "andersson     9\n",
       "sage          7\n",
       "goodwin       6\n",
       "carter        6\n",
       "skoog         6\n",
       "panula        6\n",
       "johnson       6\n",
       "van           6\n",
       "williams      5\n",
       "rice          5\n",
       "jensen        4\n",
       "harper        4\n",
       "harris        4\n",
       "hart          4\n",
       "brown         4\n",
       "gustafsson    4\n",
       "palsson       4\n",
       "smith         4\n",
       "vander        4\n",
       "baclini       4\n",
       "dtype: int64"
      ]
     },
     "execution_count": 27,
     "metadata": {},
     "output_type": "execute_result"
    }
   ],
   "source": [
    "name_document_frequency = pd.DataFrame(\n",
    "    name_vectorized.toarray(), \n",
    "    columns = name_count_vectorizer.get_feature_names_out()\n",
    ").sum().sort_values(ascending = False)\n",
    "\n",
    "name_document_frequency.head(20)"
   ]
  },
  {
   "cell_type": "code",
   "execution_count": 28,
   "id": "d20f09b4",
   "metadata": {
    "execution": {
     "iopub.execute_input": "2024-03-31T13:14:26.291866Z",
     "iopub.status.busy": "2024-03-31T13:14:26.291496Z",
     "iopub.status.idle": "2024-03-31T13:14:26.299922Z",
     "shell.execute_reply": "2024-03-31T13:14:26.298657Z"
    },
    "papermill": {
     "duration": 0.040573,
     "end_time": "2024-03-31T13:14:26.302317",
     "exception": false,
     "start_time": "2024-03-31T13:14:26.261744",
     "status": "completed"
    },
    "tags": []
   },
   "outputs": [
    {
     "data": {
      "text/plain": [
       "kantor         2\n",
       "johnston       2\n",
       "jacobsohn      2\n",
       "abelson        2\n",
       "holverson      2\n",
       "hocking        2\n",
       "hippach        2\n",
       "herman         2\n",
       "hays           2\n",
       "hamalainen     2\n",
       "hakkarainen    2\n",
       "hagland        2\n",
       "gordon         2\n",
       "goldenberg     2\n",
       "futrelle       2\n",
       "frolicher      2\n",
       "frauenthal     2\n",
       "franchi        2\n",
       "duff           2\n",
       "zabour         2\n",
       "dtype: int64"
      ]
     },
     "execution_count": 28,
     "metadata": {},
     "output_type": "execute_result"
    }
   ],
   "source": [
    "name_document_frequency.tail(20)"
   ]
  },
  {
   "cell_type": "code",
   "execution_count": null,
   "id": "d9380684",
   "metadata": {
    "papermill": {
     "duration": 0.038195,
     "end_time": "2024-03-31T13:14:26.380538",
     "exception": false,
     "start_time": "2024-03-31T13:14:26.342343",
     "status": "completed"
    },
    "tags": []
   },
   "outputs": [],
   "source": []
  },
  {
   "cell_type": "code",
   "execution_count": 29,
   "id": "fc8419e7",
   "metadata": {
    "execution": {
     "iopub.execute_input": "2024-03-31T13:14:26.442475Z",
     "iopub.status.busy": "2024-03-31T13:14:26.442080Z",
     "iopub.status.idle": "2024-03-31T13:14:26.446043Z",
     "shell.execute_reply": "2024-03-31T13:14:26.445315Z"
    },
    "papermill": {
     "duration": 0.035538,
     "end_time": "2024-03-31T13:14:26.448337",
     "exception": false,
     "start_time": "2024-03-31T13:14:26.412799",
     "status": "completed"
    },
    "tags": []
   },
   "outputs": [],
   "source": [
    "svd = TruncatedSVD(100)"
   ]
  },
  {
   "cell_type": "code",
   "execution_count": 30,
   "id": "23e042b2",
   "metadata": {
    "execution": {
     "iopub.execute_input": "2024-03-31T13:14:26.506299Z",
     "iopub.status.busy": "2024-03-31T13:14:26.505908Z",
     "iopub.status.idle": "2024-03-31T13:14:26.586693Z",
     "shell.execute_reply": "2024-03-31T13:14:26.585586Z"
    },
    "papermill": {
     "duration": 0.113707,
     "end_time": "2024-03-31T13:14:26.590172",
     "exception": false,
     "start_time": "2024-03-31T13:14:26.476465",
     "status": "completed"
    },
    "tags": []
   },
   "outputs": [
    {
     "data": {
      "text/html": [
       "<style>#sk-container-id-2 {color: black;background-color: white;}#sk-container-id-2 pre{padding: 0;}#sk-container-id-2 div.sk-toggleable {background-color: white;}#sk-container-id-2 label.sk-toggleable__label {cursor: pointer;display: block;width: 100%;margin-bottom: 0;padding: 0.3em;box-sizing: border-box;text-align: center;}#sk-container-id-2 label.sk-toggleable__label-arrow:before {content: \"▸\";float: left;margin-right: 0.25em;color: #696969;}#sk-container-id-2 label.sk-toggleable__label-arrow:hover:before {color: black;}#sk-container-id-2 div.sk-estimator:hover label.sk-toggleable__label-arrow:before {color: black;}#sk-container-id-2 div.sk-toggleable__content {max-height: 0;max-width: 0;overflow: hidden;text-align: left;background-color: #f0f8ff;}#sk-container-id-2 div.sk-toggleable__content pre {margin: 0.2em;color: black;border-radius: 0.25em;background-color: #f0f8ff;}#sk-container-id-2 input.sk-toggleable__control:checked~div.sk-toggleable__content {max-height: 200px;max-width: 100%;overflow: auto;}#sk-container-id-2 input.sk-toggleable__control:checked~label.sk-toggleable__label-arrow:before {content: \"▾\";}#sk-container-id-2 div.sk-estimator input.sk-toggleable__control:checked~label.sk-toggleable__label {background-color: #d4ebff;}#sk-container-id-2 div.sk-label input.sk-toggleable__control:checked~label.sk-toggleable__label {background-color: #d4ebff;}#sk-container-id-2 input.sk-hidden--visually {border: 0;clip: rect(1px 1px 1px 1px);clip: rect(1px, 1px, 1px, 1px);height: 1px;margin: -1px;overflow: hidden;padding: 0;position: absolute;width: 1px;}#sk-container-id-2 div.sk-estimator {font-family: monospace;background-color: #f0f8ff;border: 1px dotted black;border-radius: 0.25em;box-sizing: border-box;margin-bottom: 0.5em;}#sk-container-id-2 div.sk-estimator:hover {background-color: #d4ebff;}#sk-container-id-2 div.sk-parallel-item::after {content: \"\";width: 100%;border-bottom: 1px solid gray;flex-grow: 1;}#sk-container-id-2 div.sk-label:hover label.sk-toggleable__label {background-color: #d4ebff;}#sk-container-id-2 div.sk-serial::before {content: \"\";position: absolute;border-left: 1px solid gray;box-sizing: border-box;top: 0;bottom: 0;left: 50%;z-index: 0;}#sk-container-id-2 div.sk-serial {display: flex;flex-direction: column;align-items: center;background-color: white;padding-right: 0.2em;padding-left: 0.2em;position: relative;}#sk-container-id-2 div.sk-item {position: relative;z-index: 1;}#sk-container-id-2 div.sk-parallel {display: flex;align-items: stretch;justify-content: center;background-color: white;position: relative;}#sk-container-id-2 div.sk-item::before, #sk-container-id-2 div.sk-parallel-item::before {content: \"\";position: absolute;border-left: 1px solid gray;box-sizing: border-box;top: 0;bottom: 0;left: 50%;z-index: -1;}#sk-container-id-2 div.sk-parallel-item {display: flex;flex-direction: column;z-index: 1;position: relative;background-color: white;}#sk-container-id-2 div.sk-parallel-item:first-child::after {align-self: flex-end;width: 50%;}#sk-container-id-2 div.sk-parallel-item:last-child::after {align-self: flex-start;width: 50%;}#sk-container-id-2 div.sk-parallel-item:only-child::after {width: 0;}#sk-container-id-2 div.sk-dashed-wrapped {border: 1px dashed gray;margin: 0 0.4em 0.5em 0.4em;box-sizing: border-box;padding-bottom: 0.4em;background-color: white;}#sk-container-id-2 div.sk-label label {font-family: monospace;font-weight: bold;display: inline-block;line-height: 1.2em;}#sk-container-id-2 div.sk-label-container {text-align: center;}#sk-container-id-2 div.sk-container {/* jupyter's `normalize.less` sets `[hidden] { display: none; }` but bootstrap.min.css set `[hidden] { display: none !important; }` so we also need the `!important` here to be able to override the default hidden behavior on the sphinx rendered scikit-learn.org. See: https://github.com/scikit-learn/scikit-learn/issues/21755 */display: inline-block !important;position: relative;}#sk-container-id-2 div.sk-text-repr-fallback {display: none;}</style><div id=\"sk-container-id-2\" class=\"sk-top-container\"><div class=\"sk-text-repr-fallback\"><pre>TruncatedSVD(n_components=100)</pre><b>In a Jupyter environment, please rerun this cell to show the HTML representation or trust the notebook. <br />On GitHub, the HTML representation is unable to render, please try loading this page with nbviewer.org.</b></div><div class=\"sk-container\" hidden><div class=\"sk-item\"><div class=\"sk-estimator sk-toggleable\"><input class=\"sk-toggleable__control sk-hidden--visually\" id=\"sk-estimator-id-2\" type=\"checkbox\" checked><label for=\"sk-estimator-id-2\" class=\"sk-toggleable__label sk-toggleable__label-arrow\">TruncatedSVD</label><div class=\"sk-toggleable__content\"><pre>TruncatedSVD(n_components=100)</pre></div></div></div></div></div>"
      ],
      "text/plain": [
       "TruncatedSVD(n_components=100)"
      ]
     },
     "execution_count": 30,
     "metadata": {},
     "output_type": "execute_result"
    }
   ],
   "source": [
    "svd.fit(name_vectorized)"
   ]
  },
  {
   "cell_type": "code",
   "execution_count": 31,
   "id": "fb4ab9f4",
   "metadata": {
    "execution": {
     "iopub.execute_input": "2024-03-31T13:14:26.724934Z",
     "iopub.status.busy": "2024-03-31T13:14:26.724543Z",
     "iopub.status.idle": "2024-03-31T13:14:26.731253Z",
     "shell.execute_reply": "2024-03-31T13:14:26.730160Z"
    },
    "papermill": {
     "duration": 0.039207,
     "end_time": "2024-03-31T13:14:26.733538",
     "exception": false,
     "start_time": "2024-03-31T13:14:26.694331",
     "status": "completed"
    },
    "tags": []
   },
   "outputs": [
    {
     "data": {
      "text/plain": [
       "100"
      ]
     },
     "execution_count": 31,
     "metadata": {},
     "output_type": "execute_result"
    }
   ],
   "source": [
    "svd.n_components"
   ]
  },
  {
   "cell_type": "code",
   "execution_count": 32,
   "id": "8744363d",
   "metadata": {
    "execution": {
     "iopub.execute_input": "2024-03-31T13:14:26.797796Z",
     "iopub.status.busy": "2024-03-31T13:14:26.796669Z",
     "iopub.status.idle": "2024-03-31T13:14:26.805569Z",
     "shell.execute_reply": "2024-03-31T13:14:26.804406Z"
    },
    "papermill": {
     "duration": 0.046312,
     "end_time": "2024-03-31T13:14:26.808055",
     "exception": false,
     "start_time": "2024-03-31T13:14:26.761743",
     "status": "completed"
    },
    "tags": []
   },
   "outputs": [
    {
     "data": {
      "text/plain": [
       "0.8035666458879701"
      ]
     },
     "execution_count": 32,
     "metadata": {},
     "output_type": "execute_result"
    }
   ],
   "source": [
    "svd.explained_variance_ratio_.sum()"
   ]
  },
  {
   "cell_type": "code",
   "execution_count": 33,
   "id": "0c2626ec",
   "metadata": {
    "execution": {
     "iopub.execute_input": "2024-03-31T13:14:26.869719Z",
     "iopub.status.busy": "2024-03-31T13:14:26.868706Z",
     "iopub.status.idle": "2024-03-31T13:14:28.719861Z",
     "shell.execute_reply": "2024-03-31T13:14:28.718699Z"
    },
    "papermill": {
     "duration": 1.885609,
     "end_time": "2024-03-31T13:14:28.722504",
     "exception": false,
     "start_time": "2024-03-31T13:14:26.836895",
     "status": "completed"
    },
    "tags": []
   },
   "outputs": [
    {
     "data": {
      "image/png": "[encoded data removed]",
      "text/plain": [
       "<Figure size 640x480 with 1 Axes>"
      ]
     },
     "metadata": {},
     "output_type": "display_data"
    }
   ],
   "source": [
    "sns.barplot(x = np.arange(svd.n_components), y = svd.explained_variance_ratio_)\n",
    "plt.show()"
   ]
  },
  {
   "cell_type": "markdown",
   "id": "12ae489b",
   "metadata": {
    "papermill": {
     "duration": 0.029812,
     "end_time": "2024-03-31T13:14:28.782094",
     "exception": false,
     "start_time": "2024-03-31T13:14:28.752282",
     "status": "completed"
    },
    "tags": []
   },
   "source": [
    "## Preprocessing"
   ]
  },
  {
   "cell_type": "code",
   "execution_count": 34,
   "id": "c7aaf9e5",
   "metadata": {
    "execution": {
     "iopub.execute_input": "2024-03-31T13:14:28.842486Z",
     "iopub.status.busy": "2024-03-31T13:14:28.842054Z",
     "iopub.status.idle": "2024-03-31T13:14:28.856504Z",
     "shell.execute_reply": "2024-03-31T13:14:28.854947Z"
    },
    "papermill": {
     "duration": 0.047418,
     "end_time": "2024-03-31T13:14:28.859067",
     "exception": false,
     "start_time": "2024-03-31T13:14:28.811649",
     "status": "completed"
    },
    "tags": []
   },
   "outputs": [
    {
     "data": {
      "text/plain": [
       "(((623, 10), (268,)), ((268, 10), (268,)))"
      ]
     },
     "execution_count": 34,
     "metadata": {},
     "output_type": "execute_result"
    }
   ],
   "source": [
    "# Split the data into train and validation sets\n",
    "titanic_train, titanic_val, survived_train, survived_val = train_test_split(\n",
    "    titanic, \n",
    "    survived, \n",
    "    test_size = 0.3,\n",
    "    random_state = 42\n",
    ")\n",
    "\n",
    "\n",
    "(titanic_train.shape, survived_val.shape), (titanic_val.shape, survived_val.shape)"
   ]
  },
  {
   "cell_type": "code",
   "execution_count": 35,
   "id": "ae7af692",
   "metadata": {
    "execution": {
     "iopub.execute_input": "2024-03-31T13:14:28.922432Z",
     "iopub.status.busy": "2024-03-31T13:14:28.921782Z",
     "iopub.status.idle": "2024-03-31T13:14:28.931241Z",
     "shell.execute_reply": "2024-03-31T13:14:28.930139Z"
    },
    "papermill": {
     "duration": 0.04437,
     "end_time": "2024-03-31T13:14:28.933561",
     "exception": false,
     "start_time": "2024-03-31T13:14:28.889191",
     "status": "completed"
    },
    "tags": []
   },
   "outputs": [],
   "source": [
    "# Preprocessing for numerical data\n",
    "numerical_transformer = Pipeline(steps = [\n",
    "    ('imputer', SimpleImputer(strategy = \"median\")),\n",
    "    ('scaler', MinMaxScaler())\n",
    "])\n",
    "\n",
    "# Preprocessing for nominal categorical data\n",
    "nominal_transformer = Pipeline(steps = [\n",
    "    ('imputer', SimpleImputer(strategy = \"most_frequent\")),\n",
    "    ('onehot', OneHotEncoder(drop = \"if_binary\", handle_unknown='ignore'))\n",
    "])\n",
    "\n",
    "# Preprocessing for ordinal categorical data\n",
    "ordinal_transformer = Pipeline(steps = [\n",
    "    ('imputer', SimpleImputer(strategy = \"most_frequent\")),\n",
    "    ('onehot', OneHotEncoder(drop = None, handle_unknown='ignore'))\n",
    "])\n",
    "\n",
    "# Preprocessing for text features\n",
    "text_transformer = Pipeline(steps = [\n",
    "    ### TODO: add function transformer = str.expand\n",
    "    (\"vectorizer\", CountVectorizer(min_df = 2)),\n",
    "    (\"svd\", TruncatedSVD(n_components = 10))\n",
    "])\n",
    "\n",
    "\n",
    "# Join preprocessing for all types of data\n",
    "preprocessor = ColumnTransformer(\n",
    "    transformers = [\n",
    "        ('numerical', numerical_transformer, float_cols),\n",
    "        ('nominal', nominal_transformer, object_cols),\n",
    "        ('ordinal', ordinal_transformer, int_cols),\n",
    "        (\"text\", text_transformer, \"Name\")\n",
    "        \n",
    "    ])"
   ]
  },
  {
   "cell_type": "markdown",
   "id": "9237a08a",
   "metadata": {
    "papermill": {
     "duration": 0.028878,
     "end_time": "2024-03-31T13:14:28.992169",
     "exception": false,
     "start_time": "2024-03-31T13:14:28.963291",
     "status": "completed"
    },
    "tags": []
   },
   "source": [
    "## Model"
   ]
  },
  {
   "cell_type": "code",
   "execution_count": 36,
   "id": "ba25553a",
   "metadata": {
    "execution": {
     "iopub.execute_input": "2024-03-31T13:14:29.052157Z",
     "iopub.status.busy": "2024-03-31T13:14:29.051781Z",
     "iopub.status.idle": "2024-03-31T13:14:29.057400Z",
     "shell.execute_reply": "2024-03-31T13:14:29.056272Z"
    },
    "papermill": {
     "duration": 0.038279,
     "end_time": "2024-03-31T13:14:29.059632",
     "exception": false,
     "start_time": "2024-03-31T13:14:29.021353",
     "status": "completed"
    },
    "tags": []
   },
   "outputs": [],
   "source": [
    "# Define a model \n",
    "xgb = XGBClassifier(\n",
    "#     early_stopping_rounds = 10, \n",
    "    random_state = 42\n",
    ")\n",
    "\n",
    "# Define grid search with cross-validation\n",
    "xgb_grid = GridSearchCV(\n",
    "    estimator = xgb,\n",
    "    param_grid = {\n",
    "        \"n_estimators\": [100],\n",
    "        \"learning_rate\": [0.1]\n",
    "    },\n",
    "    cv = 8,\n",
    "    scoring = \"accuracy\",\n",
    "    return_train_score = True\n",
    ")"
   ]
  },
  {
   "cell_type": "code",
   "execution_count": 37,
   "id": "c2c8fc27",
   "metadata": {
    "execution": {
     "iopub.execute_input": "2024-03-31T13:14:29.119865Z",
     "iopub.status.busy": "2024-03-31T13:14:29.118837Z",
     "iopub.status.idle": "2024-03-31T13:14:29.348566Z",
     "shell.execute_reply": "2024-03-31T13:14:29.347461Z"
    },
    "papermill": {
     "duration": 0.262551,
     "end_time": "2024-03-31T13:14:29.351122",
     "exception": false,
     "start_time": "2024-03-31T13:14:29.088571",
     "status": "completed"
    },
    "tags": []
   },
   "outputs": [
    {
     "data": {
      "text/html": [
       "<style>#sk-container-id-3 {color: black;background-color: white;}#sk-container-id-3 pre{padding: 0;}#sk-container-id-3 div.sk-toggleable {background-color: white;}#sk-container-id-3 label.sk-toggleable__label {cursor: pointer;display: block;width: 100%;margin-bottom: 0;padding: 0.3em;box-sizing: border-box;text-align: center;}#sk-container-id-3 label.sk-toggleable__label-arrow:before {content: \"▸\";float: left;margin-right: 0.25em;color: #696969;}#sk-container-id-3 label.sk-toggleable__label-arrow:hover:before {color: black;}#sk-container-id-3 div.sk-estimator:hover label.sk-toggleable__label-arrow:before {color: black;}#sk-container-id-3 div.sk-toggleable__content {max-height: 0;max-width: 0;overflow: hidden;text-align: left;background-color: #f0f8ff;}#sk-container-id-3 div.sk-toggleable__content pre {margin: 0.2em;color: black;border-radius: 0.25em;background-color: #f0f8ff;}#sk-container-id-3 input.sk-toggleable__control:checked~div.sk-toggleable__content {max-height: 200px;max-width: 100%;overflow: auto;}#sk-container-id-3 input.sk-toggleable__control:checked~label.sk-toggleable__label-arrow:before {content: \"▾\";}#sk-container-id-3 div.sk-estimator input.sk-toggleable__control:checked~label.sk-toggleable__label {background-color: #d4ebff;}#sk-container-id-3 div.sk-label input.sk-toggleable__control:checked~label.sk-toggleable__label {background-color: #d4ebff;}#sk-container-id-3 input.sk-hidden--visually {border: 0;clip: rect(1px 1px 1px 1px);clip: rect(1px, 1px, 1px, 1px);height: 1px;margin: -1px;overflow: hidden;padding: 0;position: absolute;width: 1px;}#sk-container-id-3 div.sk-estimator {font-family: monospace;background-color: #f0f8ff;border: 1px dotted black;border-radius: 0.25em;box-sizing: border-box;margin-bottom: 0.5em;}#sk-container-id-3 div.sk-estimator:hover {background-color: #d4ebff;}#sk-container-id-3 div.sk-parallel-item::after {content: \"\";width: 100%;border-bottom: 1px solid gray;flex-grow: 1;}#sk-container-id-3 div.sk-label:hover label.sk-toggleable__label {background-color: #d4ebff;}#sk-container-id-3 div.sk-serial::before {content: \"\";position: absolute;border-left: 1px solid gray;box-sizing: border-box;top: 0;bottom: 0;left: 50%;z-index: 0;}#sk-container-id-3 div.sk-serial {display: flex;flex-direction: column;align-items: center;background-color: white;padding-right: 0.2em;padding-left: 0.2em;position: relative;}#sk-container-id-3 div.sk-item {position: relative;z-index: 1;}#sk-container-id-3 div.sk-parallel {display: flex;align-items: stretch;justify-content: center;background-color: white;position: relative;}#sk-container-id-3 div.sk-item::before, #sk-container-id-3 div.sk-parallel-item::before {content: \"\";position: absolute;border-left: 1px solid gray;box-sizing: border-box;top: 0;bottom: 0;left: 50%;z-index: -1;}#sk-container-id-3 div.sk-parallel-item {display: flex;flex-direction: column;z-index: 1;position: relative;background-color: white;}#sk-container-id-3 div.sk-parallel-item:first-child::after {align-self: flex-end;width: 50%;}#sk-container-id-3 div.sk-parallel-item:last-child::after {align-self: flex-start;width: 50%;}#sk-container-id-3 div.sk-parallel-item:only-child::after {width: 0;}#sk-container-id-3 div.sk-dashed-wrapped {border: 1px dashed gray;margin: 0 0.4em 0.5em 0.4em;box-sizing: border-box;padding-bottom: 0.4em;background-color: white;}#sk-container-id-3 div.sk-label label {font-family: monospace;font-weight: bold;display: inline-block;line-height: 1.2em;}#sk-container-id-3 div.sk-label-container {text-align: center;}#sk-container-id-3 div.sk-container {/* jupyter's `normalize.less` sets `[hidden] { display: none; }` but bootstrap.min.css set `[hidden] { display: none !important; }` so we also need the `!important` here to be able to override the default hidden behavior on the sphinx rendered scikit-learn.org. See: https://github.com/scikit-learn/scikit-learn/issues/21755 */display: inline-block !important;position: relative;}#sk-container-id-3 div.sk-text-repr-fallback {display: none;}</style><div id=\"sk-container-id-3\" class=\"sk-top-container\"><div class=\"sk-text-repr-fallback\"><pre>ColumnTransformer(transformers=[(&#x27;numerical&#x27;,\n",
       "                                 Pipeline(steps=[(&#x27;imputer&#x27;,\n",
       "                                                  SimpleImputer(strategy=&#x27;median&#x27;)),\n",
       "                                                 (&#x27;scaler&#x27;, MinMaxScaler())]),\n",
       "                                 [&#x27;Age&#x27;, &#x27;Fare&#x27;]),\n",
       "                                (&#x27;nominal&#x27;,\n",
       "                                 Pipeline(steps=[(&#x27;imputer&#x27;,\n",
       "                                                  SimpleImputer(strategy=&#x27;most_frequent&#x27;)),\n",
       "                                                 (&#x27;onehot&#x27;,\n",
       "                                                  OneHotEncoder(drop=&#x27;if_binary&#x27;,\n",
       "                                                                handle_unknown=&#x27;ignore&#x27;))]),\n",
       "                                 [&#x27;Name&#x27;, &#x27;Sex&#x27;, &#x27;Ticket&#x27;, &#x27;Cabin&#x27;,\n",
       "                                  &#x27;Embarked&#x27;]),\n",
       "                                (&#x27;ordinal&#x27;,\n",
       "                                 Pipeline(steps=[(&#x27;imputer&#x27;,\n",
       "                                                  SimpleImputer(strategy=&#x27;most_frequent&#x27;)),\n",
       "                                                 (&#x27;onehot&#x27;,\n",
       "                                                  OneHotEncoder(handle_unknown=&#x27;ignore&#x27;))]),\n",
       "                                 [&#x27;Pclass&#x27;, &#x27;SibSp&#x27;, &#x27;Parch&#x27;]),\n",
       "                                (&#x27;text&#x27;,\n",
       "                                 Pipeline(steps=[(&#x27;vectorizer&#x27;,\n",
       "                                                  CountVectorizer(min_df=2)),\n",
       "                                                 (&#x27;svd&#x27;,\n",
       "                                                  TruncatedSVD(n_components=10))]),\n",
       "                                 &#x27;Name&#x27;)])</pre><b>In a Jupyter environment, please rerun this cell to show the HTML representation or trust the notebook. <br />On GitHub, the HTML representation is unable to render, please try loading this page with nbviewer.org.</b></div><div class=\"sk-container\" hidden><div class=\"sk-item sk-dashed-wrapped\"><div class=\"sk-label-container\"><div class=\"sk-label sk-toggleable\"><input class=\"sk-toggleable__control sk-hidden--visually\" id=\"sk-estimator-id-3\" type=\"checkbox\" ><label for=\"sk-estimator-id-3\" class=\"sk-toggleable__label sk-toggleable__label-arrow\">ColumnTransformer</label><div class=\"sk-toggleable__content\"><pre>ColumnTransformer(transformers=[(&#x27;numerical&#x27;,\n",
       "                                 Pipeline(steps=[(&#x27;imputer&#x27;,\n",
       "                                                  SimpleImputer(strategy=&#x27;median&#x27;)),\n",
       "                                                 (&#x27;scaler&#x27;, MinMaxScaler())]),\n",
       "                                 [&#x27;Age&#x27;, &#x27;Fare&#x27;]),\n",
       "                                (&#x27;nominal&#x27;,\n",
       "                                 Pipeline(steps=[(&#x27;imputer&#x27;,\n",
       "                                                  SimpleImputer(strategy=&#x27;most_frequent&#x27;)),\n",
       "                                                 (&#x27;onehot&#x27;,\n",
       "                                                  OneHotEncoder(drop=&#x27;if_binary&#x27;,\n",
       "                                                                handle_unknown=&#x27;ignore&#x27;))]),\n",
       "                                 [&#x27;Name&#x27;, &#x27;Sex&#x27;, &#x27;Ticket&#x27;, &#x27;Cabin&#x27;,\n",
       "                                  &#x27;Embarked&#x27;]),\n",
       "                                (&#x27;ordinal&#x27;,\n",
       "                                 Pipeline(steps=[(&#x27;imputer&#x27;,\n",
       "                                                  SimpleImputer(strategy=&#x27;most_frequent&#x27;)),\n",
       "                                                 (&#x27;onehot&#x27;,\n",
       "                                                  OneHotEncoder(handle_unknown=&#x27;ignore&#x27;))]),\n",
       "                                 [&#x27;Pclass&#x27;, &#x27;SibSp&#x27;, &#x27;Parch&#x27;]),\n",
       "                                (&#x27;text&#x27;,\n",
       "                                 Pipeline(steps=[(&#x27;vectorizer&#x27;,\n",
       "                                                  CountVectorizer(min_df=2)),\n",
       "                                                 (&#x27;svd&#x27;,\n",
       "                                                  TruncatedSVD(n_components=10))]),\n",
       "                                 &#x27;Name&#x27;)])</pre></div></div></div><div class=\"sk-parallel\"><div class=\"sk-parallel-item\"><div class=\"sk-item\"><div class=\"sk-label-container\"><div class=\"sk-label sk-toggleable\"><input class=\"sk-toggleable__control sk-hidden--visually\" id=\"sk-estimator-id-4\" type=\"checkbox\" ><label for=\"sk-estimator-id-4\" class=\"sk-toggleable__label sk-toggleable__label-arrow\">numerical</label><div class=\"sk-toggleable__content\"><pre>[&#x27;Age&#x27;, &#x27;Fare&#x27;]</pre></div></div></div><div class=\"sk-serial\"><div class=\"sk-item\"><div class=\"sk-serial\"><div class=\"sk-item\"><div class=\"sk-estimator sk-toggleable\"><input class=\"sk-toggleable__control sk-hidden--visually\" id=\"sk-estimator-id-5\" type=\"checkbox\" ><label for=\"sk-estimator-id-5\" class=\"sk-toggleable__label sk-toggleable__label-arrow\">SimpleImputer</label><div class=\"sk-toggleable__content\"><pre>SimpleImputer(strategy=&#x27;median&#x27;)</pre></div></div></div><div class=\"sk-item\"><div class=\"sk-estimator sk-toggleable\"><input class=\"sk-toggleable__control sk-hidden--visually\" id=\"sk-estimator-id-6\" type=\"checkbox\" ><label for=\"sk-estimator-id-6\" class=\"sk-toggleable__label sk-toggleable__label-arrow\">MinMaxScaler</label><div class=\"sk-toggleable__content\"><pre>MinMaxScaler()</pre></div></div></div></div></div></div></div></div><div class=\"sk-parallel-item\"><div class=\"sk-item\"><div class=\"sk-label-container\"><div class=\"sk-label sk-toggleable\"><input class=\"sk-toggleable__control sk-hidden--visually\" id=\"sk-estimator-id-7\" type=\"checkbox\" ><label for=\"sk-estimator-id-7\" class=\"sk-toggleable__label sk-toggleable__label-arrow\">nominal</label><div class=\"sk-toggleable__content\"><pre>[&#x27;Name&#x27;, &#x27;Sex&#x27;, &#x27;Ticket&#x27;, &#x27;Cabin&#x27;, &#x27;Embarked&#x27;]</pre></div></div></div><div class=\"sk-serial\"><div class=\"sk-item\"><div class=\"sk-serial\"><div class=\"sk-item\"><div class=\"sk-estimator sk-toggleable\"><input class=\"sk-toggleable__control sk-hidden--visually\" id=\"sk-estimator-id-8\" type=\"checkbox\" ><label for=\"sk-estimator-id-8\" class=\"sk-toggleable__label sk-toggleable__label-arrow\">SimpleImputer</label><div class=\"sk-toggleable__content\"><pre>SimpleImputer(strategy=&#x27;most_frequent&#x27;)</pre></div></div></div><div class=\"sk-item\"><div class=\"sk-estimator sk-toggleable\"><input class=\"sk-toggleable__control sk-hidden--visually\" id=\"sk-estimator-id-9\" type=\"checkbox\" ><label for=\"sk-estimator-id-9\" class=\"sk-toggleable__label sk-toggleable__label-arrow\">OneHotEncoder</label><div class=\"sk-toggleable__content\"><pre>OneHotEncoder(drop=&#x27;if_binary&#x27;, handle_unknown=&#x27;ignore&#x27;)</pre></div></div></div></div></div></div></div></div><div class=\"sk-parallel-item\"><div class=\"sk-item\"><div class=\"sk-label-container\"><div class=\"sk-label sk-toggleable\"><input class=\"sk-toggleable__control sk-hidden--visually\" id=\"sk-estimator-id-10\" type=\"checkbox\" ><label for=\"sk-estimator-id-10\" class=\"sk-toggleable__label sk-toggleable__label-arrow\">ordinal</label><div class=\"sk-toggleable__content\"><pre>[&#x27;Pclass&#x27;, &#x27;SibSp&#x27;, &#x27;Parch&#x27;]</pre></div></div></div><div class=\"sk-serial\"><div class=\"sk-item\"><div class=\"sk-serial\"><div class=\"sk-item\"><div class=\"sk-estimator sk-toggleable\"><input class=\"sk-toggleable__control sk-hidden--visually\" id=\"sk-estimator-id-11\" type=\"checkbox\" ><label for=\"sk-estimator-id-11\" class=\"sk-toggleable__label sk-toggleable__label-arrow\">SimpleImputer</label><div class=\"sk-toggleable__content\"><pre>SimpleImputer(strategy=&#x27;most_frequent&#x27;)</pre></div></div></div><div class=\"sk-item\"><div class=\"sk-estimator sk-toggleable\"><input class=\"sk-toggleable__control sk-hidden--visually\" id=\"sk-estimator-id-12\" type=\"checkbox\" ><label for=\"sk-estimator-id-12\" class=\"sk-toggleable__label sk-toggleable__label-arrow\">OneHotEncoder</label><div class=\"sk-toggleable__content\"><pre>OneHotEncoder(handle_unknown=&#x27;ignore&#x27;)</pre></div></div></div></div></div></div></div></div><div class=\"sk-parallel-item\"><div class=\"sk-item\"><div class=\"sk-label-container\"><div class=\"sk-label sk-toggleable\"><input class=\"sk-toggleable__control sk-hidden--visually\" id=\"sk-estimator-id-13\" type=\"checkbox\" ><label for=\"sk-estimator-id-13\" class=\"sk-toggleable__label sk-toggleable__label-arrow\">text</label><div class=\"sk-toggleable__content\"><pre>Name</pre></div></div></div><div class=\"sk-serial\"><div class=\"sk-item\"><div class=\"sk-serial\"><div class=\"sk-item\"><div class=\"sk-estimator sk-toggleable\"><input class=\"sk-toggleable__control sk-hidden--visually\" id=\"sk-estimator-id-14\" type=\"checkbox\" ><label for=\"sk-estimator-id-14\" class=\"sk-toggleable__label sk-toggleable__label-arrow\">CountVectorizer</label><div class=\"sk-toggleable__content\"><pre>CountVectorizer(min_df=2)</pre></div></div></div><div class=\"sk-item\"><div class=\"sk-estimator sk-toggleable\"><input class=\"sk-toggleable__control sk-hidden--visually\" id=\"sk-estimator-id-15\" type=\"checkbox\" ><label for=\"sk-estimator-id-15\" class=\"sk-toggleable__label sk-toggleable__label-arrow\">TruncatedSVD</label><div class=\"sk-toggleable__content\"><pre>TruncatedSVD(n_components=10)</pre></div></div></div></div></div></div></div></div></div></div></div></div>"
      ],
      "text/plain": [
       "ColumnTransformer(transformers=[('numerical',\n",
       "                                 Pipeline(steps=[('imputer',\n",
       "                                                  SimpleImputer(strategy='median')),\n",
       "                                                 ('scaler', MinMaxScaler())]),\n",
       "                                 ['Age', 'Fare']),\n",
       "                                ('nominal',\n",
       "                                 Pipeline(steps=[('imputer',\n",
       "                                                  SimpleImputer(strategy='most_frequent')),\n",
       "                                                 ('onehot',\n",
       "                                                  OneHotEncoder(drop='if_binary',\n",
       "                                                                handle_unknown='ignore'))]),\n",
       "                                 ['Name', 'Sex', 'Ticket', 'Cabin',\n",
       "                                  'Embarked']),\n",
       "                                ('ordinal',\n",
       "                                 Pipeline(steps=[('imputer',\n",
       "                                                  SimpleImputer(strategy='most_frequent')),\n",
       "                                                 ('onehot',\n",
       "                                                  OneHotEncoder(handle_unknown='ignore'))]),\n",
       "                                 ['Pclass', 'SibSp', 'Parch']),\n",
       "                                ('text',\n",
       "                                 Pipeline(steps=[('vectorizer',\n",
       "                                                  CountVectorizer(min_df=2)),\n",
       "                                                 ('svd',\n",
       "                                                  TruncatedSVD(n_components=10))]),\n",
       "                                 'Name')])"
      ]
     },
     "execution_count": 37,
     "metadata": {},
     "output_type": "execute_result"
    }
   ],
   "source": [
    "# Fit the preprocessor, so that it could be used for the `eval_set`\n",
    "preprocessor.fit(titanic)"
   ]
  },
  {
   "cell_type": "code",
   "execution_count": 38,
   "id": "b8331205",
   "metadata": {
    "execution": {
     "iopub.execute_input": "2024-03-31T13:14:29.412251Z",
     "iopub.status.busy": "2024-03-31T13:14:29.411864Z",
     "iopub.status.idle": "2024-03-31T13:14:29.508701Z",
     "shell.execute_reply": "2024-03-31T13:14:29.507597Z"
    },
    "papermill": {
     "duration": 0.130403,
     "end_time": "2024-03-31T13:14:29.511417",
     "exception": false,
     "start_time": "2024-03-31T13:14:29.381014",
     "status": "completed"
    },
    "tags": []
   },
   "outputs": [
    {
     "name": "stderr",
     "output_type": "stream",
     "text": [
      "/opt/conda/lib/python3.10/site-packages/sklearn/preprocessing/_encoders.py:202: UserWarning: Found unknown categories in columns [0, 2, 3] during transform. These unknown categories will be encoded as all zeros\n",
      "  warnings.warn(\n"
     ]
    }
   ],
   "source": [
    "# Transform data\n",
    "titanic_full_preprocessed = preprocessor.transform(titanic)\n",
    "titanic_train_preprocessed = preprocessor.transform(titanic_train)\n",
    "titanic_val_preprocessed = preprocessor.transform(titanic_val)\n",
    "titanic_test_preprocessed = preprocessor.transform(titanic_test)\n"
   ]
  },
  {
   "cell_type": "markdown",
   "id": "32b01578",
   "metadata": {
    "papermill": {
     "duration": 0.033717,
     "end_time": "2024-03-31T13:14:29.581202",
     "exception": false,
     "start_time": "2024-03-31T13:14:29.547485",
     "status": "completed"
    },
    "tags": []
   },
   "source": [
    " Warnings are expected - reason is the `drop` argument in OHE"
   ]
  },
  {
   "cell_type": "code",
   "execution_count": 39,
   "id": "3bd1f06d",
   "metadata": {
    "execution": {
     "iopub.execute_input": "2024-03-31T13:14:29.643590Z",
     "iopub.status.busy": "2024-03-31T13:14:29.643205Z",
     "iopub.status.idle": "2024-03-31T13:14:32.624441Z",
     "shell.execute_reply": "2024-03-31T13:14:32.623297Z"
    },
    "papermill": {
     "duration": 3.015514,
     "end_time": "2024-03-31T13:14:32.626811",
     "exception": false,
     "start_time": "2024-03-31T13:14:29.611297",
     "status": "completed"
    },
    "tags": []
   },
   "outputs": [
    {
     "data": {
      "text/html": [
       "<style>#sk-container-id-4 {color: black;background-color: white;}#sk-container-id-4 pre{padding: 0;}#sk-container-id-4 div.sk-toggleable {background-color: white;}#sk-container-id-4 label.sk-toggleable__label {cursor: pointer;display: block;width: 100%;margin-bottom: 0;padding: 0.3em;box-sizing: border-box;text-align: center;}#sk-container-id-4 label.sk-toggleable__label-arrow:before {content: \"▸\";float: left;margin-right: 0.25em;color: #696969;}#sk-container-id-4 label.sk-toggleable__label-arrow:hover:before {color: black;}#sk-container-id-4 div.sk-estimator:hover label.sk-toggleable__label-arrow:before {color: black;}#sk-container-id-4 div.sk-toggleable__content {max-height: 0;max-width: 0;overflow: hidden;text-align: left;background-color: #f0f8ff;}#sk-container-id-4 div.sk-toggleable__content pre {margin: 0.2em;color: black;border-radius: 0.25em;background-color: #f0f8ff;}#sk-container-id-4 input.sk-toggleable__control:checked~div.sk-toggleable__content {max-height: 200px;max-width: 100%;overflow: auto;}#sk-container-id-4 input.sk-toggleable__control:checked~label.sk-toggleable__label-arrow:before {content: \"▾\";}#sk-container-id-4 div.sk-estimator input.sk-toggleable__control:checked~label.sk-toggleable__label {background-color: #d4ebff;}#sk-container-id-4 div.sk-label input.sk-toggleable__control:checked~label.sk-toggleable__label {background-color: #d4ebff;}#sk-container-id-4 input.sk-hidden--visually {border: 0;clip: rect(1px 1px 1px 1px);clip: rect(1px, 1px, 1px, 1px);height: 1px;margin: -1px;overflow: hidden;padding: 0;position: absolute;width: 1px;}#sk-container-id-4 div.sk-estimator {font-family: monospace;background-color: #f0f8ff;border: 1px dotted black;border-radius: 0.25em;box-sizing: border-box;margin-bottom: 0.5em;}#sk-container-id-4 div.sk-estimator:hover {background-color: #d4ebff;}#sk-container-id-4 div.sk-parallel-item::after {content: \"\";width: 100%;border-bottom: 1px solid gray;flex-grow: 1;}#sk-container-id-4 div.sk-label:hover label.sk-toggleable__label {background-color: #d4ebff;}#sk-container-id-4 div.sk-serial::before {content: \"\";position: absolute;border-left: 1px solid gray;box-sizing: border-box;top: 0;bottom: 0;left: 50%;z-index: 0;}#sk-container-id-4 div.sk-serial {display: flex;flex-direction: column;align-items: center;background-color: white;padding-right: 0.2em;padding-left: 0.2em;position: relative;}#sk-container-id-4 div.sk-item {position: relative;z-index: 1;}#sk-container-id-4 div.sk-parallel {display: flex;align-items: stretch;justify-content: center;background-color: white;position: relative;}#sk-container-id-4 div.sk-item::before, #sk-container-id-4 div.sk-parallel-item::before {content: \"\";position: absolute;border-left: 1px solid gray;box-sizing: border-box;top: 0;bottom: 0;left: 50%;z-index: -1;}#sk-container-id-4 div.sk-parallel-item {display: flex;flex-direction: column;z-index: 1;position: relative;background-color: white;}#sk-container-id-4 div.sk-parallel-item:first-child::after {align-self: flex-end;width: 50%;}#sk-container-id-4 div.sk-parallel-item:last-child::after {align-self: flex-start;width: 50%;}#sk-container-id-4 div.sk-parallel-item:only-child::after {width: 0;}#sk-container-id-4 div.sk-dashed-wrapped {border: 1px dashed gray;margin: 0 0.4em 0.5em 0.4em;box-sizing: border-box;padding-bottom: 0.4em;background-color: white;}#sk-container-id-4 div.sk-label label {font-family: monospace;font-weight: bold;display: inline-block;line-height: 1.2em;}#sk-container-id-4 div.sk-label-container {text-align: center;}#sk-container-id-4 div.sk-container {/* jupyter's `normalize.less` sets `[hidden] { display: none; }` but bootstrap.min.css set `[hidden] { display: none !important; }` so we also need the `!important` here to be able to override the default hidden behavior on the sphinx rendered scikit-learn.org. See: https://github.com/scikit-learn/scikit-learn/issues/21755 */display: inline-block !important;position: relative;}#sk-container-id-4 div.sk-text-repr-fallback {display: none;}</style><div id=\"sk-container-id-4\" class=\"sk-top-container\"><div class=\"sk-text-repr-fallback\"><pre>GridSearchCV(cv=8,\n",
       "             estimator=XGBClassifier(base_score=None, booster=None,\n",
       "                                     callbacks=None, colsample_bylevel=None,\n",
       "                                     colsample_bynode=None,\n",
       "                                     colsample_bytree=None, device=None,\n",
       "                                     early_stopping_rounds=None,\n",
       "                                     enable_categorical=False, eval_metric=None,\n",
       "                                     feature_types=None, gamma=None,\n",
       "                                     grow_policy=None, importance_type=None,\n",
       "                                     interaction_constraints=None,\n",
       "                                     learning_rate=None,...\n",
       "                                     max_cat_threshold=None,\n",
       "                                     max_cat_to_onehot=None,\n",
       "                                     max_delta_step=None, max_depth=None,\n",
       "                                     max_leaves=None, min_child_weight=None,\n",
       "                                     missing=nan, monotone_constraints=None,\n",
       "                                     multi_strategy=None, n_estimators=None,\n",
       "                                     n_jobs=None, num_parallel_tree=None,\n",
       "                                     random_state=42, ...),\n",
       "             param_grid={&#x27;learning_rate&#x27;: [0.1], &#x27;n_estimators&#x27;: [100]},\n",
       "             return_train_score=True, scoring=&#x27;accuracy&#x27;)</pre><b>In a Jupyter environment, please rerun this cell to show the HTML representation or trust the notebook. <br />On GitHub, the HTML representation is unable to render, please try loading this page with nbviewer.org.</b></div><div class=\"sk-container\" hidden><div class=\"sk-item sk-dashed-wrapped\"><div class=\"sk-label-container\"><div class=\"sk-label sk-toggleable\"><input class=\"sk-toggleable__control sk-hidden--visually\" id=\"sk-estimator-id-16\" type=\"checkbox\" ><label for=\"sk-estimator-id-16\" class=\"sk-toggleable__label sk-toggleable__label-arrow\">GridSearchCV</label><div class=\"sk-toggleable__content\"><pre>GridSearchCV(cv=8,\n",
       "             estimator=XGBClassifier(base_score=None, booster=None,\n",
       "                                     callbacks=None, colsample_bylevel=None,\n",
       "                                     colsample_bynode=None,\n",
       "                                     colsample_bytree=None, device=None,\n",
       "                                     early_stopping_rounds=None,\n",
       "                                     enable_categorical=False, eval_metric=None,\n",
       "                                     feature_types=None, gamma=None,\n",
       "                                     grow_policy=None, importance_type=None,\n",
       "                                     interaction_constraints=None,\n",
       "                                     learning_rate=None,...\n",
       "                                     max_cat_threshold=None,\n",
       "                                     max_cat_to_onehot=None,\n",
       "                                     max_delta_step=None, max_depth=None,\n",
       "                                     max_leaves=None, min_child_weight=None,\n",
       "                                     missing=nan, monotone_constraints=None,\n",
       "                                     multi_strategy=None, n_estimators=None,\n",
       "                                     n_jobs=None, num_parallel_tree=None,\n",
       "                                     random_state=42, ...),\n",
       "             param_grid={&#x27;learning_rate&#x27;: [0.1], &#x27;n_estimators&#x27;: [100]},\n",
       "             return_train_score=True, scoring=&#x27;accuracy&#x27;)</pre></div></div></div><div class=\"sk-parallel\"><div class=\"sk-parallel-item\"><div class=\"sk-item\"><div class=\"sk-label-container\"><div class=\"sk-label sk-toggleable\"><input class=\"sk-toggleable__control sk-hidden--visually\" id=\"sk-estimator-id-17\" type=\"checkbox\" ><label for=\"sk-estimator-id-17\" class=\"sk-toggleable__label sk-toggleable__label-arrow\">estimator: XGBClassifier</label><div class=\"sk-toggleable__content\"><pre>XGBClassifier(base_score=None, booster=None, callbacks=None,\n",
       "              colsample_bylevel=None, colsample_bynode=None,\n",
       "              colsample_bytree=None, device=None, early_stopping_rounds=None,\n",
       "              enable_categorical=False, eval_metric=None, feature_types=None,\n",
       "              gamma=None, grow_policy=None, importance_type=None,\n",
       "              interaction_constraints=None, learning_rate=None, max_bin=None,\n",
       "              max_cat_threshold=None, max_cat_to_onehot=None,\n",
       "              max_delta_step=None, max_depth=None, max_leaves=None,\n",
       "              min_child_weight=None, missing=nan, monotone_constraints=None,\n",
       "              multi_strategy=None, n_estimators=None, n_jobs=None,\n",
       "              num_parallel_tree=None, random_state=42, ...)</pre></div></div></div><div class=\"sk-serial\"><div class=\"sk-item\"><div class=\"sk-estimator sk-toggleable\"><input class=\"sk-toggleable__control sk-hidden--visually\" id=\"sk-estimator-id-18\" type=\"checkbox\" ><label for=\"sk-estimator-id-18\" class=\"sk-toggleable__label sk-toggleable__label-arrow\">XGBClassifier</label><div class=\"sk-toggleable__content\"><pre>XGBClassifier(base_score=None, booster=None, callbacks=None,\n",
       "              colsample_bylevel=None, colsample_bynode=None,\n",
       "              colsample_bytree=None, device=None, early_stopping_rounds=None,\n",
       "              enable_categorical=False, eval_metric=None, feature_types=None,\n",
       "              gamma=None, grow_policy=None, importance_type=None,\n",
       "              interaction_constraints=None, learning_rate=None, max_bin=None,\n",
       "              max_cat_threshold=None, max_cat_to_onehot=None,\n",
       "              max_delta_step=None, max_depth=None, max_leaves=None,\n",
       "              min_child_weight=None, missing=nan, monotone_constraints=None,\n",
       "              multi_strategy=None, n_estimators=None, n_jobs=None,\n",
       "              num_parallel_tree=None, random_state=42, ...)</pre></div></div></div></div></div></div></div></div></div></div>"
      ],
      "text/plain": [
       "GridSearchCV(cv=8,\n",
       "             estimator=XGBClassifier(base_score=None, booster=None,\n",
       "                                     callbacks=None, colsample_bylevel=None,\n",
       "                                     colsample_bynode=None,\n",
       "                                     colsample_bytree=None, device=None,\n",
       "                                     early_stopping_rounds=None,\n",
       "                                     enable_categorical=False, eval_metric=None,\n",
       "                                     feature_types=None, gamma=None,\n",
       "                                     grow_policy=None, importance_type=None,\n",
       "                                     interaction_constraints=None,\n",
       "                                     learning_rate=None,...\n",
       "                                     max_cat_threshold=None,\n",
       "                                     max_cat_to_onehot=None,\n",
       "                                     max_delta_step=None, max_depth=None,\n",
       "                                     max_leaves=None, min_child_weight=None,\n",
       "                                     missing=nan, monotone_constraints=None,\n",
       "                                     multi_strategy=None, n_estimators=None,\n",
       "                                     n_jobs=None, num_parallel_tree=None,\n",
       "                                     random_state=42, ...),\n",
       "             param_grid={'learning_rate': [0.1], 'n_estimators': [100]},\n",
       "             return_train_score=True, scoring='accuracy')"
      ]
     },
     "execution_count": 39,
     "metadata": {},
     "output_type": "execute_result"
    }
   ],
   "source": [
    "xgb_grid.fit(\n",
    "    titanic_full_preprocessed,\n",
    "    survived, \n",
    "#     eval_set=[(titanic_val_preprocessed, survived_val)], \n",
    "#     verbose = False\n",
    ")"
   ]
  },
  {
   "cell_type": "code",
   "execution_count": 40,
   "id": "fedd08b9",
   "metadata": {
    "execution": {
     "iopub.execute_input": "2024-03-31T13:14:32.689957Z",
     "iopub.status.busy": "2024-03-31T13:14:32.688768Z",
     "iopub.status.idle": "2024-03-31T13:14:32.693572Z",
     "shell.execute_reply": "2024-03-31T13:14:32.692668Z"
    },
    "papermill": {
     "duration": 0.038792,
     "end_time": "2024-03-31T13:14:32.695840",
     "exception": false,
     "start_time": "2024-03-31T13:14:32.657048",
     "status": "completed"
    },
    "tags": []
   },
   "outputs": [],
   "source": [
    "# # Train the model \n",
    "# xgb.fit(\n",
    "#     titanic_train_preprocessed,\n",
    "#     survived_train, \n",
    "#     eval_set=[(titanic_val_preprocessed, survived_val)], \n",
    "#     verbose = False\n",
    "# )"
   ]
  },
  {
   "cell_type": "code",
   "execution_count": null,
   "id": "3b0fb1a7",
   "metadata": {
    "execution": {
     "iopub.execute_input": "2024-03-31T12:24:52.429548Z",
     "iopub.status.busy": "2024-03-31T12:24:52.428578Z",
     "iopub.status.idle": "2024-03-31T12:24:52.436684Z",
     "shell.execute_reply": "2024-03-31T12:24:52.435543Z",
     "shell.execute_reply.started": "2024-03-31T12:24:52.429515Z"
    },
    "papermill": {
     "duration": 0.029555,
     "end_time": "2024-03-31T13:14:32.755687",
     "exception": false,
     "start_time": "2024-03-31T13:14:32.726132",
     "status": "completed"
    },
    "tags": []
   },
   "outputs": [],
   "source": []
  },
  {
   "cell_type": "code",
   "execution_count": 41,
   "id": "f47f8162",
   "metadata": {
    "execution": {
     "iopub.execute_input": "2024-03-31T13:14:32.818434Z",
     "iopub.status.busy": "2024-03-31T13:14:32.817696Z",
     "iopub.status.idle": "2024-03-31T13:14:32.831739Z",
     "shell.execute_reply": "2024-03-31T13:14:32.830599Z"
    },
    "papermill": {
     "duration": 0.047962,
     "end_time": "2024-03-31T13:14:32.833918",
     "exception": false,
     "start_time": "2024-03-31T13:14:32.785956",
     "status": "completed"
    },
    "tags": []
   },
   "outputs": [
    {
     "data": {
      "text/html": [
       "<div>\n",
       "<style scoped>\n",
       "    .dataframe tbody tr th:only-of-type {\n",
       "        vertical-align: middle;\n",
       "    }\n",
       "\n",
       "    .dataframe tbody tr th {\n",
       "        vertical-align: top;\n",
       "    }\n",
       "\n",
       "    .dataframe thead th {\n",
       "        text-align: right;\n",
       "    }\n",
       "</style>\n",
       "<table border=\"1\" class=\"dataframe\">\n",
       "  <thead>\n",
       "    <tr style=\"text-align: right;\">\n",
       "      <th></th>\n",
       "      <th>params</th>\n",
       "      <th>mean_train_score</th>\n",
       "      <th>mean_test_score</th>\n",
       "      <th>rank_test_score</th>\n",
       "    </tr>\n",
       "  </thead>\n",
       "  <tbody>\n",
       "    <tr>\n",
       "      <th>0</th>\n",
       "      <td>{'learning_rate': 0.1, 'n_estimators': 100}</td>\n",
       "      <td>0.987014</td>\n",
       "      <td>0.813767</td>\n",
       "      <td>1</td>\n",
       "    </tr>\n",
       "  </tbody>\n",
       "</table>\n",
       "</div>"
      ],
      "text/plain": [
       "                                        params  mean_train_score  \\\n",
       "0  {'learning_rate': 0.1, 'n_estimators': 100}          0.987014   \n",
       "\n",
       "   mean_test_score  rank_test_score  \n",
       "0         0.813767                1  "
      ]
     },
     "execution_count": 41,
     "metadata": {},
     "output_type": "execute_result"
    }
   ],
   "source": [
    "pd.DataFrame(xgb_grid.cv_results_)[[\"params\", \"mean_train_score\", \"mean_test_score\", \"rank_test_score\"]]"
   ]
  },
  {
   "cell_type": "code",
   "execution_count": 42,
   "id": "992559ce",
   "metadata": {
    "execution": {
     "iopub.execute_input": "2024-03-31T13:14:32.896816Z",
     "iopub.status.busy": "2024-03-31T13:14:32.896019Z",
     "iopub.status.idle": "2024-03-31T13:14:32.911706Z",
     "shell.execute_reply": "2024-03-31T13:14:32.910574Z"
    },
    "papermill": {
     "duration": 0.049734,
     "end_time": "2024-03-31T13:14:32.914105",
     "exception": false,
     "start_time": "2024-03-31T13:14:32.864371",
     "status": "completed"
    },
    "tags": []
   },
   "outputs": [
    {
     "data": {
      "text/plain": [
       "0.9839486356340289"
      ]
     },
     "execution_count": 42,
     "metadata": {},
     "output_type": "execute_result"
    }
   ],
   "source": [
    "best_model = xgb_grid.best_estimator_\n",
    "best_model.score(titanic_train_preprocessed, survived_train)"
   ]
  },
  {
   "cell_type": "code",
   "execution_count": 43,
   "id": "4b3ef4a1",
   "metadata": {
    "execution": {
     "iopub.execute_input": "2024-03-31T13:14:32.978537Z",
     "iopub.status.busy": "2024-03-31T13:14:32.978131Z",
     "iopub.status.idle": "2024-03-31T13:14:32.992941Z",
     "shell.execute_reply": "2024-03-31T13:14:32.991024Z"
    },
    "papermill": {
     "duration": 0.048522,
     "end_time": "2024-03-31T13:14:32.995271",
     "exception": false,
     "start_time": "2024-03-31T13:14:32.946749",
     "status": "completed"
    },
    "tags": []
   },
   "outputs": [
    {
     "data": {
      "text/plain": [
       "0.9842873176206509"
      ]
     },
     "execution_count": 43,
     "metadata": {},
     "output_type": "execute_result"
    }
   ],
   "source": [
    "best_model.score(titanic_full_preprocessed, survived)"
   ]
  },
  {
   "cell_type": "markdown",
   "id": "7f516288",
   "metadata": {
    "papermill": {
     "duration": 0.030192,
     "end_time": "2024-03-31T13:14:33.057275",
     "exception": false,
     "start_time": "2024-03-31T13:14:33.027083",
     "status": "completed"
    },
    "tags": []
   },
   "source": [
    "0.987"
   ]
  },
  {
   "cell_type": "markdown",
   "id": "ee59986a",
   "metadata": {
    "papermill": {
     "duration": 0.030018,
     "end_time": "2024-03-31T13:14:33.118006",
     "exception": false,
     "start_time": "2024-03-31T13:14:33.087988",
     "status": "completed"
    },
    "tags": []
   },
   "source": [
    "##### Base scores"
   ]
  },
  {
   "cell_type": "code",
   "execution_count": 44,
   "id": "ade6ea17",
   "metadata": {
    "execution": {
     "iopub.execute_input": "2024-03-31T13:14:33.182109Z",
     "iopub.status.busy": "2024-03-31T13:14:33.181725Z",
     "iopub.status.idle": "2024-03-31T13:14:33.192083Z",
     "shell.execute_reply": "2024-03-31T13:14:33.191004Z"
    },
    "papermill": {
     "duration": 0.044606,
     "end_time": "2024-03-31T13:14:33.194116",
     "exception": false,
     "start_time": "2024-03-31T13:14:33.149510",
     "status": "completed"
    },
    "tags": []
   },
   "outputs": [
    {
     "data": {
      "text/plain": [
       "0.7849117174959872"
      ]
     },
     "execution_count": 44,
     "metadata": {},
     "output_type": "execute_result"
    }
   ],
   "source": [
    "# Score for a model that predicts survival based on gender, female = survived\n",
    "titanic_is_female = titanic_train.Sex.apply(lambda x: x == \"female\")\n",
    "accuracy_score(survived_train, titanic_is_female)"
   ]
  },
  {
   "cell_type": "code",
   "execution_count": 45,
   "id": "522098e3",
   "metadata": {
    "execution": {
     "iopub.execute_input": "2024-03-31T13:14:33.258171Z",
     "iopub.status.busy": "2024-03-31T13:14:33.257116Z",
     "iopub.status.idle": "2024-03-31T13:14:33.267198Z",
     "shell.execute_reply": "2024-03-31T13:14:33.265996Z"
    },
    "papermill": {
     "duration": 0.044611,
     "end_time": "2024-03-31T13:14:33.269451",
     "exception": false,
     "start_time": "2024-03-31T13:14:33.224840",
     "status": "completed"
    },
    "tags": []
   },
   "outputs": [
    {
     "data": {
      "text/plain": [
       "0.6292134831460674"
      ]
     },
     "execution_count": 45,
     "metadata": {},
     "output_type": "execute_result"
    }
   ],
   "source": [
    "# Score for a model that predicts survival based on class, first class = survived\n",
    "titanic_is_female = titanic_train.Pclass.apply(lambda x: x == \"1\")\n",
    "accuracy_score(survived_train, titanic_is_female)"
   ]
  },
  {
   "cell_type": "code",
   "execution_count": null,
   "id": "f7e49236",
   "metadata": {
    "papermill": {
     "duration": 0.03033,
     "end_time": "2024-03-31T13:14:33.330289",
     "exception": false,
     "start_time": "2024-03-31T13:14:33.299959",
     "status": "completed"
    },
    "tags": []
   },
   "outputs": [],
   "source": []
  },
  {
   "cell_type": "markdown",
   "id": "b72fbcbd",
   "metadata": {
    "papermill": {
     "duration": 0.030228,
     "end_time": "2024-03-31T13:14:33.391479",
     "exception": false,
     "start_time": "2024-03-31T13:14:33.361251",
     "status": "completed"
    },
    "tags": []
   },
   "source": [
    "## Submission"
   ]
  },
  {
   "cell_type": "code",
   "execution_count": 46,
   "id": "dc5b234e",
   "metadata": {
    "execution": {
     "iopub.execute_input": "2024-03-31T13:14:33.454744Z",
     "iopub.status.busy": "2024-03-31T13:14:33.453964Z",
     "iopub.status.idle": "2024-03-31T13:14:33.464922Z",
     "shell.execute_reply": "2024-03-31T13:14:33.464078Z"
    },
    "papermill": {
     "duration": 0.045616,
     "end_time": "2024-03-31T13:14:33.467667",
     "exception": false,
     "start_time": "2024-03-31T13:14:33.422051",
     "status": "completed"
    },
    "tags": []
   },
   "outputs": [],
   "source": [
    "predictions = best_model.predict(titanic_test_preprocessed)"
   ]
  },
  {
   "cell_type": "code",
   "execution_count": 47,
   "id": "ff50aeda",
   "metadata": {
    "execution": {
     "iopub.execute_input": "2024-03-31T13:14:33.531899Z",
     "iopub.status.busy": "2024-03-31T13:14:33.531532Z",
     "iopub.status.idle": "2024-03-31T13:14:33.540294Z",
     "shell.execute_reply": "2024-03-31T13:14:33.539273Z"
    },
    "papermill": {
     "duration": 0.042695,
     "end_time": "2024-03-31T13:14:33.542599",
     "exception": false,
     "start_time": "2024-03-31T13:14:33.499904",
     "status": "completed"
    },
    "tags": []
   },
   "outputs": [
    {
     "data": {
      "text/plain": [
       "PassengerId\n",
       "892     0\n",
       "893     0\n",
       "894     0\n",
       "895     0\n",
       "896     0\n",
       "       ..\n",
       "1305    0\n",
       "1306    1\n",
       "1307    0\n",
       "1308    0\n",
       "1309    1\n",
       "Name: Survived, Length: 418, dtype: int64"
      ]
     },
     "execution_count": 47,
     "metadata": {},
     "output_type": "execute_result"
    }
   ],
   "source": [
    "submission = pd.Series(predictions, index = titanic_test.index, name = \"Survived\")\n",
    "submission"
   ]
  },
  {
   "cell_type": "code",
   "execution_count": 48,
   "id": "95d2a969",
   "metadata": {
    "execution": {
     "iopub.execute_input": "2024-03-31T13:14:33.607783Z",
     "iopub.status.busy": "2024-03-31T13:14:33.606715Z",
     "iopub.status.idle": "2024-03-31T13:14:33.615994Z",
     "shell.execute_reply": "2024-03-31T13:14:33.614907Z"
    },
    "papermill": {
     "duration": 0.044583,
     "end_time": "2024-03-31T13:14:33.618746",
     "exception": false,
     "start_time": "2024-03-31T13:14:33.574163",
     "status": "completed"
    },
    "tags": []
   },
   "outputs": [],
   "source": [
    "submission.to_csv(\"submission.csv\")"
   ]
  },
  {
   "cell_type": "code",
   "execution_count": 49,
   "id": "327d72e5",
   "metadata": {
    "execution": {
     "iopub.execute_input": "2024-03-31T13:14:33.682338Z",
     "iopub.status.busy": "2024-03-31T13:14:33.681929Z",
     "iopub.status.idle": "2024-03-31T13:14:33.698102Z",
     "shell.execute_reply": "2024-03-31T13:14:33.697304Z"
    },
    "papermill": {
     "duration": 0.050716,
     "end_time": "2024-03-31T13:14:33.700502",
     "exception": false,
     "start_time": "2024-03-31T13:14:33.649786",
     "status": "completed"
    },
    "tags": []
   },
   "outputs": [
    {
     "data": {
      "text/html": [
       "<div>\n",
       "<style scoped>\n",
       "    .dataframe tbody tr th:only-of-type {\n",
       "        vertical-align: middle;\n",
       "    }\n",
       "\n",
       "    .dataframe tbody tr th {\n",
       "        vertical-align: top;\n",
       "    }\n",
       "\n",
       "    .dataframe thead th {\n",
       "        text-align: right;\n",
       "    }\n",
       "</style>\n",
       "<table border=\"1\" class=\"dataframe\">\n",
       "  <thead>\n",
       "    <tr style=\"text-align: right;\">\n",
       "      <th></th>\n",
       "      <th>PassengerId</th>\n",
       "      <th>Survived</th>\n",
       "    </tr>\n",
       "  </thead>\n",
       "  <tbody>\n",
       "    <tr>\n",
       "      <th>0</th>\n",
       "      <td>892</td>\n",
       "      <td>0</td>\n",
       "    </tr>\n",
       "    <tr>\n",
       "      <th>1</th>\n",
       "      <td>893</td>\n",
       "      <td>1</td>\n",
       "    </tr>\n",
       "    <tr>\n",
       "      <th>2</th>\n",
       "      <td>894</td>\n",
       "      <td>0</td>\n",
       "    </tr>\n",
       "    <tr>\n",
       "      <th>3</th>\n",
       "      <td>895</td>\n",
       "      <td>0</td>\n",
       "    </tr>\n",
       "    <tr>\n",
       "      <th>4</th>\n",
       "      <td>896</td>\n",
       "      <td>1</td>\n",
       "    </tr>\n",
       "    <tr>\n",
       "      <th>...</th>\n",
       "      <td>...</td>\n",
       "      <td>...</td>\n",
       "    </tr>\n",
       "    <tr>\n",
       "      <th>413</th>\n",
       "      <td>1305</td>\n",
       "      <td>0</td>\n",
       "    </tr>\n",
       "    <tr>\n",
       "      <th>414</th>\n",
       "      <td>1306</td>\n",
       "      <td>1</td>\n",
       "    </tr>\n",
       "    <tr>\n",
       "      <th>415</th>\n",
       "      <td>1307</td>\n",
       "      <td>0</td>\n",
       "    </tr>\n",
       "    <tr>\n",
       "      <th>416</th>\n",
       "      <td>1308</td>\n",
       "      <td>0</td>\n",
       "    </tr>\n",
       "    <tr>\n",
       "      <th>417</th>\n",
       "      <td>1309</td>\n",
       "      <td>0</td>\n",
       "    </tr>\n",
       "  </tbody>\n",
       "</table>\n",
       "<p>418 rows × 2 columns</p>\n",
       "</div>"
      ],
      "text/plain": [
       "     PassengerId  Survived\n",
       "0            892         0\n",
       "1            893         1\n",
       "2            894         0\n",
       "3            895         0\n",
       "4            896         1\n",
       "..           ...       ...\n",
       "413         1305         0\n",
       "414         1306         1\n",
       "415         1307         0\n",
       "416         1308         0\n",
       "417         1309         0\n",
       "\n",
       "[418 rows x 2 columns]"
      ]
     },
     "execution_count": 49,
     "metadata": {},
     "output_type": "execute_result"
    }
   ],
   "source": [
    "pd.read_csv(\"/kaggle/input/titanic/gender_submission.csv\")"
   ]
  },
  {
   "cell_type": "code",
   "execution_count": 50,
   "id": "ef5bc70d",
   "metadata": {
    "execution": {
     "iopub.execute_input": "2024-03-31T13:14:33.764910Z",
     "iopub.status.busy": "2024-03-31T13:14:33.764508Z",
     "iopub.status.idle": "2024-03-31T13:14:33.777701Z",
     "shell.execute_reply": "2024-03-31T13:14:33.776549Z"
    },
    "papermill": {
     "duration": 0.047939,
     "end_time": "2024-03-31T13:14:33.780122",
     "exception": false,
     "start_time": "2024-03-31T13:14:33.732183",
     "status": "completed"
    },
    "tags": []
   },
   "outputs": [
    {
     "data": {
      "text/html": [
       "<div>\n",
       "<style scoped>\n",
       "    .dataframe tbody tr th:only-of-type {\n",
       "        vertical-align: middle;\n",
       "    }\n",
       "\n",
       "    .dataframe tbody tr th {\n",
       "        vertical-align: top;\n",
       "    }\n",
       "\n",
       "    .dataframe thead th {\n",
       "        text-align: right;\n",
       "    }\n",
       "</style>\n",
       "<table border=\"1\" class=\"dataframe\">\n",
       "  <thead>\n",
       "    <tr style=\"text-align: right;\">\n",
       "      <th></th>\n",
       "      <th>PassengerId</th>\n",
       "      <th>Survived</th>\n",
       "    </tr>\n",
       "  </thead>\n",
       "  <tbody>\n",
       "    <tr>\n",
       "      <th>0</th>\n",
       "      <td>892</td>\n",
       "      <td>0</td>\n",
       "    </tr>\n",
       "    <tr>\n",
       "      <th>1</th>\n",
       "      <td>893</td>\n",
       "      <td>0</td>\n",
       "    </tr>\n",
       "    <tr>\n",
       "      <th>2</th>\n",
       "      <td>894</td>\n",
       "      <td>0</td>\n",
       "    </tr>\n",
       "    <tr>\n",
       "      <th>3</th>\n",
       "      <td>895</td>\n",
       "      <td>0</td>\n",
       "    </tr>\n",
       "    <tr>\n",
       "      <th>4</th>\n",
       "      <td>896</td>\n",
       "      <td>0</td>\n",
       "    </tr>\n",
       "    <tr>\n",
       "      <th>...</th>\n",
       "      <td>...</td>\n",
       "      <td>...</td>\n",
       "    </tr>\n",
       "    <tr>\n",
       "      <th>413</th>\n",
       "      <td>1305</td>\n",
       "      <td>0</td>\n",
       "    </tr>\n",
       "    <tr>\n",
       "      <th>414</th>\n",
       "      <td>1306</td>\n",
       "      <td>1</td>\n",
       "    </tr>\n",
       "    <tr>\n",
       "      <th>415</th>\n",
       "      <td>1307</td>\n",
       "      <td>0</td>\n",
       "    </tr>\n",
       "    <tr>\n",
       "      <th>416</th>\n",
       "      <td>1308</td>\n",
       "      <td>0</td>\n",
       "    </tr>\n",
       "    <tr>\n",
       "      <th>417</th>\n",
       "      <td>1309</td>\n",
       "      <td>1</td>\n",
       "    </tr>\n",
       "  </tbody>\n",
       "</table>\n",
       "<p>418 rows × 2 columns</p>\n",
       "</div>"
      ],
      "text/plain": [
       "     PassengerId  Survived\n",
       "0            892         0\n",
       "1            893         0\n",
       "2            894         0\n",
       "3            895         0\n",
       "4            896         0\n",
       "..           ...       ...\n",
       "413         1305         0\n",
       "414         1306         1\n",
       "415         1307         0\n",
       "416         1308         0\n",
       "417         1309         1\n",
       "\n",
       "[418 rows x 2 columns]"
      ]
     },
     "execution_count": 50,
     "metadata": {},
     "output_type": "execute_result"
    }
   ],
   "source": [
    "pd.read_csv(\"submission.csv\")"
   ]
  },
  {
   "cell_type": "code",
   "execution_count": null,
   "id": "7ee1df66",
   "metadata": {
    "papermill": {
     "duration": 0.03125,
     "end_time": "2024-03-31T13:14:33.843346",
     "exception": false,
     "start_time": "2024-03-31T13:14:33.812096",
     "status": "completed"
    },
    "tags": []
   },
   "outputs": [],
   "source": []
  },
  {
   "cell_type": "code",
   "execution_count": null,
   "id": "10161eda",
   "metadata": {
    "papermill": {
     "duration": 0.031246,
     "end_time": "2024-03-31T13:14:33.906758",
     "exception": false,
     "start_time": "2024-03-31T13:14:33.875512",
     "status": "completed"
    },
    "tags": []
   },
   "outputs": [],
   "source": []
  },
  {
   "cell_type": "code",
   "execution_count": null,
   "id": "0768fbcf",
   "metadata": {
    "papermill": {
     "duration": 0.031102,
     "end_time": "2024-03-31T13:14:33.970907",
     "exception": false,
     "start_time": "2024-03-31T13:14:33.939805",
     "status": "completed"
    },
    "tags": []
   },
   "outputs": [],
   "source": []
  },
  {
   "cell_type": "code",
   "execution_count": null,
   "id": "7d720719",
   "metadata": {
    "papermill": {
     "duration": 0.031165,
     "end_time": "2024-03-31T13:14:34.033505",
     "exception": false,
     "start_time": "2024-03-31T13:14:34.002340",
     "status": "completed"
    },
    "tags": []
   },
   "outputs": [],
   "source": []
  },
  {
   "cell_type": "code",
   "execution_count": null,
   "id": "fdedd9f2",
   "metadata": {
    "papermill": {
     "duration": 0.030918,
     "end_time": "2024-03-31T13:14:34.095664",
     "exception": false,
     "start_time": "2024-03-31T13:14:34.064746",
     "status": "completed"
    },
    "tags": []
   },
   "outputs": [],
   "source": []
  }
 ],
 "metadata": {
  "kaggle": {
   "accelerator": "none",
   "dataSources": [
    {
     "databundleVersionId": 26502,
     "sourceId": 3136,
     "sourceType": "competition"
    }
   ],
   "dockerImageVersionId": 30673,
   "isGpuEnabled": false,
   "isInternetEnabled": true,
   "language": "python",
   "sourceType": "notebook"
  },
  "kernelspec": {
   "display_name": "Python 3",
   "language": "python",
   "name": "python3"
  },
  "language_info": {
   "codemirror_mode": {
    "name": "ipython",
    "version": 3
   },
   "file_extension": ".py",
   "mimetype": "text/x-python",
   "name": "python",
   "nbconvert_exporter": "python",
   "pygments_lexer": "ipython3",
   "version": "3.10.13"
  },
  "papermill": {
   "default_parameters": {},
   "duration": 18.472798,
   "end_time": "2024-03-31T13:14:34.747951",
   "environment_variables": {},
   "exception": null,
   "input_path": "__notebook__.ipynb",
   "output_path": "__notebook__.ipynb",
   "parameters": {},
   "start_time": "2024-03-31T13:14:16.275153",
   "version": "2.5.0"
  }
 },
 "nbformat": 4,
 "nbformat_minor": 5
}
