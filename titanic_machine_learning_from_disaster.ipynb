{
 "cells": [
  {
   "cell_type": "code",
   "execution_count": 1,
   "id": "e0c3ad99",
   "metadata": {
    "_cell_guid": "b1076dfc-b9ad-4769-8c92-a6c4dae69d19",
    "_uuid": "8f2839f25d086af736a60e9eeb907d3b93b6e0e5",
    "execution": {
     "iopub.execute_input": "2024-03-28T13:07:19.077211Z",
     "iopub.status.busy": "2024-03-28T13:07:19.076502Z",
     "iopub.status.idle": "2024-03-28T13:07:23.176890Z",
     "shell.execute_reply": "2024-03-28T13:07:23.175423Z"
    },
    "papermill": {
     "duration": 4.121368,
     "end_time": "2024-03-28T13:07:23.180307",
     "exception": false,
     "start_time": "2024-03-28T13:07:19.058939",
     "status": "completed"
    },
    "tags": []
   },
   "outputs": [],
   "source": [
    "import numpy as np \n",
    "import pandas as pd\n",
    "import matplotlib.pyplot as plt\n",
    "import seaborn as sns\n",
    "\n",
    "from sklearn.compose import make_column_selector, ColumnTransformer\n",
    "from sklearn.impute import SimpleImputer, KNNImputer\n",
    "from sklearn.metrics import accuracy_score\n",
    "from sklearn.model_selection import train_test_split, GridSearchCV\n",
    "from sklearn.pipeline import Pipeline\n",
    "from sklearn.preprocessing import MinMaxScaler, OneHotEncoder\n",
    "\n",
    "from xgboost import XGBClassifier"
   ]
  },
  {
   "cell_type": "markdown",
   "id": "12ea54e8",
   "metadata": {
    "papermill": {
     "duration": 0.014077,
     "end_time": "2024-03-28T13:07:23.209572",
     "exception": false,
     "start_time": "2024-03-28T13:07:23.195495",
     "status": "completed"
    },
    "tags": []
   },
   "source": []
  },
  {
   "cell_type": "markdown",
   "id": "6f33f023",
   "metadata": {
    "papermill": {
     "duration": 0.013865,
     "end_time": "2024-03-28T13:07:23.238791",
     "exception": false,
     "start_time": "2024-03-28T13:07:23.224926",
     "status": "completed"
    },
    "tags": []
   },
   "source": [
    "# Titanic - Machine Learning from Disaster\n",
    "### Kaggle Competitions"
   ]
  },
  {
   "cell_type": "markdown",
   "id": "af028692",
   "metadata": {
    "papermill": {
     "duration": 0.017064,
     "end_time": "2024-03-28T13:07:23.270212",
     "exception": false,
     "start_time": "2024-03-28T13:07:23.253148",
     "status": "completed"
    },
    "tags": []
   },
   "source": [
    "## Dataset and EDA"
   ]
  },
  {
   "cell_type": "code",
   "execution_count": 2,
   "id": "6950ad3a",
   "metadata": {
    "execution": {
     "iopub.execute_input": "2024-03-28T13:07:23.302089Z",
     "iopub.status.busy": "2024-03-28T13:07:23.301434Z",
     "iopub.status.idle": "2024-03-28T13:07:23.374773Z",
     "shell.execute_reply": "2024-03-28T13:07:23.372533Z"
    },
    "papermill": {
     "duration": 0.092934,
     "end_time": "2024-03-28T13:07:23.377951",
     "exception": false,
     "start_time": "2024-03-28T13:07:23.285017",
     "status": "completed"
    },
    "tags": []
   },
   "outputs": [
    {
     "data": {
      "text/html": [
       "<div>\n",
       "<style scoped>\n",
       "    .dataframe tbody tr th:only-of-type {\n",
       "        vertical-align: middle;\n",
       "    }\n",
       "\n",
       "    .dataframe tbody tr th {\n",
       "        vertical-align: top;\n",
       "    }\n",
       "\n",
       "    .dataframe thead th {\n",
       "        text-align: right;\n",
       "    }\n",
       "</style>\n",
       "<table border=\"1\" class=\"dataframe\">\n",
       "  <thead>\n",
       "    <tr style=\"text-align: right;\">\n",
       "      <th></th>\n",
       "      <th>Survived</th>\n",
       "      <th>Pclass</th>\n",
       "      <th>Name</th>\n",
       "      <th>Sex</th>\n",
       "      <th>Age</th>\n",
       "      <th>SibSp</th>\n",
       "      <th>Parch</th>\n",
       "      <th>Ticket</th>\n",
       "      <th>Fare</th>\n",
       "      <th>Cabin</th>\n",
       "      <th>Embarked</th>\n",
       "    </tr>\n",
       "    <tr>\n",
       "      <th>PassengerId</th>\n",
       "      <th></th>\n",
       "      <th></th>\n",
       "      <th></th>\n",
       "      <th></th>\n",
       "      <th></th>\n",
       "      <th></th>\n",
       "      <th></th>\n",
       "      <th></th>\n",
       "      <th></th>\n",
       "      <th></th>\n",
       "      <th></th>\n",
       "    </tr>\n",
       "  </thead>\n",
       "  <tbody>\n",
       "    <tr>\n",
       "      <th>1</th>\n",
       "      <td>0</td>\n",
       "      <td>3</td>\n",
       "      <td>Braund, Mr. Owen Harris</td>\n",
       "      <td>male</td>\n",
       "      <td>22.0</td>\n",
       "      <td>1</td>\n",
       "      <td>0</td>\n",
       "      <td>A/5 21171</td>\n",
       "      <td>7.2500</td>\n",
       "      <td>NaN</td>\n",
       "      <td>S</td>\n",
       "    </tr>\n",
       "    <tr>\n",
       "      <th>2</th>\n",
       "      <td>1</td>\n",
       "      <td>1</td>\n",
       "      <td>Cumings, Mrs. John Bradley (Florence Briggs Th...</td>\n",
       "      <td>female</td>\n",
       "      <td>38.0</td>\n",
       "      <td>1</td>\n",
       "      <td>0</td>\n",
       "      <td>PC 17599</td>\n",
       "      <td>71.2833</td>\n",
       "      <td>C85</td>\n",
       "      <td>C</td>\n",
       "    </tr>\n",
       "    <tr>\n",
       "      <th>3</th>\n",
       "      <td>1</td>\n",
       "      <td>3</td>\n",
       "      <td>Heikkinen, Miss. Laina</td>\n",
       "      <td>female</td>\n",
       "      <td>26.0</td>\n",
       "      <td>0</td>\n",
       "      <td>0</td>\n",
       "      <td>STON/O2. 3101282</td>\n",
       "      <td>7.9250</td>\n",
       "      <td>NaN</td>\n",
       "      <td>S</td>\n",
       "    </tr>\n",
       "    <tr>\n",
       "      <th>4</th>\n",
       "      <td>1</td>\n",
       "      <td>1</td>\n",
       "      <td>Futrelle, Mrs. Jacques Heath (Lily May Peel)</td>\n",
       "      <td>female</td>\n",
       "      <td>35.0</td>\n",
       "      <td>1</td>\n",
       "      <td>0</td>\n",
       "      <td>113803</td>\n",
       "      <td>53.1000</td>\n",
       "      <td>C123</td>\n",
       "      <td>S</td>\n",
       "    </tr>\n",
       "    <tr>\n",
       "      <th>5</th>\n",
       "      <td>0</td>\n",
       "      <td>3</td>\n",
       "      <td>Allen, Mr. William Henry</td>\n",
       "      <td>male</td>\n",
       "      <td>35.0</td>\n",
       "      <td>0</td>\n",
       "      <td>0</td>\n",
       "      <td>373450</td>\n",
       "      <td>8.0500</td>\n",
       "      <td>NaN</td>\n",
       "      <td>S</td>\n",
       "    </tr>\n",
       "    <tr>\n",
       "      <th>...</th>\n",
       "      <td>...</td>\n",
       "      <td>...</td>\n",
       "      <td>...</td>\n",
       "      <td>...</td>\n",
       "      <td>...</td>\n",
       "      <td>...</td>\n",
       "      <td>...</td>\n",
       "      <td>...</td>\n",
       "      <td>...</td>\n",
       "      <td>...</td>\n",
       "      <td>...</td>\n",
       "    </tr>\n",
       "    <tr>\n",
       "      <th>887</th>\n",
       "      <td>0</td>\n",
       "      <td>2</td>\n",
       "      <td>Montvila, Rev. Juozas</td>\n",
       "      <td>male</td>\n",
       "      <td>27.0</td>\n",
       "      <td>0</td>\n",
       "      <td>0</td>\n",
       "      <td>211536</td>\n",
       "      <td>13.0000</td>\n",
       "      <td>NaN</td>\n",
       "      <td>S</td>\n",
       "    </tr>\n",
       "    <tr>\n",
       "      <th>888</th>\n",
       "      <td>1</td>\n",
       "      <td>1</td>\n",
       "      <td>Graham, Miss. Margaret Edith</td>\n",
       "      <td>female</td>\n",
       "      <td>19.0</td>\n",
       "      <td>0</td>\n",
       "      <td>0</td>\n",
       "      <td>112053</td>\n",
       "      <td>30.0000</td>\n",
       "      <td>B42</td>\n",
       "      <td>S</td>\n",
       "    </tr>\n",
       "    <tr>\n",
       "      <th>889</th>\n",
       "      <td>0</td>\n",
       "      <td>3</td>\n",
       "      <td>Johnston, Miss. Catherine Helen \"Carrie\"</td>\n",
       "      <td>female</td>\n",
       "      <td>NaN</td>\n",
       "      <td>1</td>\n",
       "      <td>2</td>\n",
       "      <td>W./C. 6607</td>\n",
       "      <td>23.4500</td>\n",
       "      <td>NaN</td>\n",
       "      <td>S</td>\n",
       "    </tr>\n",
       "    <tr>\n",
       "      <th>890</th>\n",
       "      <td>1</td>\n",
       "      <td>1</td>\n",
       "      <td>Behr, Mr. Karl Howell</td>\n",
       "      <td>male</td>\n",
       "      <td>26.0</td>\n",
       "      <td>0</td>\n",
       "      <td>0</td>\n",
       "      <td>111369</td>\n",
       "      <td>30.0000</td>\n",
       "      <td>C148</td>\n",
       "      <td>C</td>\n",
       "    </tr>\n",
       "    <tr>\n",
       "      <th>891</th>\n",
       "      <td>0</td>\n",
       "      <td>3</td>\n",
       "      <td>Dooley, Mr. Patrick</td>\n",
       "      <td>male</td>\n",
       "      <td>32.0</td>\n",
       "      <td>0</td>\n",
       "      <td>0</td>\n",
       "      <td>370376</td>\n",
       "      <td>7.7500</td>\n",
       "      <td>NaN</td>\n",
       "      <td>Q</td>\n",
       "    </tr>\n",
       "  </tbody>\n",
       "</table>\n",
       "<p>891 rows × 11 columns</p>\n",
       "</div>"
      ],
      "text/plain": [
       "             Survived  Pclass  \\\n",
       "PassengerId                     \n",
       "1                   0       3   \n",
       "2                   1       1   \n",
       "3                   1       3   \n",
       "4                   1       1   \n",
       "5                   0       3   \n",
       "...               ...     ...   \n",
       "887                 0       2   \n",
       "888                 1       1   \n",
       "889                 0       3   \n",
       "890                 1       1   \n",
       "891                 0       3   \n",
       "\n",
       "                                                          Name     Sex   Age  \\\n",
       "PassengerId                                                                    \n",
       "1                                      Braund, Mr. Owen Harris    male  22.0   \n",
       "2            Cumings, Mrs. John Bradley (Florence Briggs Th...  female  38.0   \n",
       "3                                       Heikkinen, Miss. Laina  female  26.0   \n",
       "4                 Futrelle, Mrs. Jacques Heath (Lily May Peel)  female  35.0   \n",
       "5                                     Allen, Mr. William Henry    male  35.0   \n",
       "...                                                        ...     ...   ...   \n",
       "887                                      Montvila, Rev. Juozas    male  27.0   \n",
       "888                               Graham, Miss. Margaret Edith  female  19.0   \n",
       "889                   Johnston, Miss. Catherine Helen \"Carrie\"  female   NaN   \n",
       "890                                      Behr, Mr. Karl Howell    male  26.0   \n",
       "891                                        Dooley, Mr. Patrick    male  32.0   \n",
       "\n",
       "             SibSp  Parch            Ticket     Fare Cabin Embarked  \n",
       "PassengerId                                                          \n",
       "1                1      0         A/5 21171   7.2500   NaN        S  \n",
       "2                1      0          PC 17599  71.2833   C85        C  \n",
       "3                0      0  STON/O2. 3101282   7.9250   NaN        S  \n",
       "4                1      0            113803  53.1000  C123        S  \n",
       "5                0      0            373450   8.0500   NaN        S  \n",
       "...            ...    ...               ...      ...   ...      ...  \n",
       "887              0      0            211536  13.0000   NaN        S  \n",
       "888              0      0            112053  30.0000   B42        S  \n",
       "889              1      2        W./C. 6607  23.4500   NaN        S  \n",
       "890              0      0            111369  30.0000  C148        C  \n",
       "891              0      0            370376   7.7500   NaN        Q  \n",
       "\n",
       "[891 rows x 11 columns]"
      ]
     },
     "execution_count": 2,
     "metadata": {},
     "output_type": "execute_result"
    }
   ],
   "source": [
    "# Read the train dataset\n",
    "titanic_data = pd.read_csv(\"/kaggle/input/titanic/train.csv\", index_col = \"PassengerId\")\n",
    "titanic_data"
   ]
  },
  {
   "cell_type": "code",
   "execution_count": 3,
   "id": "99fcb519",
   "metadata": {
    "execution": {
     "iopub.execute_input": "2024-03-28T13:07:23.418717Z",
     "iopub.status.busy": "2024-03-28T13:07:23.417800Z",
     "iopub.status.idle": "2024-03-28T13:07:23.445917Z",
     "shell.execute_reply": "2024-03-28T13:07:23.443774Z"
    },
    "papermill": {
     "duration": 0.053817,
     "end_time": "2024-03-28T13:07:23.449074",
     "exception": false,
     "start_time": "2024-03-28T13:07:23.395257",
     "status": "completed"
    },
    "tags": []
   },
   "outputs": [
    {
     "name": "stdout",
     "output_type": "stream",
     "text": [
      "<class 'pandas.core.frame.DataFrame'>\n",
      "Index: 891 entries, 1 to 891\n",
      "Data columns (total 11 columns):\n",
      " #   Column    Non-Null Count  Dtype  \n",
      "---  ------    --------------  -----  \n",
      " 0   Survived  891 non-null    int64  \n",
      " 1   Pclass    891 non-null    int64  \n",
      " 2   Name      891 non-null    object \n",
      " 3   Sex       891 non-null    object \n",
      " 4   Age       714 non-null    float64\n",
      " 5   SibSp     891 non-null    int64  \n",
      " 6   Parch     891 non-null    int64  \n",
      " 7   Ticket    891 non-null    object \n",
      " 8   Fare      891 non-null    float64\n",
      " 9   Cabin     204 non-null    object \n",
      " 10  Embarked  889 non-null    object \n",
      "dtypes: float64(2), int64(4), object(5)\n",
      "memory usage: 83.5+ KB\n"
     ]
    }
   ],
   "source": [
    "titanic_data.info()"
   ]
  },
  {
   "cell_type": "code",
   "execution_count": 4,
   "id": "078ef5e2",
   "metadata": {
    "execution": {
     "iopub.execute_input": "2024-03-28T13:07:23.485041Z",
     "iopub.status.busy": "2024-03-28T13:07:23.484633Z",
     "iopub.status.idle": "2024-03-28T13:07:23.518890Z",
     "shell.execute_reply": "2024-03-28T13:07:23.517510Z"
    },
    "papermill": {
     "duration": 0.057961,
     "end_time": "2024-03-28T13:07:23.522540",
     "exception": false,
     "start_time": "2024-03-28T13:07:23.464579",
     "status": "completed"
    },
    "tags": []
   },
   "outputs": [
    {
     "data": {
      "text/html": [
       "<div>\n",
       "<style scoped>\n",
       "    .dataframe tbody tr th:only-of-type {\n",
       "        vertical-align: middle;\n",
       "    }\n",
       "\n",
       "    .dataframe tbody tr th {\n",
       "        vertical-align: top;\n",
       "    }\n",
       "\n",
       "    .dataframe thead th {\n",
       "        text-align: right;\n",
       "    }\n",
       "</style>\n",
       "<table border=\"1\" class=\"dataframe\">\n",
       "  <thead>\n",
       "    <tr style=\"text-align: right;\">\n",
       "      <th></th>\n",
       "      <th>count</th>\n",
       "      <th>mean</th>\n",
       "      <th>std</th>\n",
       "      <th>min</th>\n",
       "      <th>25%</th>\n",
       "      <th>50%</th>\n",
       "      <th>75%</th>\n",
       "      <th>max</th>\n",
       "    </tr>\n",
       "  </thead>\n",
       "  <tbody>\n",
       "    <tr>\n",
       "      <th>Survived</th>\n",
       "      <td>891.0</td>\n",
       "      <td>0.383838</td>\n",
       "      <td>0.486592</td>\n",
       "      <td>0.00</td>\n",
       "      <td>0.0000</td>\n",
       "      <td>0.0000</td>\n",
       "      <td>1.0</td>\n",
       "      <td>1.0000</td>\n",
       "    </tr>\n",
       "    <tr>\n",
       "      <th>Pclass</th>\n",
       "      <td>891.0</td>\n",
       "      <td>2.308642</td>\n",
       "      <td>0.836071</td>\n",
       "      <td>1.00</td>\n",
       "      <td>2.0000</td>\n",
       "      <td>3.0000</td>\n",
       "      <td>3.0</td>\n",
       "      <td>3.0000</td>\n",
       "    </tr>\n",
       "    <tr>\n",
       "      <th>Age</th>\n",
       "      <td>714.0</td>\n",
       "      <td>29.699118</td>\n",
       "      <td>14.526497</td>\n",
       "      <td>0.42</td>\n",
       "      <td>20.1250</td>\n",
       "      <td>28.0000</td>\n",
       "      <td>38.0</td>\n",
       "      <td>80.0000</td>\n",
       "    </tr>\n",
       "    <tr>\n",
       "      <th>SibSp</th>\n",
       "      <td>891.0</td>\n",
       "      <td>0.523008</td>\n",
       "      <td>1.102743</td>\n",
       "      <td>0.00</td>\n",
       "      <td>0.0000</td>\n",
       "      <td>0.0000</td>\n",
       "      <td>1.0</td>\n",
       "      <td>8.0000</td>\n",
       "    </tr>\n",
       "    <tr>\n",
       "      <th>Parch</th>\n",
       "      <td>891.0</td>\n",
       "      <td>0.381594</td>\n",
       "      <td>0.806057</td>\n",
       "      <td>0.00</td>\n",
       "      <td>0.0000</td>\n",
       "      <td>0.0000</td>\n",
       "      <td>0.0</td>\n",
       "      <td>6.0000</td>\n",
       "    </tr>\n",
       "    <tr>\n",
       "      <th>Fare</th>\n",
       "      <td>891.0</td>\n",
       "      <td>32.204208</td>\n",
       "      <td>49.693429</td>\n",
       "      <td>0.00</td>\n",
       "      <td>7.9104</td>\n",
       "      <td>14.4542</td>\n",
       "      <td>31.0</td>\n",
       "      <td>512.3292</td>\n",
       "    </tr>\n",
       "  </tbody>\n",
       "</table>\n",
       "</div>"
      ],
      "text/plain": [
       "          count       mean        std   min      25%      50%   75%       max\n",
       "Survived  891.0   0.383838   0.486592  0.00   0.0000   0.0000   1.0    1.0000\n",
       "Pclass    891.0   2.308642   0.836071  1.00   2.0000   3.0000   3.0    3.0000\n",
       "Age       714.0  29.699118  14.526497  0.42  20.1250  28.0000  38.0   80.0000\n",
       "SibSp     891.0   0.523008   1.102743  0.00   0.0000   0.0000   1.0    8.0000\n",
       "Parch     891.0   0.381594   0.806057  0.00   0.0000   0.0000   0.0    6.0000\n",
       "Fare      891.0  32.204208  49.693429  0.00   7.9104  14.4542  31.0  512.3292"
      ]
     },
     "execution_count": 4,
     "metadata": {},
     "output_type": "execute_result"
    }
   ],
   "source": [
    "# Describe numerical features\n",
    "titanic_data.describe().T"
   ]
  },
  {
   "cell_type": "code",
   "execution_count": null,
   "id": "77ae2ba5",
   "metadata": {
    "papermill": {
     "duration": 0.014763,
     "end_time": "2024-03-28T13:07:23.553545",
     "exception": false,
     "start_time": "2024-03-28T13:07:23.538782",
     "status": "completed"
    },
    "tags": []
   },
   "outputs": [],
   "source": []
  },
  {
   "cell_type": "code",
   "execution_count": 5,
   "id": "c513fb17",
   "metadata": {
    "execution": {
     "iopub.execute_input": "2024-03-28T13:07:23.585910Z",
     "iopub.status.busy": "2024-03-28T13:07:23.585481Z",
     "iopub.status.idle": "2024-03-28T13:07:23.597448Z",
     "shell.execute_reply": "2024-03-28T13:07:23.596172Z"
    },
    "papermill": {
     "duration": 0.031455,
     "end_time": "2024-03-28T13:07:23.600203",
     "exception": false,
     "start_time": "2024-03-28T13:07:23.568748",
     "status": "completed"
    },
    "tags": []
   },
   "outputs": [
    {
     "data": {
      "text/plain": [
       "((891, 10), (891,))"
      ]
     },
     "execution_count": 5,
     "metadata": {},
     "output_type": "execute_result"
    }
   ],
   "source": [
    "# Separate features and target\n",
    "titanic = titanic_data.drop(columns = \"Survived\")\n",
    "survived = titanic_data.Survived\n",
    "\n",
    "titanic.shape, survived.shape"
   ]
  },
  {
   "cell_type": "code",
   "execution_count": 6,
   "id": "8ad02807",
   "metadata": {
    "execution": {
     "iopub.execute_input": "2024-03-28T13:07:23.633327Z",
     "iopub.status.busy": "2024-03-28T13:07:23.632908Z",
     "iopub.status.idle": "2024-03-28T13:07:23.641894Z",
     "shell.execute_reply": "2024-03-28T13:07:23.640426Z"
    },
    "papermill": {
     "duration": 0.028522,
     "end_time": "2024-03-28T13:07:23.644521",
     "exception": false,
     "start_time": "2024-03-28T13:07:23.615999",
     "status": "completed"
    },
    "tags": []
   },
   "outputs": [
    {
     "data": {
      "text/plain": [
       "['Age', 'Fare']"
      ]
     },
     "execution_count": 6,
     "metadata": {},
     "output_type": "execute_result"
    }
   ],
   "source": [
    "# Select numerical columns (float only)\n",
    "numerical_column_selector = make_column_selector(dtype_include = \"float64\")\n",
    "float_cols = numerical_column_selector(titanic)\n",
    "\n",
    "float_cols"
   ]
  },
  {
   "cell_type": "code",
   "execution_count": 7,
   "id": "20291c75",
   "metadata": {
    "execution": {
     "iopub.execute_input": "2024-03-28T13:07:23.682081Z",
     "iopub.status.busy": "2024-03-28T13:07:23.681080Z",
     "iopub.status.idle": "2024-03-28T13:07:23.701388Z",
     "shell.execute_reply": "2024-03-28T13:07:23.699882Z"
    },
    "papermill": {
     "duration": 0.045103,
     "end_time": "2024-03-28T13:07:23.705208",
     "exception": false,
     "start_time": "2024-03-28T13:07:23.660105",
     "status": "completed"
    },
    "tags": []
   },
   "outputs": [
    {
     "data": {
      "text/plain": [
       "Name        891\n",
       "Sex           2\n",
       "Ticket      681\n",
       "Cabin       147\n",
       "Embarked      3\n",
       "dtype: int64"
      ]
     },
     "execution_count": 7,
     "metadata": {},
     "output_type": "execute_result"
    }
   ],
   "source": [
    "# Select nominal categorical features\n",
    "categorical_column_selector = make_column_selector(dtype_include = \"object\")\n",
    "object_cols = categorical_column_selector(titanic)\n",
    "\n",
    "\n",
    "# Number of unique entries in each column with categorical data\n",
    "categorical_nunique = titanic[object_cols].nunique()\n",
    "categorical_nunique"
   ]
  },
  {
   "cell_type": "code",
   "execution_count": 8,
   "id": "657157bb",
   "metadata": {
    "execution": {
     "iopub.execute_input": "2024-03-28T13:07:23.757851Z",
     "iopub.status.busy": "2024-03-28T13:07:23.757149Z",
     "iopub.status.idle": "2024-03-28T13:07:23.775091Z",
     "shell.execute_reply": "2024-03-28T13:07:23.773514Z"
    },
    "papermill": {
     "duration": 0.047704,
     "end_time": "2024-03-28T13:07:23.778095",
     "exception": false,
     "start_time": "2024-03-28T13:07:23.730391",
     "status": "completed"
    },
    "tags": []
   },
   "outputs": [
    {
     "data": {
      "text/plain": [
       "Pclass    3\n",
       "SibSp     7\n",
       "Parch     7\n",
       "dtype: int64"
      ]
     },
     "execution_count": 8,
     "metadata": {},
     "output_type": "execute_result"
    }
   ],
   "source": [
    "# Select ordinal categorical features\n",
    "ordinal_column_selector = make_column_selector(dtype_include = \"int64\")\n",
    "int_cols = ordinal_column_selector(titanic)\n",
    "\n",
    "\n",
    "# Number of unique entries in each column with ordinal data\n",
    "ordinal_nunique = titanic[int_cols].nunique()\n",
    "ordinal_nunique"
   ]
  },
  {
   "cell_type": "code",
   "execution_count": 9,
   "id": "a0693cac",
   "metadata": {
    "execution": {
     "iopub.execute_input": "2024-03-28T13:07:23.811798Z",
     "iopub.status.busy": "2024-03-28T13:07:23.811253Z",
     "iopub.status.idle": "2024-03-28T13:07:23.819695Z",
     "shell.execute_reply": "2024-03-28T13:07:23.818745Z"
    },
    "papermill": {
     "duration": 0.029903,
     "end_time": "2024-03-28T13:07:23.823714",
     "exception": false,
     "start_time": "2024-03-28T13:07:23.793811",
     "status": "completed"
    },
    "tags": []
   },
   "outputs": [
    {
     "data": {
      "text/plain": [
       "['Sex', 'Embarked']"
      ]
     },
     "execution_count": 9,
     "metadata": {},
     "output_type": "execute_result"
    }
   ],
   "source": [
    "# Select low cardinality categorical features\n",
    "categorical_low_cardinality = categorical_nunique[categorical_nunique < 5].index.tolist()\n",
    "categorical_low_cardinality"
   ]
  },
  {
   "cell_type": "code",
   "execution_count": 10,
   "id": "05780976",
   "metadata": {
    "execution": {
     "iopub.execute_input": "2024-03-28T13:07:23.858710Z",
     "iopub.status.busy": "2024-03-28T13:07:23.858253Z",
     "iopub.status.idle": "2024-03-28T13:07:23.894064Z",
     "shell.execute_reply": "2024-03-28T13:07:23.892806Z"
    },
    "papermill": {
     "duration": 0.057082,
     "end_time": "2024-03-28T13:07:23.897022",
     "exception": false,
     "start_time": "2024-03-28T13:07:23.839940",
     "status": "completed"
    },
    "tags": []
   },
   "outputs": [
    {
     "data": {
      "text/html": [
       "<div>\n",
       "<style scoped>\n",
       "    .dataframe tbody tr th:only-of-type {\n",
       "        vertical-align: middle;\n",
       "    }\n",
       "\n",
       "    .dataframe tbody tr th {\n",
       "        vertical-align: top;\n",
       "    }\n",
       "\n",
       "    .dataframe thead th {\n",
       "        text-align: right;\n",
       "    }\n",
       "</style>\n",
       "<table border=\"1\" class=\"dataframe\">\n",
       "  <thead>\n",
       "    <tr style=\"text-align: right;\">\n",
       "      <th></th>\n",
       "      <th>Pclass</th>\n",
       "      <th>Name</th>\n",
       "      <th>Sex</th>\n",
       "      <th>Age</th>\n",
       "      <th>SibSp</th>\n",
       "      <th>Parch</th>\n",
       "      <th>Ticket</th>\n",
       "      <th>Fare</th>\n",
       "      <th>Cabin</th>\n",
       "      <th>Embarked</th>\n",
       "    </tr>\n",
       "    <tr>\n",
       "      <th>PassengerId</th>\n",
       "      <th></th>\n",
       "      <th></th>\n",
       "      <th></th>\n",
       "      <th></th>\n",
       "      <th></th>\n",
       "      <th></th>\n",
       "      <th></th>\n",
       "      <th></th>\n",
       "      <th></th>\n",
       "      <th></th>\n",
       "    </tr>\n",
       "  </thead>\n",
       "  <tbody>\n",
       "    <tr>\n",
       "      <th>892</th>\n",
       "      <td>3</td>\n",
       "      <td>Kelly, Mr. James</td>\n",
       "      <td>male</td>\n",
       "      <td>34.5</td>\n",
       "      <td>0</td>\n",
       "      <td>0</td>\n",
       "      <td>330911</td>\n",
       "      <td>7.8292</td>\n",
       "      <td>NaN</td>\n",
       "      <td>Q</td>\n",
       "    </tr>\n",
       "    <tr>\n",
       "      <th>893</th>\n",
       "      <td>3</td>\n",
       "      <td>Wilkes, Mrs. James (Ellen Needs)</td>\n",
       "      <td>female</td>\n",
       "      <td>47.0</td>\n",
       "      <td>1</td>\n",
       "      <td>0</td>\n",
       "      <td>363272</td>\n",
       "      <td>7.0000</td>\n",
       "      <td>NaN</td>\n",
       "      <td>S</td>\n",
       "    </tr>\n",
       "    <tr>\n",
       "      <th>894</th>\n",
       "      <td>2</td>\n",
       "      <td>Myles, Mr. Thomas Francis</td>\n",
       "      <td>male</td>\n",
       "      <td>62.0</td>\n",
       "      <td>0</td>\n",
       "      <td>0</td>\n",
       "      <td>240276</td>\n",
       "      <td>9.6875</td>\n",
       "      <td>NaN</td>\n",
       "      <td>Q</td>\n",
       "    </tr>\n",
       "    <tr>\n",
       "      <th>895</th>\n",
       "      <td>3</td>\n",
       "      <td>Wirz, Mr. Albert</td>\n",
       "      <td>male</td>\n",
       "      <td>27.0</td>\n",
       "      <td>0</td>\n",
       "      <td>0</td>\n",
       "      <td>315154</td>\n",
       "      <td>8.6625</td>\n",
       "      <td>NaN</td>\n",
       "      <td>S</td>\n",
       "    </tr>\n",
       "    <tr>\n",
       "      <th>896</th>\n",
       "      <td>3</td>\n",
       "      <td>Hirvonen, Mrs. Alexander (Helga E Lindqvist)</td>\n",
       "      <td>female</td>\n",
       "      <td>22.0</td>\n",
       "      <td>1</td>\n",
       "      <td>1</td>\n",
       "      <td>3101298</td>\n",
       "      <td>12.2875</td>\n",
       "      <td>NaN</td>\n",
       "      <td>S</td>\n",
       "    </tr>\n",
       "    <tr>\n",
       "      <th>...</th>\n",
       "      <td>...</td>\n",
       "      <td>...</td>\n",
       "      <td>...</td>\n",
       "      <td>...</td>\n",
       "      <td>...</td>\n",
       "      <td>...</td>\n",
       "      <td>...</td>\n",
       "      <td>...</td>\n",
       "      <td>...</td>\n",
       "      <td>...</td>\n",
       "    </tr>\n",
       "    <tr>\n",
       "      <th>1305</th>\n",
       "      <td>3</td>\n",
       "      <td>Spector, Mr. Woolf</td>\n",
       "      <td>male</td>\n",
       "      <td>NaN</td>\n",
       "      <td>0</td>\n",
       "      <td>0</td>\n",
       "      <td>A.5. 3236</td>\n",
       "      <td>8.0500</td>\n",
       "      <td>NaN</td>\n",
       "      <td>S</td>\n",
       "    </tr>\n",
       "    <tr>\n",
       "      <th>1306</th>\n",
       "      <td>1</td>\n",
       "      <td>Oliva y Ocana, Dona. Fermina</td>\n",
       "      <td>female</td>\n",
       "      <td>39.0</td>\n",
       "      <td>0</td>\n",
       "      <td>0</td>\n",
       "      <td>PC 17758</td>\n",
       "      <td>108.9000</td>\n",
       "      <td>C105</td>\n",
       "      <td>C</td>\n",
       "    </tr>\n",
       "    <tr>\n",
       "      <th>1307</th>\n",
       "      <td>3</td>\n",
       "      <td>Saether, Mr. Simon Sivertsen</td>\n",
       "      <td>male</td>\n",
       "      <td>38.5</td>\n",
       "      <td>0</td>\n",
       "      <td>0</td>\n",
       "      <td>SOTON/O.Q. 3101262</td>\n",
       "      <td>7.2500</td>\n",
       "      <td>NaN</td>\n",
       "      <td>S</td>\n",
       "    </tr>\n",
       "    <tr>\n",
       "      <th>1308</th>\n",
       "      <td>3</td>\n",
       "      <td>Ware, Mr. Frederick</td>\n",
       "      <td>male</td>\n",
       "      <td>NaN</td>\n",
       "      <td>0</td>\n",
       "      <td>0</td>\n",
       "      <td>359309</td>\n",
       "      <td>8.0500</td>\n",
       "      <td>NaN</td>\n",
       "      <td>S</td>\n",
       "    </tr>\n",
       "    <tr>\n",
       "      <th>1309</th>\n",
       "      <td>3</td>\n",
       "      <td>Peter, Master. Michael J</td>\n",
       "      <td>male</td>\n",
       "      <td>NaN</td>\n",
       "      <td>1</td>\n",
       "      <td>1</td>\n",
       "      <td>2668</td>\n",
       "      <td>22.3583</td>\n",
       "      <td>NaN</td>\n",
       "      <td>C</td>\n",
       "    </tr>\n",
       "  </tbody>\n",
       "</table>\n",
       "<p>418 rows × 10 columns</p>\n",
       "</div>"
      ],
      "text/plain": [
       "             Pclass                                          Name     Sex  \\\n",
       "PassengerId                                                                 \n",
       "892               3                              Kelly, Mr. James    male   \n",
       "893               3              Wilkes, Mrs. James (Ellen Needs)  female   \n",
       "894               2                     Myles, Mr. Thomas Francis    male   \n",
       "895               3                              Wirz, Mr. Albert    male   \n",
       "896               3  Hirvonen, Mrs. Alexander (Helga E Lindqvist)  female   \n",
       "...             ...                                           ...     ...   \n",
       "1305              3                            Spector, Mr. Woolf    male   \n",
       "1306              1                  Oliva y Ocana, Dona. Fermina  female   \n",
       "1307              3                  Saether, Mr. Simon Sivertsen    male   \n",
       "1308              3                           Ware, Mr. Frederick    male   \n",
       "1309              3                      Peter, Master. Michael J    male   \n",
       "\n",
       "              Age  SibSp  Parch              Ticket      Fare Cabin Embarked  \n",
       "PassengerId                                                                   \n",
       "892          34.5      0      0              330911    7.8292   NaN        Q  \n",
       "893          47.0      1      0              363272    7.0000   NaN        S  \n",
       "894          62.0      0      0              240276    9.6875   NaN        Q  \n",
       "895          27.0      0      0              315154    8.6625   NaN        S  \n",
       "896          22.0      1      1             3101298   12.2875   NaN        S  \n",
       "...           ...    ...    ...                 ...       ...   ...      ...  \n",
       "1305          NaN      0      0           A.5. 3236    8.0500   NaN        S  \n",
       "1306         39.0      0      0            PC 17758  108.9000  C105        C  \n",
       "1307         38.5      0      0  SOTON/O.Q. 3101262    7.2500   NaN        S  \n",
       "1308          NaN      0      0              359309    8.0500   NaN        S  \n",
       "1309          NaN      1      1                2668   22.3583   NaN        C  \n",
       "\n",
       "[418 rows x 10 columns]"
      ]
     },
     "execution_count": 10,
     "metadata": {},
     "output_type": "execute_result"
    }
   ],
   "source": [
    "# Read the test dataset\n",
    "titanic_test = pd.read_csv(\"/kaggle/input/titanic/test.csv\", index_col = \"PassengerId\")\n",
    "titanic_test"
   ]
  },
  {
   "cell_type": "code",
   "execution_count": 11,
   "id": "15e61746",
   "metadata": {
    "execution": {
     "iopub.execute_input": "2024-03-28T13:07:23.949827Z",
     "iopub.status.busy": "2024-03-28T13:07:23.948199Z",
     "iopub.status.idle": "2024-03-28T13:07:23.972469Z",
     "shell.execute_reply": "2024-03-28T13:07:23.968737Z"
    },
    "papermill": {
     "duration": 0.054604,
     "end_time": "2024-03-28T13:07:23.976085",
     "exception": false,
     "start_time": "2024-03-28T13:07:23.921481",
     "status": "completed"
    },
    "tags": []
   },
   "outputs": [
    {
     "name": "stdout",
     "output_type": "stream",
     "text": [
      "<class 'pandas.core.frame.DataFrame'>\n",
      "Index: 418 entries, 892 to 1309\n",
      "Data columns (total 10 columns):\n",
      " #   Column    Non-Null Count  Dtype  \n",
      "---  ------    --------------  -----  \n",
      " 0   Pclass    418 non-null    int64  \n",
      " 1   Name      418 non-null    object \n",
      " 2   Sex       418 non-null    object \n",
      " 3   Age       332 non-null    float64\n",
      " 4   SibSp     418 non-null    int64  \n",
      " 5   Parch     418 non-null    int64  \n",
      " 6   Ticket    418 non-null    object \n",
      " 7   Fare      417 non-null    float64\n",
      " 8   Cabin     91 non-null     object \n",
      " 9   Embarked  418 non-null    object \n",
      "dtypes: float64(2), int64(3), object(5)\n",
      "memory usage: 35.9+ KB\n"
     ]
    }
   ],
   "source": [
    "titanic_test.info()"
   ]
  },
  {
   "cell_type": "markdown",
   "id": "5e7088d6",
   "metadata": {
    "papermill": {
     "duration": 0.023881,
     "end_time": "2024-03-28T13:07:24.023009",
     "exception": false,
     "start_time": "2024-03-28T13:07:23.999128",
     "status": "completed"
    },
    "tags": []
   },
   "source": [
    "`Age`, `Cabin` and `Embarked` have values in both train and test set; `Fare` has missing values in test set only"
   ]
  },
  {
   "cell_type": "markdown",
   "id": "7feb65f7",
   "metadata": {
    "papermill": {
     "duration": 0.017365,
     "end_time": "2024-03-28T13:07:24.059494",
     "exception": false,
     "start_time": "2024-03-28T13:07:24.042129",
     "status": "completed"
    },
    "tags": []
   },
   "source": [
    "##### `Survived`"
   ]
  },
  {
   "cell_type": "code",
   "execution_count": 12,
   "id": "54c251a3",
   "metadata": {
    "execution": {
     "iopub.execute_input": "2024-03-28T13:07:24.113088Z",
     "iopub.status.busy": "2024-03-28T13:07:24.111990Z",
     "iopub.status.idle": "2024-03-28T13:07:24.437582Z",
     "shell.execute_reply": "2024-03-28T13:07:24.436027Z"
    },
    "papermill": {
     "duration": 0.357172,
     "end_time": "2024-03-28T13:07:24.441515",
     "exception": false,
     "start_time": "2024-03-28T13:07:24.084343",
     "status": "completed"
    },
    "tags": []
   },
   "outputs": [
    {
     "data": {
      "image/png": "[encoded data removed]",
      "text/plain": [
       "<Figure size 640x480 with 1 Axes>"
      ]
     },
     "metadata": {},
     "output_type": "display_data"
    }
   ],
   "source": [
    "sns.countplot(data = titanic_data, x = \"Survived\")\n",
    "plt.show()"
   ]
  },
  {
   "cell_type": "code",
   "execution_count": null,
   "id": "96dceeb0",
   "metadata": {
    "papermill": {
     "duration": 0.016753,
     "end_time": "2024-03-28T13:07:24.479229",
     "exception": false,
     "start_time": "2024-03-28T13:07:24.462476",
     "status": "completed"
    },
    "tags": []
   },
   "outputs": [],
   "source": []
  },
  {
   "cell_type": "markdown",
   "id": "7512a95a",
   "metadata": {
    "papermill": {
     "duration": 0.016268,
     "end_time": "2024-03-28T13:07:24.513960",
     "exception": false,
     "start_time": "2024-03-28T13:07:24.497692",
     "status": "completed"
    },
    "tags": []
   },
   "source": [
    "##### `Pclass`"
   ]
  },
  {
   "cell_type": "code",
   "execution_count": 13,
   "id": "8339434d",
   "metadata": {
    "execution": {
     "iopub.execute_input": "2024-03-28T13:07:24.552141Z",
     "iopub.status.busy": "2024-03-28T13:07:24.550937Z",
     "iopub.status.idle": "2024-03-28T13:07:24.784674Z",
     "shell.execute_reply": "2024-03-28T13:07:24.783620Z"
    },
    "papermill": {
     "duration": 0.257622,
     "end_time": "2024-03-28T13:07:24.788582",
     "exception": false,
     "start_time": "2024-03-28T13:07:24.530960",
     "status": "completed"
    },
    "tags": []
   },
   "outputs": [
    {
     "data": {
      "image/png": "[encoded data removed]",
      "text/plain": [
       "<Figure size 640x480 with 1 Axes>"
      ]
     },
     "metadata": {},
     "output_type": "display_data"
    }
   ],
   "source": [
    "sns.countplot(data = titanic_data, x = \"Pclass\")\n",
    "plt.show()"
   ]
  },
  {
   "cell_type": "markdown",
   "id": "70a0c911",
   "metadata": {
    "papermill": {
     "duration": 0.01775,
     "end_time": "2024-03-28T13:07:24.823920",
     "exception": false,
     "start_time": "2024-03-28T13:07:24.806170",
     "status": "completed"
    },
    "tags": []
   },
   "source": [
    "## Preprocessing"
   ]
  },
  {
   "cell_type": "code",
   "execution_count": 14,
   "id": "b4bd3800",
   "metadata": {
    "execution": {
     "iopub.execute_input": "2024-03-28T13:07:24.863430Z",
     "iopub.status.busy": "2024-03-28T13:07:24.862794Z",
     "iopub.status.idle": "2024-03-28T13:07:24.879617Z",
     "shell.execute_reply": "2024-03-28T13:07:24.878213Z"
    },
    "papermill": {
     "duration": 0.039554,
     "end_time": "2024-03-28T13:07:24.882333",
     "exception": false,
     "start_time": "2024-03-28T13:07:24.842779",
     "status": "completed"
    },
    "tags": []
   },
   "outputs": [
    {
     "data": {
      "text/plain": [
       "(((623, 10), (268,)), ((268, 10), (268,)))"
      ]
     },
     "execution_count": 14,
     "metadata": {},
     "output_type": "execute_result"
    }
   ],
   "source": [
    "# Split the data into train and validation sets\n",
    "titanic_train, titanic_val, survived_train, survived_val = train_test_split(\n",
    "    titanic, \n",
    "    survived, \n",
    "    test_size = 0.3,\n",
    "    random_state = 42\n",
    ")\n",
    "\n",
    "\n",
    "(titanic_train.shape, survived_val.shape), (titanic_val.shape, survived_val.shape)"
   ]
  },
  {
   "cell_type": "code",
   "execution_count": 15,
   "id": "02e155a6",
   "metadata": {
    "execution": {
     "iopub.execute_input": "2024-03-28T13:07:25.020232Z",
     "iopub.status.busy": "2024-03-28T13:07:25.018811Z",
     "iopub.status.idle": "2024-03-28T13:07:25.029010Z",
     "shell.execute_reply": "2024-03-28T13:07:25.027637Z"
    },
    "papermill": {
     "duration": 0.130648,
     "end_time": "2024-03-28T13:07:25.032017",
     "exception": false,
     "start_time": "2024-03-28T13:07:24.901369",
     "status": "completed"
    },
    "tags": []
   },
   "outputs": [],
   "source": [
    "# Preprocessing for numerical data\n",
    "numerical_transformer = Pipeline(steps=[\n",
    "    ('imputer', SimpleImputer(strategy = \"median\")),\n",
    "    ('scaler', MinMaxScaler())\n",
    "])\n",
    "\n",
    "# Preprocessing for nominal categorical data\n",
    "nominal_transformer = Pipeline(steps=[\n",
    "    ('imputer', SimpleImputer(strategy = \"most_frequent\")),\n",
    "    ('onehot', OneHotEncoder(drop = \"if_binary\", handle_unknown='ignore'))\n",
    "])\n",
    "\n",
    "# Preprocessing for ordinal categorical data\n",
    "ordinal_transformer = Pipeline(steps=[\n",
    "    ('imputer', SimpleImputer(strategy = \"most_frequent\")),\n",
    "    ('onehot', OneHotEncoder(drop = None, handle_unknown='ignore'))\n",
    "])\n",
    "\n",
    "\n",
    "# Join preprocessing for all types of data\n",
    "preprocessor = ColumnTransformer(\n",
    "    transformers=[\n",
    "        ('numerical', numerical_transformer, float_cols),\n",
    "        ('nominal', nominal_transformer, object_cols),\n",
    "        ('ordinal', ordinal_transformer, int_cols),\n",
    "        \n",
    "    ])"
   ]
  },
  {
   "cell_type": "markdown",
   "id": "01e7390a",
   "metadata": {
    "papermill": {
     "duration": 0.017968,
     "end_time": "2024-03-28T13:07:25.067592",
     "exception": false,
     "start_time": "2024-03-28T13:07:25.049624",
     "status": "completed"
    },
    "tags": []
   },
   "source": [
    "## Model"
   ]
  },
  {
   "cell_type": "code",
   "execution_count": 16,
   "id": "f4ba7a40",
   "metadata": {
    "execution": {
     "iopub.execute_input": "2024-03-28T13:07:25.107196Z",
     "iopub.status.busy": "2024-03-28T13:07:25.105894Z",
     "iopub.status.idle": "2024-03-28T13:07:25.114354Z",
     "shell.execute_reply": "2024-03-28T13:07:25.113358Z"
    },
    "papermill": {
     "duration": 0.031451,
     "end_time": "2024-03-28T13:07:25.117346",
     "exception": false,
     "start_time": "2024-03-28T13:07:25.085895",
     "status": "completed"
    },
    "tags": []
   },
   "outputs": [],
   "source": [
    "# Define a model \n",
    "xgb = XGBClassifier(\n",
    "#     early_stopping_rounds = 10, \n",
    "    random_state = 42\n",
    ")\n",
    "\n",
    "# Define grid search with cross-validation\n",
    "xgb_grid = GridSearchCV(\n",
    "    estimator = xgb,\n",
    "    param_grid = {\n",
    "        \"n_estimators\": [80, 100, 160, 200, 240],\n",
    "        \"learning_rate\": [0.08, 0.1, 0.14, 0.18, 0.2, 0.24]\n",
    "    },\n",
    "    cv = 8,\n",
    "    scoring = \"accuracy\"\n",
    ")"
   ]
  },
  {
   "cell_type": "code",
   "execution_count": 17,
   "id": "d1cc21e5",
   "metadata": {
    "execution": {
     "iopub.execute_input": "2024-03-28T13:07:25.155327Z",
     "iopub.status.busy": "2024-03-28T13:07:25.154222Z",
     "iopub.status.idle": "2024-03-28T13:07:25.254638Z",
     "shell.execute_reply": "2024-03-28T13:07:25.253355Z"
    },
    "papermill": {
     "duration": 0.12256,
     "end_time": "2024-03-28T13:07:25.257527",
     "exception": false,
     "start_time": "2024-03-28T13:07:25.134967",
     "status": "completed"
    },
    "tags": []
   },
   "outputs": [
    {
     "data": {
      "text/html": [
       "<style>#sk-container-id-1 {color: black;background-color: white;}#sk-container-id-1 pre{padding: 0;}#sk-container-id-1 div.sk-toggleable {background-color: white;}#sk-container-id-1 label.sk-toggleable__label {cursor: pointer;display: block;width: 100%;margin-bottom: 0;padding: 0.3em;box-sizing: border-box;text-align: center;}#sk-container-id-1 label.sk-toggleable__label-arrow:before {content: \"▸\";float: left;margin-right: 0.25em;color: #696969;}#sk-container-id-1 label.sk-toggleable__label-arrow:hover:before {color: black;}#sk-container-id-1 div.sk-estimator:hover label.sk-toggleable__label-arrow:before {color: black;}#sk-container-id-1 div.sk-toggleable__content {max-height: 0;max-width: 0;overflow: hidden;text-align: left;background-color: #f0f8ff;}#sk-container-id-1 div.sk-toggleable__content pre {margin: 0.2em;color: black;border-radius: 0.25em;background-color: #f0f8ff;}#sk-container-id-1 input.sk-toggleable__control:checked~div.sk-toggleable__content {max-height: 200px;max-width: 100%;overflow: auto;}#sk-container-id-1 input.sk-toggleable__control:checked~label.sk-toggleable__label-arrow:before {content: \"▾\";}#sk-container-id-1 div.sk-estimator input.sk-toggleable__control:checked~label.sk-toggleable__label {background-color: #d4ebff;}#sk-container-id-1 div.sk-label input.sk-toggleable__control:checked~label.sk-toggleable__label {background-color: #d4ebff;}#sk-container-id-1 input.sk-hidden--visually {border: 0;clip: rect(1px 1px 1px 1px);clip: rect(1px, 1px, 1px, 1px);height: 1px;margin: -1px;overflow: hidden;padding: 0;position: absolute;width: 1px;}#sk-container-id-1 div.sk-estimator {font-family: monospace;background-color: #f0f8ff;border: 1px dotted black;border-radius: 0.25em;box-sizing: border-box;margin-bottom: 0.5em;}#sk-container-id-1 div.sk-estimator:hover {background-color: #d4ebff;}#sk-container-id-1 div.sk-parallel-item::after {content: \"\";width: 100%;border-bottom: 1px solid gray;flex-grow: 1;}#sk-container-id-1 div.sk-label:hover label.sk-toggleable__label {background-color: #d4ebff;}#sk-container-id-1 div.sk-serial::before {content: \"\";position: absolute;border-left: 1px solid gray;box-sizing: border-box;top: 0;bottom: 0;left: 50%;z-index: 0;}#sk-container-id-1 div.sk-serial {display: flex;flex-direction: column;align-items: center;background-color: white;padding-right: 0.2em;padding-left: 0.2em;position: relative;}#sk-container-id-1 div.sk-item {position: relative;z-index: 1;}#sk-container-id-1 div.sk-parallel {display: flex;align-items: stretch;justify-content: center;background-color: white;position: relative;}#sk-container-id-1 div.sk-item::before, #sk-container-id-1 div.sk-parallel-item::before {content: \"\";position: absolute;border-left: 1px solid gray;box-sizing: border-box;top: 0;bottom: 0;left: 50%;z-index: -1;}#sk-container-id-1 div.sk-parallel-item {display: flex;flex-direction: column;z-index: 1;position: relative;background-color: white;}#sk-container-id-1 div.sk-parallel-item:first-child::after {align-self: flex-end;width: 50%;}#sk-container-id-1 div.sk-parallel-item:last-child::after {align-self: flex-start;width: 50%;}#sk-container-id-1 div.sk-parallel-item:only-child::after {width: 0;}#sk-container-id-1 div.sk-dashed-wrapped {border: 1px dashed gray;margin: 0 0.4em 0.5em 0.4em;box-sizing: border-box;padding-bottom: 0.4em;background-color: white;}#sk-container-id-1 div.sk-label label {font-family: monospace;font-weight: bold;display: inline-block;line-height: 1.2em;}#sk-container-id-1 div.sk-label-container {text-align: center;}#sk-container-id-1 div.sk-container {/* jupyter's `normalize.less` sets `[hidden] { display: none; }` but bootstrap.min.css set `[hidden] { display: none !important; }` so we also need the `!important` here to be able to override the default hidden behavior on the sphinx rendered scikit-learn.org. See: https://github.com/scikit-learn/scikit-learn/issues/21755 */display: inline-block !important;position: relative;}#sk-container-id-1 div.sk-text-repr-fallback {display: none;}</style><div id=\"sk-container-id-1\" class=\"sk-top-container\"><div class=\"sk-text-repr-fallback\"><pre>ColumnTransformer(transformers=[(&#x27;numerical&#x27;,\n",
       "                                 Pipeline(steps=[(&#x27;imputer&#x27;,\n",
       "                                                  SimpleImputer(strategy=&#x27;median&#x27;)),\n",
       "                                                 (&#x27;scaler&#x27;, MinMaxScaler())]),\n",
       "                                 [&#x27;Age&#x27;, &#x27;Fare&#x27;]),\n",
       "                                (&#x27;nominal&#x27;,\n",
       "                                 Pipeline(steps=[(&#x27;imputer&#x27;,\n",
       "                                                  SimpleImputer(strategy=&#x27;most_frequent&#x27;)),\n",
       "                                                 (&#x27;onehot&#x27;,\n",
       "                                                  OneHotEncoder(drop=&#x27;if_binary&#x27;,\n",
       "                                                                handle_unknown=&#x27;ignore&#x27;))]),\n",
       "                                 [&#x27;Name&#x27;, &#x27;Sex&#x27;, &#x27;Ticket&#x27;, &#x27;Cabin&#x27;,\n",
       "                                  &#x27;Embarked&#x27;]),\n",
       "                                (&#x27;ordinal&#x27;,\n",
       "                                 Pipeline(steps=[(&#x27;imputer&#x27;,\n",
       "                                                  SimpleImputer(strategy=&#x27;most_frequent&#x27;)),\n",
       "                                                 (&#x27;onehot&#x27;,\n",
       "                                                  OneHotEncoder(handle_unknown=&#x27;ignore&#x27;))]),\n",
       "                                 [&#x27;Pclass&#x27;, &#x27;SibSp&#x27;, &#x27;Parch&#x27;])])</pre><b>In a Jupyter environment, please rerun this cell to show the HTML representation or trust the notebook. <br />On GitHub, the HTML representation is unable to render, please try loading this page with nbviewer.org.</b></div><div class=\"sk-container\" hidden><div class=\"sk-item sk-dashed-wrapped\"><div class=\"sk-label-container\"><div class=\"sk-label sk-toggleable\"><input class=\"sk-toggleable__control sk-hidden--visually\" id=\"sk-estimator-id-1\" type=\"checkbox\" ><label for=\"sk-estimator-id-1\" class=\"sk-toggleable__label sk-toggleable__label-arrow\">ColumnTransformer</label><div class=\"sk-toggleable__content\"><pre>ColumnTransformer(transformers=[(&#x27;numerical&#x27;,\n",
       "                                 Pipeline(steps=[(&#x27;imputer&#x27;,\n",
       "                                                  SimpleImputer(strategy=&#x27;median&#x27;)),\n",
       "                                                 (&#x27;scaler&#x27;, MinMaxScaler())]),\n",
       "                                 [&#x27;Age&#x27;, &#x27;Fare&#x27;]),\n",
       "                                (&#x27;nominal&#x27;,\n",
       "                                 Pipeline(steps=[(&#x27;imputer&#x27;,\n",
       "                                                  SimpleImputer(strategy=&#x27;most_frequent&#x27;)),\n",
       "                                                 (&#x27;onehot&#x27;,\n",
       "                                                  OneHotEncoder(drop=&#x27;if_binary&#x27;,\n",
       "                                                                handle_unknown=&#x27;ignore&#x27;))]),\n",
       "                                 [&#x27;Name&#x27;, &#x27;Sex&#x27;, &#x27;Ticket&#x27;, &#x27;Cabin&#x27;,\n",
       "                                  &#x27;Embarked&#x27;]),\n",
       "                                (&#x27;ordinal&#x27;,\n",
       "                                 Pipeline(steps=[(&#x27;imputer&#x27;,\n",
       "                                                  SimpleImputer(strategy=&#x27;most_frequent&#x27;)),\n",
       "                                                 (&#x27;onehot&#x27;,\n",
       "                                                  OneHotEncoder(handle_unknown=&#x27;ignore&#x27;))]),\n",
       "                                 [&#x27;Pclass&#x27;, &#x27;SibSp&#x27;, &#x27;Parch&#x27;])])</pre></div></div></div><div class=\"sk-parallel\"><div class=\"sk-parallel-item\"><div class=\"sk-item\"><div class=\"sk-label-container\"><div class=\"sk-label sk-toggleable\"><input class=\"sk-toggleable__control sk-hidden--visually\" id=\"sk-estimator-id-2\" type=\"checkbox\" ><label for=\"sk-estimator-id-2\" class=\"sk-toggleable__label sk-toggleable__label-arrow\">numerical</label><div class=\"sk-toggleable__content\"><pre>[&#x27;Age&#x27;, &#x27;Fare&#x27;]</pre></div></div></div><div class=\"sk-serial\"><div class=\"sk-item\"><div class=\"sk-serial\"><div class=\"sk-item\"><div class=\"sk-estimator sk-toggleable\"><input class=\"sk-toggleable__control sk-hidden--visually\" id=\"sk-estimator-id-3\" type=\"checkbox\" ><label for=\"sk-estimator-id-3\" class=\"sk-toggleable__label sk-toggleable__label-arrow\">SimpleImputer</label><div class=\"sk-toggleable__content\"><pre>SimpleImputer(strategy=&#x27;median&#x27;)</pre></div></div></div><div class=\"sk-item\"><div class=\"sk-estimator sk-toggleable\"><input class=\"sk-toggleable__control sk-hidden--visually\" id=\"sk-estimator-id-4\" type=\"checkbox\" ><label for=\"sk-estimator-id-4\" class=\"sk-toggleable__label sk-toggleable__label-arrow\">MinMaxScaler</label><div class=\"sk-toggleable__content\"><pre>MinMaxScaler()</pre></div></div></div></div></div></div></div></div><div class=\"sk-parallel-item\"><div class=\"sk-item\"><div class=\"sk-label-container\"><div class=\"sk-label sk-toggleable\"><input class=\"sk-toggleable__control sk-hidden--visually\" id=\"sk-estimator-id-5\" type=\"checkbox\" ><label for=\"sk-estimator-id-5\" class=\"sk-toggleable__label sk-toggleable__label-arrow\">nominal</label><div class=\"sk-toggleable__content\"><pre>[&#x27;Name&#x27;, &#x27;Sex&#x27;, &#x27;Ticket&#x27;, &#x27;Cabin&#x27;, &#x27;Embarked&#x27;]</pre></div></div></div><div class=\"sk-serial\"><div class=\"sk-item\"><div class=\"sk-serial\"><div class=\"sk-item\"><div class=\"sk-estimator sk-toggleable\"><input class=\"sk-toggleable__control sk-hidden--visually\" id=\"sk-estimator-id-6\" type=\"checkbox\" ><label for=\"sk-estimator-id-6\" class=\"sk-toggleable__label sk-toggleable__label-arrow\">SimpleImputer</label><div class=\"sk-toggleable__content\"><pre>SimpleImputer(strategy=&#x27;most_frequent&#x27;)</pre></div></div></div><div class=\"sk-item\"><div class=\"sk-estimator sk-toggleable\"><input class=\"sk-toggleable__control sk-hidden--visually\" id=\"sk-estimator-id-7\" type=\"checkbox\" ><label for=\"sk-estimator-id-7\" class=\"sk-toggleable__label sk-toggleable__label-arrow\">OneHotEncoder</label><div class=\"sk-toggleable__content\"><pre>OneHotEncoder(drop=&#x27;if_binary&#x27;, handle_unknown=&#x27;ignore&#x27;)</pre></div></div></div></div></div></div></div></div><div class=\"sk-parallel-item\"><div class=\"sk-item\"><div class=\"sk-label-container\"><div class=\"sk-label sk-toggleable\"><input class=\"sk-toggleable__control sk-hidden--visually\" id=\"sk-estimator-id-8\" type=\"checkbox\" ><label for=\"sk-estimator-id-8\" class=\"sk-toggleable__label sk-toggleable__label-arrow\">ordinal</label><div class=\"sk-toggleable__content\"><pre>[&#x27;Pclass&#x27;, &#x27;SibSp&#x27;, &#x27;Parch&#x27;]</pre></div></div></div><div class=\"sk-serial\"><div class=\"sk-item\"><div class=\"sk-serial\"><div class=\"sk-item\"><div class=\"sk-estimator sk-toggleable\"><input class=\"sk-toggleable__control sk-hidden--visually\" id=\"sk-estimator-id-9\" type=\"checkbox\" ><label for=\"sk-estimator-id-9\" class=\"sk-toggleable__label sk-toggleable__label-arrow\">SimpleImputer</label><div class=\"sk-toggleable__content\"><pre>SimpleImputer(strategy=&#x27;most_frequent&#x27;)</pre></div></div></div><div class=\"sk-item\"><div class=\"sk-estimator sk-toggleable\"><input class=\"sk-toggleable__control sk-hidden--visually\" id=\"sk-estimator-id-10\" type=\"checkbox\" ><label for=\"sk-estimator-id-10\" class=\"sk-toggleable__label sk-toggleable__label-arrow\">OneHotEncoder</label><div class=\"sk-toggleable__content\"><pre>OneHotEncoder(handle_unknown=&#x27;ignore&#x27;)</pre></div></div></div></div></div></div></div></div></div></div></div></div>"
      ],
      "text/plain": [
       "ColumnTransformer(transformers=[('numerical',\n",
       "                                 Pipeline(steps=[('imputer',\n",
       "                                                  SimpleImputer(strategy='median')),\n",
       "                                                 ('scaler', MinMaxScaler())]),\n",
       "                                 ['Age', 'Fare']),\n",
       "                                ('nominal',\n",
       "                                 Pipeline(steps=[('imputer',\n",
       "                                                  SimpleImputer(strategy='most_frequent')),\n",
       "                                                 ('onehot',\n",
       "                                                  OneHotEncoder(drop='if_binary',\n",
       "                                                                handle_unknown='ignore'))]),\n",
       "                                 ['Name', 'Sex', 'Ticket', 'Cabin',\n",
       "                                  'Embarked']),\n",
       "                                ('ordinal',\n",
       "                                 Pipeline(steps=[('imputer',\n",
       "                                                  SimpleImputer(strategy='most_frequent')),\n",
       "                                                 ('onehot',\n",
       "                                                  OneHotEncoder(handle_unknown='ignore'))]),\n",
       "                                 ['Pclass', 'SibSp', 'Parch'])])"
      ]
     },
     "execution_count": 17,
     "metadata": {},
     "output_type": "execute_result"
    }
   ],
   "source": [
    "# Fit the preprocessor, so that it could be used for the `eval_set`\n",
    "preprocessor.fit(titanic)"
   ]
  },
  {
   "cell_type": "code",
   "execution_count": 18,
   "id": "3668d3af",
   "metadata": {
    "execution": {
     "iopub.execute_input": "2024-03-28T13:07:25.297211Z",
     "iopub.status.busy": "2024-03-28T13:07:25.295728Z",
     "iopub.status.idle": "2024-03-28T13:07:25.387738Z",
     "shell.execute_reply": "2024-03-28T13:07:25.386122Z"
    },
    "papermill": {
     "duration": 0.115649,
     "end_time": "2024-03-28T13:07:25.391332",
     "exception": false,
     "start_time": "2024-03-28T13:07:25.275683",
     "status": "completed"
    },
    "tags": []
   },
   "outputs": [
    {
     "name": "stderr",
     "output_type": "stream",
     "text": [
      "/opt/conda/lib/python3.10/site-packages/sklearn/preprocessing/_encoders.py:202: UserWarning: Found unknown categories in columns [0, 2, 3] during transform. These unknown categories will be encoded as all zeros\n",
      "  warnings.warn(\n"
     ]
    }
   ],
   "source": [
    "# Transform data\n",
    "titanic_full_preprocessed = preprocessor.transform(titanic)\n",
    "titanic_train_preprocessed = preprocessor.transform(titanic_train)\n",
    "titanic_val_preprocessed = preprocessor.transform(titanic_val)\n",
    "titanic_test_preprocessed = preprocessor.transform(titanic_test)\n"
   ]
  },
  {
   "cell_type": "markdown",
   "id": "aa75f19a",
   "metadata": {
    "papermill": {
     "duration": 0.018843,
     "end_time": "2024-03-28T13:07:25.431439",
     "exception": false,
     "start_time": "2024-03-28T13:07:25.412596",
     "status": "completed"
    },
    "tags": []
   },
   "source": [
    " Warnings are expected - reason is the `drop` argument in OHE"
   ]
  },
  {
   "cell_type": "code",
   "execution_count": 19,
   "id": "c68e3e96",
   "metadata": {
    "execution": {
     "iopub.execute_input": "2024-03-28T13:07:25.471480Z",
     "iopub.status.busy": "2024-03-28T13:07:25.470913Z",
     "iopub.status.idle": "2024-03-28T13:08:54.008083Z",
     "shell.execute_reply": "2024-03-28T13:08:54.006490Z"
    },
    "papermill": {
     "duration": 88.586368,
     "end_time": "2024-03-28T13:08:54.036241",
     "exception": false,
     "start_time": "2024-03-28T13:07:25.449873",
     "status": "completed"
    },
    "tags": []
   },
   "outputs": [
    {
     "data": {
      "text/html": [
       "<style>#sk-container-id-2 {color: black;background-color: white;}#sk-container-id-2 pre{padding: 0;}#sk-container-id-2 div.sk-toggleable {background-color: white;}#sk-container-id-2 label.sk-toggleable__label {cursor: pointer;display: block;width: 100%;margin-bottom: 0;padding: 0.3em;box-sizing: border-box;text-align: center;}#sk-container-id-2 label.sk-toggleable__label-arrow:before {content: \"▸\";float: left;margin-right: 0.25em;color: #696969;}#sk-container-id-2 label.sk-toggleable__label-arrow:hover:before {color: black;}#sk-container-id-2 div.sk-estimator:hover label.sk-toggleable__label-arrow:before {color: black;}#sk-container-id-2 div.sk-toggleable__content {max-height: 0;max-width: 0;overflow: hidden;text-align: left;background-color: #f0f8ff;}#sk-container-id-2 div.sk-toggleable__content pre {margin: 0.2em;color: black;border-radius: 0.25em;background-color: #f0f8ff;}#sk-container-id-2 input.sk-toggleable__control:checked~div.sk-toggleable__content {max-height: 200px;max-width: 100%;overflow: auto;}#sk-container-id-2 input.sk-toggleable__control:checked~label.sk-toggleable__label-arrow:before {content: \"▾\";}#sk-container-id-2 div.sk-estimator input.sk-toggleable__control:checked~label.sk-toggleable__label {background-color: #d4ebff;}#sk-container-id-2 div.sk-label input.sk-toggleable__control:checked~label.sk-toggleable__label {background-color: #d4ebff;}#sk-container-id-2 input.sk-hidden--visually {border: 0;clip: rect(1px 1px 1px 1px);clip: rect(1px, 1px, 1px, 1px);height: 1px;margin: -1px;overflow: hidden;padding: 0;position: absolute;width: 1px;}#sk-container-id-2 div.sk-estimator {font-family: monospace;background-color: #f0f8ff;border: 1px dotted black;border-radius: 0.25em;box-sizing: border-box;margin-bottom: 0.5em;}#sk-container-id-2 div.sk-estimator:hover {background-color: #d4ebff;}#sk-container-id-2 div.sk-parallel-item::after {content: \"\";width: 100%;border-bottom: 1px solid gray;flex-grow: 1;}#sk-container-id-2 div.sk-label:hover label.sk-toggleable__label {background-color: #d4ebff;}#sk-container-id-2 div.sk-serial::before {content: \"\";position: absolute;border-left: 1px solid gray;box-sizing: border-box;top: 0;bottom: 0;left: 50%;z-index: 0;}#sk-container-id-2 div.sk-serial {display: flex;flex-direction: column;align-items: center;background-color: white;padding-right: 0.2em;padding-left: 0.2em;position: relative;}#sk-container-id-2 div.sk-item {position: relative;z-index: 1;}#sk-container-id-2 div.sk-parallel {display: flex;align-items: stretch;justify-content: center;background-color: white;position: relative;}#sk-container-id-2 div.sk-item::before, #sk-container-id-2 div.sk-parallel-item::before {content: \"\";position: absolute;border-left: 1px solid gray;box-sizing: border-box;top: 0;bottom: 0;left: 50%;z-index: -1;}#sk-container-id-2 div.sk-parallel-item {display: flex;flex-direction: column;z-index: 1;position: relative;background-color: white;}#sk-container-id-2 div.sk-parallel-item:first-child::after {align-self: flex-end;width: 50%;}#sk-container-id-2 div.sk-parallel-item:last-child::after {align-self: flex-start;width: 50%;}#sk-container-id-2 div.sk-parallel-item:only-child::after {width: 0;}#sk-container-id-2 div.sk-dashed-wrapped {border: 1px dashed gray;margin: 0 0.4em 0.5em 0.4em;box-sizing: border-box;padding-bottom: 0.4em;background-color: white;}#sk-container-id-2 div.sk-label label {font-family: monospace;font-weight: bold;display: inline-block;line-height: 1.2em;}#sk-container-id-2 div.sk-label-container {text-align: center;}#sk-container-id-2 div.sk-container {/* jupyter's `normalize.less` sets `[hidden] { display: none; }` but bootstrap.min.css set `[hidden] { display: none !important; }` so we also need the `!important` here to be able to override the default hidden behavior on the sphinx rendered scikit-learn.org. See: https://github.com/scikit-learn/scikit-learn/issues/21755 */display: inline-block !important;position: relative;}#sk-container-id-2 div.sk-text-repr-fallback {display: none;}</style><div id=\"sk-container-id-2\" class=\"sk-top-container\"><div class=\"sk-text-repr-fallback\"><pre>GridSearchCV(cv=8,\n",
       "             estimator=XGBClassifier(base_score=None, booster=None,\n",
       "                                     callbacks=None, colsample_bylevel=None,\n",
       "                                     colsample_bynode=None,\n",
       "                                     colsample_bytree=None, device=None,\n",
       "                                     early_stopping_rounds=None,\n",
       "                                     enable_categorical=False, eval_metric=None,\n",
       "                                     feature_types=None, gamma=None,\n",
       "                                     grow_policy=None, importance_type=None,\n",
       "                                     interaction_constraints=None,\n",
       "                                     learning_rate=None,...\n",
       "                                     max_cat_threshold=None,\n",
       "                                     max_cat_to_onehot=None,\n",
       "                                     max_delta_step=None, max_depth=None,\n",
       "                                     max_leaves=None, min_child_weight=None,\n",
       "                                     missing=nan, monotone_constraints=None,\n",
       "                                     multi_strategy=None, n_estimators=None,\n",
       "                                     n_jobs=None, num_parallel_tree=None,\n",
       "                                     random_state=42, ...),\n",
       "             param_grid={&#x27;learning_rate&#x27;: [0.08, 0.1, 0.14, 0.18, 0.2, 0.24],\n",
       "                         &#x27;n_estimators&#x27;: [80, 100, 160, 200, 240]},\n",
       "             scoring=&#x27;accuracy&#x27;)</pre><b>In a Jupyter environment, please rerun this cell to show the HTML representation or trust the notebook. <br />On GitHub, the HTML representation is unable to render, please try loading this page with nbviewer.org.</b></div><div class=\"sk-container\" hidden><div class=\"sk-item sk-dashed-wrapped\"><div class=\"sk-label-container\"><div class=\"sk-label sk-toggleable\"><input class=\"sk-toggleable__control sk-hidden--visually\" id=\"sk-estimator-id-11\" type=\"checkbox\" ><label for=\"sk-estimator-id-11\" class=\"sk-toggleable__label sk-toggleable__label-arrow\">GridSearchCV</label><div class=\"sk-toggleable__content\"><pre>GridSearchCV(cv=8,\n",
       "             estimator=XGBClassifier(base_score=None, booster=None,\n",
       "                                     callbacks=None, colsample_bylevel=None,\n",
       "                                     colsample_bynode=None,\n",
       "                                     colsample_bytree=None, device=None,\n",
       "                                     early_stopping_rounds=None,\n",
       "                                     enable_categorical=False, eval_metric=None,\n",
       "                                     feature_types=None, gamma=None,\n",
       "                                     grow_policy=None, importance_type=None,\n",
       "                                     interaction_constraints=None,\n",
       "                                     learning_rate=None,...\n",
       "                                     max_cat_threshold=None,\n",
       "                                     max_cat_to_onehot=None,\n",
       "                                     max_delta_step=None, max_depth=None,\n",
       "                                     max_leaves=None, min_child_weight=None,\n",
       "                                     missing=nan, monotone_constraints=None,\n",
       "                                     multi_strategy=None, n_estimators=None,\n",
       "                                     n_jobs=None, num_parallel_tree=None,\n",
       "                                     random_state=42, ...),\n",
       "             param_grid={&#x27;learning_rate&#x27;: [0.08, 0.1, 0.14, 0.18, 0.2, 0.24],\n",
       "                         &#x27;n_estimators&#x27;: [80, 100, 160, 200, 240]},\n",
       "             scoring=&#x27;accuracy&#x27;)</pre></div></div></div><div class=\"sk-parallel\"><div class=\"sk-parallel-item\"><div class=\"sk-item\"><div class=\"sk-label-container\"><div class=\"sk-label sk-toggleable\"><input class=\"sk-toggleable__control sk-hidden--visually\" id=\"sk-estimator-id-12\" type=\"checkbox\" ><label for=\"sk-estimator-id-12\" class=\"sk-toggleable__label sk-toggleable__label-arrow\">estimator: XGBClassifier</label><div class=\"sk-toggleable__content\"><pre>XGBClassifier(base_score=None, booster=None, callbacks=None,\n",
       "              colsample_bylevel=None, colsample_bynode=None,\n",
       "              colsample_bytree=None, device=None, early_stopping_rounds=None,\n",
       "              enable_categorical=False, eval_metric=None, feature_types=None,\n",
       "              gamma=None, grow_policy=None, importance_type=None,\n",
       "              interaction_constraints=None, learning_rate=None, max_bin=None,\n",
       "              max_cat_threshold=None, max_cat_to_onehot=None,\n",
       "              max_delta_step=None, max_depth=None, max_leaves=None,\n",
       "              min_child_weight=None, missing=nan, monotone_constraints=None,\n",
       "              multi_strategy=None, n_estimators=None, n_jobs=None,\n",
       "              num_parallel_tree=None, random_state=42, ...)</pre></div></div></div><div class=\"sk-serial\"><div class=\"sk-item\"><div class=\"sk-estimator sk-toggleable\"><input class=\"sk-toggleable__control sk-hidden--visually\" id=\"sk-estimator-id-13\" type=\"checkbox\" ><label for=\"sk-estimator-id-13\" class=\"sk-toggleable__label sk-toggleable__label-arrow\">XGBClassifier</label><div class=\"sk-toggleable__content\"><pre>XGBClassifier(base_score=None, booster=None, callbacks=None,\n",
       "              colsample_bylevel=None, colsample_bynode=None,\n",
       "              colsample_bytree=None, device=None, early_stopping_rounds=None,\n",
       "              enable_categorical=False, eval_metric=None, feature_types=None,\n",
       "              gamma=None, grow_policy=None, importance_type=None,\n",
       "              interaction_constraints=None, learning_rate=None, max_bin=None,\n",
       "              max_cat_threshold=None, max_cat_to_onehot=None,\n",
       "              max_delta_step=None, max_depth=None, max_leaves=None,\n",
       "              min_child_weight=None, missing=nan, monotone_constraints=None,\n",
       "              multi_strategy=None, n_estimators=None, n_jobs=None,\n",
       "              num_parallel_tree=None, random_state=42, ...)</pre></div></div></div></div></div></div></div></div></div></div>"
      ],
      "text/plain": [
       "GridSearchCV(cv=8,\n",
       "             estimator=XGBClassifier(base_score=None, booster=None,\n",
       "                                     callbacks=None, colsample_bylevel=None,\n",
       "                                     colsample_bynode=None,\n",
       "                                     colsample_bytree=None, device=None,\n",
       "                                     early_stopping_rounds=None,\n",
       "                                     enable_categorical=False, eval_metric=None,\n",
       "                                     feature_types=None, gamma=None,\n",
       "                                     grow_policy=None, importance_type=None,\n",
       "                                     interaction_constraints=None,\n",
       "                                     learning_rate=None,...\n",
       "                                     max_cat_threshold=None,\n",
       "                                     max_cat_to_onehot=None,\n",
       "                                     max_delta_step=None, max_depth=None,\n",
       "                                     max_leaves=None, min_child_weight=None,\n",
       "                                     missing=nan, monotone_constraints=None,\n",
       "                                     multi_strategy=None, n_estimators=None,\n",
       "                                     n_jobs=None, num_parallel_tree=None,\n",
       "                                     random_state=42, ...),\n",
       "             param_grid={'learning_rate': [0.08, 0.1, 0.14, 0.18, 0.2, 0.24],\n",
       "                         'n_estimators': [80, 100, 160, 200, 240]},\n",
       "             scoring='accuracy')"
      ]
     },
     "execution_count": 19,
     "metadata": {},
     "output_type": "execute_result"
    }
   ],
   "source": [
    "xgb_grid.fit(\n",
    "    titanic_full_preprocessed,\n",
    "    survived, \n",
    "#     eval_set=[(titanic_val_preprocessed, survived_val)], \n",
    "#     verbose = False\n",
    ")"
   ]
  },
  {
   "cell_type": "code",
   "execution_count": 20,
   "id": "d1f5de6b",
   "metadata": {
    "execution": {
     "iopub.execute_input": "2024-03-28T13:08:54.087527Z",
     "iopub.status.busy": "2024-03-28T13:08:54.085569Z",
     "iopub.status.idle": "2024-03-28T13:08:54.092735Z",
     "shell.execute_reply": "2024-03-28T13:08:54.090785Z"
    },
    "papermill": {
     "duration": 0.033691,
     "end_time": "2024-03-28T13:08:54.095566",
     "exception": false,
     "start_time": "2024-03-28T13:08:54.061875",
     "status": "completed"
    },
    "tags": []
   },
   "outputs": [],
   "source": [
    "# # Train the model \n",
    "# xgb.fit(\n",
    "#     titanic_train_preprocessed,\n",
    "#     survived_train, \n",
    "#     eval_set=[(titanic_val_preprocessed, survived_val)], \n",
    "#     verbose = False\n",
    "# )"
   ]
  },
  {
   "cell_type": "code",
   "execution_count": 21,
   "id": "45db1d08",
   "metadata": {
    "execution": {
     "iopub.execute_input": "2024-03-28T13:08:54.137485Z",
     "iopub.status.busy": "2024-03-28T13:08:54.135935Z",
     "iopub.status.idle": "2024-03-28T13:08:54.169162Z",
     "shell.execute_reply": "2024-03-28T13:08:54.167834Z"
    },
    "papermill": {
     "duration": 0.057441,
     "end_time": "2024-03-28T13:08:54.172029",
     "exception": false,
     "start_time": "2024-03-28T13:08:54.114588",
     "status": "completed"
    },
    "tags": []
   },
   "outputs": [
    {
     "data": {
      "text/html": [
       "<div>\n",
       "<style scoped>\n",
       "    .dataframe tbody tr th:only-of-type {\n",
       "        vertical-align: middle;\n",
       "    }\n",
       "\n",
       "    .dataframe tbody tr th {\n",
       "        vertical-align: top;\n",
       "    }\n",
       "\n",
       "    .dataframe thead th {\n",
       "        text-align: right;\n",
       "    }\n",
       "</style>\n",
       "<table border=\"1\" class=\"dataframe\">\n",
       "  <thead>\n",
       "    <tr style=\"text-align: right;\">\n",
       "      <th></th>\n",
       "      <th>params</th>\n",
       "      <th>mean_test_score</th>\n",
       "      <th>rank_test_score</th>\n",
       "    </tr>\n",
       "  </thead>\n",
       "  <tbody>\n",
       "    <tr>\n",
       "      <th>0</th>\n",
       "      <td>{'learning_rate': 0.08, 'n_estimators': 80}</td>\n",
       "      <td>0.814903</td>\n",
       "      <td>6</td>\n",
       "    </tr>\n",
       "    <tr>\n",
       "      <th>1</th>\n",
       "      <td>{'learning_rate': 0.08, 'n_estimators': 100}</td>\n",
       "      <td>0.818271</td>\n",
       "      <td>3</td>\n",
       "    </tr>\n",
       "    <tr>\n",
       "      <th>2</th>\n",
       "      <td>{'learning_rate': 0.08, 'n_estimators': 160}</td>\n",
       "      <td>0.820493</td>\n",
       "      <td>2</td>\n",
       "    </tr>\n",
       "    <tr>\n",
       "      <th>3</th>\n",
       "      <td>{'learning_rate': 0.08, 'n_estimators': 200}</td>\n",
       "      <td>0.821610</td>\n",
       "      <td>1</td>\n",
       "    </tr>\n",
       "    <tr>\n",
       "      <th>4</th>\n",
       "      <td>{'learning_rate': 0.08, 'n_estimators': 240}</td>\n",
       "      <td>0.817135</td>\n",
       "      <td>4</td>\n",
       "    </tr>\n",
       "    <tr>\n",
       "      <th>5</th>\n",
       "      <td>{'learning_rate': 0.1, 'n_estimators': 80}</td>\n",
       "      <td>0.812631</td>\n",
       "      <td>14</td>\n",
       "    </tr>\n",
       "    <tr>\n",
       "      <th>6</th>\n",
       "      <td>{'learning_rate': 0.1, 'n_estimators': 100}</td>\n",
       "      <td>0.812631</td>\n",
       "      <td>14</td>\n",
       "    </tr>\n",
       "    <tr>\n",
       "      <th>7</th>\n",
       "      <td>{'learning_rate': 0.1, 'n_estimators': 160}</td>\n",
       "      <td>0.814883</td>\n",
       "      <td>8</td>\n",
       "    </tr>\n",
       "    <tr>\n",
       "      <th>8</th>\n",
       "      <td>{'learning_rate': 0.1, 'n_estimators': 200}</td>\n",
       "      <td>0.814873</td>\n",
       "      <td>11</td>\n",
       "    </tr>\n",
       "    <tr>\n",
       "      <th>9</th>\n",
       "      <td>{'learning_rate': 0.1, 'n_estimators': 240}</td>\n",
       "      <td>0.808136</td>\n",
       "      <td>25</td>\n",
       "    </tr>\n",
       "    <tr>\n",
       "      <th>10</th>\n",
       "      <td>{'learning_rate': 0.14, 'n_estimators': 80}</td>\n",
       "      <td>0.809262</td>\n",
       "      <td>21</td>\n",
       "    </tr>\n",
       "    <tr>\n",
       "      <th>11</th>\n",
       "      <td>{'learning_rate': 0.14, 'n_estimators': 100}</td>\n",
       "      <td>0.814873</td>\n",
       "      <td>10</td>\n",
       "    </tr>\n",
       "    <tr>\n",
       "      <th>12</th>\n",
       "      <td>{'learning_rate': 0.14, 'n_estimators': 160}</td>\n",
       "      <td>0.811495</td>\n",
       "      <td>19</td>\n",
       "    </tr>\n",
       "    <tr>\n",
       "      <th>13</th>\n",
       "      <td>{'learning_rate': 0.14, 'n_estimators': 200}</td>\n",
       "      <td>0.812621</td>\n",
       "      <td>16</td>\n",
       "    </tr>\n",
       "    <tr>\n",
       "      <th>14</th>\n",
       "      <td>{'learning_rate': 0.14, 'n_estimators': 240}</td>\n",
       "      <td>0.811515</td>\n",
       "      <td>18</td>\n",
       "    </tr>\n",
       "    <tr>\n",
       "      <th>15</th>\n",
       "      <td>{'learning_rate': 0.18, 'n_estimators': 80}</td>\n",
       "      <td>0.814883</td>\n",
       "      <td>8</td>\n",
       "    </tr>\n",
       "    <tr>\n",
       "      <th>16</th>\n",
       "      <td>{'learning_rate': 0.18, 'n_estimators': 100}</td>\n",
       "      <td>0.815989</td>\n",
       "      <td>5</td>\n",
       "    </tr>\n",
       "    <tr>\n",
       "      <th>17</th>\n",
       "      <td>{'learning_rate': 0.18, 'n_estimators': 160}</td>\n",
       "      <td>0.812621</td>\n",
       "      <td>16</td>\n",
       "    </tr>\n",
       "    <tr>\n",
       "      <th>18</th>\n",
       "      <td>{'learning_rate': 0.18, 'n_estimators': 200}</td>\n",
       "      <td>0.808156</td>\n",
       "      <td>24</td>\n",
       "    </tr>\n",
       "    <tr>\n",
       "      <th>19</th>\n",
       "      <td>{'learning_rate': 0.18, 'n_estimators': 240}</td>\n",
       "      <td>0.804768</td>\n",
       "      <td>29</td>\n",
       "    </tr>\n",
       "    <tr>\n",
       "      <th>20</th>\n",
       "      <td>{'learning_rate': 0.2, 'n_estimators': 80}</td>\n",
       "      <td>0.808126</td>\n",
       "      <td>26</td>\n",
       "    </tr>\n",
       "    <tr>\n",
       "      <th>21</th>\n",
       "      <td>{'learning_rate': 0.2, 'n_estimators': 100}</td>\n",
       "      <td>0.809262</td>\n",
       "      <td>21</td>\n",
       "    </tr>\n",
       "    <tr>\n",
       "      <th>22</th>\n",
       "      <td>{'learning_rate': 0.2, 'n_estimators': 160}</td>\n",
       "      <td>0.809232</td>\n",
       "      <td>23</td>\n",
       "    </tr>\n",
       "    <tr>\n",
       "      <th>23</th>\n",
       "      <td>{'learning_rate': 0.2, 'n_estimators': 200}</td>\n",
       "      <td>0.803632</td>\n",
       "      <td>30</td>\n",
       "    </tr>\n",
       "    <tr>\n",
       "      <th>24</th>\n",
       "      <td>{'learning_rate': 0.2, 'n_estimators': 240}</td>\n",
       "      <td>0.807000</td>\n",
       "      <td>27</td>\n",
       "    </tr>\n",
       "    <tr>\n",
       "      <th>25</th>\n",
       "      <td>{'learning_rate': 0.24, 'n_estimators': 80}</td>\n",
       "      <td>0.814893</td>\n",
       "      <td>7</td>\n",
       "    </tr>\n",
       "    <tr>\n",
       "      <th>26</th>\n",
       "      <td>{'learning_rate': 0.24, 'n_estimators': 100}</td>\n",
       "      <td>0.812641</td>\n",
       "      <td>12</td>\n",
       "    </tr>\n",
       "    <tr>\n",
       "      <th>27</th>\n",
       "      <td>{'learning_rate': 0.24, 'n_estimators': 160}</td>\n",
       "      <td>0.812641</td>\n",
       "      <td>12</td>\n",
       "    </tr>\n",
       "    <tr>\n",
       "      <th>28</th>\n",
       "      <td>{'learning_rate': 0.24, 'n_estimators': 200}</td>\n",
       "      <td>0.805874</td>\n",
       "      <td>28</td>\n",
       "    </tr>\n",
       "    <tr>\n",
       "      <th>29</th>\n",
       "      <td>{'learning_rate': 0.24, 'n_estimators': 240}</td>\n",
       "      <td>0.810389</td>\n",
       "      <td>20</td>\n",
       "    </tr>\n",
       "  </tbody>\n",
       "</table>\n",
       "</div>"
      ],
      "text/plain": [
       "                                          params  mean_test_score  \\\n",
       "0    {'learning_rate': 0.08, 'n_estimators': 80}         0.814903   \n",
       "1   {'learning_rate': 0.08, 'n_estimators': 100}         0.818271   \n",
       "2   {'learning_rate': 0.08, 'n_estimators': 160}         0.820493   \n",
       "3   {'learning_rate': 0.08, 'n_estimators': 200}         0.821610   \n",
       "4   {'learning_rate': 0.08, 'n_estimators': 240}         0.817135   \n",
       "5     {'learning_rate': 0.1, 'n_estimators': 80}         0.812631   \n",
       "6    {'learning_rate': 0.1, 'n_estimators': 100}         0.812631   \n",
       "7    {'learning_rate': 0.1, 'n_estimators': 160}         0.814883   \n",
       "8    {'learning_rate': 0.1, 'n_estimators': 200}         0.814873   \n",
       "9    {'learning_rate': 0.1, 'n_estimators': 240}         0.808136   \n",
       "10   {'learning_rate': 0.14, 'n_estimators': 80}         0.809262   \n",
       "11  {'learning_rate': 0.14, 'n_estimators': 100}         0.814873   \n",
       "12  {'learning_rate': 0.14, 'n_estimators': 160}         0.811495   \n",
       "13  {'learning_rate': 0.14, 'n_estimators': 200}         0.812621   \n",
       "14  {'learning_rate': 0.14, 'n_estimators': 240}         0.811515   \n",
       "15   {'learning_rate': 0.18, 'n_estimators': 80}         0.814883   \n",
       "16  {'learning_rate': 0.18, 'n_estimators': 100}         0.815989   \n",
       "17  {'learning_rate': 0.18, 'n_estimators': 160}         0.812621   \n",
       "18  {'learning_rate': 0.18, 'n_estimators': 200}         0.808156   \n",
       "19  {'learning_rate': 0.18, 'n_estimators': 240}         0.804768   \n",
       "20    {'learning_rate': 0.2, 'n_estimators': 80}         0.808126   \n",
       "21   {'learning_rate': 0.2, 'n_estimators': 100}         0.809262   \n",
       "22   {'learning_rate': 0.2, 'n_estimators': 160}         0.809232   \n",
       "23   {'learning_rate': 0.2, 'n_estimators': 200}         0.803632   \n",
       "24   {'learning_rate': 0.2, 'n_estimators': 240}         0.807000   \n",
       "25   {'learning_rate': 0.24, 'n_estimators': 80}         0.814893   \n",
       "26  {'learning_rate': 0.24, 'n_estimators': 100}         0.812641   \n",
       "27  {'learning_rate': 0.24, 'n_estimators': 160}         0.812641   \n",
       "28  {'learning_rate': 0.24, 'n_estimators': 200}         0.805874   \n",
       "29  {'learning_rate': 0.24, 'n_estimators': 240}         0.810389   \n",
       "\n",
       "    rank_test_score  \n",
       "0                 6  \n",
       "1                 3  \n",
       "2                 2  \n",
       "3                 1  \n",
       "4                 4  \n",
       "5                14  \n",
       "6                14  \n",
       "7                 8  \n",
       "8                11  \n",
       "9                25  \n",
       "10               21  \n",
       "11               10  \n",
       "12               19  \n",
       "13               16  \n",
       "14               18  \n",
       "15                8  \n",
       "16                5  \n",
       "17               16  \n",
       "18               24  \n",
       "19               29  \n",
       "20               26  \n",
       "21               21  \n",
       "22               23  \n",
       "23               30  \n",
       "24               27  \n",
       "25                7  \n",
       "26               12  \n",
       "27               12  \n",
       "28               28  \n",
       "29               20  "
      ]
     },
     "execution_count": 21,
     "metadata": {},
     "output_type": "execute_result"
    }
   ],
   "source": [
    "pd.DataFrame(xgb_grid.cv_results_)[[\"params\", \"mean_test_score\", \"rank_test_score\"]]"
   ]
  },
  {
   "cell_type": "code",
   "execution_count": 22,
   "id": "9538c9c7",
   "metadata": {
    "execution": {
     "iopub.execute_input": "2024-03-28T13:08:54.214324Z",
     "iopub.status.busy": "2024-03-28T13:08:54.213799Z",
     "iopub.status.idle": "2024-03-28T13:08:54.230120Z",
     "shell.execute_reply": "2024-03-28T13:08:54.229127Z"
    },
    "papermill": {
     "duration": 0.038945,
     "end_time": "2024-03-28T13:08:54.232497",
     "exception": false,
     "start_time": "2024-03-28T13:08:54.193552",
     "status": "completed"
    },
    "tags": []
   },
   "outputs": [
    {
     "data": {
      "text/plain": [
       "0.942215088282504"
      ]
     },
     "execution_count": 22,
     "metadata": {},
     "output_type": "execute_result"
    }
   ],
   "source": [
    "best_model = xgb_grid.best_estimator_\n",
    "best_model.score(titanic_train_preprocessed, survived_train)"
   ]
  },
  {
   "cell_type": "code",
   "execution_count": 23,
   "id": "75a58d68",
   "metadata": {
    "execution": {
     "iopub.execute_input": "2024-03-28T13:08:54.275477Z",
     "iopub.status.busy": "2024-03-28T13:08:54.274923Z",
     "iopub.status.idle": "2024-03-28T13:08:54.293651Z",
     "shell.execute_reply": "2024-03-28T13:08:54.292181Z"
    },
    "papermill": {
     "duration": 0.046049,
     "end_time": "2024-03-28T13:08:54.298061",
     "exception": false,
     "start_time": "2024-03-28T13:08:54.252012",
     "status": "completed"
    },
    "tags": []
   },
   "outputs": [
    {
     "data": {
      "text/plain": [
       "0.9427609427609428"
      ]
     },
     "execution_count": 23,
     "metadata": {},
     "output_type": "execute_result"
    }
   ],
   "source": [
    "best_model.score(titanic_full_preprocessed, survived)"
   ]
  },
  {
   "cell_type": "markdown",
   "id": "69f2420e",
   "metadata": {
    "papermill": {
     "duration": 0.019693,
     "end_time": "2024-03-28T13:08:54.338581",
     "exception": false,
     "start_time": "2024-03-28T13:08:54.318888",
     "status": "completed"
    },
    "tags": []
   },
   "source": [
    "0.94276"
   ]
  },
  {
   "cell_type": "markdown",
   "id": "6f9a78f7",
   "metadata": {
    "papermill": {
     "duration": 0.01892,
     "end_time": "2024-03-28T13:08:54.376958",
     "exception": false,
     "start_time": "2024-03-28T13:08:54.358038",
     "status": "completed"
    },
    "tags": []
   },
   "source": [
    "##### Base scores"
   ]
  },
  {
   "cell_type": "code",
   "execution_count": 24,
   "id": "a61411ac",
   "metadata": {
    "execution": {
     "iopub.execute_input": "2024-03-28T13:08:54.417189Z",
     "iopub.status.busy": "2024-03-28T13:08:54.416769Z",
     "iopub.status.idle": "2024-03-28T13:08:54.429656Z",
     "shell.execute_reply": "2024-03-28T13:08:54.428062Z"
    },
    "papermill": {
     "duration": 0.036732,
     "end_time": "2024-03-28T13:08:54.432382",
     "exception": false,
     "start_time": "2024-03-28T13:08:54.395650",
     "status": "completed"
    },
    "tags": []
   },
   "outputs": [
    {
     "data": {
      "text/plain": [
       "0.7849117174959872"
      ]
     },
     "execution_count": 24,
     "metadata": {},
     "output_type": "execute_result"
    }
   ],
   "source": [
    "# Score for a model that predicts survival based on gender, female = survived\n",
    "titanic_is_female = titanic_train.Sex.apply(lambda x: x == \"female\")\n",
    "accuracy_score(survived_train, titanic_is_female)"
   ]
  },
  {
   "cell_type": "code",
   "execution_count": 25,
   "id": "2e76c570",
   "metadata": {
    "execution": {
     "iopub.execute_input": "2024-03-28T13:08:54.475338Z",
     "iopub.status.busy": "2024-03-28T13:08:54.473910Z",
     "iopub.status.idle": "2024-03-28T13:08:54.487207Z",
     "shell.execute_reply": "2024-03-28T13:08:54.485608Z"
    },
    "papermill": {
     "duration": 0.038745,
     "end_time": "2024-03-28T13:08:54.490585",
     "exception": false,
     "start_time": "2024-03-28T13:08:54.451840",
     "status": "completed"
    },
    "tags": []
   },
   "outputs": [
    {
     "data": {
      "text/plain": [
       "0.6292134831460674"
      ]
     },
     "execution_count": 25,
     "metadata": {},
     "output_type": "execute_result"
    }
   ],
   "source": [
    "# Score for a model that predicts survival based on class, first class = survived\n",
    "titanic_is_female = titanic_train.Pclass.apply(lambda x: x == \"1\")\n",
    "accuracy_score(survived_train, titanic_is_female)"
   ]
  },
  {
   "cell_type": "code",
   "execution_count": null,
   "id": "605adee8",
   "metadata": {
    "papermill": {
     "duration": 0.020354,
     "end_time": "2024-03-28T13:08:54.530468",
     "exception": false,
     "start_time": "2024-03-28T13:08:54.510114",
     "status": "completed"
    },
    "tags": []
   },
   "outputs": [],
   "source": []
  },
  {
   "cell_type": "markdown",
   "id": "63c650f4",
   "metadata": {
    "papermill": {
     "duration": 0.02008,
     "end_time": "2024-03-28T13:08:54.570885",
     "exception": false,
     "start_time": "2024-03-28T13:08:54.550805",
     "status": "completed"
    },
    "tags": []
   },
   "source": [
    "## Submission"
   ]
  },
  {
   "cell_type": "code",
   "execution_count": 26,
   "id": "15f7e73c",
   "metadata": {
    "execution": {
     "iopub.execute_input": "2024-03-28T13:08:54.612991Z",
     "iopub.status.busy": "2024-03-28T13:08:54.612569Z",
     "iopub.status.idle": "2024-03-28T13:08:54.623163Z",
     "shell.execute_reply": "2024-03-28T13:08:54.622222Z"
    },
    "papermill": {
     "duration": 0.035337,
     "end_time": "2024-03-28T13:08:54.625820",
     "exception": false,
     "start_time": "2024-03-28T13:08:54.590483",
     "status": "completed"
    },
    "tags": []
   },
   "outputs": [],
   "source": [
    "predictions = best_model.predict(titanic_test_preprocessed)"
   ]
  },
  {
   "cell_type": "code",
   "execution_count": 27,
   "id": "b9f7e615",
   "metadata": {
    "execution": {
     "iopub.execute_input": "2024-03-28T13:08:54.670103Z",
     "iopub.status.busy": "2024-03-28T13:08:54.668654Z",
     "iopub.status.idle": "2024-03-28T13:08:54.680062Z",
     "shell.execute_reply": "2024-03-28T13:08:54.678462Z"
    },
    "papermill": {
     "duration": 0.036192,
     "end_time": "2024-03-28T13:08:54.683336",
     "exception": false,
     "start_time": "2024-03-28T13:08:54.647144",
     "status": "completed"
    },
    "tags": []
   },
   "outputs": [
    {
     "data": {
      "text/plain": [
       "PassengerId\n",
       "892     0\n",
       "893     0\n",
       "894     0\n",
       "895     0\n",
       "896     0\n",
       "       ..\n",
       "1305    0\n",
       "1306    1\n",
       "1307    0\n",
       "1308    0\n",
       "1309    1\n",
       "Name: Survived, Length: 418, dtype: int64"
      ]
     },
     "execution_count": 27,
     "metadata": {},
     "output_type": "execute_result"
    }
   ],
   "source": [
    "submission = pd.Series(predictions, index = titanic_test.index, name = \"Survived\")\n",
    "submission"
   ]
  },
  {
   "cell_type": "code",
   "execution_count": 28,
   "id": "f9043fcb",
   "metadata": {
    "execution": {
     "iopub.execute_input": "2024-03-28T13:08:54.728689Z",
     "iopub.status.busy": "2024-03-28T13:08:54.728224Z",
     "iopub.status.idle": "2024-03-28T13:08:54.738165Z",
     "shell.execute_reply": "2024-03-28T13:08:54.737138Z"
    },
    "papermill": {
     "duration": 0.03646,
     "end_time": "2024-03-28T13:08:54.740994",
     "exception": false,
     "start_time": "2024-03-28T13:08:54.704534",
     "status": "completed"
    },
    "tags": []
   },
   "outputs": [],
   "source": [
    "submission.to_csv(\"submission.csv\")"
   ]
  },
  {
   "cell_type": "code",
   "execution_count": 29,
   "id": "dc3905fb",
   "metadata": {
    "execution": {
     "iopub.execute_input": "2024-03-28T13:08:54.784450Z",
     "iopub.status.busy": "2024-03-28T13:08:54.783078Z",
     "iopub.status.idle": "2024-03-28T13:08:54.803129Z",
     "shell.execute_reply": "2024-03-28T13:08:54.801951Z"
    },
    "papermill": {
     "duration": 0.044145,
     "end_time": "2024-03-28T13:08:54.805664",
     "exception": false,
     "start_time": "2024-03-28T13:08:54.761519",
     "status": "completed"
    },
    "tags": []
   },
   "outputs": [
    {
     "data": {
      "text/html": [
       "<div>\n",
       "<style scoped>\n",
       "    .dataframe tbody tr th:only-of-type {\n",
       "        vertical-align: middle;\n",
       "    }\n",
       "\n",
       "    .dataframe tbody tr th {\n",
       "        vertical-align: top;\n",
       "    }\n",
       "\n",
       "    .dataframe thead th {\n",
       "        text-align: right;\n",
       "    }\n",
       "</style>\n",
       "<table border=\"1\" class=\"dataframe\">\n",
       "  <thead>\n",
       "    <tr style=\"text-align: right;\">\n",
       "      <th></th>\n",
       "      <th>PassengerId</th>\n",
       "      <th>Survived</th>\n",
       "    </tr>\n",
       "  </thead>\n",
       "  <tbody>\n",
       "    <tr>\n",
       "      <th>0</th>\n",
       "      <td>892</td>\n",
       "      <td>0</td>\n",
       "    </tr>\n",
       "    <tr>\n",
       "      <th>1</th>\n",
       "      <td>893</td>\n",
       "      <td>1</td>\n",
       "    </tr>\n",
       "    <tr>\n",
       "      <th>2</th>\n",
       "      <td>894</td>\n",
       "      <td>0</td>\n",
       "    </tr>\n",
       "    <tr>\n",
       "      <th>3</th>\n",
       "      <td>895</td>\n",
       "      <td>0</td>\n",
       "    </tr>\n",
       "    <tr>\n",
       "      <th>4</th>\n",
       "      <td>896</td>\n",
       "      <td>1</td>\n",
       "    </tr>\n",
       "    <tr>\n",
       "      <th>...</th>\n",
       "      <td>...</td>\n",
       "      <td>...</td>\n",
       "    </tr>\n",
       "    <tr>\n",
       "      <th>413</th>\n",
       "      <td>1305</td>\n",
       "      <td>0</td>\n",
       "    </tr>\n",
       "    <tr>\n",
       "      <th>414</th>\n",
       "      <td>1306</td>\n",
       "      <td>1</td>\n",
       "    </tr>\n",
       "    <tr>\n",
       "      <th>415</th>\n",
       "      <td>1307</td>\n",
       "      <td>0</td>\n",
       "    </tr>\n",
       "    <tr>\n",
       "      <th>416</th>\n",
       "      <td>1308</td>\n",
       "      <td>0</td>\n",
       "    </tr>\n",
       "    <tr>\n",
       "      <th>417</th>\n",
       "      <td>1309</td>\n",
       "      <td>0</td>\n",
       "    </tr>\n",
       "  </tbody>\n",
       "</table>\n",
       "<p>418 rows × 2 columns</p>\n",
       "</div>"
      ],
      "text/plain": [
       "     PassengerId  Survived\n",
       "0            892         0\n",
       "1            893         1\n",
       "2            894         0\n",
       "3            895         0\n",
       "4            896         1\n",
       "..           ...       ...\n",
       "413         1305         0\n",
       "414         1306         1\n",
       "415         1307         0\n",
       "416         1308         0\n",
       "417         1309         0\n",
       "\n",
       "[418 rows x 2 columns]"
      ]
     },
     "execution_count": 29,
     "metadata": {},
     "output_type": "execute_result"
    }
   ],
   "source": [
    "pd.read_csv(\"/kaggle/input/titanic/gender_submission.csv\")"
   ]
  },
  {
   "cell_type": "code",
   "execution_count": 30,
   "id": "a53117f3",
   "metadata": {
    "execution": {
     "iopub.execute_input": "2024-03-28T13:08:54.848636Z",
     "iopub.status.busy": "2024-03-28T13:08:54.848186Z",
     "iopub.status.idle": "2024-03-28T13:08:54.864199Z",
     "shell.execute_reply": "2024-03-28T13:08:54.862992Z"
    },
    "papermill": {
     "duration": 0.040927,
     "end_time": "2024-03-28T13:08:54.867079",
     "exception": false,
     "start_time": "2024-03-28T13:08:54.826152",
     "status": "completed"
    },
    "tags": []
   },
   "outputs": [
    {
     "data": {
      "text/html": [
       "<div>\n",
       "<style scoped>\n",
       "    .dataframe tbody tr th:only-of-type {\n",
       "        vertical-align: middle;\n",
       "    }\n",
       "\n",
       "    .dataframe tbody tr th {\n",
       "        vertical-align: top;\n",
       "    }\n",
       "\n",
       "    .dataframe thead th {\n",
       "        text-align: right;\n",
       "    }\n",
       "</style>\n",
       "<table border=\"1\" class=\"dataframe\">\n",
       "  <thead>\n",
       "    <tr style=\"text-align: right;\">\n",
       "      <th></th>\n",
       "      <th>PassengerId</th>\n",
       "      <th>Survived</th>\n",
       "    </tr>\n",
       "  </thead>\n",
       "  <tbody>\n",
       "    <tr>\n",
       "      <th>0</th>\n",
       "      <td>892</td>\n",
       "      <td>0</td>\n",
       "    </tr>\n",
       "    <tr>\n",
       "      <th>1</th>\n",
       "      <td>893</td>\n",
       "      <td>0</td>\n",
       "    </tr>\n",
       "    <tr>\n",
       "      <th>2</th>\n",
       "      <td>894</td>\n",
       "      <td>0</td>\n",
       "    </tr>\n",
       "    <tr>\n",
       "      <th>3</th>\n",
       "      <td>895</td>\n",
       "      <td>0</td>\n",
       "    </tr>\n",
       "    <tr>\n",
       "      <th>4</th>\n",
       "      <td>896</td>\n",
       "      <td>0</td>\n",
       "    </tr>\n",
       "    <tr>\n",
       "      <th>...</th>\n",
       "      <td>...</td>\n",
       "      <td>...</td>\n",
       "    </tr>\n",
       "    <tr>\n",
       "      <th>413</th>\n",
       "      <td>1305</td>\n",
       "      <td>0</td>\n",
       "    </tr>\n",
       "    <tr>\n",
       "      <th>414</th>\n",
       "      <td>1306</td>\n",
       "      <td>1</td>\n",
       "    </tr>\n",
       "    <tr>\n",
       "      <th>415</th>\n",
       "      <td>1307</td>\n",
       "      <td>0</td>\n",
       "    </tr>\n",
       "    <tr>\n",
       "      <th>416</th>\n",
       "      <td>1308</td>\n",
       "      <td>0</td>\n",
       "    </tr>\n",
       "    <tr>\n",
       "      <th>417</th>\n",
       "      <td>1309</td>\n",
       "      <td>1</td>\n",
       "    </tr>\n",
       "  </tbody>\n",
       "</table>\n",
       "<p>418 rows × 2 columns</p>\n",
       "</div>"
      ],
      "text/plain": [
       "     PassengerId  Survived\n",
       "0            892         0\n",
       "1            893         0\n",
       "2            894         0\n",
       "3            895         0\n",
       "4            896         0\n",
       "..           ...       ...\n",
       "413         1305         0\n",
       "414         1306         1\n",
       "415         1307         0\n",
       "416         1308         0\n",
       "417         1309         1\n",
       "\n",
       "[418 rows x 2 columns]"
      ]
     },
     "execution_count": 30,
     "metadata": {},
     "output_type": "execute_result"
    }
   ],
   "source": [
    "pd.read_csv(\"submission.csv\")"
   ]
  },
  {
   "cell_type": "code",
   "execution_count": null,
   "id": "bb422135",
   "metadata": {
    "papermill": {
     "duration": 0.021247,
     "end_time": "2024-03-28T13:08:54.910904",
     "exception": false,
     "start_time": "2024-03-28T13:08:54.889657",
     "status": "completed"
    },
    "tags": []
   },
   "outputs": [],
   "source": []
  },
  {
   "cell_type": "code",
   "execution_count": null,
   "id": "a9278b72",
   "metadata": {
    "papermill": {
     "duration": 0.02124,
     "end_time": "2024-03-28T13:08:54.952889",
     "exception": false,
     "start_time": "2024-03-28T13:08:54.931649",
     "status": "completed"
    },
    "tags": []
   },
   "outputs": [],
   "source": []
  },
  {
   "cell_type": "code",
   "execution_count": null,
   "id": "26e9ee54",
   "metadata": {
    "papermill": {
     "duration": 0.020833,
     "end_time": "2024-03-28T13:08:54.995533",
     "exception": false,
     "start_time": "2024-03-28T13:08:54.974700",
     "status": "completed"
    },
    "tags": []
   },
   "outputs": [],
   "source": []
  },
  {
   "cell_type": "code",
   "execution_count": null,
   "id": "50735d94",
   "metadata": {
    "papermill": {
     "duration": 0.021481,
     "end_time": "2024-03-28T13:08:55.039949",
     "exception": false,
     "start_time": "2024-03-28T13:08:55.018468",
     "status": "completed"
    },
    "tags": []
   },
   "outputs": [],
   "source": []
  },
  {
   "cell_type": "code",
   "execution_count": null,
   "id": "c39dc141",
   "metadata": {
    "papermill": {
     "duration": 0.021278,
     "end_time": "2024-03-28T13:08:55.082277",
     "exception": false,
     "start_time": "2024-03-28T13:08:55.060999",
     "status": "completed"
    },
    "tags": []
   },
   "outputs": [],
   "source": []
  }
 ],
 "metadata": {
  "kaggle": {
   "accelerator": "none",
   "dataSources": [
    {
     "databundleVersionId": 26502,
     "sourceId": 3136,
     "sourceType": "competition"
    }
   ],
   "dockerImageVersionId": 30673,
   "isGpuEnabled": false,
   "isInternetEnabled": true,
   "language": "python",
   "sourceType": "notebook"
  },
  "kernelspec": {
   "display_name": "Python 3",
   "language": "python",
   "name": "python3"
  },
  "language_info": {
   "codemirror_mode": {
    "name": "ipython",
    "version": 3
   },
   "file_extension": ".py",
   "mimetype": "text/x-python",
   "name": "python",
   "nbconvert_exporter": "python",
   "pygments_lexer": "ipython3",
   "version": "3.10.13"
  },
  "papermill": {
   "default_parameters": {},
   "duration": 100.592521,
   "end_time": "2024-03-28T13:08:56.129298",
   "environment_variables": {},
   "exception": null,
   "input_path": "__notebook__.ipynb",
   "output_path": "__notebook__.ipynb",
   "parameters": {},
   "start_time": "2024-03-28T13:07:15.536777",
   "version": "2.5.0"
  }
 },
 "nbformat": 4,
 "nbformat_minor": 5
}
